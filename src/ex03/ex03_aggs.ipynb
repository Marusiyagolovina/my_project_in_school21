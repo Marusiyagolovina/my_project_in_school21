{
 "cells": [
  {
   "cell_type": "code",
   "execution_count": 1,
   "id": "3902289e",
   "metadata": {},
   "outputs": [],
   "source": [
    "import pandas as pd\n",
    "import sqlite3"
   ]
  },
  {
   "cell_type": "markdown",
   "id": "583b9688",
   "metadata": {},
   "source": [
    "## создаем подключение к базе данных с помощью библиотеки sqlite3"
   ]
  },
  {
   "cell_type": "code",
   "execution_count": 2,
   "id": "3b9035e1",
   "metadata": {},
   "outputs": [],
   "source": [
    "conn = sqlite3.connect('../data/checking-logs.sqlite', check_same_thread=False)"
   ]
  },
  {
   "cell_type": "markdown",
   "id": "0bc7a163",
   "metadata": {},
   "source": [
    "## получить схему таблицы теста"
   ]
  },
  {
   "cell_type": "code",
   "execution_count": 3,
   "id": "27116c93",
   "metadata": {},
   "outputs": [
    {
     "data": {
      "text/html": [
       "<div>\n",
       "<style scoped>\n",
       "    .dataframe tbody tr th:only-of-type {\n",
       "        vertical-align: middle;\n",
       "    }\n",
       "\n",
       "    .dataframe tbody tr th {\n",
       "        vertical-align: top;\n",
       "    }\n",
       "\n",
       "    .dataframe thead th {\n",
       "        text-align: right;\n",
       "    }\n",
       "</style>\n",
       "<table border=\"1\" class=\"dataframe\">\n",
       "  <thead>\n",
       "    <tr style=\"text-align: right;\">\n",
       "      <th></th>\n",
       "      <th>cid</th>\n",
       "      <th>name</th>\n",
       "      <th>type</th>\n",
       "      <th>notnull</th>\n",
       "      <th>dflt_value</th>\n",
       "      <th>pk</th>\n",
       "    </tr>\n",
       "  </thead>\n",
       "  <tbody>\n",
       "    <tr>\n",
       "      <th>0</th>\n",
       "      <td>0</td>\n",
       "      <td>uid</td>\n",
       "      <td>TEXT</td>\n",
       "      <td>0</td>\n",
       "      <td>None</td>\n",
       "      <td>0</td>\n",
       "    </tr>\n",
       "    <tr>\n",
       "      <th>1</th>\n",
       "      <td>1</td>\n",
       "      <td>labname</td>\n",
       "      <td>TEXT</td>\n",
       "      <td>0</td>\n",
       "      <td>None</td>\n",
       "      <td>0</td>\n",
       "    </tr>\n",
       "    <tr>\n",
       "      <th>2</th>\n",
       "      <td>2</td>\n",
       "      <td>first_commit_ts</td>\n",
       "      <td>TIMESTAMP</td>\n",
       "      <td>0</td>\n",
       "      <td>None</td>\n",
       "      <td>0</td>\n",
       "    </tr>\n",
       "    <tr>\n",
       "      <th>3</th>\n",
       "      <td>3</td>\n",
       "      <td>first_view_ts</td>\n",
       "      <td>TIMESTAMP</td>\n",
       "      <td>0</td>\n",
       "      <td>None</td>\n",
       "      <td>0</td>\n",
       "    </tr>\n",
       "  </tbody>\n",
       "</table>\n",
       "</div>"
      ],
      "text/plain": [
       "   cid             name       type  notnull dflt_value  pk\n",
       "0    0              uid       TEXT        0       None   0\n",
       "1    1          labname       TEXT        0       None   0\n",
       "2    2  first_commit_ts  TIMESTAMP        0       None   0\n",
       "3    3    first_view_ts  TIMESTAMP        0       None   0"
      ]
     },
     "execution_count": 3,
     "metadata": {},
     "output_type": "execute_result"
    }
   ],
   "source": [
    "pd.read_sql('PRAGMA table_info(test)', conn)"
   ]
  },
  {
   "cell_type": "markdown",
   "id": "a6319823",
   "metadata": {},
   "source": [
    "## получить только первые 10 строк таблицы, чтобы проверить, как выглядит таблица"
   ]
  },
  {
   "cell_type": "code",
   "execution_count": 4,
   "id": "f57b6a32",
   "metadata": {},
   "outputs": [
    {
     "data": {
      "text/html": [
       "<div>\n",
       "<style scoped>\n",
       "    .dataframe tbody tr th:only-of-type {\n",
       "        vertical-align: middle;\n",
       "    }\n",
       "\n",
       "    .dataframe tbody tr th {\n",
       "        vertical-align: top;\n",
       "    }\n",
       "\n",
       "    .dataframe thead th {\n",
       "        text-align: right;\n",
       "    }\n",
       "</style>\n",
       "<table border=\"1\" class=\"dataframe\">\n",
       "  <thead>\n",
       "    <tr style=\"text-align: right;\">\n",
       "      <th></th>\n",
       "      <th>uid</th>\n",
       "      <th>labname</th>\n",
       "      <th>first_commit_ts</th>\n",
       "      <th>first_view_ts</th>\n",
       "    </tr>\n",
       "  </thead>\n",
       "  <tbody>\n",
       "    <tr>\n",
       "      <th>0</th>\n",
       "      <td>user_1</td>\n",
       "      <td>laba04</td>\n",
       "      <td>2020-04-26 17:06:18.462708</td>\n",
       "      <td>2020-04-26 21:53:59.624136</td>\n",
       "    </tr>\n",
       "    <tr>\n",
       "      <th>1</th>\n",
       "      <td>user_1</td>\n",
       "      <td>laba04s</td>\n",
       "      <td>2020-04-26 17:12:11.843671</td>\n",
       "      <td>2020-04-26 21:53:59.624136</td>\n",
       "    </tr>\n",
       "    <tr>\n",
       "      <th>2</th>\n",
       "      <td>user_1</td>\n",
       "      <td>laba05</td>\n",
       "      <td>2020-05-02 19:15:18.540185</td>\n",
       "      <td>2020-04-26 21:53:59.624136</td>\n",
       "    </tr>\n",
       "    <tr>\n",
       "      <th>3</th>\n",
       "      <td>user_1</td>\n",
       "      <td>laba06</td>\n",
       "      <td>2020-05-17 16:26:35.268534</td>\n",
       "      <td>2020-04-26 21:53:59.624136</td>\n",
       "    </tr>\n",
       "    <tr>\n",
       "      <th>4</th>\n",
       "      <td>user_1</td>\n",
       "      <td>laba06s</td>\n",
       "      <td>2020-05-20 12:23:37.289724</td>\n",
       "      <td>2020-04-26 21:53:59.624136</td>\n",
       "    </tr>\n",
       "    <tr>\n",
       "      <th>5</th>\n",
       "      <td>user_1</td>\n",
       "      <td>project1</td>\n",
       "      <td>2020-05-14 20:56:08.898880</td>\n",
       "      <td>2020-04-26 21:53:59.624136</td>\n",
       "    </tr>\n",
       "    <tr>\n",
       "      <th>6</th>\n",
       "      <td>user_10</td>\n",
       "      <td>laba04</td>\n",
       "      <td>2020-04-25 08:24:52.696624</td>\n",
       "      <td>2020-04-18 12:19:50.182714</td>\n",
       "    </tr>\n",
       "    <tr>\n",
       "      <th>7</th>\n",
       "      <td>user_10</td>\n",
       "      <td>laba04s</td>\n",
       "      <td>2020-04-25 08:37:54.604222</td>\n",
       "      <td>2020-04-18 12:19:50.182714</td>\n",
       "    </tr>\n",
       "    <tr>\n",
       "      <th>8</th>\n",
       "      <td>user_10</td>\n",
       "      <td>laba05</td>\n",
       "      <td>2020-05-01 19:27:26.063245</td>\n",
       "      <td>2020-04-18 12:19:50.182714</td>\n",
       "    </tr>\n",
       "    <tr>\n",
       "      <th>9</th>\n",
       "      <td>user_10</td>\n",
       "      <td>laba06</td>\n",
       "      <td>2020-05-19 11:39:28.885637</td>\n",
       "      <td>2020-04-18 12:19:50.182714</td>\n",
       "    </tr>\n",
       "  </tbody>\n",
       "</table>\n",
       "</div>"
      ],
      "text/plain": [
       "       uid   labname             first_commit_ts               first_view_ts\n",
       "0   user_1    laba04  2020-04-26 17:06:18.462708  2020-04-26 21:53:59.624136\n",
       "1   user_1   laba04s  2020-04-26 17:12:11.843671  2020-04-26 21:53:59.624136\n",
       "2   user_1    laba05  2020-05-02 19:15:18.540185  2020-04-26 21:53:59.624136\n",
       "3   user_1    laba06  2020-05-17 16:26:35.268534  2020-04-26 21:53:59.624136\n",
       "4   user_1   laba06s  2020-05-20 12:23:37.289724  2020-04-26 21:53:59.624136\n",
       "5   user_1  project1  2020-05-14 20:56:08.898880  2020-04-26 21:53:59.624136\n",
       "6  user_10    laba04  2020-04-25 08:24:52.696624  2020-04-18 12:19:50.182714\n",
       "7  user_10   laba04s  2020-04-25 08:37:54.604222  2020-04-18 12:19:50.182714\n",
       "8  user_10    laba05  2020-05-01 19:27:26.063245  2020-04-18 12:19:50.182714\n",
       "9  user_10    laba06  2020-05-19 11:39:28.885637  2020-04-18 12:19:50.182714"
      ]
     },
     "execution_count": 4,
     "metadata": {},
     "output_type": "execute_result"
    }
   ],
   "source": [
    "pd.read_sql('select * from test limit 10', conn)"
   ]
  },
  {
   "cell_type": "markdown",
   "id": "fd205748",
   "metadata": {},
   "source": [
    "## найти среди всех пользователей минимальное значение дельты между первым коммитом пользователя и крайним сроком соответствующей лаборатории, используя только один запрос"
   ]
  },
  {
   "cell_type": "code",
   "execution_count": 5,
   "id": "d2089ca1",
   "metadata": {},
   "outputs": [
    {
     "data": {
      "text/html": [
       "<div>\n",
       "<style scoped>\n",
       "    .dataframe tbody tr th:only-of-type {\n",
       "        vertical-align: middle;\n",
       "    }\n",
       "\n",
       "    .dataframe tbody tr th {\n",
       "        vertical-align: top;\n",
       "    }\n",
       "\n",
       "    .dataframe thead th {\n",
       "        text-align: right;\n",
       "    }\n",
       "</style>\n",
       "<table border=\"1\" class=\"dataframe\">\n",
       "  <thead>\n",
       "    <tr style=\"text-align: right;\">\n",
       "      <th></th>\n",
       "      <th>uid</th>\n",
       "      <th>min_diff</th>\n",
       "    </tr>\n",
       "  </thead>\n",
       "  <tbody>\n",
       "    <tr>\n",
       "      <th>0</th>\n",
       "      <td>user_30</td>\n",
       "      <td>-202</td>\n",
       "    </tr>\n",
       "  </tbody>\n",
       "</table>\n",
       "</div>"
      ],
      "text/plain": [
       "       uid  min_diff\n",
       "0  user_30      -202"
      ]
     },
     "execution_count": 5,
     "metadata": {},
     "output_type": "execute_result"
    }
   ],
   "source": [
    "query = \"\"\"\n",
    "SELECT uid, MIN(cast((JULIANDAY(t.first_commit_ts) - JULIANDAY(datetime(dl.deadlines, 'unixepoch'))) * 24 AS INT)) AS min_diff\n",
    "FROM test t\n",
    "LEFT JOIN deadlines dl on t.labname = dl.labs\n",
    "WHERE NOT t.labname = 'project1'\n",
    "ORDER BY 2\n",
    "LIMIT 1\n",
    "\"\"\"\n",
    "\n",
    "df_min = pd.read_sql(query, conn)\n",
    "df_min"
   ]
  },
  {
   "cell_type": "markdown",
   "id": "396ad67e",
   "metadata": {},
   "source": [
    "## сделать то же самое, но для максимума, используя только один запрос, имя фрейма данных — df_max"
   ]
  },
  {
   "cell_type": "code",
   "execution_count": 6,
   "id": "2618dad4",
   "metadata": {},
   "outputs": [
    {
     "data": {
      "text/html": [
       "<div>\n",
       "<style scoped>\n",
       "    .dataframe tbody tr th:only-of-type {\n",
       "        vertical-align: middle;\n",
       "    }\n",
       "\n",
       "    .dataframe tbody tr th {\n",
       "        vertical-align: top;\n",
       "    }\n",
       "\n",
       "    .dataframe thead th {\n",
       "        text-align: right;\n",
       "    }\n",
       "</style>\n",
       "<table border=\"1\" class=\"dataframe\">\n",
       "  <thead>\n",
       "    <tr style=\"text-align: right;\">\n",
       "      <th></th>\n",
       "      <th>uid</th>\n",
       "      <th>max_diff</th>\n",
       "    </tr>\n",
       "  </thead>\n",
       "  <tbody>\n",
       "    <tr>\n",
       "      <th>0</th>\n",
       "      <td>user_25</td>\n",
       "      <td>-2</td>\n",
       "    </tr>\n",
       "  </tbody>\n",
       "</table>\n",
       "</div>"
      ],
      "text/plain": [
       "       uid  max_diff\n",
       "0  user_25        -2"
      ]
     },
     "execution_count": 6,
     "metadata": {},
     "output_type": "execute_result"
    }
   ],
   "source": [
    "query = \"\"\"\n",
    "SELECT uid, MAX(cast((JULIANDAY(t.first_commit_ts) - JULIANDAY(datetime(dl.deadlines, 'unixepoch'))) * 24 AS INT)) AS max_diff\n",
    "FROM test t\n",
    "LEFT JOIN deadlines dl on t.labname = dl.labs\n",
    "WHERE NOT t.labname = 'project1'\n",
    "ORDER BY 2\n",
    "LIMIT 1\n",
    "\"\"\"\n",
    "\n",
    "df_max = pd.read_sql(query, conn)\n",
    "df_max"
   ]
  },
  {
   "cell_type": "markdown",
   "id": "f6d5a523",
   "metadata": {},
   "source": [
    "## сделайте то же самое, но для среднего значения, используя только один запрос, на этот раз ваш фрейм данных не должен включать столбец uid, а имя фрейма данных — df_avg"
   ]
  },
  {
   "cell_type": "code",
   "execution_count": 7,
   "id": "b7aeecd3",
   "metadata": {},
   "outputs": [
    {
     "data": {
      "text/html": [
       "<div>\n",
       "<style scoped>\n",
       "    .dataframe tbody tr th:only-of-type {\n",
       "        vertical-align: middle;\n",
       "    }\n",
       "\n",
       "    .dataframe tbody tr th {\n",
       "        vertical-align: top;\n",
       "    }\n",
       "\n",
       "    .dataframe thead th {\n",
       "        text-align: right;\n",
       "    }\n",
       "</style>\n",
       "<table border=\"1\" class=\"dataframe\">\n",
       "  <thead>\n",
       "    <tr style=\"text-align: right;\">\n",
       "      <th></th>\n",
       "      <th>avg_diff</th>\n",
       "    </tr>\n",
       "  </thead>\n",
       "  <tbody>\n",
       "    <tr>\n",
       "      <th>0</th>\n",
       "      <td>-89.125</td>\n",
       "    </tr>\n",
       "  </tbody>\n",
       "</table>\n",
       "</div>"
      ],
      "text/plain": [
       "   avg_diff\n",
       "0   -89.125"
      ]
     },
     "execution_count": 7,
     "metadata": {},
     "output_type": "execute_result"
    }
   ],
   "source": [
    "query = \"\"\"\n",
    "SELECT AVG(cast((JULIANDAY(t.first_commit_ts) - JULIANDAY(datetime(dl.deadlines, 'unixepoch'))) * 24 AS INT)) AS avg_diff\n",
    "FROM test t\n",
    "LEFT JOIN deadlines dl on t.labname = dl.labs\n",
    "WHERE NOT t.labname = 'project1'\n",
    "\"\"\"\n",
    "\n",
    "df_avg = pd.read_sql(query, conn)\n",
    "df_avg"
   ]
  },
  {
   "cell_type": "markdown",
   "id": "de86941a",
   "metadata": {},
   "source": [
    "## Мы хотим проверить гипотезу о том, что пользователи, которые посетили ленту новостей всего несколько раз, имеют меньшую разницу между первым коммитом и дедлайном. Для этого необходимо рассчитать коэффициент корреляции между количеством просмотров страниц и разницей."
   ]
  },
  {
   "cell_type": "code",
   "execution_count": 8,
   "id": "6f4c136d",
   "metadata": {},
   "outputs": [
    {
     "data": {
      "text/html": [
       "<div>\n",
       "<style scoped>\n",
       "    .dataframe tbody tr th:only-of-type {\n",
       "        vertical-align: middle;\n",
       "    }\n",
       "\n",
       "    .dataframe tbody tr th {\n",
       "        vertical-align: top;\n",
       "    }\n",
       "\n",
       "    .dataframe thead th {\n",
       "        text-align: right;\n",
       "    }\n",
       "</style>\n",
       "<table border=\"1\" class=\"dataframe\">\n",
       "  <thead>\n",
       "    <tr style=\"text-align: right;\">\n",
       "      <th></th>\n",
       "      <th>avg_diff</th>\n",
       "      <th>pageviews</th>\n",
       "    </tr>\n",
       "  </thead>\n",
       "  <tbody>\n",
       "    <tr>\n",
       "      <th>avg_diff</th>\n",
       "      <td>1.000000</td>\n",
       "      <td>-0.062967</td>\n",
       "    </tr>\n",
       "    <tr>\n",
       "      <th>pageviews</th>\n",
       "      <td>-0.062967</td>\n",
       "      <td>1.000000</td>\n",
       "    </tr>\n",
       "  </tbody>\n",
       "</table>\n",
       "</div>"
      ],
      "text/plain": [
       "           avg_diff  pageviews\n",
       "avg_diff   1.000000  -0.062967\n",
       "pageviews -0.062967   1.000000"
      ]
     },
     "execution_count": 8,
     "metadata": {},
     "output_type": "execute_result"
    }
   ],
   "source": [
    "query = \"\"\"\n",
    "SELECT\n",
    "    t.uid,\n",
    "    (CAST((JULIANDAY(t.first_commit_ts) - JULIANDAY(datetime(d.deadlines, 'unixepoch'))) * 24 AS INT)) AS avg_diff,\n",
    "    COUNT(DISTINCT pageviews.datetime) as pageviews\n",
    "FROM\n",
    "    test t\n",
    "LEFT JOIN \n",
    "    deadlines d ON t.labname = d.labs\n",
    "LEFT JOIN\n",
    "    pageviews ON t.uid = pageviews.uid\n",
    "WHERE \n",
    "    t.labname != 'project1'\n",
    "GROUP BY\n",
    "    t.uid\n",
    "\"\"\"\n",
    "views_diff = pd.read_sql(query, conn)\n",
    "\n",
    "views_diff.corr(numeric_only=True)"
   ]
  },
  {
   "cell_type": "markdown",
   "id": "62286a75",
   "metadata": {},
   "source": [
    "## закрыть соединение"
   ]
  },
  {
   "cell_type": "code",
   "execution_count": 9,
   "id": "408d9001",
   "metadata": {},
   "outputs": [],
   "source": [
    "conn.close()"
   ]
  }
 ],
 "metadata": {
  "kernelspec": {
   "display_name": "iridescm",
   "language": "python",
   "name": "python3"
  },
  "language_info": {
   "codemirror_mode": {
    "name": "ipython",
    "version": 3
   },
   "file_extension": ".py",
   "mimetype": "text/x-python",
   "name": "python",
   "nbconvert_exporter": "python",
   "pygments_lexer": "ipython3",
   "version": "3.13.5"
  }
 },
 "nbformat": 4,
 "nbformat_minor": 5
}
