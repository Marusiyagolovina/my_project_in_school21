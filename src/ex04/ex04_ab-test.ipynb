{
 "cells": [
  {
   "cell_type": "code",
   "execution_count": 135,
   "id": "bef0c1a9",
   "metadata": {},
   "outputs": [],
   "source": [
    "import pandas as pd\n",
    "import sqlite3"
   ]
  },
  {
   "cell_type": "markdown",
   "id": "19888d66",
   "metadata": {},
   "source": [
    "## создаем подключение к базе данных с помощью библиотеки sqlite3"
   ]
  },
  {
   "cell_type": "code",
   "execution_count": 136,
   "id": "acb07fdd",
   "metadata": {},
   "outputs": [],
   "source": [
    "conn = sqlite3.connect('../data/checking-logs.sqlite', check_same_thread=False)"
   ]
  },
  {
   "cell_type": "markdown",
   "id": "cbd7df32",
   "metadata": {},
   "source": [
    "## Используя только один запрос для каждой из групп, создайте два фрейма данных: test_results и control_results со столбцами time и avg_diff и только двумя строками."
   ]
  },
  {
   "cell_type": "code",
   "execution_count": 137,
   "id": "81297c34",
   "metadata": {},
   "outputs": [
    {
     "data": {
      "text/html": [
       "<div>\n",
       "<style scoped>\n",
       "    .dataframe tbody tr th:only-of-type {\n",
       "        vertical-align: middle;\n",
       "    }\n",
       "\n",
       "    .dataframe tbody tr th {\n",
       "        vertical-align: top;\n",
       "    }\n",
       "\n",
       "    .dataframe thead th {\n",
       "        text-align: right;\n",
       "    }\n",
       "</style>\n",
       "<table border=\"1\" class=\"dataframe\">\n",
       "  <thead>\n",
       "    <tr style=\"text-align: right;\">\n",
       "      <th></th>\n",
       "      <th>time</th>\n",
       "      <th>avg_diff</th>\n",
       "    </tr>\n",
       "  </thead>\n",
       "  <tbody>\n",
       "    <tr>\n",
       "      <th>0</th>\n",
       "      <td>after</td>\n",
       "      <td>-99.523810</td>\n",
       "    </tr>\n",
       "    <tr>\n",
       "      <th>1</th>\n",
       "      <td>before</td>\n",
       "      <td>-66.047619</td>\n",
       "    </tr>\n",
       "  </tbody>\n",
       "</table>\n",
       "</div>"
      ],
      "text/plain": [
       "     time   avg_diff\n",
       "0   after -99.523810\n",
       "1  before -66.047619"
      ]
     },
     "execution_count": 137,
     "metadata": {},
     "output_type": "execute_result"
    }
   ],
   "source": [
    "query = \"\"\"\n",
    "WITH users_with_any_period AS (\n",
    "    SELECT \n",
    "        uid,\n",
    "        SUM(CASE \n",
    "                WHEN  first_commit_ts <= first_view_ts THEN 1 \n",
    "                ELSE 0 \n",
    "            END) AS before_count,\n",
    "        SUM(CASE \n",
    "                WHEN  first_commit_ts > first_view_ts THEN 1 \n",
    "                ELSE 0 \n",
    "            END) AS after_count\n",
    "    FROM test\n",
    "    WHERE labname != 'project1'\n",
    "    GROUP BY uid\n",
    "    HAVING before_count > 0 AND after_count > 0\n",
    "),\n",
    "\n",
    "commit_differences AS (\n",
    "    SELECT \n",
    "        t.uid,\n",
    "        CASE \n",
    "            WHEN t.first_commit_ts <= t.first_view_ts THEN 'before' \n",
    "            ELSE 'after' \n",
    "        END AS time_period,\n",
    "        AVG((CAST(strftime('%s', t.first_commit_ts) AS INT) - d.deadlines) / 3600) AS avg_diff\n",
    "    FROM test t\n",
    "    INNER JOIN deadlines d ON lower(t.labname) = lower(d.labs)\n",
    "    WHERE \n",
    "        t.labname != 'project1' \n",
    "        \n",
    "        AND t.uid IN (SELECT uid FROM users_with_any_period)\n",
    "    GROUP BY t.uid, time_period\n",
    ")\n",
    "\n",
    "SELECT \n",
    "    time_period AS time,\n",
    "    AVG(avg_diff) AS avg_diff\n",
    "FROM commit_differences\n",
    "GROUP BY time_period;\n",
    "\"\"\"\n",
    "test_results = pd.io.sql.read_sql(query, conn)\n",
    "test_results"
   ]
  },
  {
   "cell_type": "code",
   "execution_count": 138,
   "id": "5885df22",
   "metadata": {},
   "outputs": [
    {
     "data": {
      "text/html": [
       "<div>\n",
       "<style scoped>\n",
       "    .dataframe tbody tr th:only-of-type {\n",
       "        vertical-align: middle;\n",
       "    }\n",
       "\n",
       "    .dataframe tbody tr th {\n",
       "        vertical-align: top;\n",
       "    }\n",
       "\n",
       "    .dataframe thead th {\n",
       "        text-align: right;\n",
       "    }\n",
       "</style>\n",
       "<table border=\"1\" class=\"dataframe\">\n",
       "  <thead>\n",
       "    <tr style=\"text-align: right;\">\n",
       "      <th></th>\n",
       "      <th>time</th>\n",
       "      <th>avg_diff</th>\n",
       "    </tr>\n",
       "  </thead>\n",
       "  <tbody>\n",
       "    <tr>\n",
       "      <th>0</th>\n",
       "      <td>after</td>\n",
       "      <td>-99.322222</td>\n",
       "    </tr>\n",
       "    <tr>\n",
       "      <th>1</th>\n",
       "      <td>before</td>\n",
       "      <td>-98.033333</td>\n",
       "    </tr>\n",
       "  </tbody>\n",
       "</table>\n",
       "</div>"
      ],
      "text/plain": [
       "     time   avg_diff\n",
       "0   after -99.322222\n",
       "1  before -98.033333"
      ]
     },
     "execution_count": 138,
     "metadata": {},
     "output_type": "execute_result"
    }
   ],
   "source": [
    "query2 = \"\"\"\n",
    "\n",
    "WITH users_with_any_period AS (\n",
    "    SELECT \n",
    "        uid,\n",
    "        SUM(CASE \n",
    "                WHEN  first_commit_ts <= first_view_ts THEN 1 \n",
    "                ELSE 0 \n",
    "            END) AS before_count,\n",
    "        SUM(CASE \n",
    "                WHEN  first_commit_ts > first_view_ts THEN 1 \n",
    "                ELSE 0 \n",
    "            END) AS after_count\n",
    "    FROM control\n",
    "    WHERE labname != 'project1'\n",
    "    GROUP BY uid\n",
    "    HAVING before_count > 0 AND after_count > 0\n",
    "),\n",
    "\n",
    "commit_differences AS (\n",
    "    SELECT \n",
    "        c.uid,\n",
    "        CASE \n",
    "            WHEN c.first_commit_ts <= c.first_view_ts THEN 'before' \n",
    "            ELSE 'after' \n",
    "        END AS time_period,\n",
    "        AVG((CAST(strftime('%s', c.first_commit_ts) AS INT) - d.deadlines) / 3600) AS avg_diff\n",
    "    FROM control c\n",
    "    INNER JOIN deadlines d ON lower(c.labname) = lower(d.labs)\n",
    "    WHERE \n",
    "        c.labname != 'project1' \n",
    "        \n",
    "        AND c.uid IN (SELECT uid FROM users_with_any_period)\n",
    "    GROUP BY c.uid, time_period\n",
    ")\n",
    "\n",
    "SELECT \n",
    "    time_period AS time,\n",
    "    AVG(avg_diff) AS avg_diff\n",
    "FROM commit_differences\n",
    "GROUP BY time_period;\n",
    "\"\"\"\n",
    "control_results = pd.read_sql(query2, conn)\n",
    "control_results"
   ]
  },
  {
   "cell_type": "markdown",
   "id": "e2977c5c",
   "metadata": {},
   "source": [
    "## закрыть соединение"
   ]
  },
  {
   "cell_type": "code",
   "execution_count": 139,
   "id": "3d4822ce",
   "metadata": {},
   "outputs": [],
   "source": [
    "conn.close()"
   ]
  },
  {
   "cell_type": "markdown",
   "id": "1f864070",
   "metadata": {},
   "source": [
    "## Ответ на гипотезу, оказалась ли верной и страница действительно влияет на поведение студентов?"
   ]
  },
  {
   "cell_type": "code",
   "execution_count": 140,
   "id": "4e61d48c",
   "metadata": {},
   "outputs": [],
   "source": [
    "# Вывод интерпретации\n",
    "before_test = test_results.query(\"time == 'before'\")['avg_diff'].values[0]\n",
    "after_test = test_results.query(\"time == 'after'\")['avg_diff'].values[0]\n",
    "before_control = control_results.query(\"time == 'before'\")['avg_diff'].values[0]\n",
    "after_control = control_results.query(\"time == 'after'\")['avg_diff'].values[0]\n"
   ]
  },
  {
   "cell_type": "code",
   "execution_count": 141,
   "id": "7eb5f167",
   "metadata": {},
   "outputs": [
    {
     "name": "stdout",
     "output_type": "stream",
     "text": [
      "\n",
      "Вывод:\n",
      "33.47619047619047 1.2888888888888914\n",
      "✅ Да, гипотеза подтвердилась: лента новостей помогла студентам раньше начинать выполнение лабораторных работ.\n"
     ]
    }
   ],
   "source": [
    "print(\"\\nВывод:\")\n",
    "\n",
    "# Изменение в дельтах\n",
    "delta_test = before_test - after_test\n",
    "delta_control = before_control - after_control\n",
    "print(delta_test, delta_control)\n",
    "if (delta_test > delta_control):\n",
    "    print(\"✅ Да, гипотеза подтвердилась: лента новостей помогла студентам раньше начинать выполнение лабораторных работ.\")\n",
    "else:\n",
    "    print(\"❌ Нет, гипотеза не подтвердилась: значимого эффекта не наблюдается.\")"
   ]
  }
 ],
 "metadata": {
  "kernelspec": {
   "display_name": "iridescm",
   "language": "python",
   "name": "python3"
  },
  "language_info": {
   "codemirror_mode": {
    "name": "ipython",
    "version": 3
   },
   "file_extension": ".py",
   "mimetype": "text/x-python",
   "name": "python",
   "nbconvert_exporter": "python",
   "pygments_lexer": "ipython3",
   "version": "3.13.5"
  }
 },
 "nbformat": 4,
 "nbformat_minor": 5
}
