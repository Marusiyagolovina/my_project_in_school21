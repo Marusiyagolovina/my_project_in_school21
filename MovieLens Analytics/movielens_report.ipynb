{
 "cells": [
  {
   "cell_type": "code",
   "execution_count": null,
   "id": "23af279b",
   "metadata": {},
   "outputs": [],
   "source": [
    "#%%timeit -n1 -r1\n",
    "# Импортируем наш модуль\n",
    "from movielens_analysis import Ratings, Tags, Movies, Links\n",
    "\n",
    "# Указываем путь к файлам \n",
    "ratings_file = '../datasets/ml-latest-small/ratings.csv'\n",
    "tags_file = '../datasets/ml-latest-small/tags.csv'\n",
    "movies_file = '../datasets/ml-latest-small/movies.csv'\n",
    "links_file = '../datasets/ml-latest-small/links.csv'\n",
    "\n",
    "#Пути к сломанным файлам\n",
    "# ratings_file = '../datasets/b_file/ratings.csv'\n",
    "# tags_file = '../datasets/b_file/tags.csv'\n",
    "# movies_file = '../datasets/b_file/movies.csv'\n",
    "# links_file = '../datasets/b_file/links.csv'\n",
    "\n",
    "# Создаем объекты классов\n",
    "movies = Movies(movies_file)\n",
    "movies_list = movies.get_movies()\n",
    "movie_ids = set(int(m[\"movieId\"]) for m in movies_list)\n",
    "ratings_obj = Ratings(ratings_file, movies_file, movie_ids)\n",
    "movies_analytics = Ratings.Movies(ratings_obj, movies_list)\n",
    "movies_analytics2 = Ratings.Users(ratings_obj, movies_list)\n",
    "tags = Tags(tags_file, movie_ids)\n",
    "links = Links(links_file)\n",
    "imdb_ids = links.read_csv_column(links_file, 'imdbId', movie_ids)[:10]"
   ]
  },
  {
   "cell_type": "markdown",
   "id": "76377372",
   "metadata": {},
   "source": [
    "# Анализ набора данных MovieLens: Как меняются вкусы зрителей в зависимости от года выхода фильма?\n",
    "\n",
    "**Дата создания отчета:** 2025-07-12\n",
    "\n",
    "**Авторы**\n",
    "\n",
    "- **mashalee** (teamlead)\n",
    "- **iridescm**\n",
    "- **korisund**\n",
    "\n",
    "В этом исследовании мы исследуем набор данных MovieLens и постараемся понять, как менялись предпочтения зрителей в зависимости от года выхода фильма. Какие жанры были наиболее любимыми в 90-х? А какие — в 2000-х? Менялся ли средний рейтинг со временем? Какие фильмы выделялись особенно? Как пользовательчкие теги могут быть связаны со средними рейтингами этих фильмов?"
   ]
  },
  {
   "cell_type": "markdown",
   "id": "ef7d3571",
   "metadata": {},
   "source": [
    "## Сбор данных\n",
    "\n",
    "Рассмотрим все классы и методы, которые нам помогут собрать данные для анализа.\n",
    "\n",
    "## 1. Класс Movies\n",
    "\n",
    "Соберем основную информацию о фильмах с помощью класса `Movies`. Данный класс предназначен для хранения и организации информации о фильмах.  \n",
    "Данные которые берутся из файла:\n",
    "\n",
    "- `movieId` — уникальный идентификатор фильма;\n",
    "- `title` — название фильма;\n",
    "- `genres` — список жанров, к которым относится фильм.\n",
    "\n",
    "Данная структура обеспечивает удобный доступ к информации о фильмах и позволяет эффективно работать с жанровыми категориями.  \n",
    "Для анализа нам необходимо расширить класс дополнительными атрибутами, такими как год выпуска, рейтинг и возможно др.\n",
    "\n",
    "### 1.1 Метод dist_by_release(self)\n",
    "Для полной картины нам необходимо понимать в какие года выпускались фильмы. С помощью данного метода мы создадим словарь, ключами которого являются года, а значениями количество фильмом выпущенных в этом году.\n",
    "\n",
    "Теперь мы легко сможем проанализировать фильмы каких годов содержатся в наших данных. Данные отсортированы по убыванию по количеству фильмов."
   ]
  },
  {
   "cell_type": "code",
   "execution_count": 9,
   "id": "657d9e00",
   "metadata": {},
   "outputs": [
    {
     "data": {
      "text/plain": [
       "OrderedDict([('1995', 224),\n",
       "             ('1994', 184),\n",
       "             ('1996', 181),\n",
       "             ('1993', 101),\n",
       "             ('1992', 23),\n",
       "             ('1990', 15),\n",
       "             ('1991', 15),\n",
       "             ('1989', 14),\n",
       "             ('1986', 9),\n",
       "             ('1982', 8),\n",
       "             ('1940', 8),\n",
       "             ('1957', 8),\n",
       "             ('1987', 8),\n",
       "             ('1980', 8),\n",
       "             ('1981', 7),\n",
       "             ('1988', 7),\n",
       "             ('1979', 7),\n",
       "             ('1955', 6),\n",
       "             ('1959', 6),\n",
       "             ('1968', 6),\n",
       "             ('1997', 6),\n",
       "             ('1939', 6),\n",
       "             ('1985', 6),\n",
       "             ('1967', 5),\n",
       "             ('1965', 5),\n",
       "             ('1951', 5),\n",
       "             ('1958', 5),\n",
       "             ('1944', 5),\n",
       "             ('1941', 5),\n",
       "             ('1975', 5),\n",
       "             ('1971', 5),\n",
       "             ('1984', 5),\n",
       "             ('1964', 4),\n",
       "             ('1973', 4),\n",
       "             ('1954', 4),\n",
       "             ('1934', 4),\n",
       "             ('1960', 4),\n",
       "             ('1963', 4),\n",
       "             ('1950', 4),\n",
       "             ('1974', 4),\n",
       "             ('1983', 4),\n",
       "             ('1977', 3),\n",
       "             ('1937', 3),\n",
       "             ('1972', 3),\n",
       "             ('1952', 3),\n",
       "             ('1961', 3),\n",
       "             ('1953', 3),\n",
       "             ('1946', 3),\n",
       "             ('1938', 3),\n",
       "             ('1956', 3),\n",
       "             ('1962', 3),\n",
       "             ('1976', 2),\n",
       "             ('1969', 2),\n",
       "             ('1970', 2),\n",
       "             ('1942', 2),\n",
       "             ('1945', 2),\n",
       "             ('1947', 2),\n",
       "             ('1935', 2),\n",
       "             ('1936', 2),\n",
       "             ('1949', 2),\n",
       "             ('1978', 2),\n",
       "             ('1943', 1),\n",
       "             ('1932', 1),\n",
       "             ('1966', 1),\n",
       "             ('1948', 1),\n",
       "             ('1933', 1),\n",
       "             ('1931', 1)])"
      ]
     },
     "metadata": {},
     "output_type": "display_data"
    },
    {
     "name": "stdout",
     "output_type": "stream",
     "text": [
      "6.3 ms ± 0 ns per loop (mean ± std. dev. of 1 run, 1 loop each)\n"
     ]
    }
   ],
   "source": [
    "%%timeit -r1 -n1\n",
    "display(movies.dist_by_release())"
   ]
  },
  {
   "cell_type": "markdown",
   "id": "3cb22ad2",
   "metadata": {},
   "source": [
    "Мы видим, что в 1995 году было снято больше всего фильмов. Значит этот год представляет для нас самый большой интерес. \n",
    "\n",
    "### 1.2 Метод dist_by_genres(self)\n",
    "\n",
    "Для анализа необходимо понимать к каким жанрам принадлежат фильмы. \n",
    "\n",
    "Метода `dist_by_genres(self)` позволяет получить распределение фильмов по жанрам, представленных в наборе данных. Он возвращает список всех жанров и количество фильмов, относящихся к каждому из них."
   ]
  },
  {
   "cell_type": "code",
   "execution_count": 10,
   "id": "030451e8",
   "metadata": {},
   "outputs": [
    {
     "data": {
      "text/plain": [
       "{'Drama': 507,\n",
       " 'Comedy': 365,\n",
       " 'Romance': 208,\n",
       " 'Thriller': 179,\n",
       " 'Action': 158,\n",
       " 'Adventure': 126,\n",
       " 'Crime': 122,\n",
       " 'Children': 100,\n",
       " 'Fantasy': 69,\n",
       " 'Sci-Fi': 69,\n",
       " 'Mystery': 58,\n",
       " 'Musical': 53,\n",
       " 'Horror': 51,\n",
       " 'War': 48,\n",
       " 'Animation': 37,\n",
       " 'Documentary': 25,\n",
       " 'Western': 23,\n",
       " 'Film-Noir': 18,\n",
       " 'IMAX': 3}"
      ]
     },
     "metadata": {},
     "output_type": "display_data"
    },
    {
     "name": "stdout",
     "output_type": "stream",
     "text": [
      "1.76 ms ± 0 ns per loop (mean ± std. dev. of 1 run, 1 loop each)\n"
     ]
    }
   ],
   "source": [
    "%%timeit -n1 -r1\n",
    "display(movies.dist_by_genres())"
   ]
  },
  {
   "cell_type": "markdown",
   "id": "bcfb5c5b",
   "metadata": {},
   "source": [
    "Драма - самый популярный жанр у режиссеров. Или это не совсем так? По одному ли жанру имеет каждый фильм? \n",
    "\n",
    "### 1.3 Метод most_genres(n)\n",
    "\n",
    "После анализа годов выпуска и жанров, содержащихся в данных, надо понимать какое самое максимальное количество жанров указано в одном фильме.\n",
    "\n",
    "Метод `most_genres(n)` выводит созданный словарь с фильмами, которые имеют больше всего жанров. \n",
    "Ключ- название фильма. Значение- количество жанров в нём.\n",
    "\n",
    "Выведем Топ-10 фильмов."
   ]
  },
  {
   "cell_type": "code",
   "execution_count": 11,
   "id": "a62be724",
   "metadata": {},
   "outputs": [
    {
     "data": {
      "text/plain": [
       "{'Strange Days (1995)': 6,\n",
       " 'Lion King, The (1994)': 6,\n",
       " 'Getaway, The (1994)': 6,\n",
       " 'Super Mario Bros. (1993)': 6,\n",
       " 'Beauty and the Beast (1991)': 6,\n",
       " 'All Dogs Go to Heaven 2 (1996)': 6,\n",
       " 'Space Jam (1996)': 6,\n",
       " 'Aladdin and the King of Thieves (1996)': 6,\n",
       " 'Toy Story (1995)': 5,\n",
       " 'Money Train (1995)': 5}"
      ]
     },
     "metadata": {},
     "output_type": "display_data"
    },
    {
     "name": "stdout",
     "output_type": "stream",
     "text": [
      "2.31 ms ± 0 ns per loop (mean ± std. dev. of 1 run, 1 loop each)\n"
     ]
    }
   ],
   "source": [
    "%%timeit -n1 -r1\n",
    "display(dict(movies.most_genres(10)))"
   ]
  },
  {
   "cell_type": "markdown",
   "id": "8d6ff76c-f3c8-4c52-b7c0-ea9b11930e75",
   "metadata": {},
   "source": [
    "Мы видим, что есть фильмы, у которых указано очень много жанров.\n",
    "А какое же сочетание жанров встречается чаще всего?\n",
    "\n",
    "### 1.4* common_genre_combinations(self, n=10)\n",
    "\n",
    "Чтоб исследовать вопрос, воспользуемся методом 'common_genre_combinations'. Метод выводит словарь, в котором указан жанр или сочетание жанров и число, с частотой которого встречатеся фильм."
   ]
  },
  {
   "cell_type": "code",
   "execution_count": 12,
   "id": "52bae1e0",
   "metadata": {},
   "outputs": [
    {
     "data": {
      "text/plain": [
       "{'Drama': 142,\n",
       " 'Comedy': 94,\n",
       " 'Comedy|Drama': 54,\n",
       " 'Drama|Romance': 51,\n",
       " 'Comedy|Romance': 43,\n",
       " 'Comedy|Drama|Romance': 28,\n",
       " 'Documentary': 23,\n",
       " 'Drama|Thriller': 20,\n",
       " 'Crime|Drama': 19,\n",
       " 'Drama|War': 17}"
      ]
     },
     "metadata": {},
     "output_type": "display_data"
    },
    {
     "name": "stdout",
     "output_type": "stream",
     "text": [
      "2.49 ms ± 0 ns per loop (mean ± std. dev. of 1 run, 1 loop each)\n"
     ]
    }
   ],
   "source": [
    "%%timeit -r1 -n1\n",
    "display(movies.common_genre_combinations(10))"
   ]
  },
  {
   "cell_type": "markdown",
   "id": "a39208b2-f8c1-464a-a36d-5b2217c1dc55",
   "metadata": {},
   "source": [
    "### 1.5* movies_by_year(self, year)\n",
    "\n",
    "Давайте теперь посмотрим какие именно фильмы были созданны в 1995 году и какому жанру они относятся. Поймем какой жанр был предпочтительней у режиссеров, выведим 10 фильмов, чтоб в этом убедится.\n"
   ]
  },
  {
   "cell_type": "code",
   "execution_count": 13,
   "id": "eb81f68d",
   "metadata": {
    "scrolled": true
   },
   "outputs": [
    {
     "name": "stdout",
     "output_type": "stream",
     "text": [
      "total movies: 224, most popularity genre: ('Drama', 107)\n"
     ]
    },
    {
     "data": {
      "text/plain": [
       "[{'Money Train (1995)': ['Action', 'Comedy', 'Crime', 'Drama', 'Thriller']},\n",
       " {'Bad Boys (1995)': ['Action', 'Comedy', 'Crime', 'Drama', 'Thriller']},\n",
       " {'Strange Days (1995)': ['Action',\n",
       "   'Crime',\n",
       "   'Drama',\n",
       "   'Mystery',\n",
       "   'Sci-Fi',\n",
       "   'Thriller']},\n",
       " {'Waiting to Exhale (1995)': ['Comedy', 'Drama', 'Romance']},\n",
       " {'American President, The (1995)': ['Comedy', 'Drama', 'Romance']},\n",
       " {'Mighty Aphrodite (1995)': ['Comedy', 'Drama', 'Romance']},\n",
       " {'Something to Talk About (1995)': ['Comedy', 'Drama', 'Romance']},\n",
       " {'Don Juan DeMarco (1995)': ['Comedy', 'Drama', 'Romance']},\n",
       " {'To Die For (1995)': ['Comedy', 'Drama', 'Thriller']},\n",
       " {'Doom Generation, The (1995)': ['Comedy', 'Crime', 'Drama']}]"
      ]
     },
     "metadata": {},
     "output_type": "display_data"
    },
    {
     "name": "stdout",
     "output_type": "stream",
     "text": [
      "3.43 ms ± 0 ns per loop (mean ± std. dev. of 1 run, 1 loop each)\n"
     ]
    }
   ],
   "source": [
    "%%timeit -n1 -r1\n",
    "display(movies.movies_by_year(1995)[:10])"
   ]
  },
  {
   "cell_type": "markdown",
   "id": "2e393130",
   "metadata": {},
   "source": [
    "#### Вывод:\n",
    "Данные показали нам, что фильмы с жанром \"драма\" снимают чаще всего. На сколько этот жанр популярен на самом деле попробуем узнать с помощью следующего класса.\n"
   ]
  },
  {
   "cell_type": "markdown",
   "id": "ec18a221",
   "metadata": {},
   "source": [
    "## 2. Класс Ratings\n",
    "\n",
    "Класс `Ratings` предназначен для хранения и организации информации о том, какие оценки поставили пользователи фильму.  \n",
    "Данные которые берутся из файла:\n",
    "\n",
    "- `userId` — уникальный идентификатор пользователя;\n",
    "- `movieId` — уникальный идентификатор фильма;\n",
    "- `rating` — оценка, которую поставил пользователь;\n",
    "- `timestamp` — дата и время выбора выставления оценки.\n",
    "\n",
    "Данная структура обеспечивает удобный доступ к информации о том, какие оценки ставили фильму. Благодаря этому мы можем узнать какие фильмы высоко оцениваются зрителями.\n",
    "\n",
    "Давайте узнаем в какие годы, сколько оценок было выставленно.\n",
    "\n",
    "### 2.1 Метод dist_by_year(self)\n",
    "\n",
    "Метод возвращает словарь, где годам соответствует количество выставленных оценок."
   ]
  },
  {
   "cell_type": "code",
   "execution_count": 14,
   "id": "b6fedef6",
   "metadata": {
    "scrolled": true
   },
   "outputs": [
    {
     "data": {
      "text/plain": [
       "{1996: 453,\n",
       " 1998: 36,\n",
       " 1999: 47,\n",
       " 2000: 127,\n",
       " 2001: 21,\n",
       " 2003: 11,\n",
       " 2005: 31,\n",
       " 2009: 12,\n",
       " 2011: 67,\n",
       " 2012: 2,\n",
       " 2013: 52,\n",
       " 2015: 2,\n",
       " 2016: 111,\n",
       " 2017: 26,\n",
       " 2018: 2}"
      ]
     },
     "metadata": {},
     "output_type": "display_data"
    },
    {
     "name": "stdout",
     "output_type": "stream",
     "text": [
      "1.98 ms ± 0 ns per loop (mean ± std. dev. of 1 run, 1 loop each)\n"
     ]
    }
   ],
   "source": [
    "%%timeit -n1 -r1\n",
    "display(movies_analytics.dist_by_year())"
   ]
  },
  {
   "cell_type": "markdown",
   "id": "e97b072a",
   "metadata": {},
   "source": [
    "Мы видим, что фильмы в 1996 года оценивались больше всего. Интересно какие это были оценки?\n",
    "\n",
    "### 2.2 dist_by_rating(self)\n",
    "\n",
    "А какие оценки чаще всего ставят пользователи? Сейчас узнаем!\n",
    "\n",
    "Метод возвращает словарь оценок и их количества."
   ]
  },
  {
   "cell_type": "code",
   "execution_count": 15,
   "id": "f9f9dc64",
   "metadata": {},
   "outputs": [
    {
     "data": {
      "text/plain": [
       "{0.5: 11,\n",
       " 1.0: 26,\n",
       " 1.5: 2,\n",
       " 2.0: 47,\n",
       " 2.5: 13,\n",
       " 3.0: 287,\n",
       " 3.5: 41,\n",
       " 4.0: 303,\n",
       " 4.5: 59,\n",
       " 5.0: 211}"
      ]
     },
     "metadata": {},
     "output_type": "display_data"
    },
    {
     "name": "stdout",
     "output_type": "stream",
     "text": [
      "1.81 ms ± 0 ns per loop (mean ± std. dev. of 1 run, 1 loop each)\n"
     ]
    }
   ],
   "source": [
    "%%timeit -n1 -r1\n",
    "display(movies_analytics.dist_by_rating())"
   ]
  },
  {
   "cell_type": "markdown",
   "id": "a168056a",
   "metadata": {},
   "source": [
    "Большинство пользователей ставят высокие оценки (от 3.0 до 5.0). Наиболее частая оценка — 4.0, за ней следует 5.0 и 3.0.\n",
    "Низкие оценки встречаются редко, что говорит о высокой лояльности или качестве фильмов. Распределение смещено в сторону положительных оценок\n",
    "\n",
    "### 2.3 top_by_num_of_ratings(self, n)\n",
    "\n",
    "А какие же фильмы самые хайповые? Кому больше всего поставили оценки? Сейчас посмотрим!\n",
    "\n",
    "Этот метод возвращает словарь, где названиям фильма соответствуют количество оценок."
   ]
  },
  {
   "cell_type": "code",
   "execution_count": 16,
   "id": "381a89d6",
   "metadata": {},
   "outputs": [
    {
     "data": {
      "text/plain": [
       "{'Pulp Fiction (1994)': 11,\n",
       " 'Forrest Gump (1994)': 11,\n",
       " 'Seven (a.k.a. Se7en) (1995)': 10,\n",
       " \"Schindler's List (1993)\": 10,\n",
       " 'Silence of the Lambs, The (1991)': 10,\n",
       " 'Shawshank Redemption, The (1994)': 10,\n",
       " 'Usual Suspects, The (1995)': 8,\n",
       " 'Braveheart (1995)': 8,\n",
       " 'Jurassic Park (1993)': 8,\n",
       " 'Raiders of the Lost Ark (Indiana Jones and the Raiders of the Lost Ark) (1981)': 8}"
      ]
     },
     "metadata": {},
     "output_type": "display_data"
    },
    {
     "name": "stdout",
     "output_type": "stream",
     "text": [
      "1.82 ms ± 0 ns per loop (mean ± std. dev. of 1 run, 1 loop each)\n"
     ]
    }
   ],
   "source": [
    "%%timeit -n1 -r1\n",
    "display(movies_analytics.top_by_num_of_ratings(10))"
   ]
  },
  {
   "cell_type": "markdown",
   "id": "e2251dbd",
   "metadata": {},
   "source": [
    "Интересно, что фильмы 90-х годов оценивались чаще. \n",
    "\n",
    "### 2.4 top_by_ratings(self, n, metric='average')\n",
    "\n",
    "Много оценок - это хорошо. Но не понятно хорошие они или плохие. Сейчас выясним.\n",
    "\n",
    "Метод возвращает словарь, который названию фильма ставит в соответствие либо среднее значение, либо медиану."
   ]
  },
  {
   "cell_type": "code",
   "execution_count": 17,
   "id": "8334974f",
   "metadata": {},
   "outputs": [
    {
     "data": {
      "text/plain": [
       "{'Ghost and the Darkness, The (1996)': 5.0,\n",
       " 'Fantasia (1940)': 5.0,\n",
       " 'First Knight (1995)': 5.0,\n",
       " \"Monty Python's Life of Brian (1979)\": 4.83,\n",
       " 'Clockwork Orange, A (1971)': 4.83,\n",
       " 'Alice in Wonderland (1951)': 4.75,\n",
       " 'Blues Brothers, The (1980)': 4.75,\n",
       " 'Back to the Future (1985)': 4.75,\n",
       " 'Godfather: Part II, The (1974)': 4.75,\n",
       " 'Tommy Boy (1995)': 4.67}"
      ]
     },
     "metadata": {},
     "output_type": "display_data"
    },
    {
     "name": "stdout",
     "output_type": "stream",
     "text": [
      "2.24 ms ± 0 ns per loop (mean ± std. dev. of 1 run, 1 loop each)\n"
     ]
    }
   ],
   "source": [
    "%%timeit -n1 -r1\n",
    "display(movies_analytics.top_by_ratings(10, 'average'))"
   ]
  },
  {
   "cell_type": "code",
   "execution_count": 18,
   "id": "30602cff",
   "metadata": {},
   "outputs": [
    {
     "data": {
      "text/plain": [
       "{'Star Wars: Episode IV - A New Hope (1977)': 5.0,\n",
       " 'Tommy Boy (1995)': 5.0,\n",
       " 'Fugitive, The (1993)': 5.0,\n",
       " 'Wizard of Oz, The (1939)': 5.0,\n",
       " 'Citizen Kane (1941)': 5.0,\n",
       " 'Ghost and the Darkness, The (1996)': 5.0,\n",
       " \"Monty Python's Life of Brian (1979)\": 5.0,\n",
       " 'Star Wars: Episode V - The Empire Strikes Back (1980)': 5.0,\n",
       " 'Clockwork Orange, A (1971)': 5.0,\n",
       " 'Terminator, The (1984)': 5.0}"
      ]
     },
     "metadata": {},
     "output_type": "display_data"
    },
    {
     "name": "stdout",
     "output_type": "stream",
     "text": [
      "2.22 ms ± 0 ns per loop (mean ± std. dev. of 1 run, 1 loop each)\n"
     ]
    }
   ],
   "source": [
    "%%timeit -n1 -r1\n",
    "display(movies_analytics.top_by_ratings(10, 'median'))"
   ]
  },
  {
   "cell_type": "markdown",
   "id": "e0bfb453",
   "metadata": {},
   "source": [
    "Из-за того, что мы берём только ограниченное количество данных, у нас много фильмов, где выставлена одна оценка. И если это \"5\", то фильм попадёт в топ нашего рейтинга.\n",
    "\n",
    "### 2.5 top_controversial(self, n)\n",
    "\n",
    "А большой ли разброс между оценками. Этот метод нам поможет выяснить. Топ-n самых спорных фильмов, то есть те, у которых пользователи больше всего расходились в оценках.\n",
    "\n",
    "Метод возвращает словарь, который выбирает первые n фильмов с самой большой дисперсией."
   ]
  },
  {
   "cell_type": "code",
   "execution_count": 19,
   "id": "9e491727",
   "metadata": {},
   "outputs": [
    {
     "data": {
      "text/plain": [
       "{'My Fair Lady (1964)': 10.12,\n",
       " \"City Slickers II: The Legend of Curly's Gold (1994)\": 8.0,\n",
       " 'Courage Under Fire (1996)': 6.12,\n",
       " 'Doors, The (1991)': 6.12,\n",
       " 'Deer Hunter, The (1978)': 6.12,\n",
       " 'Dazed and Confused (1993)': 4.5,\n",
       " 'Brazil (1985)': 4.5,\n",
       " 'Casper (1995)': 4.5,\n",
       " 'Flintstones, The (1994)': 4.5,\n",
       " 'Circle of Friends (1995)': 4.33}"
      ]
     },
     "metadata": {},
     "output_type": "display_data"
    },
    {
     "name": "stdout",
     "output_type": "stream",
     "text": [
      "2.64 ms ± 0 ns per loop (mean ± std. dev. of 1 run, 1 loop each)\n"
     ]
    }
   ],
   "source": [
    "%%timeit -r1 -n1\n",
    "display(movies_analytics.top_controversial(10))"
   ]
  },
  {
   "cell_type": "markdown",
   "id": "0a32df9d",
   "metadata": {},
   "source": [
    "### 2.6* average_genre_rating_by_year(self, genre_filter=None, release_year=None)\n",
    "\n",
    "Хотелось бы узнать, как менялось восприятие разных жанров по годам. Рассмотрим жанр «Драма», поскольку фильмы этого жанра встречаются чаще всего.\n",
    "\n",
    "Данный метод рассчитывает средние рейтинги фильмов заданного жанра с разбивкой по году выпуска фильма и показывает, в каком году была поставилена оценка, а также их количество в каждом году."
   ]
  },
  {
   "cell_type": "code",
   "execution_count": 20,
   "id": "d6eaee98",
   "metadata": {},
   "outputs": [
    {
     "data": {
      "text/plain": [
       "{1996: {'count': 153, 'average_rating': 3.48},\n",
       " 1998: {'count': 11, 'average_rating': 3.73},\n",
       " 1999: {'count': 6, 'average_rating': 2.5},\n",
       " 2000: {'count': 18, 'average_rating': 4.06},\n",
       " 2001: {'count': 3, 'average_rating': 3.67},\n",
       " 2003: {'count': 3, 'average_rating': 3.0},\n",
       " 2005: {'count': 4, 'average_rating': 4.38},\n",
       " 2009: {'count': 3, 'average_rating': 4.67},\n",
       " 2011: {'count': 11, 'average_rating': 2.59},\n",
       " 2013: {'count': 4, 'average_rating': 3.38},\n",
       " 2015: {'count': 1, 'average_rating': 4.0},\n",
       " 2016: {'count': 16, 'average_rating': 3.88},\n",
       " 2017: {'count': 2, 'average_rating': 3.0}}"
      ]
     },
     "metadata": {},
     "output_type": "display_data"
    },
    {
     "name": "stdout",
     "output_type": "stream",
     "text": [
      "3.81 ms ± 0 ns per loop (mean ± std. dev. of 1 run, 1 loop each)\n"
     ]
    }
   ],
   "source": [
    "%%timeit -r1 -n1\n",
    "display(movies_analytics.average_genre_rating_by_year(genre_filter=None, release_year=1995))"
   ]
  },
  {
   "cell_type": "code",
   "execution_count": 21,
   "id": "0f1774e4-816a-4486-9e18-6c313b0eebb5",
   "metadata": {},
   "outputs": [
    {
     "data": {
      "text/plain": [
       "{1996: {'count': 208, 'average_rating': 3.66},\n",
       " 1998: {'count': 11, 'average_rating': 4.27},\n",
       " 1999: {'count': 22, 'average_rating': 3.91},\n",
       " 2000: {'count': 41, 'average_rating': 4.12},\n",
       " 2001: {'count': 9, 'average_rating': 2.89},\n",
       " 2003: {'count': 6, 'average_rating': 3.67},\n",
       " 2005: {'count': 9, 'average_rating': 3.17},\n",
       " 2009: {'count': 6, 'average_rating': 4.5},\n",
       " 2011: {'count': 28, 'average_rating': 3.25},\n",
       " 2012: {'count': 2, 'average_rating': 4.25},\n",
       " 2013: {'count': 23, 'average_rating': 3.8},\n",
       " 2015: {'count': 1, 'average_rating': 3.0},\n",
       " 2016: {'count': 42, 'average_rating': 4.02},\n",
       " 2017: {'count': 10, 'average_rating': 4.15},\n",
       " 2018: {'count': 1, 'average_rating': 4.5}}"
      ]
     },
     "metadata": {},
     "output_type": "display_data"
    },
    {
     "name": "stdout",
     "output_type": "stream",
     "text": [
      "5.15 ms ± 0 ns per loop (mean ± std. dev. of 1 run, 1 loop each)\n"
     ]
    }
   ],
   "source": [
    "%%timeit -r1 -n1\n",
    "display(movies_analytics.average_genre_rating_by_year(genre_filter=\"Drama\", release_year=None))"
   ]
  },
  {
   "cell_type": "code",
   "execution_count": 22,
   "id": "181c8ed7-1ff3-42f9-808a-a54d501625ca",
   "metadata": {},
   "outputs": [
    {
     "data": {
      "text/plain": [
       "{1996: {'count': 64, 'average_rating': 3.72},\n",
       " 1998: {'count': 3, 'average_rating': 4.67},\n",
       " 1999: {'count': 4, 'average_rating': 3.0},\n",
       " 2000: {'count': 6, 'average_rating': 3.83},\n",
       " 2001: {'count': 4, 'average_rating': 3.0},\n",
       " 2003: {'count': 1, 'average_rating': 3.0},\n",
       " 2005: {'count': 2, 'average_rating': 4.0},\n",
       " 2009: {'count': 2, 'average_rating': 3.75},\n",
       " 2011: {'count': 4, 'average_rating': 4.62},\n",
       " 2013: {'count': 5, 'average_rating': 3.7},\n",
       " 2015: {'count': 1, 'average_rating': 3.0},\n",
       " 2016: {'count': 9, 'average_rating': 3.78},\n",
       " 2017: {'count': 5, 'average_rating': 4.0}}"
      ]
     },
     "metadata": {},
     "output_type": "display_data"
    },
    {
     "name": "stdout",
     "output_type": "stream",
     "text": [
      "4.06 ms ± 0 ns per loop (mean ± std. dev. of 1 run, 1 loop each)\n"
     ]
    }
   ],
   "source": [
    "%%timeit -r1 -n1\n",
    "display(movies_analytics.average_genre_rating_by_year(genre_filter=\"Drama\", release_year=1994))"
   ]
  },
  {
   "cell_type": "markdown",
   "id": "30f3a4e2",
   "metadata": {},
   "source": [
    "В 1996 году пользователи поставили больше всего оценок — 64. В следующие годы количество оценок стало намного меньше.\n",
    "Это значит, что фильмы этого жанра в 90-х годах были популярнее и получали больше оценок, а в последние годы — меньше.\n",
    "\n",
    "### 2.7 dist_by_num_of_ratings(self, min_ratings=None)\n",
    "\n",
    "Теперь пришло взглянуть не только на фильмы, но и на пользователей, которые ставят оценки.\n",
    "\n",
    "Метод возвращает словарь, в котором каждой оценке соответствует количество пользователей, поставивших её."
   ]
  },
  {
   "cell_type": "code",
   "execution_count": 23,
   "id": "3e59e212",
   "metadata": {},
   "outputs": [
    {
     "data": {
      "text/plain": [
       "{0.5: 2,\n",
       " 1.0: 8,\n",
       " 1.5: 1,\n",
       " 2.0: 13,\n",
       " 2.5: 4,\n",
       " 3.0: 17,\n",
       " 3.5: 8,\n",
       " 4.0: 17,\n",
       " 4.5: 5,\n",
       " 5.0: 16}"
      ]
     },
     "metadata": {},
     "output_type": "display_data"
    },
    {
     "name": "stdout",
     "output_type": "stream",
     "text": [
      "1.84 ms ± 0 ns per loop (mean ± std. dev. of 1 run, 1 loop each)\n"
     ]
    }
   ],
   "source": [
    "%%timeit -r1 -n1\n",
    "display(movies_analytics2.dist_by_num_of_ratings())"
   ]
  },
  {
   "cell_type": "markdown",
   "id": "6f076092",
   "metadata": {},
   "source": [
    "### 2.8 dist_by_user_rating(self, metric=\"average\")\n",
    "\n",
    "А какие в среднем оценки ставил каждый пользователь? А какая медиана оценок? Давайте выясним.\n",
    "\n",
    "Метод возвращает словарь, где средней и медиальной оценке соответствует сколько пользователей ставили такую оценку."
   ]
  },
  {
   "cell_type": "code",
   "execution_count": 24,
   "id": "359addbf",
   "metadata": {},
   "outputs": [
    {
     "data": {
      "text/plain": [
       "{1.1: 1,\n",
       " 2.8: 2,\n",
       " 3.4: 2,\n",
       " 3.5: 3,\n",
       " 3.6: 2,\n",
       " 3.7: 2,\n",
       " 3.8: 2,\n",
       " 3.9: 2,\n",
       " 4.2: 1,\n",
       " 4.3: 1,\n",
       " 4.4: 1}"
      ]
     },
     "metadata": {},
     "output_type": "display_data"
    },
    {
     "name": "stdout",
     "output_type": "stream",
     "text": [
      "1.71 ms ± 0 ns per loop (mean ± std. dev. of 1 run, 1 loop each)\n"
     ]
    }
   ],
   "source": [
    "%%timeit -r1 -n1\n",
    "display(movies_analytics2.dist_by_user_rating('average'))"
   ]
  },
  {
   "cell_type": "code",
   "execution_count": 25,
   "id": "4bd8e411",
   "metadata": {},
   "outputs": [
    {
     "data": {
      "text/plain": [
       "{0.5: 1, 3.0: 5, 3.2: 1, 3.5: 1, 3.8: 1, 4.0: 7, 4.2: 1, 4.5: 1, 5.0: 1}"
      ]
     },
     "metadata": {},
     "output_type": "display_data"
    },
    {
     "name": "stdout",
     "output_type": "stream",
     "text": [
      "1.8 ms ± 0 ns per loop (mean ± std. dev. of 1 run, 1 loop each)\n"
     ]
    }
   ],
   "source": [
    "%%timeit -r1 -n1\n",
    "display(movies_analytics2.dist_by_user_rating('median'))"
   ]
  },
  {
   "cell_type": "markdown",
   "id": "85e5510e",
   "metadata": {},
   "source": [
    "### 2.9 top_controversial(self, n)\n",
    "\n",
    "Для того, чтобы узнать на сколько большой разрос оценок, который ставит пользователь, воспользуемся методом `top_controversial(self, n)`.\n",
    "\n",
    "Метод возвращает топ-N пользователей с наибольшей дисперсией их оценок (т.е. кто оценивает наиболее непоследовательно)"
   ]
  },
  {
   "cell_type": "code",
   "execution_count": 26,
   "id": "a61b3d89",
   "metadata": {},
   "outputs": [
    {
     "data": {
      "text/plain": [
       "{13: 2.8,\n",
       " 3: 2.23,\n",
       " 15: 2.04,\n",
       " 10: 1.78,\n",
       " 4: 1.77,\n",
       " 7: 1.1,\n",
       " 14: 1.05,\n",
       " 9: 1.02,\n",
       " 5: 0.98,\n",
       " 8: 0.95}"
      ]
     },
     "metadata": {},
     "output_type": "display_data"
    },
    {
     "name": "stdout",
     "output_type": "stream",
     "text": [
      "2.04 ms ± 0 ns per loop (mean ± std. dev. of 1 run, 1 loop each)\n"
     ]
    }
   ],
   "source": [
    "%%timeit -r1 -n1\n",
    "display(movies_analytics2.top_controversial(10))"
   ]
  },
  {
   "cell_type": "markdown",
   "id": "b1944814",
   "metadata": {},
   "source": [
    "### 2.10* genre_rating_trend_by_year(self, genre_filter: str = \"Drama\")\n",
    "\n",
    "Как менялось отношение к жанру \"Drama\" или \"Thriller\" по годам, когда люди ставили оценки?\n",
    "\n",
    "Для анализа можно использовать метод, который возвращает словарь, где ключ — год выставления оценки, а значение — другой словарь с тремя данными: средней оценкой, количеством оценок и количеством пользователей, которые оценивали фильмы этого жанра в этом году."
   ]
  },
  {
   "cell_type": "code",
   "execution_count": 27,
   "id": "4eeed6b5",
   "metadata": {},
   "outputs": [
    {
     "data": {
      "text/plain": [
       "{1996: {'Средний рейтинг': 3.57, 'оценок': 106, 'пользователей': 4},\n",
       " 1998: {'Средний рейтинг': 3.84, 'оценок': 19, 'пользователей': 1},\n",
       " 1999: {'Средний рейтинг': 3.22, 'оценок': 9, 'пользователей': 1},\n",
       " 2000: {'Средний рейтинг': 4.11, 'оценок': 28, 'пользователей': 3},\n",
       " 2001: {'Средний рейтинг': 3.67, 'оценок': 3, 'пользователей': 2},\n",
       " 2003: {'Средний рейтинг': 2.5, 'оценок': 2, 'пользователей': 1},\n",
       " 2005: {'Средний рейтинг': 4.0, 'оценок': 10, 'пользователей': 1},\n",
       " 2009: {'Средний рейтинг': 3.5, 'оценок': 1, 'пользователей': 1},\n",
       " 2011: {'Средний рейтинг': 4.0, 'оценок': 18, 'пользователей': 3},\n",
       " 2012: {'Средний рейтинг': 4.0, 'оценок': 1, 'пользователей': 1},\n",
       " 2013: {'Средний рейтинг': 3.94, 'оценок': 16, 'пользователей': 1},\n",
       " 2016: {'Средний рейтинг': 3.78, 'оценок': 34, 'пользователей': 2},\n",
       " 2017: {'Средний рейтинг': 3.71, 'оценок': 7, 'пользователей': 2}}"
      ]
     },
     "metadata": {},
     "output_type": "display_data"
    },
    {
     "name": "stdout",
     "output_type": "stream",
     "text": [
      "2.29 ms ± 0 ns per loop (mean ± std. dev. of 1 run, 1 loop each)\n"
     ]
    }
   ],
   "source": [
    "%%timeit -r1 -n1\n",
    "display(movies_analytics2.genre_rating_trend_by_year(\"Thriller\"))"
   ]
  },
  {
   "cell_type": "code",
   "execution_count": 28,
   "id": "8e1e8529-6b50-4a26-9019-7f359beb124f",
   "metadata": {},
   "outputs": [
    {
     "data": {
      "text/plain": [
       "{1996: {'Средний рейтинг': 3.66, 'оценок': 208, 'пользователей': 4},\n",
       " 1998: {'Средний рейтинг': 4.27, 'оценок': 11, 'пользователей': 1},\n",
       " 1999: {'Средний рейтинг': 3.91, 'оценок': 22, 'пользователей': 1},\n",
       " 2000: {'Средний рейтинг': 4.12, 'оценок': 41, 'пользователей': 2},\n",
       " 2001: {'Средний рейтинг': 2.89, 'оценок': 9, 'пользователей': 2},\n",
       " 2003: {'Средний рейтинг': 3.67, 'оценок': 6, 'пользователей': 1},\n",
       " 2005: {'Средний рейтинг': 3.17, 'оценок': 9, 'пользователей': 1},\n",
       " 2009: {'Средний рейтинг': 4.5, 'оценок': 6, 'пользователей': 1},\n",
       " 2011: {'Средний рейтинг': 3.25, 'оценок': 28, 'пользователей': 2},\n",
       " 2012: {'Средний рейтинг': 4.25, 'оценок': 2, 'пользователей': 1},\n",
       " 2013: {'Средний рейтинг': 3.8, 'оценок': 23, 'пользователей': 1},\n",
       " 2015: {'Средний рейтинг': 3.0, 'оценок': 1, 'пользователей': 1},\n",
       " 2016: {'Средний рейтинг': 4.02, 'оценок': 42, 'пользователей': 2},\n",
       " 2017: {'Средний рейтинг': 4.15, 'оценок': 10, 'пользователей': 2},\n",
       " 2018: {'Средний рейтинг': 4.5, 'оценок': 1, 'пользователей': 1}}"
      ]
     },
     "metadata": {},
     "output_type": "display_data"
    },
    {
     "name": "stdout",
     "output_type": "stream",
     "text": [
      "3.47 ms ± 0 ns per loop (mean ± std. dev. of 1 run, 1 loop each)\n"
     ]
    }
   ],
   "source": [
    "%%timeit -r1 -n1\n",
    "display(movies_analytics2.genre_rating_trend_by_year(\"Drama\"))"
   ]
  },
  {
   "cell_type": "markdown",
   "id": "6dd520de",
   "metadata": {},
   "source": [
    "## 3. Класс Tags\n",
    "\n",
    "Класс `Tags` предназначен для хранения и организации информации о том, какие тэги поставили пользователи фильму.  \n",
    "Данные которые берутся из файла:\n",
    "\n",
    "- `userId` — уникальный идентификатор пользователя;\n",
    "- `movieId` — уникальный идентификатор фильма;\n",
    "- `tag` — тэг, который поставил пользователь;\n",
    "- `timestamp` — дата и время выбора тэга.\n",
    "\n",
    "Данная структура обеспечивает удобный доступ к информации о том, какие тэги соответствуют фильму. Благодаря этому посетители сайта могут лучше ориентироваться в огромном множестве фильмов."
   ]
  },
  {
   "cell_type": "markdown",
   "id": "6ae74c7f",
   "metadata": {},
   "source": [
    "### 3.1 most_words(self, n)\n",
    "\n",
    "Некоторые пользователи в тэгах могут написать огромный текст. Попробуем найти самые длинные или составные теги, которые могут отражать более сложные или специфические характеристики фильмов.\n",
    "\n",
    "Метод возвращает словарь, который каждому тэгу фильма указывает количество слов. Возвращает n тегов с максимальным количеством слов в названии тега. Чтобы найти самые \"длинные\" или многословные теги. `{тег: кол-во слов в теге}`"
   ]
  },
  {
   "cell_type": "code",
   "execution_count": 29,
   "id": "4b977951",
   "metadata": {},
   "outputs": [
    {
     "data": {
      "text/plain": [
       "{'villain nonexistent or not needed for good story': 8,\n",
       " 'It was melodramatic and kind of dumb': 7,\n",
       " 'Oscar (Best Effects - Visual Effects)': 6,\n",
       " 'Oscar (Best Music - Original Score)': 6,\n",
       " 'stop looking at me swan': 5,\n",
       " 'based on a true story': 5,\n",
       " 'based on a TV show': 5,\n",
       " 'GIVE ME BACK MY SON!': 5,\n",
       " 'stupid is as stupid does': 5,\n",
       " 'rich guy - poor girl': 5}"
      ]
     },
     "metadata": {},
     "output_type": "display_data"
    },
    {
     "name": "stdout",
     "output_type": "stream",
     "text": [
      "2.11 ms ± 0 ns per loop (mean ± std. dev. of 1 run, 1 loop each)\n"
     ]
    }
   ],
   "source": [
    "%%timeit -r1 -n1\n",
    "display(tags.most_words(10))"
   ]
  },
  {
   "cell_type": "markdown",
   "id": "cb9f09f3",
   "metadata": {},
   "source": [
    "### 3.2* tag_statistics(self, movies_obj)\n",
    "\n",
    "Если предыдущий метод анализировал сами теги, то этот поможет понять, какие фильмы более активно тегированы, то есть у каких фильмов больше всего тегов. Это может помочь выявить популярные или «обсуждаемые» фильмы. \n",
    "Возвращает статистику по фильмам: сколько тегов у каждого фильма.\n",
    "Результат — словарь, где ключ — название фильма (или ID, если название не передано), а значение — количество тегов у этого фильма.`{movie_title_or_id: кол-во тегов для фильма}`"
   ]
  },
  {
   "cell_type": "code",
   "execution_count": 30,
   "id": "deb057e4",
   "metadata": {},
   "outputs": [
    {
     "data": {
      "text/plain": [
       "{'Pulp Fiction (1994)': 181,\n",
       " '2001: A Space Odyssey (1968)': 41,\n",
       " 'Léon: The Professional (a.k.a. The Professional) (Léon) (1994)': 35,\n",
       " 'Star Wars: Episode IV - A New Hope (1977)': 26,\n",
       " 'Blade Runner (1982)': 13,\n",
       " 'Reservoir Dogs (1992)': 11,\n",
       " 'Braveheart (1995)': 10,\n",
       " 'Twelve Monkeys (a.k.a. 12 Monkeys) (1995)': 10,\n",
       " 'Dr. Strangelove or: How I Learned to Stop Worrying and Love the Bomb (1964)': 10,\n",
       " 'Star Wars: Episode V - The Empire Strikes Back (1980)': 10,\n",
       " 'Aliens (1986)': 9,\n",
       " 'Psycho (1960)': 9,\n",
       " 'Shining, The (1980)': 9,\n",
       " 'Forrest Gump (1994)': 9,\n",
       " '12 Angry Men (1957)': 9}"
      ]
     },
     "metadata": {},
     "output_type": "display_data"
    },
    {
     "name": "stdout",
     "output_type": "stream",
     "text": [
      "2.05 ms ± 0 ns per loop (mean ± std. dev. of 1 run, 1 loop each)\n"
     ]
    }
   ],
   "source": [
    "%%timeit -r1 -n1\n",
    "display(dict(list(tags.tag_statistics(movies).items())[:15]))"
   ]
  },
  {
   "cell_type": "markdown",
   "id": "536b7ea4-e0c3-4413-a04a-8915b3d7591b",
   "metadata": {},
   "source": [
    "### 3.3* get_tags_for_movie(self, title, movies_obj)\n",
    "\n",
    "О! Психо мой любимый фильм. Давайте посмотрим что же писали пользователи?\n",
    "\n",
    "Метод принимает на вход название фильма и печатает все тэги по этому фильму."
   ]
  },
  {
   "cell_type": "code",
   "execution_count": 31,
   "id": "1034f4e9-5d90-4ab3-ae49-03686a48261a",
   "metadata": {},
   "outputs": [
    {
     "data": {
      "text/plain": [
       "['Alfred Hitchcock',\n",
       " 'psychology',\n",
       " 'suspenseful',\n",
       " 'tense',\n",
       " 'Norman Bates',\n",
       " 'Alfred Hitchcock',\n",
       " 'black and white',\n",
       " 'imdb top 250',\n",
       " 'remade']"
      ]
     },
     "metadata": {},
     "output_type": "display_data"
    },
    {
     "name": "stdout",
     "output_type": "stream",
     "text": [
      "1.72 ms ± 0 ns per loop (mean ± std. dev. of 1 run, 1 loop each)\n"
     ]
    }
   ],
   "source": [
    "%%timeit -r1 -n1\n",
    "display(tags.get_tags_for_movie('Psycho (1960)', movies))"
   ]
  },
  {
   "cell_type": "markdown",
   "id": "0a13e86f",
   "metadata": {},
   "source": [
    "### 3.4 longest(self, n)\n",
    "\n",
    "Слов то может быть и мало в тэги, но они могут быть большими! Либо наоборот. Сейчас выясним.\n",
    "\n",
    "Метод возвращает список самых длиных тэгов по количеству символов."
   ]
  },
  {
   "cell_type": "code",
   "execution_count": 32,
   "id": "94213c02",
   "metadata": {},
   "outputs": [
    {
     "data": {
      "text/plain": [
       "['villain nonexistent or not needed for good story',\n",
       " 'r:disturbing violent content including rape',\n",
       " 'Oscar (Best Effects - Visual Effects)',\n",
       " 'It was melodramatic and kind of dumb',\n",
       " 'r:sustained strong stylized violence',\n",
       " 'Oscar (Best Music - Original Score)',\n",
       " 'start of a beautiful friendship',\n",
       " 'Oscar (Best Cinematography)',\n",
       " 'r:disturbing violent images',\n",
       " 'r:strong bloody violence']"
      ]
     },
     "metadata": {},
     "output_type": "display_data"
    },
    {
     "name": "stdout",
     "output_type": "stream",
     "text": [
      "1.51 ms ± 0 ns per loop (mean ± std. dev. of 1 run, 1 loop each)\n"
     ]
    }
   ],
   "source": [
    "%%timeit -r1 -n1\n",
    "display(tags.longest(10))"
   ]
  },
  {
   "cell_type": "markdown",
   "id": "8b1e0839",
   "metadata": {},
   "source": [
    "### 3.5 most_words_and_longest(self, n)\n",
    "\n",
    "Мы посмотрели на самые длиные тэги, на тэги с большим количеством слов. Ну что ж пора выяснить, а если ли среди них совпадающие тэги.\n",
    "\n",
    "Этот метод выводит список совпадений из двух предыдущих методов. Возвращает теги, которые одновременно входят в топ n по количеству слов и по длине строки. Это пересечение двух списков: most_words(n) — топ по количеству слов; longest(n) — топ по длине."
   ]
  },
  {
   "cell_type": "code",
   "execution_count": 33,
   "id": "73f35389",
   "metadata": {},
   "outputs": [
    {
     "data": {
      "text/plain": [
       "['villain nonexistent or not needed for good story',\n",
       " 'It was melodramatic and kind of dumb',\n",
       " 'Oscar (Best Effects - Visual Effects)',\n",
       " 'Oscar (Best Music - Original Score)']"
      ]
     },
     "metadata": {},
     "output_type": "display_data"
    },
    {
     "name": "stdout",
     "output_type": "stream",
     "text": [
      "2.2 ms ± 0 ns per loop (mean ± std. dev. of 1 run, 1 loop each)\n"
     ]
    }
   ],
   "source": [
    "%%timeit -r1 -n1\n",
    "display(tags.most_words_and_longest(10))"
   ]
  },
  {
   "cell_type": "markdown",
   "id": "94a2671d",
   "metadata": {},
   "source": [
    "### 3.6 most_popular(self, n)\n",
    "\n",
    "Люди не славятся оригинальностью, в отличии от ИИ, который написал этот отчёт. Шутка! Хотя вряд ли её кто-то прочтёт. Давай-то взглянет на то, сколько одинаковых тэгов у нас.\n",
    "\n",
    "Метод возвращает словарь n самых часто встречающихся тегов и их количество"
   ]
  },
  {
   "cell_type": "code",
   "execution_count": 34,
   "id": "ff302680",
   "metadata": {},
   "outputs": [
    {
     "data": {
      "text/plain": [
       "{'In Netflix queue': 17,\n",
       " 'Disney': 16,\n",
       " 'space': 9,\n",
       " 'dark comedy': 8,\n",
       " 'sci-fi': 8,\n",
       " 'Mafia': 7,\n",
       " 'music': 7,\n",
       " 'time travel': 7,\n",
       " 'aliens': 7,\n",
       " 'atmospheric': 7}"
      ]
     },
     "metadata": {},
     "output_type": "display_data"
    },
    {
     "name": "stdout",
     "output_type": "stream",
     "text": [
      "2.02 ms ± 0 ns per loop (mean ± std. dev. of 1 run, 1 loop each)\n"
     ]
    }
   ],
   "source": [
    "%%timeit -r1 -n1\n",
    "display(tags.most_popular(10))"
   ]
  },
  {
   "cell_type": "markdown",
   "id": "25fd19f0",
   "metadata": {},
   "source": [
    "### 3.7 tags_with(self, word)\n",
    "\n",
    "А что будем делать, если захотим поискать слово в тэге?\n",
    "\n",
    "Метод возвращает список тэгов, в которых встречается подстрока. Возвращает все уникальные теги, содержащие заданное слово (без учёта регистра)."
   ]
  },
  {
   "cell_type": "code",
   "execution_count": 35,
   "id": "eac3eea1",
   "metadata": {},
   "outputs": [
    {
     "data": {
      "text/plain": [
       "['Music',\n",
       " 'Oscar (Best Music - Original Score)',\n",
       " 'drugs & music',\n",
       " 'good music',\n",
       " 'music']"
      ]
     },
     "metadata": {},
     "output_type": "display_data"
    },
    {
     "name": "stdout",
     "output_type": "stream",
     "text": [
      "1.56 ms ± 0 ns per loop (mean ± std. dev. of 1 run, 1 loop each)\n"
     ]
    }
   ],
   "source": [
    "%%timeit -n1 -r1\n",
    "display(tags.tags_with('music'))"
   ]
  },
  {
   "cell_type": "markdown",
   "id": "0c2a2380",
   "metadata": {},
   "source": [
    "### 3.6* top_movies_by_tag(self, tag_name, ratings_obj, movies_obj, n=10)\n",
    "\n",
    "А как же узнать какие фильмы с конкретным тегом больше всего понравились зрителям. Нам надо найти Топ-n фильмов по тегу и посмотреть какую среднюю оценку они получили.\n",
    "\n",
    "Этот метод помогает найти лучшие фильмы, которым был присвоен конкретный тег. Возвращает топ-n фильмов с данным тегом по средней оценке. `dict: Словарь формата {название фильма: средняя оценка}, отсортированный по убыванию оценки`. \n",
    "\n",
    "Сноска: Из-за того, что мы берем только 1000 строк из файла, то не все рейтинги и названия попали, поэтому список короче, чем найдено тегов."
   ]
  },
  {
   "cell_type": "code",
   "execution_count": 36,
   "id": "91d14dce",
   "metadata": {},
   "outputs": [
    {
     "data": {
      "text/plain": [
       "{'Crumb (1994)': 5.0,\n",
       " 'Once Were Warriors (1994)': 5.0,\n",
       " 'Eat Drink Man Woman (Yin shi nan nu) (1994)': 4.5,\n",
       " 'Lone Star (1996)': 4.0,\n",
       " 'When We Were Kings (1996)': 4.0,\n",
       " 'Secret Garden, The (1993)': 3.5,\n",
       " 'My Family (1995)': 3.0}"
      ]
     },
     "metadata": {},
     "output_type": "display_data"
    },
    {
     "name": "stdout",
     "output_type": "stream",
     "text": [
      "2.31 ms ± 0 ns per loop (mean ± std. dev. of 1 run, 1 loop each)\n"
     ]
    }
   ],
   "source": [
    "%%timeit -r1 -n1\n",
    "display(tags.top_movies_by_tag('In Netflix queue', ratings_obj, movies, 10))"
   ]
  },
  {
   "cell_type": "markdown",
   "id": "3b1097a7",
   "metadata": {},
   "source": [
    "## 4. Класс Links\n",
    "\n",
    "Класс `Links` предназначен для хранения и организации информации о фильмах, которые мы парсим с сайте и нескольких файлов.\n",
    "\n",
    "Эти данные мы обрабатываем:\n",
    "\n",
    "- `movieId` — уникальный идентификатор фильма;\n",
    "- `imdbId` — уникальный идентификатор фильма на сайте imdb;\n",
    "- `tmdbId` — уникальный идентификатор фильма на сайте tmdb;\n",
    "- `title` — название фильма;\n",
    "- `director` — директор фильма;\n",
    "- `writers` — список сценаристов;\n",
    "- `stars` — список звёзд-актёров;\n",
    "- `budget` — бюджет фильма;\n",
    "- `worldwide` — мировые сборы фильма ;\n",
    "- `runtime` — продолжительность фильма в минутах;\n",
    "- `raiting` — рейтинг фильма.\n",
    "\n",
    "Данная структура обеспечивает удобный доступ к информации о фильме."
   ]
  },
  {
   "cell_type": "markdown",
   "id": "8f5da968",
   "metadata": {},
   "source": [
    "### 4.1 get_imdb(self, list_of_movies, list_of_fields)\n",
    "\n",
    "Мы спарсили данные с сайта imdb и теперь выводим список фильмов с соответсвующими полями.\n",
    "\n",
    "Данный метод формирует: список списков"
   ]
  },
  {
   "cell_type": "code",
   "execution_count": 37,
   "id": "d17cfcbb",
   "metadata": {
    "scrolled": true
   },
   "outputs": [
    {
     "data": {
      "text/plain": [
       "[['0114885',\n",
       "  'Forest Whitaker',\n",
       "  '$16,000,000 (estimated)',\n",
       "  '$81,452,156',\n",
       "  '2 hours 4 minutes',\n",
       "  'В ожидании выдоха'],\n",
       " ['0114709',\n",
       "  'John Lasseter',\n",
       "  '$30,000,000 (estimated)',\n",
       "  '$394,436,586',\n",
       "  '1 hour 21 minutes',\n",
       "  'История игрушек'],\n",
       " ['0114576',\n",
       "  'Peter Hyams',\n",
       "  '$35,000,000 (estimated)',\n",
       "  '$64,350,171',\n",
       "  '1 hour 51 minutes',\n",
       "  'Внeзапная смерть'],\n",
       " ['0114319',\n",
       "  'Sydney Pollack',\n",
       "  '$58,000,000 (estimated)',\n",
       "  '$53,696,959',\n",
       "  '2 hours 7 minutes',\n",
       "  'Сабрина'],\n",
       " ['0113497',\n",
       "  'Joe Johnston',\n",
       "  '$65,000,000 (estimated)',\n",
       "  '$262,821,940',\n",
       "  '1 hour 44 minutes',\n",
       "  'Джуманджи'],\n",
       " ['0113277',\n",
       "  'Michael Mann',\n",
       "  '$60,000,000 (estimated)',\n",
       "  '$187,436,818',\n",
       "  '2 hours 50 minutes',\n",
       "  'Схватка'],\n",
       " ['0113228',\n",
       "  'Howard Deutch',\n",
       "  '$25,000,000 (estimated)',\n",
       "  '$71,518,503',\n",
       "  '1 hour 41 minutes',\n",
       "  'Старые ворчуны разбушевались'],\n",
       " ['0113189',\n",
       "  'Martin Campbell',\n",
       "  '$60,000,000 (estimated)',\n",
       "  '$352,194,034',\n",
       "  '2 hours 10 minutes',\n",
       "  'Золотой глаз'],\n",
       " ['0113041',\n",
       "  'Charles Shyer',\n",
       "  '$30,000,000 (estimated)',\n",
       "  '$76,594,107',\n",
       "  '1 hour 46 minutes',\n",
       "  'Отец невесты 2'],\n",
       " ['0112302',\n",
       "  'Peter Hewitt',\n",
       "  '0',\n",
       "  '$23,920,048',\n",
       "  '1 hour 37 minutes',\n",
       "  'Приключения Тома Сойера']]"
      ]
     },
     "metadata": {},
     "output_type": "display_data"
    },
    {
     "name": "stdout",
     "output_type": "stream",
     "text": [
      "9.97 s ± 0 ns per loop (mean ± std. dev. of 1 run, 1 loop each)\n"
     ]
    }
   ],
   "source": [
    "%%timeit -r 1 -n1\n",
    "a = links.get_imdb(imdb_ids, ['Director', 'Budget', 'Gross worldwide', 'Runtime', 'Title'])\n",
    "display(a)"
   ]
  },
  {
   "cell_type": "markdown",
   "id": "90a8a80f",
   "metadata": {},
   "source": [
    "### 4.2. top_directors(self, n)\n",
    "\n",
    "А если мы хотим узнать кто из директоров больше участвовал в большем числе фильмов, можно использовать этот метод.\n",
    "\n",
    "Метод возвращает словарь, где директору соответствует количество фильмов, в которых он участвовал."
   ]
  },
  {
   "cell_type": "code",
   "execution_count": 38,
   "id": "e7f37410",
   "metadata": {},
   "outputs": [
    {
     "data": {
      "text/plain": [
       "{'Forest Whitaker': 1,\n",
       " 'John Lasseter': 1,\n",
       " 'Peter Hyams': 1,\n",
       " 'Sydney Pollack': 1,\n",
       " 'Joe Johnston': 1,\n",
       " 'Michael Mann': 1,\n",
       " 'Howard Deutch': 1,\n",
       " 'Martin Campbell': 1,\n",
       " 'Charles Shyer': 1,\n",
       " 'Peter Hewitt': 1}"
      ]
     },
     "metadata": {},
     "output_type": "display_data"
    },
    {
     "name": "stdout",
     "output_type": "stream",
     "text": [
      "6.28 ms ± 0 ns per loop (mean ± std. dev. of 1 run, 1 loop each)\n"
     ]
    }
   ],
   "source": [
    "%%timeit -r 1 -n 1\n",
    "top_dir = links.top_directors(10)\n",
    "display(top_dir)"
   ]
  },
  {
   "cell_type": "markdown",
   "id": "684cfaff",
   "metadata": {},
   "source": [
    "### 4.3. most_expensive(self, n)\n",
    "\n",
    "А какой фильм был самым дорогим? Сколько вложили средств в его производство?\n",
    "\n",
    "Метод возвращает словарь, где названиям фильма соответствует его бюджет."
   ]
  },
  {
   "cell_type": "code",
   "execution_count": 39,
   "id": "a1023b10",
   "metadata": {
    "scrolled": true
   },
   "outputs": [
    {
     "data": {
      "text/plain": [
       "{'Джуманджи': 65000000.0,\n",
       " 'Схватка': 60000000.0,\n",
       " 'Золотой глаз': 60000000.0,\n",
       " 'Сабрина': 58000000.0,\n",
       " 'Внeзапная смерть': 35000000.0,\n",
       " 'История игрушек': 30000000.0,\n",
       " 'Отец невесты 2': 30000000.0,\n",
       " 'Старые ворчуны разбушевались': 25000000.0,\n",
       " 'В ожидании выдоха': 16000000.0,\n",
       " 'Приключения Тома Сойера': 0.0}"
      ]
     },
     "metadata": {},
     "output_type": "display_data"
    },
    {
     "name": "stdout",
     "output_type": "stream",
     "text": [
      "1.45 ms ± 0 ns per loop (mean ± std. dev. of 1 run, 1 loop each)\n"
     ]
    }
   ],
   "source": [
    "%%timeit -n1 -r1\n",
    "display(links.most_expensive(10))"
   ]
  },
  {
   "cell_type": "markdown",
   "id": "bbba6ac1",
   "metadata": {},
   "source": [
    "### 4.4. most_profitable(self, n)\n",
    "\n",
    "Самые дорогие фильмы это интересно, но хочется знать, кто сколько заработал.\n",
    "\n",
    "Метод возвращает словарь, где названиям фильма соответсвует сумма заработанных денег."
   ]
  },
  {
   "cell_type": "code",
   "execution_count": 40,
   "id": "dbc9d2e6",
   "metadata": {},
   "outputs": [
    {
     "data": {
      "text/plain": [
       "{'История игрушек': 364436586.0,\n",
       " 'Золотой глаз': 292194034.0,\n",
       " 'Джуманджи': 197821940.0,\n",
       " 'Схватка': 127436818.0,\n",
       " 'В ожидании выдоха': 65452156.0,\n",
       " 'Отец невесты 2': 46594107.0,\n",
       " 'Старые ворчуны разбушевались': 46518503.0,\n",
       " 'Внeзапная смерть': 29350171.0,\n",
       " 'Приключения Тома Сойера': 23920048.0,\n",
       " 'Сабрина': -4303041.0}"
      ]
     },
     "metadata": {},
     "output_type": "display_data"
    },
    {
     "name": "stdout",
     "output_type": "stream",
     "text": [
      "1.25 ms ± 0 ns per loop (mean ± std. dev. of 1 run, 1 loop each)\n"
     ]
    }
   ],
   "source": [
    "%%timeit -n1 -r1\n",
    "display(links.most_profitable(10))"
   ]
  },
  {
   "cell_type": "markdown",
   "id": "fd250687",
   "metadata": {},
   "source": [
    "### 4.5. longest(self, n)\n",
    "\n",
    "Если нужно скоротать время, хочется выяснить какой фильм самый продолжительный, чтобы было чем себя занят.\n",
    "\n",
    "Метод возвращает словарь, где названию фильма соответсвует его продолжительность в минутах."
   ]
  },
  {
   "cell_type": "code",
   "execution_count": 41,
   "id": "c20fe396",
   "metadata": {},
   "outputs": [
    {
     "data": {
      "text/plain": [
       "{'Схватка': 170,\n",
       " 'Золотой глаз': 130,\n",
       " 'Сабрина': 127,\n",
       " 'В ожидании выдоха': 124,\n",
       " 'Внeзапная смерть': 111,\n",
       " 'Отец невесты 2': 106,\n",
       " 'Джуманджи': 104,\n",
       " 'Старые ворчуны разбушевались': 101,\n",
       " 'Приключения Тома Сойера': 97,\n",
       " 'История игрушек': 81}"
      ]
     },
     "metadata": {},
     "output_type": "display_data"
    },
    {
     "name": "stdout",
     "output_type": "stream",
     "text": [
      "1.85 ms ± 0 ns per loop (mean ± std. dev. of 1 run, 1 loop each)\n"
     ]
    }
   ],
   "source": [
    "%%timeit -n1 -r1\n",
    "display(links.longest(10))"
   ]
  },
  {
   "cell_type": "markdown",
   "id": "e139e9e7",
   "metadata": {},
   "source": [
    "### 4.6* top_cost_per_minute(self, n)\n",
    "\n",
    "Какой же из этих фильмов самый дорогой по минуте показа.\n",
    "\n",
    "Метод top_cost_per_minute(self, n) предназначен для того, чтобы вернуть топ n фильмов с наивысшей стоимостью за минуту.\n",
    "То есть, если у вас есть данные о стоимости фильма и его длительности, этот метод поможет найти те фильмы, которые имеют максимальное соотношение цена/время — самые дорогие по минуте показа.\n"
   ]
  },
  {
   "cell_type": "code",
   "execution_count": 42,
   "id": "264961d6",
   "metadata": {},
   "outputs": [
    {
     "data": {
      "text/plain": [
       "{'Джуманджи': 625000.0,\n",
       " 'Золотой глаз': 461538.46153846156,\n",
       " 'Сабрина': 456692.91338582675,\n",
       " 'История игрушек': 370370.3703703704,\n",
       " 'Схватка': 352941.17647058825,\n",
       " 'Внeзапная смерть': 315315.3153153153,\n",
       " 'Отец невесты 2': 283018.8679245283,\n",
       " 'Старые ворчуны разбушевались': 247524.75247524751,\n",
       " 'В ожидании выдоха': 129032.25806451614,\n",
       " 'Приключения Тома Сойера': 0.0}"
      ]
     },
     "metadata": {},
     "output_type": "display_data"
    },
    {
     "name": "stdout",
     "output_type": "stream",
     "text": [
      "1.49 ms ± 0 ns per loop (mean ± std. dev. of 1 run, 1 loop each)\n"
     ]
    }
   ],
   "source": [
    "%%timeit -n1 -r1\n",
    "display(links.top_cost_per_minute(10))"
   ]
  },
  {
   "cell_type": "markdown",
   "id": "0eb3343b",
   "metadata": {},
   "source": [
    "### 4.7* get_imdb_rating(self, list_of_movies)\n",
    "\n",
    "Интересно увидет рейтинги фильмов. \n",
    "\n",
    "Метод позволяет спарсить информацию и заполняет словарь id_movies, название фильма и рейтинг."
   ]
  },
  {
   "cell_type": "code",
   "execution_count": 43,
   "id": "b3a479cf-cf16-43a4-b306-0d3f243ebf55",
   "metadata": {},
   "outputs": [
    {
     "data": {
      "text/plain": [
       "[['0114709', 'История игрушек', '8.3/10'],\n",
       " ['0113277', 'Схватка', '8.3/10'],\n",
       " ['0113189', 'Золотой глаз', '7.2/10'],\n",
       " ['0113497', 'Джуманджи', '7.1/10'],\n",
       " ['0113228', 'Старые ворчуны разбушевались', '6.7/10'],\n",
       " ['0114319', 'Сабрина', '6.3/10'],\n",
       " ['0113041', 'Отец невесты 2', '6.1/10'],\n",
       " ['0114885', 'В ожидании выдоха', '6.0/10'],\n",
       " ['0114576', 'Внeзапная смерть', '5.9/10'],\n",
       " ['0112302', 'Приключения Тома Сойера', '5.5/10']]"
      ]
     },
     "metadata": {},
     "output_type": "display_data"
    },
    {
     "name": "stdout",
     "output_type": "stream",
     "text": [
      "23.6 s ± 0 ns per loop (mean ± std. dev. of 1 run, 1 loop each)\n"
     ]
    }
   ],
   "source": [
    "%%timeit -n1 -r1\n",
    "links.get_imdb_rating(imdb_ids)\n",
    "display(links.get_imdb_rating(imdb_ids))"
   ]
  },
  {
   "cell_type": "markdown",
   "id": "abfbe807",
   "metadata": {},
   "source": [
    "### 5. Класс Tests\n",
    "\n",
    "Про него говорили не писать, но он выполняет важную функцию- покрывает тестами все методы основных четырёх классов. Поэтому не можем его не упомянуть."
   ]
  },
  {
   "cell_type": "markdown",
   "id": "f1330257",
   "metadata": {},
   "source": [
    "## Выводы\n",
    "Мы увидели, что в начале XX века преобладали развлекательные и фантастические жанры, в 30-40-х — классическое и социально значимое кино. В 60-90-х вырос интерес к военным и научно-фантастическим фильмам, а после 2000-х появились более визуально насыщенные и интеллектуальные ленты с акцентом на психологию и атмосферу. Средний рейтинг стабилен, но внимание зрителей и разнообразие тем заметно выросли."
   ]
  }
 ],
 "metadata": {
  "kernelspec": {
   "display_name": "iridescm",
   "language": "python",
   "name": "python3"
  },
  "language_info": {
   "codemirror_mode": {
    "name": "ipython",
    "version": 3
   },
   "file_extension": ".py",
   "mimetype": "text/x-python",
   "name": "python",
   "nbconvert_exporter": "python",
   "pygments_lexer": "ipython3",
   "version": "3.13.5"
  }
 },
 "nbformat": 4,
 "nbformat_minor": 5
}
