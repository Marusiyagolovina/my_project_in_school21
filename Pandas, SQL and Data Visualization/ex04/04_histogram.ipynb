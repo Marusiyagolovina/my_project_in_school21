{
 "cells": [
  {
   "cell_type": "code",
   "execution_count": 44,
   "id": "51d3d4fd",
   "metadata": {},
   "outputs": [],
   "source": [
    "import pandas as pd\n",
    "import sqlite3\n",
    "import matplotlib.pyplot as plt"
   ]
  },
  {
   "cell_type": "markdown",
   "id": "3b7d78d9",
   "metadata": {},
   "source": [
    "## Подключение к базе данных"
   ]
  },
  {
   "cell_type": "code",
   "execution_count": 45,
   "id": "b8ac1acd",
   "metadata": {},
   "outputs": [],
   "source": [
    "conn = sqlite3.connect('../data/checking-logs.sqlite', check_same_thread=False)"
   ]
  },
  {
   "cell_type": "markdown",
   "id": "25ce6732",
   "metadata": {},
   "source": [
    "## Анализировать только пользователей, а не администраторов"
   ]
  },
  {
   "cell_type": "code",
   "execution_count": 46,
   "id": "0505babb",
   "metadata": {},
   "outputs": [
    {
     "data": {
      "text/html": [
       "<div>\n",
       "<style scoped>\n",
       "    .dataframe tbody tr th:only-of-type {\n",
       "        vertical-align: middle;\n",
       "    }\n",
       "\n",
       "    .dataframe tbody tr th {\n",
       "        vertical-align: top;\n",
       "    }\n",
       "\n",
       "    .dataframe thead th {\n",
       "        text-align: right;\n",
       "    }\n",
       "</style>\n",
       "<table border=\"1\" class=\"dataframe\">\n",
       "  <thead>\n",
       "    <tr style=\"text-align: right;\">\n",
       "      <th></th>\n",
       "      <th>uid</th>\n",
       "      <th>timestamp</th>\n",
       "      <th>day</th>\n",
       "      <th>hour</th>\n",
       "      <th>type</th>\n",
       "    </tr>\n",
       "  </thead>\n",
       "  <tbody>\n",
       "    <tr>\n",
       "      <th>0</th>\n",
       "      <td>user_4</td>\n",
       "      <td>2020-04-17 05:19:02.744528</td>\n",
       "      <td>17</td>\n",
       "      <td>5</td>\n",
       "      <td>Work</td>\n",
       "    </tr>\n",
       "    <tr>\n",
       "      <th>1</th>\n",
       "      <td>user_4</td>\n",
       "      <td>2020-04-17 05:22:35.249331</td>\n",
       "      <td>17</td>\n",
       "      <td>5</td>\n",
       "      <td>Work</td>\n",
       "    </tr>\n",
       "    <tr>\n",
       "      <th>2</th>\n",
       "      <td>user_4</td>\n",
       "      <td>2020-04-17 05:22:45.549397</td>\n",
       "      <td>17</td>\n",
       "      <td>5</td>\n",
       "      <td>Work</td>\n",
       "    </tr>\n",
       "    <tr>\n",
       "      <th>3</th>\n",
       "      <td>user_4</td>\n",
       "      <td>2020-04-17 05:34:14.691200</td>\n",
       "      <td>17</td>\n",
       "      <td>5</td>\n",
       "      <td>Work</td>\n",
       "    </tr>\n",
       "    <tr>\n",
       "      <th>4</th>\n",
       "      <td>user_4</td>\n",
       "      <td>2020-04-17 05:34:24.422370</td>\n",
       "      <td>17</td>\n",
       "      <td>5</td>\n",
       "      <td>Work</td>\n",
       "    </tr>\n",
       "    <tr>\n",
       "      <th>...</th>\n",
       "      <td>...</td>\n",
       "      <td>...</td>\n",
       "      <td>...</td>\n",
       "      <td>...</td>\n",
       "      <td>...</td>\n",
       "    </tr>\n",
       "    <tr>\n",
       "      <th>3202</th>\n",
       "      <td>user_1</td>\n",
       "      <td>2020-05-21 20:19:06.872761</td>\n",
       "      <td>21</td>\n",
       "      <td>20</td>\n",
       "      <td>Work</td>\n",
       "    </tr>\n",
       "    <tr>\n",
       "      <th>3203</th>\n",
       "      <td>user_1</td>\n",
       "      <td>2020-05-21 20:22:41.785725</td>\n",
       "      <td>21</td>\n",
       "      <td>20</td>\n",
       "      <td>Work</td>\n",
       "    </tr>\n",
       "    <tr>\n",
       "      <th>3204</th>\n",
       "      <td>user_1</td>\n",
       "      <td>2020-05-21 20:22:41.877806</td>\n",
       "      <td>21</td>\n",
       "      <td>20</td>\n",
       "      <td>Work</td>\n",
       "    </tr>\n",
       "    <tr>\n",
       "      <th>3205</th>\n",
       "      <td>user_1</td>\n",
       "      <td>2020-05-21 20:37:00.129678</td>\n",
       "      <td>21</td>\n",
       "      <td>20</td>\n",
       "      <td>Work</td>\n",
       "    </tr>\n",
       "    <tr>\n",
       "      <th>3206</th>\n",
       "      <td>user_1</td>\n",
       "      <td>2020-05-21 20:37:00.290491</td>\n",
       "      <td>21</td>\n",
       "      <td>20</td>\n",
       "      <td>Work</td>\n",
       "    </tr>\n",
       "  </tbody>\n",
       "</table>\n",
       "<p>3207 rows × 5 columns</p>\n",
       "</div>"
      ],
      "text/plain": [
       "         uid                  timestamp  day  hour  type\n",
       "0     user_4 2020-04-17 05:19:02.744528   17     5  Work\n",
       "1     user_4 2020-04-17 05:22:35.249331   17     5  Work\n",
       "2     user_4 2020-04-17 05:22:45.549397   17     5  Work\n",
       "3     user_4 2020-04-17 05:34:14.691200   17     5  Work\n",
       "4     user_4 2020-04-17 05:34:24.422370   17     5  Work\n",
       "...      ...                        ...  ...   ...   ...\n",
       "3202  user_1 2020-05-21 20:19:06.872761   21    20  Work\n",
       "3203  user_1 2020-05-21 20:22:41.785725   21    20  Work\n",
       "3204  user_1 2020-05-21 20:22:41.877806   21    20  Work\n",
       "3205  user_1 2020-05-21 20:37:00.129678   21    20  Work\n",
       "3206  user_1 2020-05-21 20:37:00.290491   21    20  Work\n",
       "\n",
       "[3207 rows x 5 columns]"
      ]
     },
     "execution_count": 46,
     "metadata": {},
     "output_type": "execute_result"
    }
   ],
   "source": [
    "query = \"\"\"\n",
    "SELECT \n",
    "    uid,timestamp\n",
    "FROM\n",
    "    checker\n",
    "WHERE \n",
    "    uid LIKE 'user_%'\n",
    "\"\"\"\n",
    "commits = pd.io.sql.read_sql(query,conn, parse_dates=['timestamp'])\n",
    "commits['weekday'] = commits['timestamp'].dt.dayofweek\n",
    "commits['day'] = commits.timestamp.dt.day\n",
    "commits['hour'] = commits.timestamp.dt.hour\n",
    "commits['type'] = commits['weekday'].apply(lambda x: 'Work' if x < 5 else 'Weekend')\n",
    "commits = commits.drop(columns = 'weekday')\n",
    "commits"
   ]
  },
  {
   "cell_type": "markdown",
   "id": "b2acdae3",
   "metadata": {},
   "source": [
    "## Создать два списка значений (для рабочих дней и для выходных) для ввода гистограммы"
   ]
  },
  {
   "cell_type": "code",
   "execution_count": 47,
   "id": "ecd49785",
   "metadata": {},
   "outputs": [
    {
     "data": {
      "text/html": [
       "<div>\n",
       "<style scoped>\n",
       "    .dataframe tbody tr th:only-of-type {\n",
       "        vertical-align: middle;\n",
       "    }\n",
       "\n",
       "    .dataframe tbody tr th {\n",
       "        vertical-align: top;\n",
       "    }\n",
       "\n",
       "    .dataframe thead th {\n",
       "        text-align: right;\n",
       "    }\n",
       "</style>\n",
       "<table border=\"1\" class=\"dataframe\">\n",
       "  <thead>\n",
       "    <tr style=\"text-align: right;\">\n",
       "      <th></th>\n",
       "      <th>hour</th>\n",
       "    </tr>\n",
       "  </thead>\n",
       "  <tbody>\n",
       "    <tr>\n",
       "      <th>0</th>\n",
       "      <td>5</td>\n",
       "    </tr>\n",
       "    <tr>\n",
       "      <th>1</th>\n",
       "      <td>5</td>\n",
       "    </tr>\n",
       "    <tr>\n",
       "      <th>2</th>\n",
       "      <td>5</td>\n",
       "    </tr>\n",
       "    <tr>\n",
       "      <th>3</th>\n",
       "      <td>5</td>\n",
       "    </tr>\n",
       "    <tr>\n",
       "      <th>4</th>\n",
       "      <td>5</td>\n",
       "    </tr>\n",
       "    <tr>\n",
       "      <th>...</th>\n",
       "      <td>...</td>\n",
       "    </tr>\n",
       "    <tr>\n",
       "      <th>2032</th>\n",
       "      <td>20</td>\n",
       "    </tr>\n",
       "    <tr>\n",
       "      <th>2033</th>\n",
       "      <td>20</td>\n",
       "    </tr>\n",
       "    <tr>\n",
       "      <th>2034</th>\n",
       "      <td>20</td>\n",
       "    </tr>\n",
       "    <tr>\n",
       "      <th>2035</th>\n",
       "      <td>20</td>\n",
       "    </tr>\n",
       "    <tr>\n",
       "      <th>2036</th>\n",
       "      <td>20</td>\n",
       "    </tr>\n",
       "  </tbody>\n",
       "</table>\n",
       "<p>2037 rows × 1 columns</p>\n",
       "</div>"
      ],
      "text/plain": [
       "      hour\n",
       "0        5\n",
       "1        5\n",
       "2        5\n",
       "3        5\n",
       "4        5\n",
       "...    ...\n",
       "2032    20\n",
       "2033    20\n",
       "2034    20\n",
       "2035    20\n",
       "2036    20\n",
       "\n",
       "[2037 rows x 1 columns]"
      ]
     },
     "execution_count": 47,
     "metadata": {},
     "output_type": "execute_result"
    }
   ],
   "source": [
    "working_day = commits[commits['type'] == 'Work'][['hour']].reset_index(drop=True)\n",
    "working_day"
   ]
  },
  {
   "cell_type": "code",
   "execution_count": 48,
   "id": "0f3da436",
   "metadata": {},
   "outputs": [
    {
     "data": {
      "text/plain": [
       "2037"
      ]
     },
     "execution_count": 48,
     "metadata": {},
     "output_type": "execute_result"
    }
   ],
   "source": [
    "len(working_day)"
   ]
  },
  {
   "cell_type": "code",
   "execution_count": 49,
   "id": "e1c52fc4",
   "metadata": {},
   "outputs": [
    {
     "data": {
      "text/html": [
       "<div>\n",
       "<style scoped>\n",
       "    .dataframe tbody tr th:only-of-type {\n",
       "        vertical-align: middle;\n",
       "    }\n",
       "\n",
       "    .dataframe tbody tr th {\n",
       "        vertical-align: top;\n",
       "    }\n",
       "\n",
       "    .dataframe thead th {\n",
       "        text-align: right;\n",
       "    }\n",
       "</style>\n",
       "<table border=\"1\" class=\"dataframe\">\n",
       "  <thead>\n",
       "    <tr style=\"text-align: right;\">\n",
       "      <th></th>\n",
       "      <th>hour</th>\n",
       "    </tr>\n",
       "  </thead>\n",
       "  <tbody>\n",
       "    <tr>\n",
       "      <th>0</th>\n",
       "      <td>7</td>\n",
       "    </tr>\n",
       "    <tr>\n",
       "      <th>1</th>\n",
       "      <td>13</td>\n",
       "    </tr>\n",
       "    <tr>\n",
       "      <th>2</th>\n",
       "      <td>13</td>\n",
       "    </tr>\n",
       "    <tr>\n",
       "      <th>3</th>\n",
       "      <td>13</td>\n",
       "    </tr>\n",
       "    <tr>\n",
       "      <th>4</th>\n",
       "      <td>13</td>\n",
       "    </tr>\n",
       "    <tr>\n",
       "      <th>...</th>\n",
       "      <td>...</td>\n",
       "    </tr>\n",
       "    <tr>\n",
       "      <th>1165</th>\n",
       "      <td>22</td>\n",
       "    </tr>\n",
       "    <tr>\n",
       "      <th>1166</th>\n",
       "      <td>22</td>\n",
       "    </tr>\n",
       "    <tr>\n",
       "      <th>1167</th>\n",
       "      <td>22</td>\n",
       "    </tr>\n",
       "    <tr>\n",
       "      <th>1168</th>\n",
       "      <td>22</td>\n",
       "    </tr>\n",
       "    <tr>\n",
       "      <th>1169</th>\n",
       "      <td>22</td>\n",
       "    </tr>\n",
       "  </tbody>\n",
       "</table>\n",
       "<p>1170 rows × 1 columns</p>\n",
       "</div>"
      ],
      "text/plain": [
       "      hour\n",
       "0        7\n",
       "1       13\n",
       "2       13\n",
       "3       13\n",
       "4       13\n",
       "...    ...\n",
       "1165    22\n",
       "1166    22\n",
       "1167    22\n",
       "1168    22\n",
       "1169    22\n",
       "\n",
       "[1170 rows x 1 columns]"
      ]
     },
     "execution_count": 49,
     "metadata": {},
     "output_type": "execute_result"
    }
   ],
   "source": [
    "weekend_day = commits[commits['type'] == 'Weekend'][['hour']].reset_index(drop=True)\n",
    "weekend_day"
   ]
  },
  {
   "cell_type": "code",
   "execution_count": 50,
   "id": "9d77b04f",
   "metadata": {},
   "outputs": [
    {
     "data": {
      "text/plain": [
       "1170"
      ]
     },
     "execution_count": 50,
     "metadata": {},
     "output_type": "execute_result"
    }
   ],
   "source": [
    "len(weekend_day)"
   ]
  },
  {
   "cell_type": "markdown",
   "id": "7f99ab2f",
   "metadata": {},
   "source": [
    "## Создать гистограмму"
   ]
  },
  {
   "cell_type": "code",
   "execution_count": 51,
   "id": "a2f609c1",
   "metadata": {},
   "outputs": [
    {
     "data": {
      "text/plain": [
       "<matplotlib.legend.Legend at 0x22fb92aafd0>"
      ]
     },
     "execution_count": 51,
     "metadata": {},
     "output_type": "execute_result"
    },
    {
     "data": {
      "image/png": "[encoded data removed]",
      "text/plain": [
       "<Figure size 1500x800 with 1 Axes>"
      ]
     },
     "metadata": {},
     "output_type": "display_data"
    }
   ],
   "source": [
    "fig, ax = plt.subplots(figsize=(15, 8))\n",
    "ax.hist(working_day['hour'],\n",
    "        bins=24,\n",
    "        label='Work',\n",
    "        color='green')\n",
    "ax.hist(weekend_day['hour'],\n",
    "        bins=24,\n",
    "        label='Weekend',\n",
    "        color='yellow',\n",
    "        alpha=0.7)\n",
    "ax.set_xlim(0, 23)\n",
    "ax.legend(loc='upper left', fontsize='10')"
   ]
  },
  {
   "cell_type": "markdown",
   "id": "cc223a01",
   "metadata": {},
   "source": [
    "## «Бывают ли часы, когда общее количество коммитов в выходные дни выше, чем в рабочие?» \n",
    "- В своём ответе приведите 4 примера."
   ]
  },
  {
   "cell_type": "code",
   "execution_count": 52,
   "id": "20cce986",
   "metadata": {},
   "outputs": [
    {
     "data": {
      "text/html": [
       "<div>\n",
       "<style scoped>\n",
       "    .dataframe tbody tr th:only-of-type {\n",
       "        vertical-align: middle;\n",
       "    }\n",
       "\n",
       "    .dataframe tbody tr th {\n",
       "        vertical-align: top;\n",
       "    }\n",
       "\n",
       "    .dataframe thead th {\n",
       "        text-align: right;\n",
       "    }\n",
       "</style>\n",
       "<table border=\"1\" class=\"dataframe\">\n",
       "  <thead>\n",
       "    <tr style=\"text-align: right;\">\n",
       "      <th>type</th>\n",
       "      <th>Weekend</th>\n",
       "      <th>Work</th>\n",
       "    </tr>\n",
       "    <tr>\n",
       "      <th>hour</th>\n",
       "      <th></th>\n",
       "      <th></th>\n",
       "    </tr>\n",
       "  </thead>\n",
       "  <tbody>\n",
       "    <tr>\n",
       "      <th>11</th>\n",
       "      <td>118.0</td>\n",
       "      <td>88.0</td>\n",
       "    </tr>\n",
       "    <tr>\n",
       "      <th>13</th>\n",
       "      <td>108.0</td>\n",
       "      <td>73.0</td>\n",
       "    </tr>\n",
       "    <tr>\n",
       "      <th>22</th>\n",
       "      <td>59.0</td>\n",
       "      <td>45.0</td>\n",
       "    </tr>\n",
       "    <tr>\n",
       "      <th>23</th>\n",
       "      <td>32.0</td>\n",
       "      <td>15.0</td>\n",
       "    </tr>\n",
       "  </tbody>\n",
       "</table>\n",
       "</div>"
      ],
      "text/plain": [
       "type  Weekend  Work\n",
       "hour               \n",
       "11      118.0  88.0\n",
       "13      108.0  73.0\n",
       "22       59.0  45.0\n",
       "23       32.0  15.0"
      ]
     },
     "execution_count": 52,
     "metadata": {},
     "output_type": "execute_result"
    }
   ],
   "source": [
    "commits_group = commits.groupby(['type', 'hour']).count()['uid'].reset_index()\n",
    "pivot_table = pd.pivot_table(commits_group, values='uid', index='hour', columns = 'type')\n",
    "table_res = pivot_table[pivot_table['Weekend'] > pivot_table['Work']]\n",
    "table_res"
   ]
  },
  {
   "cell_type": "markdown",
   "id": "788ede28",
   "metadata": {},
   "source": [
    "## В 11, 13, 22, 23 часа коммитов в выходные было сделано больше чем в будние"
   ]
  },
  {
   "cell_type": "markdown",
   "id": "20da335b",
   "metadata": {},
   "source": [
    "## Закрыть соединение с базой данных"
   ]
  },
  {
   "cell_type": "code",
   "execution_count": 53,
   "id": "10026f3a",
   "metadata": {},
   "outputs": [],
   "source": [
    "conn.close()"
   ]
  }
 ],
 "metadata": {
  "kernelspec": {
   "display_name": "iridescm",
   "language": "python",
   "name": "python3"
  },
  "language_info": {
   "codemirror_mode": {
    "name": "ipython",
    "version": 3
   },
   "file_extension": ".py",
   "mimetype": "text/x-python",
   "name": "python",
   "nbconvert_exporter": "python",
   "pygments_lexer": "ipython3",
   "version": "3.13.5"
  }
 },
 "nbformat": 4,
 "nbformat_minor": 5
}
