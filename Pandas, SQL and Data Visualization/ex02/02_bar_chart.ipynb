{
 "cells": [
  {
   "cell_type": "code",
   "execution_count": 1,
   "id": "8677335b",
   "metadata": {},
   "outputs": [],
   "source": [
    "import pandas as pd\n",
    "import sqlite3"
   ]
  },
  {
   "cell_type": "markdown",
   "id": "6733c5aa",
   "metadata": {},
   "source": [
    "## Подключение к базе данных"
   ]
  },
  {
   "cell_type": "code",
   "execution_count": 2,
   "id": "120bd0f4",
   "metadata": {},
   "outputs": [],
   "source": [
    "conn = sqlite3.connect('../data/checking-logs.sqlite', check_same_thread=False)"
   ]
  },
  {
   "cell_type": "markdown",
   "id": "9e29451a",
   "metadata": {},
   "source": [
    "## Анализируйте только пользователей, а не администраторов"
   ]
  },
  {
   "cell_type": "code",
   "execution_count": 3,
   "id": "8b418272",
   "metadata": {},
   "outputs": [
    {
     "data": {
      "text/html": [
       "<div>\n",
       "<style scoped>\n",
       "    .dataframe tbody tr th:only-of-type {\n",
       "        vertical-align: middle;\n",
       "    }\n",
       "\n",
       "    .dataframe tbody tr th {\n",
       "        vertical-align: top;\n",
       "    }\n",
       "\n",
       "    .dataframe thead th {\n",
       "        text-align: right;\n",
       "    }\n",
       "</style>\n",
       "<table border=\"1\" class=\"dataframe\">\n",
       "  <thead>\n",
       "    <tr style=\"text-align: right;\">\n",
       "      <th></th>\n",
       "      <th>date</th>\n",
       "    </tr>\n",
       "  </thead>\n",
       "  <tbody>\n",
       "    <tr>\n",
       "      <th>0</th>\n",
       "      <td>2020-04-17 05:19:02.744528</td>\n",
       "    </tr>\n",
       "    <tr>\n",
       "      <th>1</th>\n",
       "      <td>2020-04-17 05:22:35.249331</td>\n",
       "    </tr>\n",
       "    <tr>\n",
       "      <th>2</th>\n",
       "      <td>2020-04-17 05:22:45.549397</td>\n",
       "    </tr>\n",
       "    <tr>\n",
       "      <th>3</th>\n",
       "      <td>2020-04-17 05:34:14.691200</td>\n",
       "    </tr>\n",
       "    <tr>\n",
       "      <th>4</th>\n",
       "      <td>2020-04-17 05:34:24.422370</td>\n",
       "    </tr>\n",
       "    <tr>\n",
       "      <th>...</th>\n",
       "      <td>...</td>\n",
       "    </tr>\n",
       "    <tr>\n",
       "      <th>3202</th>\n",
       "      <td>2020-05-21 20:19:06.872761</td>\n",
       "    </tr>\n",
       "    <tr>\n",
       "      <th>3203</th>\n",
       "      <td>2020-05-21 20:22:41.785725</td>\n",
       "    </tr>\n",
       "    <tr>\n",
       "      <th>3204</th>\n",
       "      <td>2020-05-21 20:22:41.877806</td>\n",
       "    </tr>\n",
       "    <tr>\n",
       "      <th>3205</th>\n",
       "      <td>2020-05-21 20:37:00.129678</td>\n",
       "    </tr>\n",
       "    <tr>\n",
       "      <th>3206</th>\n",
       "      <td>2020-05-21 20:37:00.290491</td>\n",
       "    </tr>\n",
       "  </tbody>\n",
       "</table>\n",
       "<p>3207 rows × 1 columns</p>\n",
       "</div>"
      ],
      "text/plain": [
       "                           date\n",
       "0    2020-04-17 05:19:02.744528\n",
       "1    2020-04-17 05:22:35.249331\n",
       "2    2020-04-17 05:22:45.549397\n",
       "3    2020-04-17 05:34:14.691200\n",
       "4    2020-04-17 05:34:24.422370\n",
       "...                         ...\n",
       "3202 2020-05-21 20:19:06.872761\n",
       "3203 2020-05-21 20:22:41.785725\n",
       "3204 2020-05-21 20:22:41.877806\n",
       "3205 2020-05-21 20:37:00.129678\n",
       "3206 2020-05-21 20:37:00.290491\n",
       "\n",
       "[3207 rows x 1 columns]"
      ]
     },
     "execution_count": 3,
     "metadata": {},
     "output_type": "execute_result"
    }
   ],
   "source": [
    "query = \"\"\"\n",
    "SELECT \n",
    "    timestamp as date\n",
    "FROM\n",
    "    checker\n",
    "WHERE\n",
    "    uid LIKE 'user_%'\n",
    "\"\"\"\n",
    "commits = pd.io.sql.read_sql(query, conn, parse_dates=['date'])\n",
    "commits"
   ]
  },
  {
   "cell_type": "code",
   "execution_count": 4,
   "id": "9b533467",
   "metadata": {},
   "outputs": [
    {
     "data": {
      "text/html": [
       "<div>\n",
       "<style scoped>\n",
       "    .dataframe tbody tr th:only-of-type {\n",
       "        vertical-align: middle;\n",
       "    }\n",
       "\n",
       "    .dataframe tbody tr th {\n",
       "        vertical-align: top;\n",
       "    }\n",
       "\n",
       "    .dataframe thead th {\n",
       "        text-align: right;\n",
       "    }\n",
       "</style>\n",
       "<table border=\"1\" class=\"dataframe\">\n",
       "  <thead>\n",
       "    <tr style=\"text-align: right;\">\n",
       "      <th></th>\n",
       "      <th>date</th>\n",
       "      <th>time</th>\n",
       "    </tr>\n",
       "  </thead>\n",
       "  <tbody>\n",
       "    <tr>\n",
       "      <th>0</th>\n",
       "      <td>2020-04-17</td>\n",
       "      <td>morning</td>\n",
       "    </tr>\n",
       "    <tr>\n",
       "      <th>1</th>\n",
       "      <td>2020-04-17</td>\n",
       "      <td>morning</td>\n",
       "    </tr>\n",
       "    <tr>\n",
       "      <th>2</th>\n",
       "      <td>2020-04-17</td>\n",
       "      <td>morning</td>\n",
       "    </tr>\n",
       "    <tr>\n",
       "      <th>3</th>\n",
       "      <td>2020-04-17</td>\n",
       "      <td>morning</td>\n",
       "    </tr>\n",
       "    <tr>\n",
       "      <th>4</th>\n",
       "      <td>2020-04-17</td>\n",
       "      <td>morning</td>\n",
       "    </tr>\n",
       "    <tr>\n",
       "      <th>...</th>\n",
       "      <td>...</td>\n",
       "      <td>...</td>\n",
       "    </tr>\n",
       "    <tr>\n",
       "      <th>3202</th>\n",
       "      <td>2020-05-21</td>\n",
       "      <td>evening</td>\n",
       "    </tr>\n",
       "    <tr>\n",
       "      <th>3203</th>\n",
       "      <td>2020-05-21</td>\n",
       "      <td>evening</td>\n",
       "    </tr>\n",
       "    <tr>\n",
       "      <th>3204</th>\n",
       "      <td>2020-05-21</td>\n",
       "      <td>evening</td>\n",
       "    </tr>\n",
       "    <tr>\n",
       "      <th>3205</th>\n",
       "      <td>2020-05-21</td>\n",
       "      <td>evening</td>\n",
       "    </tr>\n",
       "    <tr>\n",
       "      <th>3206</th>\n",
       "      <td>2020-05-21</td>\n",
       "      <td>evening</td>\n",
       "    </tr>\n",
       "  </tbody>\n",
       "</table>\n",
       "<p>3207 rows × 2 columns</p>\n",
       "</div>"
      ],
      "text/plain": [
       "            date     time\n",
       "0     2020-04-17  morning\n",
       "1     2020-04-17  morning\n",
       "2     2020-04-17  morning\n",
       "3     2020-04-17  morning\n",
       "4     2020-04-17  morning\n",
       "...          ...      ...\n",
       "3202  2020-05-21  evening\n",
       "3203  2020-05-21  evening\n",
       "3204  2020-05-21  evening\n",
       "3205  2020-05-21  evening\n",
       "3206  2020-05-21  evening\n",
       "\n",
       "[3207 rows x 2 columns]"
      ]
     },
     "execution_count": 4,
     "metadata": {},
     "output_type": "execute_result"
    }
   ],
   "source": [
    "commits['time'] = pd.cut(commits['date'].dt.hour, bins = [-1, 4,10,17,24], labels=['night','morning','afternoon','evening'])\n",
    "commits['date']=commits['date'].dt.date\n",
    "commits"
   ]
  },
  {
   "cell_type": "code",
   "execution_count": 5,
   "id": "2878edec",
   "metadata": {},
   "outputs": [
    {
     "name": "stdout",
     "output_type": "stream",
     "text": [
      "<class 'pandas.core.frame.DataFrame'>\n",
      "Index: 35 entries, 2020-04-17 to 2020-05-21\n",
      "Data columns (total 4 columns):\n",
      " #   Column     Non-Null Count  Dtype\n",
      "---  ------     --------------  -----\n",
      " 0   night      35 non-null     int64\n",
      " 1   morning    35 non-null     int64\n",
      " 2   afternoon  35 non-null     int64\n",
      " 3   evening    35 non-null     int64\n",
      "dtypes: int64(4)\n",
      "memory usage: 1.4+ KB\n"
     ]
    }
   ],
   "source": [
    "commits_group = commits.groupby('time', observed=False).date.value_counts().unstack(0)\n",
    "commits_group.info()"
   ]
  },
  {
   "cell_type": "markdown",
   "id": "28cf856b",
   "metadata": {},
   "source": [
    "## Рисуем график"
   ]
  },
  {
   "cell_type": "code",
   "execution_count": 6,
   "id": "60ba09d9",
   "metadata": {},
   "outputs": [
    {
     "data": {
      "text/plain": [
       "<Axes: title={'center': 'Commits per day'}, xlabel='date'>"
      ]
     },
     "execution_count": 6,
     "metadata": {},
     "output_type": "execute_result"
    },
    {
     "data": {
      "image/png": "[encoded data removed]",
      "text/plain": [
       "<Figure size 1500x800 with 1 Axes>"
      ]
     },
     "metadata": {},
     "output_type": "display_data"
    }
   ],
   "source": [
    "plt = commits_group.plot.bar(figsize=(15, 8),\n",
    "                                         fontsize=8,\n",
    "                                         title='Commits per day',\n",
    "                                         rot=90,\n",
    "                                         stacked=True,\n",
    "                                         color=('red', 'orange', 'c', 'y'))\n",
    "plt.grid(axis='y')\n",
    "plt"
   ]
  },
  {
   "cell_type": "markdown",
   "id": "e2138a83",
   "metadata": {},
   "source": [
    "## «Когда наши пользователи обычно выполняют лабораторные работы: ночью, утром, днём или вечером?» — это два наиболее распространённых периода."
   ]
  },
  {
   "cell_type": "code",
   "execution_count": 7,
   "id": "49e50ab4",
   "metadata": {},
   "outputs": [
    {
     "name": "stdout",
     "output_type": "stream",
     "text": [
      "Ответ: пользователи чаще всего выполняют лабораторные работы:\n",
      "- afternoon\n",
      "- evening\n"
     ]
    }
   ],
   "source": [
    "total_by_period = commits_group.sum()\n",
    "top_periods = total_by_period.sort_values(ascending=False).head(2)\n",
    "print(\"Ответ: пользователи чаще всего выполняют лабораторные работы:\")\n",
    "for period in top_periods.index:\n",
    "    print(\"-\", period)"
   ]
  },
  {
   "cell_type": "markdown",
   "id": "b47ed076",
   "metadata": {},
   "source": [
    "## Который день имеет:\n",
    "- наибольшее количество коммитов\n",
    "- и в то же время количество коммитов вечером выше, чем днём"
   ]
  },
  {
   "cell_type": "code",
   "execution_count": 8,
   "id": "b58584d6",
   "metadata": {},
   "outputs": [
    {
     "name": "stdout",
     "output_type": "stream",
     "text": [
      "Ответ: 2020-05-12\n"
     ]
    }
   ],
   "source": [
    "print(f\"Ответ: {commits_group[commits_group['evening'] > commits_group['afternoon']].sum(axis=1).idxmax()}\")"
   ]
  },
  {
   "cell_type": "markdown",
   "id": "0e1d5236",
   "metadata": {},
   "source": [
    "## Закрыть соединение с базой данных"
   ]
  },
  {
   "cell_type": "code",
   "execution_count": 9,
   "id": "0e9467d0",
   "metadata": {},
   "outputs": [],
   "source": [
    "conn.close()"
   ]
  }
 ],
 "metadata": {
  "kernelspec": {
   "display_name": "iridescm",
   "language": "python",
   "name": "python3"
  },
  "language_info": {
   "codemirror_mode": {
    "name": "ipython",
    "version": 3
   },
   "file_extension": ".py",
   "mimetype": "text/x-python",
   "name": "python",
   "nbconvert_exporter": "python",
   "pygments_lexer": "ipython3",
   "version": "3.13.5"
  }
 },
 "nbformat": 4,
 "nbformat_minor": 5
}
