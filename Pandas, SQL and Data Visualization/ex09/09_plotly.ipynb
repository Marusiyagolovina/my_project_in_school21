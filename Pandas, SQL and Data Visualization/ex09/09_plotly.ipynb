{
 "cells": [
  {
   "cell_type": "code",
   "execution_count": 254,
   "id": "2c4ffa46",
   "metadata": {},
   "outputs": [],
   "source": [
    "import pandas as pd\n",
    "import sqlite3\n",
    "import plotly.graph_objects as go\n",
    "import numpy as np"
   ]
  },
  {
   "cell_type": "markdown",
   "id": "462e1251",
   "metadata": {},
   "source": [
    "## Подключение к базе данных"
   ]
  },
  {
   "cell_type": "code",
   "execution_count": 255,
   "id": "b28e46b0",
   "metadata": {},
   "outputs": [],
   "source": [
    "conn = sqlite3.connect('../data/checking-logs.sqlite')"
   ]
  },
  {
   "cell_type": "markdown",
   "id": "778ee242",
   "metadata": {},
   "source": [
    "## Анализировать только пользователей, а не администраторов, учитывать только логи из таблицы проверки, где статус готов"
   ]
  },
  {
   "cell_type": "code",
   "execution_count": 256,
   "id": "e4ae03a7",
   "metadata": {},
   "outputs": [],
   "source": [
    "query = '''\n",
    "SELECT\n",
    "    timestamp,\n",
    "    COUNT(*) AS commits,\n",
    "    uid\n",
    "FROM\n",
    "    checker\n",
    "WHERE\n",
    "    status = 'ready'\n",
    "    AND uid LIKE 'user_%'\n",
    "    AND labname = 'project1'\n",
    "GROUP BY\n",
    "    uid, timestamp\n",
    "'''\n",
    "df = pd.read_sql(query, conn)"
   ]
  },
  {
   "cell_type": "code",
   "execution_count": 257,
   "id": "c81d269d",
   "metadata": {},
   "outputs": [],
   "source": [
    "df['timestamp'] = pd.to_datetime(df['timestamp'])\n",
    "df['date'] = df['timestamp'].dt.date\n",
    "\n",
    "# Группировка по пользователю и дате\n",
    "daily_df = df.groupby(['uid', 'date']).agg({'commits': 'sum'}).reset_index()\n",
    "\n",
    "# Сортировка и накопительное суммирование коммитов по пользователю\n",
    "daily_df['cumulative_commits'] = daily_df.groupby('uid')['commits'].cumsum()"
   ]
  },
  {
   "cell_type": "code",
   "execution_count": 258,
   "id": "17bc1711",
   "metadata": {},
   "outputs": [
    {
     "data": {
      "text/html": [
       "<div>\n",
       "<style scoped>\n",
       "    .dataframe tbody tr th:only-of-type {\n",
       "        vertical-align: middle;\n",
       "    }\n",
       "\n",
       "    .dataframe tbody tr th {\n",
       "        vertical-align: top;\n",
       "    }\n",
       "\n",
       "    .dataframe thead th {\n",
       "        text-align: right;\n",
       "    }\n",
       "</style>\n",
       "<table border=\"1\" class=\"dataframe\">\n",
       "  <thead>\n",
       "    <tr style=\"text-align: right;\">\n",
       "      <th></th>\n",
       "      <th>timestamp</th>\n",
       "      <th>commits</th>\n",
       "      <th>uid</th>\n",
       "      <th>date</th>\n",
       "    </tr>\n",
       "  </thead>\n",
       "  <tbody>\n",
       "    <tr>\n",
       "      <th>0</th>\n",
       "      <td>2020-05-14 20:56:08.898880</td>\n",
       "      <td>1</td>\n",
       "      <td>user_1</td>\n",
       "      <td>2020-05-14</td>\n",
       "    </tr>\n",
       "    <tr>\n",
       "      <th>1</th>\n",
       "      <td>2020-05-14 20:58:02.313690</td>\n",
       "      <td>1</td>\n",
       "      <td>user_1</td>\n",
       "      <td>2020-05-14</td>\n",
       "    </tr>\n",
       "    <tr>\n",
       "      <th>2</th>\n",
       "      <td>2020-05-14 20:58:46.322457</td>\n",
       "      <td>1</td>\n",
       "      <td>user_1</td>\n",
       "      <td>2020-05-14</td>\n",
       "    </tr>\n",
       "    <tr>\n",
       "      <th>3</th>\n",
       "      <td>2020-05-14 21:08:15.434237</td>\n",
       "      <td>1</td>\n",
       "      <td>user_1</td>\n",
       "      <td>2020-05-14</td>\n",
       "    </tr>\n",
       "    <tr>\n",
       "      <th>4</th>\n",
       "      <td>2020-05-14 21:10:14.867603</td>\n",
       "      <td>1</td>\n",
       "      <td>user_1</td>\n",
       "      <td>2020-05-14</td>\n",
       "    </tr>\n",
       "    <tr>\n",
       "      <th>...</th>\n",
       "      <td>...</td>\n",
       "      <td>...</td>\n",
       "      <td>...</td>\n",
       "      <td>...</td>\n",
       "    </tr>\n",
       "    <tr>\n",
       "      <th>946</th>\n",
       "      <td>2020-05-14 16:18:00.528528</td>\n",
       "      <td>1</td>\n",
       "      <td>user_8</td>\n",
       "      <td>2020-05-14</td>\n",
       "    </tr>\n",
       "    <tr>\n",
       "      <th>947</th>\n",
       "      <td>2020-05-14 16:41:03.916147</td>\n",
       "      <td>1</td>\n",
       "      <td>user_8</td>\n",
       "      <td>2020-05-14</td>\n",
       "    </tr>\n",
       "    <tr>\n",
       "      <th>948</th>\n",
       "      <td>2020-05-14 17:40:47.781946</td>\n",
       "      <td>1</td>\n",
       "      <td>user_8</td>\n",
       "      <td>2020-05-14</td>\n",
       "    </tr>\n",
       "    <tr>\n",
       "      <th>949</th>\n",
       "      <td>2020-05-14 17:46:54.469822</td>\n",
       "      <td>1</td>\n",
       "      <td>user_8</td>\n",
       "      <td>2020-05-14</td>\n",
       "    </tr>\n",
       "    <tr>\n",
       "      <th>950</th>\n",
       "      <td>2020-05-14 21:12:17.314337</td>\n",
       "      <td>1</td>\n",
       "      <td>user_8</td>\n",
       "      <td>2020-05-14</td>\n",
       "    </tr>\n",
       "  </tbody>\n",
       "</table>\n",
       "<p>951 rows × 4 columns</p>\n",
       "</div>"
      ],
      "text/plain": [
       "                     timestamp  commits     uid        date\n",
       "0   2020-05-14 20:56:08.898880        1  user_1  2020-05-14\n",
       "1   2020-05-14 20:58:02.313690        1  user_1  2020-05-14\n",
       "2   2020-05-14 20:58:46.322457        1  user_1  2020-05-14\n",
       "3   2020-05-14 21:08:15.434237        1  user_1  2020-05-14\n",
       "4   2020-05-14 21:10:14.867603        1  user_1  2020-05-14\n",
       "..                         ...      ...     ...         ...\n",
       "946 2020-05-14 16:18:00.528528        1  user_8  2020-05-14\n",
       "947 2020-05-14 16:41:03.916147        1  user_8  2020-05-14\n",
       "948 2020-05-14 17:40:47.781946        1  user_8  2020-05-14\n",
       "949 2020-05-14 17:46:54.469822        1  user_8  2020-05-14\n",
       "950 2020-05-14 21:12:17.314337        1  user_8  2020-05-14\n",
       "\n",
       "[951 rows x 4 columns]"
      ]
     },
     "execution_count": 258,
     "metadata": {},
     "output_type": "execute_result"
    }
   ],
   "source": [
    "df"
   ]
  },
  {
   "cell_type": "code",
   "execution_count": 259,
   "id": "d4d61336",
   "metadata": {},
   "outputs": [],
   "source": [
    "first_commit_points = []\n",
    "\n",
    "for user in daily_df['uid'].unique():\n",
    "    first_date = daily_df[daily_df['uid'] == user]['date'].min()\n",
    "    zero_point_date = pd.to_datetime(first_date) - pd.Timedelta(days=1)\n",
    "\n",
    "    first_commit_points.append({\n",
    "        'uid': user,\n",
    "        'date': zero_point_date.date(),\n",
    "        'commits': 0,\n",
    "        'cumulative_commits': 0\n",
    "    })\n",
    "\n",
    "# Объединяем и сортируем\n",
    "daily_df = pd.concat([daily_df, pd.DataFrame(first_commit_points)], ignore_index=True)\n",
    "daily_df = daily_df.sort_values(by=['uid', 'date'])"
   ]
  },
  {
   "cell_type": "code",
   "execution_count": 260,
   "id": "99b212a2",
   "metadata": {},
   "outputs": [],
   "source": [
    "users = df['uid'].unique()\n",
    "timestamps = sorted(daily_df['date'].unique())"
   ]
  },
  {
   "cell_type": "code",
   "execution_count": 261,
   "id": "11c24197",
   "metadata": {},
   "outputs": [],
   "source": [
    "frames = []\n",
    "\n",
    "for d in timestamps:\n",
    "    frame_data = daily_df[daily_df['date'] <= d]\n",
    "    traces = []\n",
    "\n",
    "    for user in users:\n",
    "        user_data = frame_data[frame_data['uid'] == user]\n",
    "        trace = go.Scatter(\n",
    "            x=user_data[\"date\"],\n",
    "            y=user_data[\"cumulative_commits\"],\n",
    "            mode=\"lines+markers\",\n",
    "            name=user\n",
    "        )\n",
    "        traces.append(trace)\n",
    "\n",
    "    frames.append(go.Frame(data=traces, name=str(d)))"
   ]
  },
  {
   "cell_type": "code",
   "execution_count": 262,
   "id": "38dabf4c",
   "metadata": {},
   "outputs": [],
   "source": [
    "initial_traces = []\n",
    "for user in users:\n",
    "    user_data = daily_df[(daily_df['uid'] == user) & (daily_df['date'] == daily_df['date'].min())]\n",
    "    trace = go.Scatter(\n",
    "        x=user_data['date'],\n",
    "        y=user_data['cumulative_commits'],\n",
    "        mode='lines+markers',\n",
    "        name=user\n",
    "    )\n",
    "    initial_traces.append(trace)"
   ]
  },
  {
   "cell_type": "code",
   "execution_count": 263,
   "id": "6e690819",
   "metadata": {},
   "outputs": [
    {
     "data": {
      "application/vnd.plotly.v1+json": {
       "config": {
        "plotlyServerURL": "https://plot.ly"
       },
       "data": [
        {
         "mode": "lines+markers",
         "name": "user_1",
         "type": "scatter",
         "x": [],
         "y": []
        },
        {
         "mode": "lines+markers",
         "name": "user_10",
         "type": "scatter",
         "x": [],
         "y": []
        },
        {
         "mode": "lines+markers",
         "name": "user_11",
         "type": "scatter",
         "x": [],
         "y": []
        },
        {
         "mode": "lines+markers",
         "name": "user_12",
         "type": "scatter",
         "x": [],
         "y": []
        },
        {
         "mode": "lines+markers",
         "name": "user_13",
         "type": "scatter",
         "x": [],
         "y": []
        },
        {
         "mode": "lines+markers",
         "name": "user_14",
         "type": "scatter",
         "x": [],
         "y": []
        },
        {
         "mode": "lines+markers",
         "name": "user_15",
         "type": "scatter",
         "x": [],
         "y": []
        },
        {
         "mode": "lines+markers",
         "name": "user_16",
         "type": "scatter",
         "x": [],
         "y": []
        },
        {
         "mode": "lines+markers",
         "name": "user_17",
         "type": "scatter",
         "x": [],
         "y": []
        },
        {
         "mode": "lines+markers",
         "name": "user_18",
         "type": "scatter",
         "x": [],
         "y": []
        },
        {
         "mode": "lines+markers",
         "name": "user_19",
         "type": "scatter",
         "x": [],
         "y": []
        },
        {
         "mode": "lines+markers",
         "name": "user_2",
         "type": "scatter",
         "x": [],
         "y": []
        },
        {
         "mode": "lines+markers",
         "name": "user_20",
         "type": "scatter",
         "x": [],
         "y": []
        },
        {
         "mode": "lines+markers",
         "name": "user_21",
         "type": "scatter",
         "x": [],
         "y": []
        },
        {
         "mode": "lines+markers",
         "name": "user_22",
         "type": "scatter",
         "x": [],
         "y": []
        },
        {
         "mode": "lines+markers",
         "name": "user_24",
         "type": "scatter",
         "x": [],
         "y": []
        },
        {
         "mode": "lines+markers",
         "name": "user_25",
         "type": "scatter",
         "x": [],
         "y": []
        },
        {
         "mode": "lines+markers",
         "name": "user_26",
         "type": "scatter",
         "x": [],
         "y": []
        },
        {
         "mode": "lines+markers",
         "name": "user_27",
         "type": "scatter",
         "x": [],
         "y": []
        },
        {
         "mode": "lines+markers",
         "name": "user_28",
         "type": "scatter",
         "x": [],
         "y": []
        },
        {
         "mode": "lines+markers",
         "name": "user_29",
         "type": "scatter",
         "x": [],
         "y": []
        },
        {
         "mode": "lines+markers",
         "name": "user_3",
         "type": "scatter",
         "x": [],
         "y": []
        },
        {
         "mode": "lines+markers",
         "name": "user_30",
         "type": "scatter",
         "x": [],
         "y": []
        },
        {
         "mode": "lines+markers",
         "name": "user_31",
         "type": "scatter",
         "x": [],
         "y": []
        },
        {
         "mode": "lines+markers",
         "name": "user_4",
         "type": "scatter",
         "x": [
          "2020-04-16"
         ],
         "y": {
          "bdata": "AA==",
          "dtype": "i1"
         }
        },
        {
         "mode": "lines+markers",
         "name": "user_6",
         "type": "scatter",
         "x": [],
         "y": []
        },
        {
         "mode": "lines+markers",
         "name": "user_8",
         "type": "scatter",
         "x": [],
         "y": []
        }
       ],
       "frames": [
        {
         "data": [
          {
           "mode": "lines+markers",
           "name": "user_1",
           "type": "scatter",
           "x": [],
           "y": []
          },
          {
           "mode": "lines+markers",
           "name": "user_10",
           "type": "scatter",
           "x": [],
           "y": []
          },
          {
           "mode": "lines+markers",
           "name": "user_11",
           "type": "scatter",
           "x": [],
           "y": []
          },
          {
           "mode": "lines+markers",
           "name": "user_12",
           "type": "scatter",
           "x": [],
           "y": []
          },
          {
           "mode": "lines+markers",
           "name": "user_13",
           "type": "scatter",
           "x": [],
           "y": []
          },
          {
           "mode": "lines+markers",
           "name": "user_14",
           "type": "scatter",
           "x": [],
           "y": []
          },
          {
           "mode": "lines+markers",
           "name": "user_15",
           "type": "scatter",
           "x": [],
           "y": []
          },
          {
           "mode": "lines+markers",
           "name": "user_16",
           "type": "scatter",
           "x": [],
           "y": []
          },
          {
           "mode": "lines+markers",
           "name": "user_17",
           "type": "scatter",
           "x": [],
           "y": []
          },
          {
           "mode": "lines+markers",
           "name": "user_18",
           "type": "scatter",
           "x": [],
           "y": []
          },
          {
           "mode": "lines+markers",
           "name": "user_19",
           "type": "scatter",
           "x": [],
           "y": []
          },
          {
           "mode": "lines+markers",
           "name": "user_2",
           "type": "scatter",
           "x": [],
           "y": []
          },
          {
           "mode": "lines+markers",
           "name": "user_20",
           "type": "scatter",
           "x": [],
           "y": []
          },
          {
           "mode": "lines+markers",
           "name": "user_21",
           "type": "scatter",
           "x": [],
           "y": []
          },
          {
           "mode": "lines+markers",
           "name": "user_22",
           "type": "scatter",
           "x": [],
           "y": []
          },
          {
           "mode": "lines+markers",
           "name": "user_24",
           "type": "scatter",
           "x": [],
           "y": []
          },
          {
           "mode": "lines+markers",
           "name": "user_25",
           "type": "scatter",
           "x": [],
           "y": []
          },
          {
           "mode": "lines+markers",
           "name": "user_26",
           "type": "scatter",
           "x": [],
           "y": []
          },
          {
           "mode": "lines+markers",
           "name": "user_27",
           "type": "scatter",
           "x": [],
           "y": []
          },
          {
           "mode": "lines+markers",
           "name": "user_28",
           "type": "scatter",
           "x": [],
           "y": []
          },
          {
           "mode": "lines+markers",
           "name": "user_29",
           "type": "scatter",
           "x": [],
           "y": []
          },
          {
           "mode": "lines+markers",
           "name": "user_3",
           "type": "scatter",
           "x": [],
           "y": []
          },
          {
           "mode": "lines+markers",
           "name": "user_30",
           "type": "scatter",
           "x": [],
           "y": []
          },
          {
           "mode": "lines+markers",
           "name": "user_31",
           "type": "scatter",
           "x": [],
           "y": []
          },
          {
           "mode": "lines+markers",
           "name": "user_4",
           "type": "scatter",
           "x": [
            "2020-04-16"
           ],
           "y": {
            "bdata": "AA==",
            "dtype": "i1"
           }
          },
          {
           "mode": "lines+markers",
           "name": "user_6",
           "type": "scatter",
           "x": [],
           "y": []
          },
          {
           "mode": "lines+markers",
           "name": "user_8",
           "type": "scatter",
           "x": [],
           "y": []
          }
         ],
         "name": "2020-04-16"
        },
        {
         "data": [
          {
           "mode": "lines+markers",
           "name": "user_1",
           "type": "scatter",
           "x": [],
           "y": []
          },
          {
           "mode": "lines+markers",
           "name": "user_10",
           "type": "scatter",
           "x": [],
           "y": []
          },
          {
           "mode": "lines+markers",
           "name": "user_11",
           "type": "scatter",
           "x": [],
           "y": []
          },
          {
           "mode": "lines+markers",
           "name": "user_12",
           "type": "scatter",
           "x": [],
           "y": []
          },
          {
           "mode": "lines+markers",
           "name": "user_13",
           "type": "scatter",
           "x": [],
           "y": []
          },
          {
           "mode": "lines+markers",
           "name": "user_14",
           "type": "scatter",
           "x": [],
           "y": []
          },
          {
           "mode": "lines+markers",
           "name": "user_15",
           "type": "scatter",
           "x": [],
           "y": []
          },
          {
           "mode": "lines+markers",
           "name": "user_16",
           "type": "scatter",
           "x": [],
           "y": []
          },
          {
           "mode": "lines+markers",
           "name": "user_17",
           "type": "scatter",
           "x": [
            "2020-04-17"
           ],
           "y": {
            "bdata": "AA==",
            "dtype": "i1"
           }
          },
          {
           "mode": "lines+markers",
           "name": "user_18",
           "type": "scatter",
           "x": [],
           "y": []
          },
          {
           "mode": "lines+markers",
           "name": "user_19",
           "type": "scatter",
           "x": [],
           "y": []
          },
          {
           "mode": "lines+markers",
           "name": "user_2",
           "type": "scatter",
           "x": [],
           "y": []
          },
          {
           "mode": "lines+markers",
           "name": "user_20",
           "type": "scatter",
           "x": [],
           "y": []
          },
          {
           "mode": "lines+markers",
           "name": "user_21",
           "type": "scatter",
           "x": [],
           "y": []
          },
          {
           "mode": "lines+markers",
           "name": "user_22",
           "type": "scatter",
           "x": [],
           "y": []
          },
          {
           "mode": "lines+markers",
           "name": "user_24",
           "type": "scatter",
           "x": [],
           "y": []
          },
          {
           "mode": "lines+markers",
           "name": "user_25",
           "type": "scatter",
           "x": [],
           "y": []
          },
          {
           "mode": "lines+markers",
           "name": "user_26",
           "type": "scatter",
           "x": [],
           "y": []
          },
          {
           "mode": "lines+markers",
           "name": "user_27",
           "type": "scatter",
           "x": [],
           "y": []
          },
          {
           "mode": "lines+markers",
           "name": "user_28",
           "type": "scatter",
           "x": [],
           "y": []
          },
          {
           "mode": "lines+markers",
           "name": "user_29",
           "type": "scatter",
           "x": [],
           "y": []
          },
          {
           "mode": "lines+markers",
           "name": "user_3",
           "type": "scatter",
           "x": [],
           "y": []
          },
          {
           "mode": "lines+markers",
           "name": "user_30",
           "type": "scatter",
           "x": [],
           "y": []
          },
          {
           "mode": "lines+markers",
           "name": "user_31",
           "type": "scatter",
           "x": [],
           "y": []
          },
          {
           "mode": "lines+markers",
           "name": "user_4",
           "type": "scatter",
           "x": [
            "2020-04-16",
            "2020-04-17"
           ],
           "y": {
            "bdata": "AAc=",
            "dtype": "i1"
           }
          },
          {
           "mode": "lines+markers",
           "name": "user_6",
           "type": "scatter",
           "x": [],
           "y": []
          },
          {
           "mode": "lines+markers",
           "name": "user_8",
           "type": "scatter",
           "x": [],
           "y": []
          }
         ],
         "name": "2020-04-17"
        },
        {
         "data": [
          {
           "mode": "lines+markers",
           "name": "user_1",
           "type": "scatter",
           "x": [],
           "y": []
          },
          {
           "mode": "lines+markers",
           "name": "user_10",
           "type": "scatter",
           "x": [],
           "y": []
          },
          {
           "mode": "lines+markers",
           "name": "user_11",
           "type": "scatter",
           "x": [],
           "y": []
          },
          {
           "mode": "lines+markers",
           "name": "user_12",
           "type": "scatter",
           "x": [],
           "y": []
          },
          {
           "mode": "lines+markers",
           "name": "user_13",
           "type": "scatter",
           "x": [],
           "y": []
          },
          {
           "mode": "lines+markers",
           "name": "user_14",
           "type": "scatter",
           "x": [],
           "y": []
          },
          {
           "mode": "lines+markers",
           "name": "user_15",
           "type": "scatter",
           "x": [],
           "y": []
          },
          {
           "mode": "lines+markers",
           "name": "user_16",
           "type": "scatter",
           "x": [],
           "y": []
          },
          {
           "mode": "lines+markers",
           "name": "user_17",
           "type": "scatter",
           "x": [
            "2020-04-17",
            "2020-04-18"
           ],
           "y": {
            "bdata": "AAE=",
            "dtype": "i1"
           }
          },
          {
           "mode": "lines+markers",
           "name": "user_18",
           "type": "scatter",
           "x": [],
           "y": []
          },
          {
           "mode": "lines+markers",
           "name": "user_19",
           "type": "scatter",
           "x": [],
           "y": []
          },
          {
           "mode": "lines+markers",
           "name": "user_2",
           "type": "scatter",
           "x": [],
           "y": []
          },
          {
           "mode": "lines+markers",
           "name": "user_20",
           "type": "scatter",
           "x": [],
           "y": []
          },
          {
           "mode": "lines+markers",
           "name": "user_21",
           "type": "scatter",
           "x": [],
           "y": []
          },
          {
           "mode": "lines+markers",
           "name": "user_22",
           "type": "scatter",
           "x": [],
           "y": []
          },
          {
           "mode": "lines+markers",
           "name": "user_24",
           "type": "scatter",
           "x": [],
           "y": []
          },
          {
           "mode": "lines+markers",
           "name": "user_25",
           "type": "scatter",
           "x": [],
           "y": []
          },
          {
           "mode": "lines+markers",
           "name": "user_26",
           "type": "scatter",
           "x": [],
           "y": []
          },
          {
           "mode": "lines+markers",
           "name": "user_27",
           "type": "scatter",
           "x": [],
           "y": []
          },
          {
           "mode": "lines+markers",
           "name": "user_28",
           "type": "scatter",
           "x": [],
           "y": []
          },
          {
           "mode": "lines+markers",
           "name": "user_29",
           "type": "scatter",
           "x": [],
           "y": []
          },
          {
           "mode": "lines+markers",
           "name": "user_3",
           "type": "scatter",
           "x": [],
           "y": []
          },
          {
           "mode": "lines+markers",
           "name": "user_30",
           "type": "scatter",
           "x": [],
           "y": []
          },
          {
           "mode": "lines+markers",
           "name": "user_31",
           "type": "scatter",
           "x": [],
           "y": []
          },
          {
           "mode": "lines+markers",
           "name": "user_4",
           "type": "scatter",
           "x": [
            "2020-04-16",
            "2020-04-17"
           ],
           "y": {
            "bdata": "AAc=",
            "dtype": "i1"
           }
          },
          {
           "mode": "lines+markers",
           "name": "user_6",
           "type": "scatter",
           "x": [],
           "y": []
          },
          {
           "mode": "lines+markers",
           "name": "user_8",
           "type": "scatter",
           "x": [],
           "y": []
          }
         ],
         "name": "2020-04-18"
        },
        {
         "data": [
          {
           "mode": "lines+markers",
           "name": "user_1",
           "type": "scatter",
           "x": [],
           "y": []
          },
          {
           "mode": "lines+markers",
           "name": "user_10",
           "type": "scatter",
           "x": [],
           "y": []
          },
          {
           "mode": "lines+markers",
           "name": "user_11",
           "type": "scatter",
           "x": [],
           "y": []
          },
          {
           "mode": "lines+markers",
           "name": "user_12",
           "type": "scatter",
           "x": [],
           "y": []
          },
          {
           "mode": "lines+markers",
           "name": "user_13",
           "type": "scatter",
           "x": [],
           "y": []
          },
          {
           "mode": "lines+markers",
           "name": "user_14",
           "type": "scatter",
           "x": [],
           "y": []
          },
          {
           "mode": "lines+markers",
           "name": "user_15",
           "type": "scatter",
           "x": [],
           "y": []
          },
          {
           "mode": "lines+markers",
           "name": "user_16",
           "type": "scatter",
           "x": [],
           "y": []
          },
          {
           "mode": "lines+markers",
           "name": "user_17",
           "type": "scatter",
           "x": [
            "2020-04-17",
            "2020-04-18"
           ],
           "y": {
            "bdata": "AAE=",
            "dtype": "i1"
           }
          },
          {
           "mode": "lines+markers",
           "name": "user_18",
           "type": "scatter",
           "x": [],
           "y": []
          },
          {
           "mode": "lines+markers",
           "name": "user_19",
           "type": "scatter",
           "x": [],
           "y": []
          },
          {
           "mode": "lines+markers",
           "name": "user_2",
           "type": "scatter",
           "x": [],
           "y": []
          },
          {
           "mode": "lines+markers",
           "name": "user_20",
           "type": "scatter",
           "x": [],
           "y": []
          },
          {
           "mode": "lines+markers",
           "name": "user_21",
           "type": "scatter",
           "x": [],
           "y": []
          },
          {
           "mode": "lines+markers",
           "name": "user_22",
           "type": "scatter",
           "x": [],
           "y": []
          },
          {
           "mode": "lines+markers",
           "name": "user_24",
           "type": "scatter",
           "x": [],
           "y": []
          },
          {
           "mode": "lines+markers",
           "name": "user_25",
           "type": "scatter",
           "x": [],
           "y": []
          },
          {
           "mode": "lines+markers",
           "name": "user_26",
           "type": "scatter",
           "x": [],
           "y": []
          },
          {
           "mode": "lines+markers",
           "name": "user_27",
           "type": "scatter",
           "x": [],
           "y": []
          },
          {
           "mode": "lines+markers",
           "name": "user_28",
           "type": "scatter",
           "x": [],
           "y": []
          },
          {
           "mode": "lines+markers",
           "name": "user_29",
           "type": "scatter",
           "x": [],
           "y": []
          },
          {
           "mode": "lines+markers",
           "name": "user_3",
           "type": "scatter",
           "x": [],
           "y": []
          },
          {
           "mode": "lines+markers",
           "name": "user_30",
           "type": "scatter",
           "x": [],
           "y": []
          },
          {
           "mode": "lines+markers",
           "name": "user_31",
           "type": "scatter",
           "x": [],
           "y": []
          },
          {
           "mode": "lines+markers",
           "name": "user_4",
           "type": "scatter",
           "x": [
            "2020-04-16",
            "2020-04-17",
            "2020-04-19"
           ],
           "y": {
            "bdata": "AAcL",
            "dtype": "i1"
           }
          },
          {
           "mode": "lines+markers",
           "name": "user_6",
           "type": "scatter",
           "x": [],
           "y": []
          },
          {
           "mode": "lines+markers",
           "name": "user_8",
           "type": "scatter",
           "x": [],
           "y": []
          }
         ],
         "name": "2020-04-19"
        },
        {
         "data": [
          {
           "mode": "lines+markers",
           "name": "user_1",
           "type": "scatter",
           "x": [],
           "y": []
          },
          {
           "mode": "lines+markers",
           "name": "user_10",
           "type": "scatter",
           "x": [],
           "y": []
          },
          {
           "mode": "lines+markers",
           "name": "user_11",
           "type": "scatter",
           "x": [],
           "y": []
          },
          {
           "mode": "lines+markers",
           "name": "user_12",
           "type": "scatter",
           "x": [],
           "y": []
          },
          {
           "mode": "lines+markers",
           "name": "user_13",
           "type": "scatter",
           "x": [],
           "y": []
          },
          {
           "mode": "lines+markers",
           "name": "user_14",
           "type": "scatter",
           "x": [],
           "y": []
          },
          {
           "mode": "lines+markers",
           "name": "user_15",
           "type": "scatter",
           "x": [],
           "y": []
          },
          {
           "mode": "lines+markers",
           "name": "user_16",
           "type": "scatter",
           "x": [],
           "y": []
          },
          {
           "mode": "lines+markers",
           "name": "user_17",
           "type": "scatter",
           "x": [
            "2020-04-17",
            "2020-04-18"
           ],
           "y": {
            "bdata": "AAE=",
            "dtype": "i1"
           }
          },
          {
           "mode": "lines+markers",
           "name": "user_18",
           "type": "scatter",
           "x": [],
           "y": []
          },
          {
           "mode": "lines+markers",
           "name": "user_19",
           "type": "scatter",
           "x": [],
           "y": []
          },
          {
           "mode": "lines+markers",
           "name": "user_2",
           "type": "scatter",
           "x": [],
           "y": []
          },
          {
           "mode": "lines+markers",
           "name": "user_20",
           "type": "scatter",
           "x": [],
           "y": []
          },
          {
           "mode": "lines+markers",
           "name": "user_21",
           "type": "scatter",
           "x": [],
           "y": []
          },
          {
           "mode": "lines+markers",
           "name": "user_22",
           "type": "scatter",
           "x": [],
           "y": []
          },
          {
           "mode": "lines+markers",
           "name": "user_24",
           "type": "scatter",
           "x": [],
           "y": []
          },
          {
           "mode": "lines+markers",
           "name": "user_25",
           "type": "scatter",
           "x": [],
           "y": []
          },
          {
           "mode": "lines+markers",
           "name": "user_26",
           "type": "scatter",
           "x": [],
           "y": []
          },
          {
           "mode": "lines+markers",
           "name": "user_27",
           "type": "scatter",
           "x": [],
           "y": []
          },
          {
           "mode": "lines+markers",
           "name": "user_28",
           "type": "scatter",
           "x": [],
           "y": []
          },
          {
           "mode": "lines+markers",
           "name": "user_29",
           "type": "scatter",
           "x": [],
           "y": []
          },
          {
           "mode": "lines+markers",
           "name": "user_3",
           "type": "scatter",
           "x": [],
           "y": []
          },
          {
           "mode": "lines+markers",
           "name": "user_30",
           "type": "scatter",
           "x": [
            "2020-04-21"
           ],
           "y": {
            "bdata": "AA==",
            "dtype": "i1"
           }
          },
          {
           "mode": "lines+markers",
           "name": "user_31",
           "type": "scatter",
           "x": [],
           "y": []
          },
          {
           "mode": "lines+markers",
           "name": "user_4",
           "type": "scatter",
           "x": [
            "2020-04-16",
            "2020-04-17",
            "2020-04-19"
           ],
           "y": {
            "bdata": "AAcL",
            "dtype": "i1"
           }
          },
          {
           "mode": "lines+markers",
           "name": "user_6",
           "type": "scatter",
           "x": [],
           "y": []
          },
          {
           "mode": "lines+markers",
           "name": "user_8",
           "type": "scatter",
           "x": [],
           "y": []
          }
         ],
         "name": "2020-04-21"
        },
        {
         "data": [
          {
           "mode": "lines+markers",
           "name": "user_1",
           "type": "scatter",
           "x": [],
           "y": []
          },
          {
           "mode": "lines+markers",
           "name": "user_10",
           "type": "scatter",
           "x": [],
           "y": []
          },
          {
           "mode": "lines+markers",
           "name": "user_11",
           "type": "scatter",
           "x": [],
           "y": []
          },
          {
           "mode": "lines+markers",
           "name": "user_12",
           "type": "scatter",
           "x": [],
           "y": []
          },
          {
           "mode": "lines+markers",
           "name": "user_13",
           "type": "scatter",
           "x": [],
           "y": []
          },
          {
           "mode": "lines+markers",
           "name": "user_14",
           "type": "scatter",
           "x": [],
           "y": []
          },
          {
           "mode": "lines+markers",
           "name": "user_15",
           "type": "scatter",
           "x": [],
           "y": []
          },
          {
           "mode": "lines+markers",
           "name": "user_16",
           "type": "scatter",
           "x": [],
           "y": []
          },
          {
           "mode": "lines+markers",
           "name": "user_17",
           "type": "scatter",
           "x": [
            "2020-04-17",
            "2020-04-18"
           ],
           "y": {
            "bdata": "AAE=",
            "dtype": "i1"
           }
          },
          {
           "mode": "lines+markers",
           "name": "user_18",
           "type": "scatter",
           "x": [],
           "y": []
          },
          {
           "mode": "lines+markers",
           "name": "user_19",
           "type": "scatter",
           "x": [],
           "y": []
          },
          {
           "mode": "lines+markers",
           "name": "user_2",
           "type": "scatter",
           "x": [],
           "y": []
          },
          {
           "mode": "lines+markers",
           "name": "user_20",
           "type": "scatter",
           "x": [],
           "y": []
          },
          {
           "mode": "lines+markers",
           "name": "user_21",
           "type": "scatter",
           "x": [],
           "y": []
          },
          {
           "mode": "lines+markers",
           "name": "user_22",
           "type": "scatter",
           "x": [],
           "y": []
          },
          {
           "mode": "lines+markers",
           "name": "user_24",
           "type": "scatter",
           "x": [],
           "y": []
          },
          {
           "mode": "lines+markers",
           "name": "user_25",
           "type": "scatter",
           "x": [],
           "y": []
          },
          {
           "mode": "lines+markers",
           "name": "user_26",
           "type": "scatter",
           "x": [],
           "y": []
          },
          {
           "mode": "lines+markers",
           "name": "user_27",
           "type": "scatter",
           "x": [],
           "y": []
          },
          {
           "mode": "lines+markers",
           "name": "user_28",
           "type": "scatter",
           "x": [],
           "y": []
          },
          {
           "mode": "lines+markers",
           "name": "user_29",
           "type": "scatter",
           "x": [],
           "y": []
          },
          {
           "mode": "lines+markers",
           "name": "user_3",
           "type": "scatter",
           "x": [],
           "y": []
          },
          {
           "mode": "lines+markers",
           "name": "user_30",
           "type": "scatter",
           "x": [
            "2020-04-21",
            "2020-04-22"
           ],
           "y": {
            "bdata": "AAE=",
            "dtype": "i1"
           }
          },
          {
           "mode": "lines+markers",
           "name": "user_31",
           "type": "scatter",
           "x": [],
           "y": []
          },
          {
           "mode": "lines+markers",
           "name": "user_4",
           "type": "scatter",
           "x": [
            "2020-04-16",
            "2020-04-17",
            "2020-04-19"
           ],
           "y": {
            "bdata": "AAcL",
            "dtype": "i1"
           }
          },
          {
           "mode": "lines+markers",
           "name": "user_6",
           "type": "scatter",
           "x": [],
           "y": []
          },
          {
           "mode": "lines+markers",
           "name": "user_8",
           "type": "scatter",
           "x": [],
           "y": []
          }
         ],
         "name": "2020-04-22"
        },
        {
         "data": [
          {
           "mode": "lines+markers",
           "name": "user_1",
           "type": "scatter",
           "x": [],
           "y": []
          },
          {
           "mode": "lines+markers",
           "name": "user_10",
           "type": "scatter",
           "x": [],
           "y": []
          },
          {
           "mode": "lines+markers",
           "name": "user_11",
           "type": "scatter",
           "x": [],
           "y": []
          },
          {
           "mode": "lines+markers",
           "name": "user_12",
           "type": "scatter",
           "x": [],
           "y": []
          },
          {
           "mode": "lines+markers",
           "name": "user_13",
           "type": "scatter",
           "x": [],
           "y": []
          },
          {
           "mode": "lines+markers",
           "name": "user_14",
           "type": "scatter",
           "x": [],
           "y": []
          },
          {
           "mode": "lines+markers",
           "name": "user_15",
           "type": "scatter",
           "x": [],
           "y": []
          },
          {
           "mode": "lines+markers",
           "name": "user_16",
           "type": "scatter",
           "x": [],
           "y": []
          },
          {
           "mode": "lines+markers",
           "name": "user_17",
           "type": "scatter",
           "x": [
            "2020-04-17",
            "2020-04-18"
           ],
           "y": {
            "bdata": "AAE=",
            "dtype": "i1"
           }
          },
          {
           "mode": "lines+markers",
           "name": "user_18",
           "type": "scatter",
           "x": [],
           "y": []
          },
          {
           "mode": "lines+markers",
           "name": "user_19",
           "type": "scatter",
           "x": [],
           "y": []
          },
          {
           "mode": "lines+markers",
           "name": "user_2",
           "type": "scatter",
           "x": [],
           "y": []
          },
          {
           "mode": "lines+markers",
           "name": "user_20",
           "type": "scatter",
           "x": [],
           "y": []
          },
          {
           "mode": "lines+markers",
           "name": "user_21",
           "type": "scatter",
           "x": [],
           "y": []
          },
          {
           "mode": "lines+markers",
           "name": "user_22",
           "type": "scatter",
           "x": [],
           "y": []
          },
          {
           "mode": "lines+markers",
           "name": "user_24",
           "type": "scatter",
           "x": [],
           "y": []
          },
          {
           "mode": "lines+markers",
           "name": "user_25",
           "type": "scatter",
           "x": [],
           "y": []
          },
          {
           "mode": "lines+markers",
           "name": "user_26",
           "type": "scatter",
           "x": [],
           "y": []
          },
          {
           "mode": "lines+markers",
           "name": "user_27",
           "type": "scatter",
           "x": [],
           "y": []
          },
          {
           "mode": "lines+markers",
           "name": "user_28",
           "type": "scatter",
           "x": [],
           "y": []
          },
          {
           "mode": "lines+markers",
           "name": "user_29",
           "type": "scatter",
           "x": [],
           "y": []
          },
          {
           "mode": "lines+markers",
           "name": "user_3",
           "type": "scatter",
           "x": [],
           "y": []
          },
          {
           "mode": "lines+markers",
           "name": "user_30",
           "type": "scatter",
           "x": [
            "2020-04-21",
            "2020-04-22",
            "2020-04-23"
           ],
           "y": {
            "bdata": "AAEC",
            "dtype": "i1"
           }
          },
          {
           "mode": "lines+markers",
           "name": "user_31",
           "type": "scatter",
           "x": [],
           "y": []
          },
          {
           "mode": "lines+markers",
           "name": "user_4",
           "type": "scatter",
           "x": [
            "2020-04-16",
            "2020-04-17",
            "2020-04-19",
            "2020-04-23"
           ],
           "y": {
            "bdata": "AAcLFA==",
            "dtype": "i1"
           }
          },
          {
           "mode": "lines+markers",
           "name": "user_6",
           "type": "scatter",
           "x": [],
           "y": []
          },
          {
           "mode": "lines+markers",
           "name": "user_8",
           "type": "scatter",
           "x": [],
           "y": []
          }
         ],
         "name": "2020-04-23"
        },
        {
         "data": [
          {
           "mode": "lines+markers",
           "name": "user_1",
           "type": "scatter",
           "x": [],
           "y": []
          },
          {
           "mode": "lines+markers",
           "name": "user_10",
           "type": "scatter",
           "x": [],
           "y": []
          },
          {
           "mode": "lines+markers",
           "name": "user_11",
           "type": "scatter",
           "x": [],
           "y": []
          },
          {
           "mode": "lines+markers",
           "name": "user_12",
           "type": "scatter",
           "x": [],
           "y": []
          },
          {
           "mode": "lines+markers",
           "name": "user_13",
           "type": "scatter",
           "x": [],
           "y": []
          },
          {
           "mode": "lines+markers",
           "name": "user_14",
           "type": "scatter",
           "x": [],
           "y": []
          },
          {
           "mode": "lines+markers",
           "name": "user_15",
           "type": "scatter",
           "x": [],
           "y": []
          },
          {
           "mode": "lines+markers",
           "name": "user_16",
           "type": "scatter",
           "x": [],
           "y": []
          },
          {
           "mode": "lines+markers",
           "name": "user_17",
           "type": "scatter",
           "x": [
            "2020-04-17",
            "2020-04-18"
           ],
           "y": {
            "bdata": "AAE=",
            "dtype": "i1"
           }
          },
          {
           "mode": "lines+markers",
           "name": "user_18",
           "type": "scatter",
           "x": [],
           "y": []
          },
          {
           "mode": "lines+markers",
           "name": "user_19",
           "type": "scatter",
           "x": [],
           "y": []
          },
          {
           "mode": "lines+markers",
           "name": "user_2",
           "type": "scatter",
           "x": [],
           "y": []
          },
          {
           "mode": "lines+markers",
           "name": "user_20",
           "type": "scatter",
           "x": [],
           "y": []
          },
          {
           "mode": "lines+markers",
           "name": "user_21",
           "type": "scatter",
           "x": [],
           "y": []
          },
          {
           "mode": "lines+markers",
           "name": "user_22",
           "type": "scatter",
           "x": [],
           "y": []
          },
          {
           "mode": "lines+markers",
           "name": "user_24",
           "type": "scatter",
           "x": [],
           "y": []
          },
          {
           "mode": "lines+markers",
           "name": "user_25",
           "type": "scatter",
           "x": [],
           "y": []
          },
          {
           "mode": "lines+markers",
           "name": "user_26",
           "type": "scatter",
           "x": [],
           "y": []
          },
          {
           "mode": "lines+markers",
           "name": "user_27",
           "type": "scatter",
           "x": [],
           "y": []
          },
          {
           "mode": "lines+markers",
           "name": "user_28",
           "type": "scatter",
           "x": [],
           "y": []
          },
          {
           "mode": "lines+markers",
           "name": "user_29",
           "type": "scatter",
           "x": [],
           "y": []
          },
          {
           "mode": "lines+markers",
           "name": "user_3",
           "type": "scatter",
           "x": [],
           "y": []
          },
          {
           "mode": "lines+markers",
           "name": "user_30",
           "type": "scatter",
           "x": [
            "2020-04-21",
            "2020-04-22",
            "2020-04-23"
           ],
           "y": {
            "bdata": "AAEC",
            "dtype": "i1"
           }
          },
          {
           "mode": "lines+markers",
           "name": "user_31",
           "type": "scatter",
           "x": [],
           "y": []
          },
          {
           "mode": "lines+markers",
           "name": "user_4",
           "type": "scatter",
           "x": [
            "2020-04-16",
            "2020-04-17",
            "2020-04-19",
            "2020-04-23",
            "2020-04-24"
           ],
           "y": {
            "bdata": "AAcLFBs=",
            "dtype": "i1"
           }
          },
          {
           "mode": "lines+markers",
           "name": "user_6",
           "type": "scatter",
           "x": [],
           "y": []
          },
          {
           "mode": "lines+markers",
           "name": "user_8",
           "type": "scatter",
           "x": [],
           "y": []
          }
         ],
         "name": "2020-04-24"
        },
        {
         "data": [
          {
           "mode": "lines+markers",
           "name": "user_1",
           "type": "scatter",
           "x": [],
           "y": []
          },
          {
           "mode": "lines+markers",
           "name": "user_10",
           "type": "scatter",
           "x": [],
           "y": []
          },
          {
           "mode": "lines+markers",
           "name": "user_11",
           "type": "scatter",
           "x": [
            "2020-05-02"
           ],
           "y": {
            "bdata": "AA==",
            "dtype": "i1"
           }
          },
          {
           "mode": "lines+markers",
           "name": "user_12",
           "type": "scatter",
           "x": [],
           "y": []
          },
          {
           "mode": "lines+markers",
           "name": "user_13",
           "type": "scatter",
           "x": [],
           "y": []
          },
          {
           "mode": "lines+markers",
           "name": "user_14",
           "type": "scatter",
           "x": [],
           "y": []
          },
          {
           "mode": "lines+markers",
           "name": "user_15",
           "type": "scatter",
           "x": [],
           "y": []
          },
          {
           "mode": "lines+markers",
           "name": "user_16",
           "type": "scatter",
           "x": [],
           "y": []
          },
          {
           "mode": "lines+markers",
           "name": "user_17",
           "type": "scatter",
           "x": [
            "2020-04-17",
            "2020-04-18"
           ],
           "y": {
            "bdata": "AAE=",
            "dtype": "i1"
           }
          },
          {
           "mode": "lines+markers",
           "name": "user_18",
           "type": "scatter",
           "x": [],
           "y": []
          },
          {
           "mode": "lines+markers",
           "name": "user_19",
           "type": "scatter",
           "x": [],
           "y": []
          },
          {
           "mode": "lines+markers",
           "name": "user_2",
           "type": "scatter",
           "x": [],
           "y": []
          },
          {
           "mode": "lines+markers",
           "name": "user_20",
           "type": "scatter",
           "x": [],
           "y": []
          },
          {
           "mode": "lines+markers",
           "name": "user_21",
           "type": "scatter",
           "x": [],
           "y": []
          },
          {
           "mode": "lines+markers",
           "name": "user_22",
           "type": "scatter",
           "x": [
            "2020-05-02"
           ],
           "y": {
            "bdata": "AA==",
            "dtype": "i1"
           }
          },
          {
           "mode": "lines+markers",
           "name": "user_24",
           "type": "scatter",
           "x": [],
           "y": []
          },
          {
           "mode": "lines+markers",
           "name": "user_25",
           "type": "scatter",
           "x": [],
           "y": []
          },
          {
           "mode": "lines+markers",
           "name": "user_26",
           "type": "scatter",
           "x": [],
           "y": []
          },
          {
           "mode": "lines+markers",
           "name": "user_27",
           "type": "scatter",
           "x": [],
           "y": []
          },
          {
           "mode": "lines+markers",
           "name": "user_28",
           "type": "scatter",
           "x": [],
           "y": []
          },
          {
           "mode": "lines+markers",
           "name": "user_29",
           "type": "scatter",
           "x": [],
           "y": []
          },
          {
           "mode": "lines+markers",
           "name": "user_3",
           "type": "scatter",
           "x": [],
           "y": []
          },
          {
           "mode": "lines+markers",
           "name": "user_30",
           "type": "scatter",
           "x": [
            "2020-04-21",
            "2020-04-22",
            "2020-04-23"
           ],
           "y": {
            "bdata": "AAEC",
            "dtype": "i1"
           }
          },
          {
           "mode": "lines+markers",
           "name": "user_31",
           "type": "scatter",
           "x": [],
           "y": []
          },
          {
           "mode": "lines+markers",
           "name": "user_4",
           "type": "scatter",
           "x": [
            "2020-04-16",
            "2020-04-17",
            "2020-04-19",
            "2020-04-23",
            "2020-04-24"
           ],
           "y": {
            "bdata": "AAcLFBs=",
            "dtype": "i1"
           }
          },
          {
           "mode": "lines+markers",
           "name": "user_6",
           "type": "scatter",
           "x": [],
           "y": []
          },
          {
           "mode": "lines+markers",
           "name": "user_8",
           "type": "scatter",
           "x": [],
           "y": []
          }
         ],
         "name": "2020-05-02"
        },
        {
         "data": [
          {
           "mode": "lines+markers",
           "name": "user_1",
           "type": "scatter",
           "x": [],
           "y": []
          },
          {
           "mode": "lines+markers",
           "name": "user_10",
           "type": "scatter",
           "x": [],
           "y": []
          },
          {
           "mode": "lines+markers",
           "name": "user_11",
           "type": "scatter",
           "x": [
            "2020-05-02",
            "2020-05-03"
           ],
           "y": {
            "bdata": "AAE=",
            "dtype": "i1"
           }
          },
          {
           "mode": "lines+markers",
           "name": "user_12",
           "type": "scatter",
           "x": [],
           "y": []
          },
          {
           "mode": "lines+markers",
           "name": "user_13",
           "type": "scatter",
           "x": [],
           "y": []
          },
          {
           "mode": "lines+markers",
           "name": "user_14",
           "type": "scatter",
           "x": [],
           "y": []
          },
          {
           "mode": "lines+markers",
           "name": "user_15",
           "type": "scatter",
           "x": [],
           "y": []
          },
          {
           "mode": "lines+markers",
           "name": "user_16",
           "type": "scatter",
           "x": [],
           "y": []
          },
          {
           "mode": "lines+markers",
           "name": "user_17",
           "type": "scatter",
           "x": [
            "2020-04-17",
            "2020-04-18"
           ],
           "y": {
            "bdata": "AAE=",
            "dtype": "i1"
           }
          },
          {
           "mode": "lines+markers",
           "name": "user_18",
           "type": "scatter",
           "x": [],
           "y": []
          },
          {
           "mode": "lines+markers",
           "name": "user_19",
           "type": "scatter",
           "x": [],
           "y": []
          },
          {
           "mode": "lines+markers",
           "name": "user_2",
           "type": "scatter",
           "x": [],
           "y": []
          },
          {
           "mode": "lines+markers",
           "name": "user_20",
           "type": "scatter",
           "x": [],
           "y": []
          },
          {
           "mode": "lines+markers",
           "name": "user_21",
           "type": "scatter",
           "x": [],
           "y": []
          },
          {
           "mode": "lines+markers",
           "name": "user_22",
           "type": "scatter",
           "x": [
            "2020-05-02",
            "2020-05-03"
           ],
           "y": {
            "bdata": "AAE=",
            "dtype": "i1"
           }
          },
          {
           "mode": "lines+markers",
           "name": "user_24",
           "type": "scatter",
           "x": [],
           "y": []
          },
          {
           "mode": "lines+markers",
           "name": "user_25",
           "type": "scatter",
           "x": [],
           "y": []
          },
          {
           "mode": "lines+markers",
           "name": "user_26",
           "type": "scatter",
           "x": [],
           "y": []
          },
          {
           "mode": "lines+markers",
           "name": "user_27",
           "type": "scatter",
           "x": [],
           "y": []
          },
          {
           "mode": "lines+markers",
           "name": "user_28",
           "type": "scatter",
           "x": [],
           "y": []
          },
          {
           "mode": "lines+markers",
           "name": "user_29",
           "type": "scatter",
           "x": [],
           "y": []
          },
          {
           "mode": "lines+markers",
           "name": "user_3",
           "type": "scatter",
           "x": [],
           "y": []
          },
          {
           "mode": "lines+markers",
           "name": "user_30",
           "type": "scatter",
           "x": [
            "2020-04-21",
            "2020-04-22",
            "2020-04-23",
            "2020-05-03"
           ],
           "y": {
            "bdata": "AAECBA==",
            "dtype": "i1"
           }
          },
          {
           "mode": "lines+markers",
           "name": "user_31",
           "type": "scatter",
           "x": [],
           "y": []
          },
          {
           "mode": "lines+markers",
           "name": "user_4",
           "type": "scatter",
           "x": [
            "2020-04-16",
            "2020-04-17",
            "2020-04-19",
            "2020-04-23",
            "2020-04-24",
            "2020-05-03"
           ],
           "y": {
            "bdata": "AAcLFBsj",
            "dtype": "i1"
           }
          },
          {
           "mode": "lines+markers",
           "name": "user_6",
           "type": "scatter",
           "x": [],
           "y": []
          },
          {
           "mode": "lines+markers",
           "name": "user_8",
           "type": "scatter",
           "x": [],
           "y": []
          }
         ],
         "name": "2020-05-03"
        },
        {
         "data": [
          {
           "mode": "lines+markers",
           "name": "user_1",
           "type": "scatter",
           "x": [],
           "y": []
          },
          {
           "mode": "lines+markers",
           "name": "user_10",
           "type": "scatter",
           "x": [],
           "y": []
          },
          {
           "mode": "lines+markers",
           "name": "user_11",
           "type": "scatter",
           "x": [
            "2020-05-02",
            "2020-05-03"
           ],
           "y": {
            "bdata": "AAE=",
            "dtype": "i1"
           }
          },
          {
           "mode": "lines+markers",
           "name": "user_12",
           "type": "scatter",
           "x": [],
           "y": []
          },
          {
           "mode": "lines+markers",
           "name": "user_13",
           "type": "scatter",
           "x": [],
           "y": []
          },
          {
           "mode": "lines+markers",
           "name": "user_14",
           "type": "scatter",
           "x": [
            "2020-05-04"
           ],
           "y": {
            "bdata": "AA==",
            "dtype": "i1"
           }
          },
          {
           "mode": "lines+markers",
           "name": "user_15",
           "type": "scatter",
           "x": [],
           "y": []
          },
          {
           "mode": "lines+markers",
           "name": "user_16",
           "type": "scatter",
           "x": [],
           "y": []
          },
          {
           "mode": "lines+markers",
           "name": "user_17",
           "type": "scatter",
           "x": [
            "2020-04-17",
            "2020-04-18"
           ],
           "y": {
            "bdata": "AAE=",
            "dtype": "i1"
           }
          },
          {
           "mode": "lines+markers",
           "name": "user_18",
           "type": "scatter",
           "x": [],
           "y": []
          },
          {
           "mode": "lines+markers",
           "name": "user_19",
           "type": "scatter",
           "x": [],
           "y": []
          },
          {
           "mode": "lines+markers",
           "name": "user_2",
           "type": "scatter",
           "x": [
            "2020-05-04"
           ],
           "y": {
            "bdata": "AA==",
            "dtype": "i1"
           }
          },
          {
           "mode": "lines+markers",
           "name": "user_20",
           "type": "scatter",
           "x": [],
           "y": []
          },
          {
           "mode": "lines+markers",
           "name": "user_21",
           "type": "scatter",
           "x": [],
           "y": []
          },
          {
           "mode": "lines+markers",
           "name": "user_22",
           "type": "scatter",
           "x": [
            "2020-05-02",
            "2020-05-03"
           ],
           "y": {
            "bdata": "AAE=",
            "dtype": "i1"
           }
          },
          {
           "mode": "lines+markers",
           "name": "user_24",
           "type": "scatter",
           "x": [],
           "y": []
          },
          {
           "mode": "lines+markers",
           "name": "user_25",
           "type": "scatter",
           "x": [],
           "y": []
          },
          {
           "mode": "lines+markers",
           "name": "user_26",
           "type": "scatter",
           "x": [],
           "y": []
          },
          {
           "mode": "lines+markers",
           "name": "user_27",
           "type": "scatter",
           "x": [],
           "y": []
          },
          {
           "mode": "lines+markers",
           "name": "user_28",
           "type": "scatter",
           "x": [],
           "y": []
          },
          {
           "mode": "lines+markers",
           "name": "user_29",
           "type": "scatter",
           "x": [],
           "y": []
          },
          {
           "mode": "lines+markers",
           "name": "user_3",
           "type": "scatter",
           "x": [],
           "y": []
          },
          {
           "mode": "lines+markers",
           "name": "user_30",
           "type": "scatter",
           "x": [
            "2020-04-21",
            "2020-04-22",
            "2020-04-23",
            "2020-05-03",
            "2020-05-04"
           ],
           "y": {
            "bdata": "AAECBAU=",
            "dtype": "i1"
           }
          },
          {
           "mode": "lines+markers",
           "name": "user_31",
           "type": "scatter",
           "x": [],
           "y": []
          },
          {
           "mode": "lines+markers",
           "name": "user_4",
           "type": "scatter",
           "x": [
            "2020-04-16",
            "2020-04-17",
            "2020-04-19",
            "2020-04-23",
            "2020-04-24",
            "2020-05-03",
            "2020-05-04"
           ],
           "y": {
            "bdata": "AAcLFBsjMA==",
            "dtype": "i1"
           }
          },
          {
           "mode": "lines+markers",
           "name": "user_6",
           "type": "scatter",
           "x": [],
           "y": []
          },
          {
           "mode": "lines+markers",
           "name": "user_8",
           "type": "scatter",
           "x": [],
           "y": []
          }
         ],
         "name": "2020-05-04"
        },
        {
         "data": [
          {
           "mode": "lines+markers",
           "name": "user_1",
           "type": "scatter",
           "x": [],
           "y": []
          },
          {
           "mode": "lines+markers",
           "name": "user_10",
           "type": "scatter",
           "x": [],
           "y": []
          },
          {
           "mode": "lines+markers",
           "name": "user_11",
           "type": "scatter",
           "x": [
            "2020-05-02",
            "2020-05-03"
           ],
           "y": {
            "bdata": "AAE=",
            "dtype": "i1"
           }
          },
          {
           "mode": "lines+markers",
           "name": "user_12",
           "type": "scatter",
           "x": [],
           "y": []
          },
          {
           "mode": "lines+markers",
           "name": "user_13",
           "type": "scatter",
           "x": [],
           "y": []
          },
          {
           "mode": "lines+markers",
           "name": "user_14",
           "type": "scatter",
           "x": [
            "2020-05-04",
            "2020-05-05"
           ],
           "y": {
            "bdata": "AAE=",
            "dtype": "i1"
           }
          },
          {
           "mode": "lines+markers",
           "name": "user_15",
           "type": "scatter",
           "x": [],
           "y": []
          },
          {
           "mode": "lines+markers",
           "name": "user_16",
           "type": "scatter",
           "x": [],
           "y": []
          },
          {
           "mode": "lines+markers",
           "name": "user_17",
           "type": "scatter",
           "x": [
            "2020-04-17",
            "2020-04-18"
           ],
           "y": {
            "bdata": "AAE=",
            "dtype": "i1"
           }
          },
          {
           "mode": "lines+markers",
           "name": "user_18",
           "type": "scatter",
           "x": [],
           "y": []
          },
          {
           "mode": "lines+markers",
           "name": "user_19",
           "type": "scatter",
           "x": [],
           "y": []
          },
          {
           "mode": "lines+markers",
           "name": "user_2",
           "type": "scatter",
           "x": [
            "2020-05-04",
            "2020-05-05"
           ],
           "y": {
            "bdata": "ADk=",
            "dtype": "i1"
           }
          },
          {
           "mode": "lines+markers",
           "name": "user_20",
           "type": "scatter",
           "x": [],
           "y": []
          },
          {
           "mode": "lines+markers",
           "name": "user_21",
           "type": "scatter",
           "x": [],
           "y": []
          },
          {
           "mode": "lines+markers",
           "name": "user_22",
           "type": "scatter",
           "x": [
            "2020-05-02",
            "2020-05-03"
           ],
           "y": {
            "bdata": "AAE=",
            "dtype": "i1"
           }
          },
          {
           "mode": "lines+markers",
           "name": "user_24",
           "type": "scatter",
           "x": [],
           "y": []
          },
          {
           "mode": "lines+markers",
           "name": "user_25",
           "type": "scatter",
           "x": [],
           "y": []
          },
          {
           "mode": "lines+markers",
           "name": "user_26",
           "type": "scatter",
           "x": [],
           "y": []
          },
          {
           "mode": "lines+markers",
           "name": "user_27",
           "type": "scatter",
           "x": [],
           "y": []
          },
          {
           "mode": "lines+markers",
           "name": "user_28",
           "type": "scatter",
           "x": [],
           "y": []
          },
          {
           "mode": "lines+markers",
           "name": "user_29",
           "type": "scatter",
           "x": [],
           "y": []
          },
          {
           "mode": "lines+markers",
           "name": "user_3",
           "type": "scatter",
           "x": [],
           "y": []
          },
          {
           "mode": "lines+markers",
           "name": "user_30",
           "type": "scatter",
           "x": [
            "2020-04-21",
            "2020-04-22",
            "2020-04-23",
            "2020-05-03",
            "2020-05-04"
           ],
           "y": {
            "bdata": "AAECBAU=",
            "dtype": "i1"
           }
          },
          {
           "mode": "lines+markers",
           "name": "user_31",
           "type": "scatter",
           "x": [],
           "y": []
          },
          {
           "mode": "lines+markers",
           "name": "user_4",
           "type": "scatter",
           "x": [
            "2020-04-16",
            "2020-04-17",
            "2020-04-19",
            "2020-04-23",
            "2020-04-24",
            "2020-05-03",
            "2020-05-04",
            "2020-05-05"
           ],
           "y": {
            "bdata": "AAcLFBsjMDU=",
            "dtype": "i1"
           }
          },
          {
           "mode": "lines+markers",
           "name": "user_6",
           "type": "scatter",
           "x": [],
           "y": []
          },
          {
           "mode": "lines+markers",
           "name": "user_8",
           "type": "scatter",
           "x": [],
           "y": []
          }
         ],
         "name": "2020-05-05"
        },
        {
         "data": [
          {
           "mode": "lines+markers",
           "name": "user_1",
           "type": "scatter",
           "x": [],
           "y": []
          },
          {
           "mode": "lines+markers",
           "name": "user_10",
           "type": "scatter",
           "x": [],
           "y": []
          },
          {
           "mode": "lines+markers",
           "name": "user_11",
           "type": "scatter",
           "x": [
            "2020-05-02",
            "2020-05-03"
           ],
           "y": {
            "bdata": "AAE=",
            "dtype": "i1"
           }
          },
          {
           "mode": "lines+markers",
           "name": "user_12",
           "type": "scatter",
           "x": [],
           "y": []
          },
          {
           "mode": "lines+markers",
           "name": "user_13",
           "type": "scatter",
           "x": [],
           "y": []
          },
          {
           "mode": "lines+markers",
           "name": "user_14",
           "type": "scatter",
           "x": [
            "2020-05-04",
            "2020-05-05"
           ],
           "y": {
            "bdata": "AAE=",
            "dtype": "i1"
           }
          },
          {
           "mode": "lines+markers",
           "name": "user_15",
           "type": "scatter",
           "x": [],
           "y": []
          },
          {
           "mode": "lines+markers",
           "name": "user_16",
           "type": "scatter",
           "x": [],
           "y": []
          },
          {
           "mode": "lines+markers",
           "name": "user_17",
           "type": "scatter",
           "x": [
            "2020-04-17",
            "2020-04-18"
           ],
           "y": {
            "bdata": "AAE=",
            "dtype": "i1"
           }
          },
          {
           "mode": "lines+markers",
           "name": "user_18",
           "type": "scatter",
           "x": [],
           "y": []
          },
          {
           "mode": "lines+markers",
           "name": "user_19",
           "type": "scatter",
           "x": [],
           "y": []
          },
          {
           "mode": "lines+markers",
           "name": "user_2",
           "type": "scatter",
           "x": [
            "2020-05-04",
            "2020-05-05",
            "2020-05-06"
           ],
           "y": {
            "bdata": "ADk6",
            "dtype": "i1"
           }
          },
          {
           "mode": "lines+markers",
           "name": "user_20",
           "type": "scatter",
           "x": [],
           "y": []
          },
          {
           "mode": "lines+markers",
           "name": "user_21",
           "type": "scatter",
           "x": [],
           "y": []
          },
          {
           "mode": "lines+markers",
           "name": "user_22",
           "type": "scatter",
           "x": [
            "2020-05-02",
            "2020-05-03"
           ],
           "y": {
            "bdata": "AAE=",
            "dtype": "i1"
           }
          },
          {
           "mode": "lines+markers",
           "name": "user_24",
           "type": "scatter",
           "x": [],
           "y": []
          },
          {
           "mode": "lines+markers",
           "name": "user_25",
           "type": "scatter",
           "x": [],
           "y": []
          },
          {
           "mode": "lines+markers",
           "name": "user_26",
           "type": "scatter",
           "x": [],
           "y": []
          },
          {
           "mode": "lines+markers",
           "name": "user_27",
           "type": "scatter",
           "x": [],
           "y": []
          },
          {
           "mode": "lines+markers",
           "name": "user_28",
           "type": "scatter",
           "x": [],
           "y": []
          },
          {
           "mode": "lines+markers",
           "name": "user_29",
           "type": "scatter",
           "x": [],
           "y": []
          },
          {
           "mode": "lines+markers",
           "name": "user_3",
           "type": "scatter",
           "x": [
            "2020-05-06"
           ],
           "y": {
            "bdata": "AA==",
            "dtype": "i1"
           }
          },
          {
           "mode": "lines+markers",
           "name": "user_30",
           "type": "scatter",
           "x": [
            "2020-04-21",
            "2020-04-22",
            "2020-04-23",
            "2020-05-03",
            "2020-05-04"
           ],
           "y": {
            "bdata": "AAECBAU=",
            "dtype": "i1"
           }
          },
          {
           "mode": "lines+markers",
           "name": "user_31",
           "type": "scatter",
           "x": [
            "2020-05-06"
           ],
           "y": {
            "bdata": "AA==",
            "dtype": "i1"
           }
          },
          {
           "mode": "lines+markers",
           "name": "user_4",
           "type": "scatter",
           "x": [
            "2020-04-16",
            "2020-04-17",
            "2020-04-19",
            "2020-04-23",
            "2020-04-24",
            "2020-05-03",
            "2020-05-04",
            "2020-05-05"
           ],
           "y": {
            "bdata": "AAcLFBsjMDU=",
            "dtype": "i1"
           }
          },
          {
           "mode": "lines+markers",
           "name": "user_6",
           "type": "scatter",
           "x": [],
           "y": []
          },
          {
           "mode": "lines+markers",
           "name": "user_8",
           "type": "scatter",
           "x": [],
           "y": []
          }
         ],
         "name": "2020-05-06"
        },
        {
         "data": [
          {
           "mode": "lines+markers",
           "name": "user_1",
           "type": "scatter",
           "x": [],
           "y": []
          },
          {
           "mode": "lines+markers",
           "name": "user_10",
           "type": "scatter",
           "x": [],
           "y": []
          },
          {
           "mode": "lines+markers",
           "name": "user_11",
           "type": "scatter",
           "x": [
            "2020-05-02",
            "2020-05-03"
           ],
           "y": {
            "bdata": "AAE=",
            "dtype": "i1"
           }
          },
          {
           "mode": "lines+markers",
           "name": "user_12",
           "type": "scatter",
           "x": [],
           "y": []
          },
          {
           "mode": "lines+markers",
           "name": "user_13",
           "type": "scatter",
           "x": [],
           "y": []
          },
          {
           "mode": "lines+markers",
           "name": "user_14",
           "type": "scatter",
           "x": [
            "2020-05-04",
            "2020-05-05"
           ],
           "y": {
            "bdata": "AAE=",
            "dtype": "i1"
           }
          },
          {
           "mode": "lines+markers",
           "name": "user_15",
           "type": "scatter",
           "x": [],
           "y": []
          },
          {
           "mode": "lines+markers",
           "name": "user_16",
           "type": "scatter",
           "x": [],
           "y": []
          },
          {
           "mode": "lines+markers",
           "name": "user_17",
           "type": "scatter",
           "x": [
            "2020-04-17",
            "2020-04-18"
           ],
           "y": {
            "bdata": "AAE=",
            "dtype": "i1"
           }
          },
          {
           "mode": "lines+markers",
           "name": "user_18",
           "type": "scatter",
           "x": [],
           "y": []
          },
          {
           "mode": "lines+markers",
           "name": "user_19",
           "type": "scatter",
           "x": [],
           "y": []
          },
          {
           "mode": "lines+markers",
           "name": "user_2",
           "type": "scatter",
           "x": [
            "2020-05-04",
            "2020-05-05",
            "2020-05-06"
           ],
           "y": {
            "bdata": "ADk6",
            "dtype": "i1"
           }
          },
          {
           "mode": "lines+markers",
           "name": "user_20",
           "type": "scatter",
           "x": [],
           "y": []
          },
          {
           "mode": "lines+markers",
           "name": "user_21",
           "type": "scatter",
           "x": [],
           "y": []
          },
          {
           "mode": "lines+markers",
           "name": "user_22",
           "type": "scatter",
           "x": [
            "2020-05-02",
            "2020-05-03"
           ],
           "y": {
            "bdata": "AAE=",
            "dtype": "i1"
           }
          },
          {
           "mode": "lines+markers",
           "name": "user_24",
           "type": "scatter",
           "x": [],
           "y": []
          },
          {
           "mode": "lines+markers",
           "name": "user_25",
           "type": "scatter",
           "x": [
            "2020-05-07"
           ],
           "y": {
            "bdata": "AA==",
            "dtype": "i1"
           }
          },
          {
           "mode": "lines+markers",
           "name": "user_26",
           "type": "scatter",
           "x": [],
           "y": []
          },
          {
           "mode": "lines+markers",
           "name": "user_27",
           "type": "scatter",
           "x": [],
           "y": []
          },
          {
           "mode": "lines+markers",
           "name": "user_28",
           "type": "scatter",
           "x": [],
           "y": []
          },
          {
           "mode": "lines+markers",
           "name": "user_29",
           "type": "scatter",
           "x": [],
           "y": []
          },
          {
           "mode": "lines+markers",
           "name": "user_3",
           "type": "scatter",
           "x": [
            "2020-05-06",
            "2020-05-07"
           ],
           "y": {
            "bdata": "AAE=",
            "dtype": "i1"
           }
          },
          {
           "mode": "lines+markers",
           "name": "user_30",
           "type": "scatter",
           "x": [
            "2020-04-21",
            "2020-04-22",
            "2020-04-23",
            "2020-05-03",
            "2020-05-04",
            "2020-05-07"
           ],
           "y": {
            "bdata": "AAECBAUM",
            "dtype": "i1"
           }
          },
          {
           "mode": "lines+markers",
           "name": "user_31",
           "type": "scatter",
           "x": [
            "2020-05-06",
            "2020-05-07"
           ],
           "y": {
            "bdata": "AAE=",
            "dtype": "i1"
           }
          },
          {
           "mode": "lines+markers",
           "name": "user_4",
           "type": "scatter",
           "x": [
            "2020-04-16",
            "2020-04-17",
            "2020-04-19",
            "2020-04-23",
            "2020-04-24",
            "2020-05-03",
            "2020-05-04",
            "2020-05-05",
            "2020-05-07"
           ],
           "y": {
            "bdata": "AAcLFBsjMDVH",
            "dtype": "i1"
           }
          },
          {
           "mode": "lines+markers",
           "name": "user_6",
           "type": "scatter",
           "x": [],
           "y": []
          },
          {
           "mode": "lines+markers",
           "name": "user_8",
           "type": "scatter",
           "x": [],
           "y": []
          }
         ],
         "name": "2020-05-07"
        },
        {
         "data": [
          {
           "mode": "lines+markers",
           "name": "user_1",
           "type": "scatter",
           "x": [],
           "y": []
          },
          {
           "mode": "lines+markers",
           "name": "user_10",
           "type": "scatter",
           "x": [],
           "y": []
          },
          {
           "mode": "lines+markers",
           "name": "user_11",
           "type": "scatter",
           "x": [
            "2020-05-02",
            "2020-05-03"
           ],
           "y": {
            "bdata": "AAE=",
            "dtype": "i1"
           }
          },
          {
           "mode": "lines+markers",
           "name": "user_12",
           "type": "scatter",
           "x": [],
           "y": []
          },
          {
           "mode": "lines+markers",
           "name": "user_13",
           "type": "scatter",
           "x": [],
           "y": []
          },
          {
           "mode": "lines+markers",
           "name": "user_14",
           "type": "scatter",
           "x": [
            "2020-05-04",
            "2020-05-05"
           ],
           "y": {
            "bdata": "AAE=",
            "dtype": "i1"
           }
          },
          {
           "mode": "lines+markers",
           "name": "user_15",
           "type": "scatter",
           "x": [],
           "y": []
          },
          {
           "mode": "lines+markers",
           "name": "user_16",
           "type": "scatter",
           "x": [],
           "y": []
          },
          {
           "mode": "lines+markers",
           "name": "user_17",
           "type": "scatter",
           "x": [
            "2020-04-17",
            "2020-04-18"
           ],
           "y": {
            "bdata": "AAE=",
            "dtype": "i1"
           }
          },
          {
           "mode": "lines+markers",
           "name": "user_18",
           "type": "scatter",
           "x": [],
           "y": []
          },
          {
           "mode": "lines+markers",
           "name": "user_19",
           "type": "scatter",
           "x": [],
           "y": []
          },
          {
           "mode": "lines+markers",
           "name": "user_2",
           "type": "scatter",
           "x": [
            "2020-05-04",
            "2020-05-05",
            "2020-05-06"
           ],
           "y": {
            "bdata": "ADk6",
            "dtype": "i1"
           }
          },
          {
           "mode": "lines+markers",
           "name": "user_20",
           "type": "scatter",
           "x": [],
           "y": []
          },
          {
           "mode": "lines+markers",
           "name": "user_21",
           "type": "scatter",
           "x": [],
           "y": []
          },
          {
           "mode": "lines+markers",
           "name": "user_22",
           "type": "scatter",
           "x": [
            "2020-05-02",
            "2020-05-03"
           ],
           "y": {
            "bdata": "AAE=",
            "dtype": "i1"
           }
          },
          {
           "mode": "lines+markers",
           "name": "user_24",
           "type": "scatter",
           "x": [],
           "y": []
          },
          {
           "mode": "lines+markers",
           "name": "user_25",
           "type": "scatter",
           "x": [
            "2020-05-07",
            "2020-05-08"
           ],
           "y": {
            "bdata": "AAU=",
            "dtype": "i1"
           }
          },
          {
           "mode": "lines+markers",
           "name": "user_26",
           "type": "scatter",
           "x": [],
           "y": []
          },
          {
           "mode": "lines+markers",
           "name": "user_27",
           "type": "scatter",
           "x": [],
           "y": []
          },
          {
           "mode": "lines+markers",
           "name": "user_28",
           "type": "scatter",
           "x": [],
           "y": []
          },
          {
           "mode": "lines+markers",
           "name": "user_29",
           "type": "scatter",
           "x": [],
           "y": []
          },
          {
           "mode": "lines+markers",
           "name": "user_3",
           "type": "scatter",
           "x": [
            "2020-05-06",
            "2020-05-07",
            "2020-05-08"
           ],
           "y": {
            "bdata": "AAEc",
            "dtype": "i1"
           }
          },
          {
           "mode": "lines+markers",
           "name": "user_30",
           "type": "scatter",
           "x": [
            "2020-04-21",
            "2020-04-22",
            "2020-04-23",
            "2020-05-03",
            "2020-05-04",
            "2020-05-07"
           ],
           "y": {
            "bdata": "AAECBAUM",
            "dtype": "i1"
           }
          },
          {
           "mode": "lines+markers",
           "name": "user_31",
           "type": "scatter",
           "x": [
            "2020-05-06",
            "2020-05-07"
           ],
           "y": {
            "bdata": "AAE=",
            "dtype": "i1"
           }
          },
          {
           "mode": "lines+markers",
           "name": "user_4",
           "type": "scatter",
           "x": [
            "2020-04-16",
            "2020-04-17",
            "2020-04-19",
            "2020-04-23",
            "2020-04-24",
            "2020-05-03",
            "2020-05-04",
            "2020-05-05",
            "2020-05-07",
            "2020-05-08"
           ],
           "y": {
            "bdata": "AAcLFBsjMDVHUw==",
            "dtype": "i1"
           }
          },
          {
           "mode": "lines+markers",
           "name": "user_6",
           "type": "scatter",
           "x": [],
           "y": []
          },
          {
           "mode": "lines+markers",
           "name": "user_8",
           "type": "scatter",
           "x": [],
           "y": []
          }
         ],
         "name": "2020-05-08"
        },
        {
         "data": [
          {
           "mode": "lines+markers",
           "name": "user_1",
           "type": "scatter",
           "x": [],
           "y": []
          },
          {
           "mode": "lines+markers",
           "name": "user_10",
           "type": "scatter",
           "x": [],
           "y": []
          },
          {
           "mode": "lines+markers",
           "name": "user_11",
           "type": "scatter",
           "x": [
            "2020-05-02",
            "2020-05-03"
           ],
           "y": {
            "bdata": "AAE=",
            "dtype": "i1"
           }
          },
          {
           "mode": "lines+markers",
           "name": "user_12",
           "type": "scatter",
           "x": [],
           "y": []
          },
          {
           "mode": "lines+markers",
           "name": "user_13",
           "type": "scatter",
           "x": [],
           "y": []
          },
          {
           "mode": "lines+markers",
           "name": "user_14",
           "type": "scatter",
           "x": [
            "2020-05-04",
            "2020-05-05",
            "2020-05-09"
           ],
           "y": {
            "bdata": "AAES",
            "dtype": "i1"
           }
          },
          {
           "mode": "lines+markers",
           "name": "user_15",
           "type": "scatter",
           "x": [],
           "y": []
          },
          {
           "mode": "lines+markers",
           "name": "user_16",
           "type": "scatter",
           "x": [],
           "y": []
          },
          {
           "mode": "lines+markers",
           "name": "user_17",
           "type": "scatter",
           "x": [
            "2020-04-17",
            "2020-04-18"
           ],
           "y": {
            "bdata": "AAE=",
            "dtype": "i1"
           }
          },
          {
           "mode": "lines+markers",
           "name": "user_18",
           "type": "scatter",
           "x": [],
           "y": []
          },
          {
           "mode": "lines+markers",
           "name": "user_19",
           "type": "scatter",
           "x": [],
           "y": []
          },
          {
           "mode": "lines+markers",
           "name": "user_2",
           "type": "scatter",
           "x": [
            "2020-05-04",
            "2020-05-05",
            "2020-05-06"
           ],
           "y": {
            "bdata": "ADk6",
            "dtype": "i1"
           }
          },
          {
           "mode": "lines+markers",
           "name": "user_20",
           "type": "scatter",
           "x": [],
           "y": []
          },
          {
           "mode": "lines+markers",
           "name": "user_21",
           "type": "scatter",
           "x": [
            "2020-05-09"
           ],
           "y": {
            "bdata": "AA==",
            "dtype": "i1"
           }
          },
          {
           "mode": "lines+markers",
           "name": "user_22",
           "type": "scatter",
           "x": [
            "2020-05-02",
            "2020-05-03"
           ],
           "y": {
            "bdata": "AAE=",
            "dtype": "i1"
           }
          },
          {
           "mode": "lines+markers",
           "name": "user_24",
           "type": "scatter",
           "x": [],
           "y": []
          },
          {
           "mode": "lines+markers",
           "name": "user_25",
           "type": "scatter",
           "x": [
            "2020-05-07",
            "2020-05-08",
            "2020-05-09"
           ],
           "y": {
            "bdata": "AAUb",
            "dtype": "i1"
           }
          },
          {
           "mode": "lines+markers",
           "name": "user_26",
           "type": "scatter",
           "x": [
            "2020-05-09"
           ],
           "y": {
            "bdata": "AA==",
            "dtype": "i1"
           }
          },
          {
           "mode": "lines+markers",
           "name": "user_27",
           "type": "scatter",
           "x": [],
           "y": []
          },
          {
           "mode": "lines+markers",
           "name": "user_28",
           "type": "scatter",
           "x": [],
           "y": []
          },
          {
           "mode": "lines+markers",
           "name": "user_29",
           "type": "scatter",
           "x": [],
           "y": []
          },
          {
           "mode": "lines+markers",
           "name": "user_3",
           "type": "scatter",
           "x": [
            "2020-05-06",
            "2020-05-07",
            "2020-05-08",
            "2020-05-09"
           ],
           "y": {
            "bdata": "AAEcHQ==",
            "dtype": "i1"
           }
          },
          {
           "mode": "lines+markers",
           "name": "user_30",
           "type": "scatter",
           "x": [
            "2020-04-21",
            "2020-04-22",
            "2020-04-23",
            "2020-05-03",
            "2020-05-04",
            "2020-05-07"
           ],
           "y": {
            "bdata": "AAECBAUM",
            "dtype": "i1"
           }
          },
          {
           "mode": "lines+markers",
           "name": "user_31",
           "type": "scatter",
           "x": [
            "2020-05-06",
            "2020-05-07",
            "2020-05-09"
           ],
           "y": {
            "bdata": "AAEE",
            "dtype": "i1"
           }
          },
          {
           "mode": "lines+markers",
           "name": "user_4",
           "type": "scatter",
           "x": [
            "2020-04-16",
            "2020-04-17",
            "2020-04-19",
            "2020-04-23",
            "2020-04-24",
            "2020-05-03",
            "2020-05-04",
            "2020-05-05",
            "2020-05-07",
            "2020-05-08"
           ],
           "y": {
            "bdata": "AAcLFBsjMDVHUw==",
            "dtype": "i1"
           }
          },
          {
           "mode": "lines+markers",
           "name": "user_6",
           "type": "scatter",
           "x": [],
           "y": []
          },
          {
           "mode": "lines+markers",
           "name": "user_8",
           "type": "scatter",
           "x": [],
           "y": []
          }
         ],
         "name": "2020-05-09"
        },
        {
         "data": [
          {
           "mode": "lines+markers",
           "name": "user_1",
           "type": "scatter",
           "x": [],
           "y": []
          },
          {
           "mode": "lines+markers",
           "name": "user_10",
           "type": "scatter",
           "x": [],
           "y": []
          },
          {
           "mode": "lines+markers",
           "name": "user_11",
           "type": "scatter",
           "x": [
            "2020-05-02",
            "2020-05-03"
           ],
           "y": {
            "bdata": "AAE=",
            "dtype": "i1"
           }
          },
          {
           "mode": "lines+markers",
           "name": "user_12",
           "type": "scatter",
           "x": [],
           "y": []
          },
          {
           "mode": "lines+markers",
           "name": "user_13",
           "type": "scatter",
           "x": [
            "2020-05-10"
           ],
           "y": {
            "bdata": "AA==",
            "dtype": "i1"
           }
          },
          {
           "mode": "lines+markers",
           "name": "user_14",
           "type": "scatter",
           "x": [
            "2020-05-04",
            "2020-05-05",
            "2020-05-09",
            "2020-05-10"
           ],
           "y": {
            "bdata": "AAESGQ==",
            "dtype": "i1"
           }
          },
          {
           "mode": "lines+markers",
           "name": "user_15",
           "type": "scatter",
           "x": [],
           "y": []
          },
          {
           "mode": "lines+markers",
           "name": "user_16",
           "type": "scatter",
           "x": [],
           "y": []
          },
          {
           "mode": "lines+markers",
           "name": "user_17",
           "type": "scatter",
           "x": [
            "2020-04-17",
            "2020-04-18"
           ],
           "y": {
            "bdata": "AAE=",
            "dtype": "i1"
           }
          },
          {
           "mode": "lines+markers",
           "name": "user_18",
           "type": "scatter",
           "x": [
            "2020-05-10"
           ],
           "y": {
            "bdata": "AA==",
            "dtype": "i1"
           }
          },
          {
           "mode": "lines+markers",
           "name": "user_19",
           "type": "scatter",
           "x": [],
           "y": []
          },
          {
           "mode": "lines+markers",
           "name": "user_2",
           "type": "scatter",
           "x": [
            "2020-05-04",
            "2020-05-05",
            "2020-05-06",
            "2020-05-10"
           ],
           "y": {
            "bdata": "ADk6Pg==",
            "dtype": "i1"
           }
          },
          {
           "mode": "lines+markers",
           "name": "user_20",
           "type": "scatter",
           "x": [
            "2020-05-10"
           ],
           "y": {
            "bdata": "AA==",
            "dtype": "i1"
           }
          },
          {
           "mode": "lines+markers",
           "name": "user_21",
           "type": "scatter",
           "x": [
            "2020-05-09",
            "2020-05-10"
           ],
           "y": {
            "bdata": "AAc=",
            "dtype": "i1"
           }
          },
          {
           "mode": "lines+markers",
           "name": "user_22",
           "type": "scatter",
           "x": [
            "2020-05-02",
            "2020-05-03"
           ],
           "y": {
            "bdata": "AAE=",
            "dtype": "i1"
           }
          },
          {
           "mode": "lines+markers",
           "name": "user_24",
           "type": "scatter",
           "x": [],
           "y": []
          },
          {
           "mode": "lines+markers",
           "name": "user_25",
           "type": "scatter",
           "x": [
            "2020-05-07",
            "2020-05-08",
            "2020-05-09",
            "2020-05-10"
           ],
           "y": {
            "bdata": "AAUbHQ==",
            "dtype": "i1"
           }
          },
          {
           "mode": "lines+markers",
           "name": "user_26",
           "type": "scatter",
           "x": [
            "2020-05-09",
            "2020-05-10"
           ],
           "y": {
            "bdata": "ACM=",
            "dtype": "i1"
           }
          },
          {
           "mode": "lines+markers",
           "name": "user_27",
           "type": "scatter",
           "x": [],
           "y": []
          },
          {
           "mode": "lines+markers",
           "name": "user_28",
           "type": "scatter",
           "x": [],
           "y": []
          },
          {
           "mode": "lines+markers",
           "name": "user_29",
           "type": "scatter",
           "x": [
            "2020-05-10"
           ],
           "y": {
            "bdata": "AA==",
            "dtype": "i1"
           }
          },
          {
           "mode": "lines+markers",
           "name": "user_3",
           "type": "scatter",
           "x": [
            "2020-05-06",
            "2020-05-07",
            "2020-05-08",
            "2020-05-09",
            "2020-05-10"
           ],
           "y": {
            "bdata": "AAEcHR8=",
            "dtype": "i1"
           }
          },
          {
           "mode": "lines+markers",
           "name": "user_30",
           "type": "scatter",
           "x": [
            "2020-04-21",
            "2020-04-22",
            "2020-04-23",
            "2020-05-03",
            "2020-05-04",
            "2020-05-07",
            "2020-05-10"
           ],
           "y": {
            "bdata": "AAECBAUMEQ==",
            "dtype": "i1"
           }
          },
          {
           "mode": "lines+markers",
           "name": "user_31",
           "type": "scatter",
           "x": [
            "2020-05-06",
            "2020-05-07",
            "2020-05-09"
           ],
           "y": {
            "bdata": "AAEE",
            "dtype": "i1"
           }
          },
          {
           "mode": "lines+markers",
           "name": "user_4",
           "type": "scatter",
           "x": [
            "2020-04-16",
            "2020-04-17",
            "2020-04-19",
            "2020-04-23",
            "2020-04-24",
            "2020-05-03",
            "2020-05-04",
            "2020-05-05",
            "2020-05-07",
            "2020-05-08"
           ],
           "y": {
            "bdata": "AAcLFBsjMDVHUw==",
            "dtype": "i1"
           }
          },
          {
           "mode": "lines+markers",
           "name": "user_6",
           "type": "scatter",
           "x": [],
           "y": []
          },
          {
           "mode": "lines+markers",
           "name": "user_8",
           "type": "scatter",
           "x": [],
           "y": []
          }
         ],
         "name": "2020-05-10"
        },
        {
         "data": [
          {
           "mode": "lines+markers",
           "name": "user_1",
           "type": "scatter",
           "x": [],
           "y": []
          },
          {
           "mode": "lines+markers",
           "name": "user_10",
           "type": "scatter",
           "x": [
            "2020-05-11"
           ],
           "y": {
            "bdata": "AA==",
            "dtype": "i1"
           }
          },
          {
           "mode": "lines+markers",
           "name": "user_11",
           "type": "scatter",
           "x": [
            "2020-05-02",
            "2020-05-03"
           ],
           "y": {
            "bdata": "AAE=",
            "dtype": "i1"
           }
          },
          {
           "mode": "lines+markers",
           "name": "user_12",
           "type": "scatter",
           "x": [],
           "y": []
          },
          {
           "mode": "lines+markers",
           "name": "user_13",
           "type": "scatter",
           "x": [
            "2020-05-10",
            "2020-05-11"
           ],
           "y": {
            "bdata": "AAI=",
            "dtype": "i1"
           }
          },
          {
           "mode": "lines+markers",
           "name": "user_14",
           "type": "scatter",
           "x": [
            "2020-05-04",
            "2020-05-05",
            "2020-05-09",
            "2020-05-10",
            "2020-05-11"
           ],
           "y": {
            "bdata": "AAESGTE=",
            "dtype": "i1"
           }
          },
          {
           "mode": "lines+markers",
           "name": "user_15",
           "type": "scatter",
           "x": [],
           "y": []
          },
          {
           "mode": "lines+markers",
           "name": "user_16",
           "type": "scatter",
           "x": [
            "2020-05-11"
           ],
           "y": {
            "bdata": "AA==",
            "dtype": "i1"
           }
          },
          {
           "mode": "lines+markers",
           "name": "user_17",
           "type": "scatter",
           "x": [
            "2020-04-17",
            "2020-04-18"
           ],
           "y": {
            "bdata": "AAE=",
            "dtype": "i1"
           }
          },
          {
           "mode": "lines+markers",
           "name": "user_18",
           "type": "scatter",
           "x": [
            "2020-05-10",
            "2020-05-11"
           ],
           "y": {
            "bdata": "AAc=",
            "dtype": "i1"
           }
          },
          {
           "mode": "lines+markers",
           "name": "user_19",
           "type": "scatter",
           "x": [],
           "y": []
          },
          {
           "mode": "lines+markers",
           "name": "user_2",
           "type": "scatter",
           "x": [
            "2020-05-04",
            "2020-05-05",
            "2020-05-06",
            "2020-05-10",
            "2020-05-11"
           ],
           "y": {
            "bdata": "ADk6Pko=",
            "dtype": "i1"
           }
          },
          {
           "mode": "lines+markers",
           "name": "user_20",
           "type": "scatter",
           "x": [
            "2020-05-10",
            "2020-05-11"
           ],
           "y": {
            "bdata": "AAs=",
            "dtype": "i1"
           }
          },
          {
           "mode": "lines+markers",
           "name": "user_21",
           "type": "scatter",
           "x": [
            "2020-05-09",
            "2020-05-10"
           ],
           "y": {
            "bdata": "AAc=",
            "dtype": "i1"
           }
          },
          {
           "mode": "lines+markers",
           "name": "user_22",
           "type": "scatter",
           "x": [
            "2020-05-02",
            "2020-05-03"
           ],
           "y": {
            "bdata": "AAE=",
            "dtype": "i1"
           }
          },
          {
           "mode": "lines+markers",
           "name": "user_24",
           "type": "scatter",
           "x": [],
           "y": []
          },
          {
           "mode": "lines+markers",
           "name": "user_25",
           "type": "scatter",
           "x": [
            "2020-05-07",
            "2020-05-08",
            "2020-05-09",
            "2020-05-10",
            "2020-05-11"
           ],
           "y": {
            "bdata": "AAUbHSE=",
            "dtype": "i1"
           }
          },
          {
           "mode": "lines+markers",
           "name": "user_26",
           "type": "scatter",
           "x": [
            "2020-05-09",
            "2020-05-10"
           ],
           "y": {
            "bdata": "ACM=",
            "dtype": "i1"
           }
          },
          {
           "mode": "lines+markers",
           "name": "user_27",
           "type": "scatter",
           "x": [],
           "y": []
          },
          {
           "mode": "lines+markers",
           "name": "user_28",
           "type": "scatter",
           "x": [
            "2020-05-11"
           ],
           "y": {
            "bdata": "AA==",
            "dtype": "i1"
           }
          },
          {
           "mode": "lines+markers",
           "name": "user_29",
           "type": "scatter",
           "x": [
            "2020-05-10",
            "2020-05-11"
           ],
           "y": {
            "bdata": "AAU=",
            "dtype": "i1"
           }
          },
          {
           "mode": "lines+markers",
           "name": "user_3",
           "type": "scatter",
           "x": [
            "2020-05-06",
            "2020-05-07",
            "2020-05-08",
            "2020-05-09",
            "2020-05-10",
            "2020-05-11"
           ],
           "y": {
            "bdata": "AAEcHR82",
            "dtype": "i1"
           }
          },
          {
           "mode": "lines+markers",
           "name": "user_30",
           "type": "scatter",
           "x": [
            "2020-04-21",
            "2020-04-22",
            "2020-04-23",
            "2020-05-03",
            "2020-05-04",
            "2020-05-07",
            "2020-05-10"
           ],
           "y": {
            "bdata": "AAECBAUMEQ==",
            "dtype": "i1"
           }
          },
          {
           "mode": "lines+markers",
           "name": "user_31",
           "type": "scatter",
           "x": [
            "2020-05-06",
            "2020-05-07",
            "2020-05-09",
            "2020-05-11"
           ],
           "y": {
            "bdata": "AAEEBg==",
            "dtype": "i1"
           }
          },
          {
           "mode": "lines+markers",
           "name": "user_4",
           "type": "scatter",
           "x": [
            "2020-04-16",
            "2020-04-17",
            "2020-04-19",
            "2020-04-23",
            "2020-04-24",
            "2020-05-03",
            "2020-05-04",
            "2020-05-05",
            "2020-05-07",
            "2020-05-08",
            "2020-05-11"
           ],
           "y": {
            "bdata": "AAcLFBsjMDVHU1c=",
            "dtype": "i1"
           }
          },
          {
           "mode": "lines+markers",
           "name": "user_6",
           "type": "scatter",
           "x": [],
           "y": []
          },
          {
           "mode": "lines+markers",
           "name": "user_8",
           "type": "scatter",
           "x": [],
           "y": []
          }
         ],
         "name": "2020-05-11"
        },
        {
         "data": [
          {
           "mode": "lines+markers",
           "name": "user_1",
           "type": "scatter",
           "x": [],
           "y": []
          },
          {
           "mode": "lines+markers",
           "name": "user_10",
           "type": "scatter",
           "x": [
            "2020-05-11",
            "2020-05-12"
           ],
           "y": {
            "bdata": "AAc=",
            "dtype": "i1"
           }
          },
          {
           "mode": "lines+markers",
           "name": "user_11",
           "type": "scatter",
           "x": [
            "2020-05-02",
            "2020-05-03"
           ],
           "y": {
            "bdata": "AAE=",
            "dtype": "i1"
           }
          },
          {
           "mode": "lines+markers",
           "name": "user_12",
           "type": "scatter",
           "x": [],
           "y": []
          },
          {
           "mode": "lines+markers",
           "name": "user_13",
           "type": "scatter",
           "x": [
            "2020-05-10",
            "2020-05-11",
            "2020-05-12"
           ],
           "y": {
            "bdata": "AAIe",
            "dtype": "i1"
           }
          },
          {
           "mode": "lines+markers",
           "name": "user_14",
           "type": "scatter",
           "x": [
            "2020-05-04",
            "2020-05-05",
            "2020-05-09",
            "2020-05-10",
            "2020-05-11",
            "2020-05-12"
           ],
           "y": {
            "bdata": "AAESGTFc",
            "dtype": "i1"
           }
          },
          {
           "mode": "lines+markers",
           "name": "user_15",
           "type": "scatter",
           "x": [],
           "y": []
          },
          {
           "mode": "lines+markers",
           "name": "user_16",
           "type": "scatter",
           "x": [
            "2020-05-11",
            "2020-05-12"
           ],
           "y": {
            "bdata": "AAI=",
            "dtype": "i1"
           }
          },
          {
           "mode": "lines+markers",
           "name": "user_17",
           "type": "scatter",
           "x": [
            "2020-04-17",
            "2020-04-18",
            "2020-05-12"
           ],
           "y": {
            "bdata": "AAED",
            "dtype": "i1"
           }
          },
          {
           "mode": "lines+markers",
           "name": "user_18",
           "type": "scatter",
           "x": [
            "2020-05-10",
            "2020-05-11"
           ],
           "y": {
            "bdata": "AAc=",
            "dtype": "i1"
           }
          },
          {
           "mode": "lines+markers",
           "name": "user_19",
           "type": "scatter",
           "x": [],
           "y": []
          },
          {
           "mode": "lines+markers",
           "name": "user_2",
           "type": "scatter",
           "x": [
            "2020-05-04",
            "2020-05-05",
            "2020-05-06",
            "2020-05-10",
            "2020-05-11",
            "2020-05-12"
           ],
           "y": {
            "bdata": "ADk6PkpO",
            "dtype": "i1"
           }
          },
          {
           "mode": "lines+markers",
           "name": "user_20",
           "type": "scatter",
           "x": [
            "2020-05-10",
            "2020-05-11"
           ],
           "y": {
            "bdata": "AAs=",
            "dtype": "i1"
           }
          },
          {
           "mode": "lines+markers",
           "name": "user_21",
           "type": "scatter",
           "x": [
            "2020-05-09",
            "2020-05-10"
           ],
           "y": {
            "bdata": "AAc=",
            "dtype": "i1"
           }
          },
          {
           "mode": "lines+markers",
           "name": "user_22",
           "type": "scatter",
           "x": [
            "2020-05-02",
            "2020-05-03"
           ],
           "y": {
            "bdata": "AAE=",
            "dtype": "i1"
           }
          },
          {
           "mode": "lines+markers",
           "name": "user_24",
           "type": "scatter",
           "x": [
            "2020-05-12"
           ],
           "y": {
            "bdata": "AA==",
            "dtype": "i1"
           }
          },
          {
           "mode": "lines+markers",
           "name": "user_25",
           "type": "scatter",
           "x": [
            "2020-05-07",
            "2020-05-08",
            "2020-05-09",
            "2020-05-10",
            "2020-05-11",
            "2020-05-12"
           ],
           "y": {
            "bdata": "AAUbHSE2",
            "dtype": "i1"
           }
          },
          {
           "mode": "lines+markers",
           "name": "user_26",
           "type": "scatter",
           "x": [
            "2020-05-09",
            "2020-05-10"
           ],
           "y": {
            "bdata": "ACM=",
            "dtype": "i1"
           }
          },
          {
           "mode": "lines+markers",
           "name": "user_27",
           "type": "scatter",
           "x": [],
           "y": []
          },
          {
           "mode": "lines+markers",
           "name": "user_28",
           "type": "scatter",
           "x": [
            "2020-05-11",
            "2020-05-12"
           ],
           "y": {
            "bdata": "AAI=",
            "dtype": "i1"
           }
          },
          {
           "mode": "lines+markers",
           "name": "user_29",
           "type": "scatter",
           "x": [
            "2020-05-10",
            "2020-05-11",
            "2020-05-12"
           ],
           "y": {
            "bdata": "AAUS",
            "dtype": "i1"
           }
          },
          {
           "mode": "lines+markers",
           "name": "user_3",
           "type": "scatter",
           "x": [
            "2020-05-06",
            "2020-05-07",
            "2020-05-08",
            "2020-05-09",
            "2020-05-10",
            "2020-05-11",
            "2020-05-12"
           ],
           "y": {
            "bdata": "AAEcHR82OA==",
            "dtype": "i1"
           }
          },
          {
           "mode": "lines+markers",
           "name": "user_30",
           "type": "scatter",
           "x": [
            "2020-04-21",
            "2020-04-22",
            "2020-04-23",
            "2020-05-03",
            "2020-05-04",
            "2020-05-07",
            "2020-05-10"
           ],
           "y": {
            "bdata": "AAECBAUMEQ==",
            "dtype": "i1"
           }
          },
          {
           "mode": "lines+markers",
           "name": "user_31",
           "type": "scatter",
           "x": [
            "2020-05-06",
            "2020-05-07",
            "2020-05-09",
            "2020-05-11"
           ],
           "y": {
            "bdata": "AAEEBg==",
            "dtype": "i1"
           }
          },
          {
           "mode": "lines+markers",
           "name": "user_4",
           "type": "scatter",
           "x": [
            "2020-04-16",
            "2020-04-17",
            "2020-04-19",
            "2020-04-23",
            "2020-04-24",
            "2020-05-03",
            "2020-05-04",
            "2020-05-05",
            "2020-05-07",
            "2020-05-08",
            "2020-05-11",
            "2020-05-12"
           ],
           "y": {
            "bdata": "AAcLFBsjMDVHU1d9",
            "dtype": "i1"
           }
          },
          {
           "mode": "lines+markers",
           "name": "user_6",
           "type": "scatter",
           "x": [
            "2020-05-12"
           ],
           "y": {
            "bdata": "AA==",
            "dtype": "i1"
           }
          },
          {
           "mode": "lines+markers",
           "name": "user_8",
           "type": "scatter",
           "x": [],
           "y": []
          }
         ],
         "name": "2020-05-12"
        },
        {
         "data": [
          {
           "mode": "lines+markers",
           "name": "user_1",
           "type": "scatter",
           "x": [
            "2020-05-13"
           ],
           "y": {
            "bdata": "AA==",
            "dtype": "i1"
           }
          },
          {
           "mode": "lines+markers",
           "name": "user_10",
           "type": "scatter",
           "x": [
            "2020-05-11",
            "2020-05-12",
            "2020-05-13"
           ],
           "y": {
            "bdata": "AAcV",
            "dtype": "i1"
           }
          },
          {
           "mode": "lines+markers",
           "name": "user_11",
           "type": "scatter",
           "x": [
            "2020-05-02",
            "2020-05-03"
           ],
           "y": {
            "bdata": "AAE=",
            "dtype": "i1"
           }
          },
          {
           "mode": "lines+markers",
           "name": "user_12",
           "type": "scatter",
           "x": [
            "2020-05-13"
           ],
           "y": {
            "bdata": "AA==",
            "dtype": "i1"
           }
          },
          {
           "mode": "lines+markers",
           "name": "user_13",
           "type": "scatter",
           "x": [
            "2020-05-10",
            "2020-05-11",
            "2020-05-12"
           ],
           "y": {
            "bdata": "AAIe",
            "dtype": "i1"
           }
          },
          {
           "mode": "lines+markers",
           "name": "user_14",
           "type": "scatter",
           "x": [
            "2020-05-04",
            "2020-05-05",
            "2020-05-09",
            "2020-05-10",
            "2020-05-11",
            "2020-05-12"
           ],
           "y": {
            "bdata": "AAESGTFc",
            "dtype": "i1"
           }
          },
          {
           "mode": "lines+markers",
           "name": "user_15",
           "type": "scatter",
           "x": [
            "2020-05-13"
           ],
           "y": {
            "bdata": "AA==",
            "dtype": "i1"
           }
          },
          {
           "mode": "lines+markers",
           "name": "user_16",
           "type": "scatter",
           "x": [
            "2020-05-11",
            "2020-05-12"
           ],
           "y": {
            "bdata": "AAI=",
            "dtype": "i1"
           }
          },
          {
           "mode": "lines+markers",
           "name": "user_17",
           "type": "scatter",
           "x": [
            "2020-04-17",
            "2020-04-18",
            "2020-05-12"
           ],
           "y": {
            "bdata": "AAED",
            "dtype": "i1"
           }
          },
          {
           "mode": "lines+markers",
           "name": "user_18",
           "type": "scatter",
           "x": [
            "2020-05-10",
            "2020-05-11",
            "2020-05-13"
           ],
           "y": {
            "bdata": "AAcI",
            "dtype": "i1"
           }
          },
          {
           "mode": "lines+markers",
           "name": "user_19",
           "type": "scatter",
           "x": [
            "2020-05-13"
           ],
           "y": {
            "bdata": "AA==",
            "dtype": "i1"
           }
          },
          {
           "mode": "lines+markers",
           "name": "user_2",
           "type": "scatter",
           "x": [
            "2020-05-04",
            "2020-05-05",
            "2020-05-06",
            "2020-05-10",
            "2020-05-11",
            "2020-05-12",
            "2020-05-13"
           ],
           "y": {
            "bdata": "ADk6PkpOXQ==",
            "dtype": "i1"
           }
          },
          {
           "mode": "lines+markers",
           "name": "user_20",
           "type": "scatter",
           "x": [
            "2020-05-10",
            "2020-05-11"
           ],
           "y": {
            "bdata": "AAs=",
            "dtype": "i1"
           }
          },
          {
           "mode": "lines+markers",
           "name": "user_21",
           "type": "scatter",
           "x": [
            "2020-05-09",
            "2020-05-10"
           ],
           "y": {
            "bdata": "AAc=",
            "dtype": "i1"
           }
          },
          {
           "mode": "lines+markers",
           "name": "user_22",
           "type": "scatter",
           "x": [
            "2020-05-02",
            "2020-05-03"
           ],
           "y": {
            "bdata": "AAE=",
            "dtype": "i1"
           }
          },
          {
           "mode": "lines+markers",
           "name": "user_24",
           "type": "scatter",
           "x": [
            "2020-05-12",
            "2020-05-13"
           ],
           "y": {
            "bdata": "AAk=",
            "dtype": "i1"
           }
          },
          {
           "mode": "lines+markers",
           "name": "user_25",
           "type": "scatter",
           "x": [
            "2020-05-07",
            "2020-05-08",
            "2020-05-09",
            "2020-05-10",
            "2020-05-11",
            "2020-05-12",
            "2020-05-13"
           ],
           "y": {
            "bdata": "AAUbHSE2OQ==",
            "dtype": "i1"
           }
          },
          {
           "mode": "lines+markers",
           "name": "user_26",
           "type": "scatter",
           "x": [
            "2020-05-09",
            "2020-05-10",
            "2020-05-13"
           ],
           "y": {
            "bdata": "ACM0",
            "dtype": "i1"
           }
          },
          {
           "mode": "lines+markers",
           "name": "user_27",
           "type": "scatter",
           "x": [
            "2020-05-13"
           ],
           "y": {
            "bdata": "AA==",
            "dtype": "i1"
           }
          },
          {
           "mode": "lines+markers",
           "name": "user_28",
           "type": "scatter",
           "x": [
            "2020-05-11",
            "2020-05-12",
            "2020-05-13"
           ],
           "y": {
            "bdata": "AAIU",
            "dtype": "i1"
           }
          },
          {
           "mode": "lines+markers",
           "name": "user_29",
           "type": "scatter",
           "x": [
            "2020-05-10",
            "2020-05-11",
            "2020-05-12",
            "2020-05-13"
           ],
           "y": {
            "bdata": "AAUSIg==",
            "dtype": "i1"
           }
          },
          {
           "mode": "lines+markers",
           "name": "user_3",
           "type": "scatter",
           "x": [
            "2020-05-06",
            "2020-05-07",
            "2020-05-08",
            "2020-05-09",
            "2020-05-10",
            "2020-05-11",
            "2020-05-12"
           ],
           "y": {
            "bdata": "AAEcHR82OA==",
            "dtype": "i1"
           }
          },
          {
           "mode": "lines+markers",
           "name": "user_30",
           "type": "scatter",
           "x": [
            "2020-04-21",
            "2020-04-22",
            "2020-04-23",
            "2020-05-03",
            "2020-05-04",
            "2020-05-07",
            "2020-05-10"
           ],
           "y": {
            "bdata": "AAECBAUMEQ==",
            "dtype": "i1"
           }
          },
          {
           "mode": "lines+markers",
           "name": "user_31",
           "type": "scatter",
           "x": [
            "2020-05-06",
            "2020-05-07",
            "2020-05-09",
            "2020-05-11"
           ],
           "y": {
            "bdata": "AAEEBg==",
            "dtype": "i1"
           }
          },
          {
           "mode": "lines+markers",
           "name": "user_4",
           "type": "scatter",
           "x": [
            "2020-04-16",
            "2020-04-17",
            "2020-04-19",
            "2020-04-23",
            "2020-04-24",
            "2020-05-03",
            "2020-05-04",
            "2020-05-05",
            "2020-05-07",
            "2020-05-08",
            "2020-05-11",
            "2020-05-12",
            "2020-05-13"
           ],
           "y": {
            "bdata": "AAAHAAsAFAAbACMAMAA1AEcAUwBXAH0AiQA=",
            "dtype": "i2"
           }
          },
          {
           "mode": "lines+markers",
           "name": "user_6",
           "type": "scatter",
           "x": [
            "2020-05-12",
            "2020-05-13"
           ],
           "y": {
            "bdata": "AAE=",
            "dtype": "i1"
           }
          },
          {
           "mode": "lines+markers",
           "name": "user_8",
           "type": "scatter",
           "x": [
            "2020-05-13"
           ],
           "y": {
            "bdata": "AA==",
            "dtype": "i1"
           }
          }
         ],
         "name": "2020-05-13"
        },
        {
         "data": [
          {
           "mode": "lines+markers",
           "name": "user_1",
           "type": "scatter",
           "x": [
            "2020-05-13",
            "2020-05-14"
           ],
           "y": {
            "bdata": "AAs=",
            "dtype": "i1"
           }
          },
          {
           "mode": "lines+markers",
           "name": "user_10",
           "type": "scatter",
           "x": [
            "2020-05-11",
            "2020-05-12",
            "2020-05-13",
            "2020-05-14"
           ],
           "y": {
            "bdata": "AAcVOg==",
            "dtype": "i1"
           }
          },
          {
           "mode": "lines+markers",
           "name": "user_11",
           "type": "scatter",
           "x": [
            "2020-05-02",
            "2020-05-03"
           ],
           "y": {
            "bdata": "AAE=",
            "dtype": "i1"
           }
          },
          {
           "mode": "lines+markers",
           "name": "user_12",
           "type": "scatter",
           "x": [
            "2020-05-13",
            "2020-05-14"
           ],
           "y": {
            "bdata": "AAQ=",
            "dtype": "i1"
           }
          },
          {
           "mode": "lines+markers",
           "name": "user_13",
           "type": "scatter",
           "x": [
            "2020-05-10",
            "2020-05-11",
            "2020-05-12",
            "2020-05-14"
           ],
           "y": {
            "bdata": "AAIeIA==",
            "dtype": "i1"
           }
          },
          {
           "mode": "lines+markers",
           "name": "user_14",
           "type": "scatter",
           "x": [
            "2020-05-04",
            "2020-05-05",
            "2020-05-09",
            "2020-05-10",
            "2020-05-11",
            "2020-05-12",
            "2020-05-14"
           ],
           "y": {
            "bdata": "AAESGTFcYw==",
            "dtype": "i1"
           }
          },
          {
           "mode": "lines+markers",
           "name": "user_15",
           "type": "scatter",
           "x": [
            "2020-05-13",
            "2020-05-14"
           ],
           "y": {
            "bdata": "AAM=",
            "dtype": "i1"
           }
          },
          {
           "mode": "lines+markers",
           "name": "user_16",
           "type": "scatter",
           "x": [
            "2020-05-11",
            "2020-05-12",
            "2020-05-14"
           ],
           "y": {
            "bdata": "AAIJ",
            "dtype": "i1"
           }
          },
          {
           "mode": "lines+markers",
           "name": "user_17",
           "type": "scatter",
           "x": [
            "2020-04-17",
            "2020-04-18",
            "2020-05-12",
            "2020-05-14"
           ],
           "y": {
            "bdata": "AAEDBQ==",
            "dtype": "i1"
           }
          },
          {
           "mode": "lines+markers",
           "name": "user_18",
           "type": "scatter",
           "x": [
            "2020-05-10",
            "2020-05-11",
            "2020-05-13",
            "2020-05-14"
           ],
           "y": {
            "bdata": "AAcIHw==",
            "dtype": "i1"
           }
          },
          {
           "mode": "lines+markers",
           "name": "user_19",
           "type": "scatter",
           "x": [
            "2020-05-13",
            "2020-05-14"
           ],
           "y": {
            "bdata": "ABk=",
            "dtype": "i1"
           }
          },
          {
           "mode": "lines+markers",
           "name": "user_2",
           "type": "scatter",
           "x": [
            "2020-05-04",
            "2020-05-05",
            "2020-05-06",
            "2020-05-10",
            "2020-05-11",
            "2020-05-12",
            "2020-05-13",
            "2020-05-14"
           ],
           "y": {
            "bdata": "ADk6PkpOXV8=",
            "dtype": "i1"
           }
          },
          {
           "mode": "lines+markers",
           "name": "user_20",
           "type": "scatter",
           "x": [
            "2020-05-10",
            "2020-05-11",
            "2020-05-14"
           ],
           "y": {
            "bdata": "AAs2",
            "dtype": "i1"
           }
          },
          {
           "mode": "lines+markers",
           "name": "user_21",
           "type": "scatter",
           "x": [
            "2020-05-09",
            "2020-05-10",
            "2020-05-14"
           ],
           "y": {
            "bdata": "AAcJ",
            "dtype": "i1"
           }
          },
          {
           "mode": "lines+markers",
           "name": "user_22",
           "type": "scatter",
           "x": [
            "2020-05-02",
            "2020-05-03",
            "2020-05-14"
           ],
           "y": {
            "bdata": "AAEC",
            "dtype": "i1"
           }
          },
          {
           "mode": "lines+markers",
           "name": "user_24",
           "type": "scatter",
           "x": [
            "2020-05-12",
            "2020-05-13",
            "2020-05-14"
           ],
           "y": {
            "bdata": "AAki",
            "dtype": "i1"
           }
          },
          {
           "mode": "lines+markers",
           "name": "user_25",
           "type": "scatter",
           "x": [
            "2020-05-07",
            "2020-05-08",
            "2020-05-09",
            "2020-05-10",
            "2020-05-11",
            "2020-05-12",
            "2020-05-13",
            "2020-05-14"
           ],
           "y": {
            "bdata": "AAUbHSE2OU0=",
            "dtype": "i1"
           }
          },
          {
           "mode": "lines+markers",
           "name": "user_26",
           "type": "scatter",
           "x": [
            "2020-05-09",
            "2020-05-10",
            "2020-05-13",
            "2020-05-14"
           ],
           "y": {
            "bdata": "ACM0RQ==",
            "dtype": "i1"
           }
          },
          {
           "mode": "lines+markers",
           "name": "user_27",
           "type": "scatter",
           "x": [
            "2020-05-13",
            "2020-05-14"
           ],
           "y": {
            "bdata": "AAg=",
            "dtype": "i1"
           }
          },
          {
           "mode": "lines+markers",
           "name": "user_28",
           "type": "scatter",
           "x": [
            "2020-05-11",
            "2020-05-12",
            "2020-05-13",
            "2020-05-14"
           ],
           "y": {
            "bdata": "AAIUGg==",
            "dtype": "i1"
           }
          },
          {
           "mode": "lines+markers",
           "name": "user_29",
           "type": "scatter",
           "x": [
            "2020-05-10",
            "2020-05-11",
            "2020-05-12",
            "2020-05-13",
            "2020-05-14"
           ],
           "y": {
            "bdata": "AAUSIiM=",
            "dtype": "i1"
           }
          },
          {
           "mode": "lines+markers",
           "name": "user_3",
           "type": "scatter",
           "x": [
            "2020-05-06",
            "2020-05-07",
            "2020-05-08",
            "2020-05-09",
            "2020-05-10",
            "2020-05-11",
            "2020-05-12",
            "2020-05-14"
           ],
           "y": {
            "bdata": "AAEcHR82ODo=",
            "dtype": "i1"
           }
          },
          {
           "mode": "lines+markers",
           "name": "user_30",
           "type": "scatter",
           "x": [
            "2020-04-21",
            "2020-04-22",
            "2020-04-23",
            "2020-05-03",
            "2020-05-04",
            "2020-05-07",
            "2020-05-10",
            "2020-05-14"
           ],
           "y": {
            "bdata": "AAECBAUMERM=",
            "dtype": "i1"
           }
          },
          {
           "mode": "lines+markers",
           "name": "user_31",
           "type": "scatter",
           "x": [
            "2020-05-06",
            "2020-05-07",
            "2020-05-09",
            "2020-05-11",
            "2020-05-14"
           ],
           "y": {
            "bdata": "AAEEBgg=",
            "dtype": "i1"
           }
          },
          {
           "mode": "lines+markers",
           "name": "user_4",
           "type": "scatter",
           "x": [
            "2020-04-16",
            "2020-04-17",
            "2020-04-19",
            "2020-04-23",
            "2020-04-24",
            "2020-05-03",
            "2020-05-04",
            "2020-05-05",
            "2020-05-07",
            "2020-05-08",
            "2020-05-11",
            "2020-05-12",
            "2020-05-13",
            "2020-05-14"
           ],
           "y": {
            "bdata": "AAAHAAsAFAAbACMAMAA1AEcAUwBXAH0AiQCkAA==",
            "dtype": "i2"
           }
          },
          {
           "mode": "lines+markers",
           "name": "user_6",
           "type": "scatter",
           "x": [
            "2020-05-12",
            "2020-05-13",
            "2020-05-14"
           ],
           "y": {
            "bdata": "AAEC",
            "dtype": "i1"
           }
          },
          {
           "mode": "lines+markers",
           "name": "user_8",
           "type": "scatter",
           "x": [
            "2020-05-13",
            "2020-05-14"
           ],
           "y": {
            "bdata": "AAg=",
            "dtype": "i1"
           }
          }
         ],
         "name": "2020-05-14"
        },
        {
         "data": [
          {
           "mode": "lines+markers",
           "name": "user_1",
           "type": "scatter",
           "x": [
            "2020-05-13",
            "2020-05-14"
           ],
           "y": {
            "bdata": "AAs=",
            "dtype": "i1"
           }
          },
          {
           "mode": "lines+markers",
           "name": "user_10",
           "type": "scatter",
           "x": [
            "2020-05-11",
            "2020-05-12",
            "2020-05-13",
            "2020-05-14"
           ],
           "y": {
            "bdata": "AAcVOg==",
            "dtype": "i1"
           }
          },
          {
           "mode": "lines+markers",
           "name": "user_11",
           "type": "scatter",
           "x": [
            "2020-05-02",
            "2020-05-03"
           ],
           "y": {
            "bdata": "AAE=",
            "dtype": "i1"
           }
          },
          {
           "mode": "lines+markers",
           "name": "user_12",
           "type": "scatter",
           "x": [
            "2020-05-13",
            "2020-05-14"
           ],
           "y": {
            "bdata": "AAQ=",
            "dtype": "i1"
           }
          },
          {
           "mode": "lines+markers",
           "name": "user_13",
           "type": "scatter",
           "x": [
            "2020-05-10",
            "2020-05-11",
            "2020-05-12",
            "2020-05-14"
           ],
           "y": {
            "bdata": "AAIeIA==",
            "dtype": "i1"
           }
          },
          {
           "mode": "lines+markers",
           "name": "user_14",
           "type": "scatter",
           "x": [
            "2020-05-04",
            "2020-05-05",
            "2020-05-09",
            "2020-05-10",
            "2020-05-11",
            "2020-05-12",
            "2020-05-14"
           ],
           "y": {
            "bdata": "AAESGTFcYw==",
            "dtype": "i1"
           }
          },
          {
           "mode": "lines+markers",
           "name": "user_15",
           "type": "scatter",
           "x": [
            "2020-05-13",
            "2020-05-14"
           ],
           "y": {
            "bdata": "AAM=",
            "dtype": "i1"
           }
          },
          {
           "mode": "lines+markers",
           "name": "user_16",
           "type": "scatter",
           "x": [
            "2020-05-11",
            "2020-05-12",
            "2020-05-14"
           ],
           "y": {
            "bdata": "AAIJ",
            "dtype": "i1"
           }
          },
          {
           "mode": "lines+markers",
           "name": "user_17",
           "type": "scatter",
           "x": [
            "2020-04-17",
            "2020-04-18",
            "2020-05-12",
            "2020-05-14"
           ],
           "y": {
            "bdata": "AAEDBQ==",
            "dtype": "i1"
           }
          },
          {
           "mode": "lines+markers",
           "name": "user_18",
           "type": "scatter",
           "x": [
            "2020-05-10",
            "2020-05-11",
            "2020-05-13",
            "2020-05-14"
           ],
           "y": {
            "bdata": "AAcIHw==",
            "dtype": "i1"
           }
          },
          {
           "mode": "lines+markers",
           "name": "user_19",
           "type": "scatter",
           "x": [
            "2020-05-13",
            "2020-05-14",
            "2020-05-15"
           ],
           "y": {
            "bdata": "ABkd",
            "dtype": "i1"
           }
          },
          {
           "mode": "lines+markers",
           "name": "user_2",
           "type": "scatter",
           "x": [
            "2020-05-04",
            "2020-05-05",
            "2020-05-06",
            "2020-05-10",
            "2020-05-11",
            "2020-05-12",
            "2020-05-13",
            "2020-05-14"
           ],
           "y": {
            "bdata": "ADk6PkpOXV8=",
            "dtype": "i1"
           }
          },
          {
           "mode": "lines+markers",
           "name": "user_20",
           "type": "scatter",
           "x": [
            "2020-05-10",
            "2020-05-11",
            "2020-05-14"
           ],
           "y": {
            "bdata": "AAs2",
            "dtype": "i1"
           }
          },
          {
           "mode": "lines+markers",
           "name": "user_21",
           "type": "scatter",
           "x": [
            "2020-05-09",
            "2020-05-10",
            "2020-05-14"
           ],
           "y": {
            "bdata": "AAcJ",
            "dtype": "i1"
           }
          },
          {
           "mode": "lines+markers",
           "name": "user_22",
           "type": "scatter",
           "x": [
            "2020-05-02",
            "2020-05-03",
            "2020-05-14"
           ],
           "y": {
            "bdata": "AAEC",
            "dtype": "i1"
           }
          },
          {
           "mode": "lines+markers",
           "name": "user_24",
           "type": "scatter",
           "x": [
            "2020-05-12",
            "2020-05-13",
            "2020-05-14"
           ],
           "y": {
            "bdata": "AAki",
            "dtype": "i1"
           }
          },
          {
           "mode": "lines+markers",
           "name": "user_25",
           "type": "scatter",
           "x": [
            "2020-05-07",
            "2020-05-08",
            "2020-05-09",
            "2020-05-10",
            "2020-05-11",
            "2020-05-12",
            "2020-05-13",
            "2020-05-14"
           ],
           "y": {
            "bdata": "AAUbHSE2OU0=",
            "dtype": "i1"
           }
          },
          {
           "mode": "lines+markers",
           "name": "user_26",
           "type": "scatter",
           "x": [
            "2020-05-09",
            "2020-05-10",
            "2020-05-13",
            "2020-05-14"
           ],
           "y": {
            "bdata": "ACM0RQ==",
            "dtype": "i1"
           }
          },
          {
           "mode": "lines+markers",
           "name": "user_27",
           "type": "scatter",
           "x": [
            "2020-05-13",
            "2020-05-14"
           ],
           "y": {
            "bdata": "AAg=",
            "dtype": "i1"
           }
          },
          {
           "mode": "lines+markers",
           "name": "user_28",
           "type": "scatter",
           "x": [
            "2020-05-11",
            "2020-05-12",
            "2020-05-13",
            "2020-05-14",
            "2020-05-15"
           ],
           "y": {
            "bdata": "AAIUGhs=",
            "dtype": "i1"
           }
          },
          {
           "mode": "lines+markers",
           "name": "user_29",
           "type": "scatter",
           "x": [
            "2020-05-10",
            "2020-05-11",
            "2020-05-12",
            "2020-05-13",
            "2020-05-14"
           ],
           "y": {
            "bdata": "AAUSIiM=",
            "dtype": "i1"
           }
          },
          {
           "mode": "lines+markers",
           "name": "user_3",
           "type": "scatter",
           "x": [
            "2020-05-06",
            "2020-05-07",
            "2020-05-08",
            "2020-05-09",
            "2020-05-10",
            "2020-05-11",
            "2020-05-12",
            "2020-05-14"
           ],
           "y": {
            "bdata": "AAEcHR82ODo=",
            "dtype": "i1"
           }
          },
          {
           "mode": "lines+markers",
           "name": "user_30",
           "type": "scatter",
           "x": [
            "2020-04-21",
            "2020-04-22",
            "2020-04-23",
            "2020-05-03",
            "2020-05-04",
            "2020-05-07",
            "2020-05-10",
            "2020-05-14"
           ],
           "y": {
            "bdata": "AAECBAUMERM=",
            "dtype": "i1"
           }
          },
          {
           "mode": "lines+markers",
           "name": "user_31",
           "type": "scatter",
           "x": [
            "2020-05-06",
            "2020-05-07",
            "2020-05-09",
            "2020-05-11",
            "2020-05-14"
           ],
           "y": {
            "bdata": "AAEEBgg=",
            "dtype": "i1"
           }
          },
          {
           "mode": "lines+markers",
           "name": "user_4",
           "type": "scatter",
           "x": [
            "2020-04-16",
            "2020-04-17",
            "2020-04-19",
            "2020-04-23",
            "2020-04-24",
            "2020-05-03",
            "2020-05-04",
            "2020-05-05",
            "2020-05-07",
            "2020-05-08",
            "2020-05-11",
            "2020-05-12",
            "2020-05-13",
            "2020-05-14"
           ],
           "y": {
            "bdata": "AAAHAAsAFAAbACMAMAA1AEcAUwBXAH0AiQCkAA==",
            "dtype": "i2"
           }
          },
          {
           "mode": "lines+markers",
           "name": "user_6",
           "type": "scatter",
           "x": [
            "2020-05-12",
            "2020-05-13",
            "2020-05-14"
           ],
           "y": {
            "bdata": "AAEC",
            "dtype": "i1"
           }
          },
          {
           "mode": "lines+markers",
           "name": "user_8",
           "type": "scatter",
           "x": [
            "2020-05-13",
            "2020-05-14"
           ],
           "y": {
            "bdata": "AAg=",
            "dtype": "i1"
           }
          }
         ],
         "name": "2020-05-15"
        }
       ],
       "layout": {
        "height": 600,
        "template": {
         "data": {
          "bar": [
           {
            "error_x": {
             "color": "#2a3f5f"
            },
            "error_y": {
             "color": "#2a3f5f"
            },
            "marker": {
             "line": {
              "color": "#E5ECF6",
              "width": 0.5
             },
             "pattern": {
              "fillmode": "overlay",
              "size": 10,
              "solidity": 0.2
             }
            },
            "type": "bar"
           }
          ],
          "barpolar": [
           {
            "marker": {
             "line": {
              "color": "#E5ECF6",
              "width": 0.5
             },
             "pattern": {
              "fillmode": "overlay",
              "size": 10,
              "solidity": 0.2
             }
            },
            "type": "barpolar"
           }
          ],
          "carpet": [
           {
            "aaxis": {
             "endlinecolor": "#2a3f5f",
             "gridcolor": "white",
             "linecolor": "white",
             "minorgridcolor": "white",
             "startlinecolor": "#2a3f5f"
            },
            "baxis": {
             "endlinecolor": "#2a3f5f",
             "gridcolor": "white",
             "linecolor": "white",
             "minorgridcolor": "white",
             "startlinecolor": "#2a3f5f"
            },
            "type": "carpet"
           }
          ],
          "choropleth": [
           {
            "colorbar": {
             "outlinewidth": 0,
             "ticks": ""
            },
            "type": "choropleth"
           }
          ],
          "contour": [
           {
            "colorbar": {
             "outlinewidth": 0,
             "ticks": ""
            },
            "colorscale": [
             [
              0,
              "#0d0887"
             ],
             [
              0.1111111111111111,
              "#46039f"
             ],
             [
              0.2222222222222222,
              "#7201a8"
             ],
             [
              0.3333333333333333,
              "#9c179e"
             ],
             [
              0.4444444444444444,
              "#bd3786"
             ],
             [
              0.5555555555555556,
              "#d8576b"
             ],
             [
              0.6666666666666666,
              "#ed7953"
             ],
             [
              0.7777777777777778,
              "#fb9f3a"
             ],
             [
              0.8888888888888888,
              "#fdca26"
             ],
             [
              1,
              "#f0f921"
             ]
            ],
            "type": "contour"
           }
          ],
          "contourcarpet": [
           {
            "colorbar": {
             "outlinewidth": 0,
             "ticks": ""
            },
            "type": "contourcarpet"
           }
          ],
          "heatmap": [
           {
            "colorbar": {
             "outlinewidth": 0,
             "ticks": ""
            },
            "colorscale": [
             [
              0,
              "#0d0887"
             ],
             [
              0.1111111111111111,
              "#46039f"
             ],
             [
              0.2222222222222222,
              "#7201a8"
             ],
             [
              0.3333333333333333,
              "#9c179e"
             ],
             [
              0.4444444444444444,
              "#bd3786"
             ],
             [
              0.5555555555555556,
              "#d8576b"
             ],
             [
              0.6666666666666666,
              "#ed7953"
             ],
             [
              0.7777777777777778,
              "#fb9f3a"
             ],
             [
              0.8888888888888888,
              "#fdca26"
             ],
             [
              1,
              "#f0f921"
             ]
            ],
            "type": "heatmap"
           }
          ],
          "histogram": [
           {
            "marker": {
             "pattern": {
              "fillmode": "overlay",
              "size": 10,
              "solidity": 0.2
             }
            },
            "type": "histogram"
           }
          ],
          "histogram2d": [
           {
            "colorbar": {
             "outlinewidth": 0,
             "ticks": ""
            },
            "colorscale": [
             [
              0,
              "#0d0887"
             ],
             [
              0.1111111111111111,
              "#46039f"
             ],
             [
              0.2222222222222222,
              "#7201a8"
             ],
             [
              0.3333333333333333,
              "#9c179e"
             ],
             [
              0.4444444444444444,
              "#bd3786"
             ],
             [
              0.5555555555555556,
              "#d8576b"
             ],
             [
              0.6666666666666666,
              "#ed7953"
             ],
             [
              0.7777777777777778,
              "#fb9f3a"
             ],
             [
              0.8888888888888888,
              "#fdca26"
             ],
             [
              1,
              "#f0f921"
             ]
            ],
            "type": "histogram2d"
           }
          ],
          "histogram2dcontour": [
           {
            "colorbar": {
             "outlinewidth": 0,
             "ticks": ""
            },
            "colorscale": [
             [
              0,
              "#0d0887"
             ],
             [
              0.1111111111111111,
              "#46039f"
             ],
             [
              0.2222222222222222,
              "#7201a8"
             ],
             [
              0.3333333333333333,
              "#9c179e"
             ],
             [
              0.4444444444444444,
              "#bd3786"
             ],
             [
              0.5555555555555556,
              "#d8576b"
             ],
             [
              0.6666666666666666,
              "#ed7953"
             ],
             [
              0.7777777777777778,
              "#fb9f3a"
             ],
             [
              0.8888888888888888,
              "#fdca26"
             ],
             [
              1,
              "#f0f921"
             ]
            ],
            "type": "histogram2dcontour"
           }
          ],
          "mesh3d": [
           {
            "colorbar": {
             "outlinewidth": 0,
             "ticks": ""
            },
            "type": "mesh3d"
           }
          ],
          "parcoords": [
           {
            "line": {
             "colorbar": {
              "outlinewidth": 0,
              "ticks": ""
             }
            },
            "type": "parcoords"
           }
          ],
          "pie": [
           {
            "automargin": true,
            "type": "pie"
           }
          ],
          "scatter": [
           {
            "fillpattern": {
             "fillmode": "overlay",
             "size": 10,
             "solidity": 0.2
            },
            "type": "scatter"
           }
          ],
          "scatter3d": [
           {
            "line": {
             "colorbar": {
              "outlinewidth": 0,
              "ticks": ""
             }
            },
            "marker": {
             "colorbar": {
              "outlinewidth": 0,
              "ticks": ""
             }
            },
            "type": "scatter3d"
           }
          ],
          "scattercarpet": [
           {
            "marker": {
             "colorbar": {
              "outlinewidth": 0,
              "ticks": ""
             }
            },
            "type": "scattercarpet"
           }
          ],
          "scattergeo": [
           {
            "marker": {
             "colorbar": {
              "outlinewidth": 0,
              "ticks": ""
             }
            },
            "type": "scattergeo"
           }
          ],
          "scattergl": [
           {
            "marker": {
             "colorbar": {
              "outlinewidth": 0,
              "ticks": ""
             }
            },
            "type": "scattergl"
           }
          ],
          "scattermap": [
           {
            "marker": {
             "colorbar": {
              "outlinewidth": 0,
              "ticks": ""
             }
            },
            "type": "scattermap"
           }
          ],
          "scattermapbox": [
           {
            "marker": {
             "colorbar": {
              "outlinewidth": 0,
              "ticks": ""
             }
            },
            "type": "scattermapbox"
           }
          ],
          "scatterpolar": [
           {
            "marker": {
             "colorbar": {
              "outlinewidth": 0,
              "ticks": ""
             }
            },
            "type": "scatterpolar"
           }
          ],
          "scatterpolargl": [
           {
            "marker": {
             "colorbar": {
              "outlinewidth": 0,
              "ticks": ""
             }
            },
            "type": "scatterpolargl"
           }
          ],
          "scatterternary": [
           {
            "marker": {
             "colorbar": {
              "outlinewidth": 0,
              "ticks": ""
             }
            },
            "type": "scatterternary"
           }
          ],
          "surface": [
           {
            "colorbar": {
             "outlinewidth": 0,
             "ticks": ""
            },
            "colorscale": [
             [
              0,
              "#0d0887"
             ],
             [
              0.1111111111111111,
              "#46039f"
             ],
             [
              0.2222222222222222,
              "#7201a8"
             ],
             [
              0.3333333333333333,
              "#9c179e"
             ],
             [
              0.4444444444444444,
              "#bd3786"
             ],
             [
              0.5555555555555556,
              "#d8576b"
             ],
             [
              0.6666666666666666,
              "#ed7953"
             ],
             [
              0.7777777777777778,
              "#fb9f3a"
             ],
             [
              0.8888888888888888,
              "#fdca26"
             ],
             [
              1,
              "#f0f921"
             ]
            ],
            "type": "surface"
           }
          ],
          "table": [
           {
            "cells": {
             "fill": {
              "color": "#EBF0F8"
             },
             "line": {
              "color": "white"
             }
            },
            "header": {
             "fill": {
              "color": "#C8D4E3"
             },
             "line": {
              "color": "white"
             }
            },
            "type": "table"
           }
          ]
         },
         "layout": {
          "annotationdefaults": {
           "arrowcolor": "#2a3f5f",
           "arrowhead": 0,
           "arrowwidth": 1
          },
          "autotypenumbers": "strict",
          "coloraxis": {
           "colorbar": {
            "outlinewidth": 0,
            "ticks": ""
           }
          },
          "colorscale": {
           "diverging": [
            [
             0,
             "#8e0152"
            ],
            [
             0.1,
             "#c51b7d"
            ],
            [
             0.2,
             "#de77ae"
            ],
            [
             0.3,
             "#f1b6da"
            ],
            [
             0.4,
             "#fde0ef"
            ],
            [
             0.5,
             "#f7f7f7"
            ],
            [
             0.6,
             "#e6f5d0"
            ],
            [
             0.7,
             "#b8e186"
            ],
            [
             0.8,
             "#7fbc41"
            ],
            [
             0.9,
             "#4d9221"
            ],
            [
             1,
             "#276419"
            ]
           ],
           "sequential": [
            [
             0,
             "#0d0887"
            ],
            [
             0.1111111111111111,
             "#46039f"
            ],
            [
             0.2222222222222222,
             "#7201a8"
            ],
            [
             0.3333333333333333,
             "#9c179e"
            ],
            [
             0.4444444444444444,
             "#bd3786"
            ],
            [
             0.5555555555555556,
             "#d8576b"
            ],
            [
             0.6666666666666666,
             "#ed7953"
            ],
            [
             0.7777777777777778,
             "#fb9f3a"
            ],
            [
             0.8888888888888888,
             "#fdca26"
            ],
            [
             1,
             "#f0f921"
            ]
           ],
           "sequentialminus": [
            [
             0,
             "#0d0887"
            ],
            [
             0.1111111111111111,
             "#46039f"
            ],
            [
             0.2222222222222222,
             "#7201a8"
            ],
            [
             0.3333333333333333,
             "#9c179e"
            ],
            [
             0.4444444444444444,
             "#bd3786"
            ],
            [
             0.5555555555555556,
             "#d8576b"
            ],
            [
             0.6666666666666666,
             "#ed7953"
            ],
            [
             0.7777777777777778,
             "#fb9f3a"
            ],
            [
             0.8888888888888888,
             "#fdca26"
            ],
            [
             1,
             "#f0f921"
            ]
           ]
          },
          "colorway": [
           "#636efa",
           "#EF553B",
           "#00cc96",
           "#ab63fa",
           "#FFA15A",
           "#19d3f3",
           "#FF6692",
           "#B6E880",
           "#FF97FF",
           "#FECB52"
          ],
          "font": {
           "color": "#2a3f5f"
          },
          "geo": {
           "bgcolor": "white",
           "lakecolor": "white",
           "landcolor": "#E5ECF6",
           "showlakes": true,
           "showland": true,
           "subunitcolor": "white"
          },
          "hoverlabel": {
           "align": "left"
          },
          "hovermode": "closest",
          "mapbox": {
           "style": "light"
          },
          "paper_bgcolor": "white",
          "plot_bgcolor": "#E5ECF6",
          "polar": {
           "angularaxis": {
            "gridcolor": "white",
            "linecolor": "white",
            "ticks": ""
           },
           "bgcolor": "#E5ECF6",
           "radialaxis": {
            "gridcolor": "white",
            "linecolor": "white",
            "ticks": ""
           }
          },
          "scene": {
           "xaxis": {
            "backgroundcolor": "#E5ECF6",
            "gridcolor": "white",
            "gridwidth": 2,
            "linecolor": "white",
            "showbackground": true,
            "ticks": "",
            "zerolinecolor": "white"
           },
           "yaxis": {
            "backgroundcolor": "#E5ECF6",
            "gridcolor": "white",
            "gridwidth": 2,
            "linecolor": "white",
            "showbackground": true,
            "ticks": "",
            "zerolinecolor": "white"
           },
           "zaxis": {
            "backgroundcolor": "#E5ECF6",
            "gridcolor": "white",
            "gridwidth": 2,
            "linecolor": "white",
            "showbackground": true,
            "ticks": "",
            "zerolinecolor": "white"
           }
          },
          "shapedefaults": {
           "line": {
            "color": "#2a3f5f"
           }
          },
          "ternary": {
           "aaxis": {
            "gridcolor": "white",
            "linecolor": "white",
            "ticks": ""
           },
           "baxis": {
            "gridcolor": "white",
            "linecolor": "white",
            "ticks": ""
           },
           "bgcolor": "#E5ECF6",
           "caxis": {
            "gridcolor": "white",
            "linecolor": "white",
            "ticks": ""
           }
          },
          "title": {
           "x": 0.05
          },
          "xaxis": {
           "automargin": true,
           "gridcolor": "white",
           "linecolor": "white",
           "ticks": "",
           "title": {
            "standoff": 15
           },
           "zerolinecolor": "white",
           "zerolinewidth": 2
          },
          "yaxis": {
           "automargin": true,
           "gridcolor": "white",
           "linecolor": "white",
           "ticks": "",
           "title": {
            "standoff": 15
           },
           "zerolinecolor": "white",
           "zerolinewidth": 2
          }
         }
        },
        "title": {
         "text": "Dynamic of commits per user in project1"
        },
        "updatemenus": [
         {
          "buttons": [
           {
            "args": [
             null,
             {
              "frame": {
               "duration": 60,
               "redraw": true
              },
              "fromcurrent": true
             }
            ],
            "label": "Play",
            "method": "animate"
           },
           {
            "args": [
             [
              null
             ],
             {
              "frame": {
               "duration": 0,
               "redraw": true
              },
              "mode": "immediate",
              "transition": {
               "duration": 0
              }
             }
            ],
            "label": "Pause",
            "method": "animate"
           }
          ],
          "direction": "left",
          "pad": {
           "r": 10,
           "t": 87
          },
          "showactive": false,
          "type": "buttons",
          "x": 0.1,
          "xanchor": "right",
          "y": 0,
          "yanchor": "top"
         }
        ],
        "width": 1000,
        "xaxis": {
         "title": {
          "text": "Timestamp"
         }
        },
        "yaxis": {
         "title": {
          "text": "Number of Trials"
         }
        }
       }
      }
     },
     "metadata": {},
     "output_type": "display_data"
    }
   ],
   "source": [
    "fig = go.Figure(\n",
    "    data=initial_traces,\n",
    "    layout=go.Layout(\n",
    "        title = 'Dynamic of commits per user in project1',\n",
    "        xaxis = dict(title='Timestamp'),\n",
    "        yaxis = dict(title='Number of Trials'),\n",
    "        width=1000,      # ширина в пикселях\n",
    "        height=600,      # высота в пикселях\n",
    "        updatemenus=[{\n",
    "            'buttons':[\n",
    "                {\n",
    "                    'args': [None, {'frame': {'duration': 60, 'redraw': True},\n",
    "                                    'fromcurrent': True}],\n",
    "                    'label': 'Play',\n",
    "                    'method': 'animate'\n",
    "                },\n",
    "                {\n",
    "                    'args': [[None], {'frame': {'duration': 0, 'redraw': True},\n",
    "                                      'mode': 'immediate',\n",
    "                                      'transition': {'duration': 0}}],\n",
    "                    'label': 'Pause',\n",
    "                    'method': 'animate'\n",
    "                }\n",
    "            ],\n",
    "            'direction': 'left',\n",
    "            'pad': {'r': 10, 't': 87},\n",
    "            'showactive': False,\n",
    "            'type': 'buttons',\n",
    "            'x': 0.1,\n",
    "            'xanchor': 'right',\n",
    "            'y': 0,\n",
    "            'yanchor': 'top'\n",
    "        }]\n",
    "    ),\n",
    "    frames=frames\n",
    ")\n",
    "\n",
    "fig.show()"
   ]
  },
  {
   "cell_type": "markdown",
   "id": "02c65ec3",
   "metadata": {},
   "source": [
    "## Закрыть соединение"
   ]
  },
  {
   "cell_type": "code",
   "execution_count": 264,
   "id": "5b6c6ceb",
   "metadata": {},
   "outputs": [],
   "source": [
    "conn.close()"
   ]
  }
 ],
 "metadata": {
  "kernelspec": {
   "display_name": "iridescm",
   "language": "python",
   "name": "python3"
  },
  "language_info": {
   "codemirror_mode": {
    "name": "ipython",
    "version": 3
   },
   "file_extension": ".py",
   "mimetype": "text/x-python",
   "name": "python",
   "nbconvert_exporter": "python",
   "pygments_lexer": "ipython3",
   "version": "3.13.5"
  }
 },
 "nbformat": 4,
 "nbformat_minor": 5
}
