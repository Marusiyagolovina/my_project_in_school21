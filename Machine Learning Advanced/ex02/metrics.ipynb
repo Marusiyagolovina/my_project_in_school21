{
 "cells": [
  {
   "cell_type": "markdown",
   "metadata": {},
   "source": [
    "# Day 09. Exercise 02\n",
    "# Metrics"
   ]
  },
  {
   "cell_type": "markdown",
   "metadata": {},
   "source": [
    "## 0. Imports"
   ]
  },
  {
   "cell_type": "code",
   "execution_count": 1,
   "metadata": {},
   "outputs": [],
   "source": [
    "import pandas as pd\n",
    "import numpy as np\n",
    "from sklearn.model_selection import train_test_split\n",
    "from sklearn.svm import SVC\n",
    "from sklearn.metrics import accuracy_score\n",
    "from sklearn.metrics import precision_score, recall_score, roc_auc_score\n",
    "from sklearn.tree import DecisionTreeClassifier\n",
    "from sklearn.ensemble import RandomForestClassifier\n",
    "import joblib"
   ]
  },
  {
   "cell_type": "markdown",
   "metadata": {},
   "source": [
    "## 1. Preprocessing"
   ]
  },
  {
   "cell_type": "markdown",
   "metadata": {},
   "source": [
    "1. Create the same dataframe as in the previous exercise.\n",
    "2. Using `train_test_split` with parameters `test_size=0.2`, `random_state=21` get `X_train`, `y_train`, `X_test`, `y_test`. Use the additional parameter `stratify`."
   ]
  },
  {
   "cell_type": "code",
   "execution_count": 2,
   "metadata": {},
   "outputs": [
    {
     "data": {
      "text/html": [
       "<div>\n",
       "<style scoped>\n",
       "    .dataframe tbody tr th:only-of-type {\n",
       "        vertical-align: middle;\n",
       "    }\n",
       "\n",
       "    .dataframe tbody tr th {\n",
       "        vertical-align: top;\n",
       "    }\n",
       "\n",
       "    .dataframe thead th {\n",
       "        text-align: right;\n",
       "    }\n",
       "</style>\n",
       "<table border=\"1\" class=\"dataframe\">\n",
       "  <thead>\n",
       "    <tr style=\"text-align: right;\">\n",
       "      <th></th>\n",
       "      <th>numTrials</th>\n",
       "      <th>hour</th>\n",
       "      <th>uid_user_0</th>\n",
       "      <th>uid_user_1</th>\n",
       "      <th>uid_user_10</th>\n",
       "      <th>uid_user_11</th>\n",
       "      <th>uid_user_12</th>\n",
       "      <th>uid_user_13</th>\n",
       "      <th>uid_user_14</th>\n",
       "      <th>uid_user_15</th>\n",
       "      <th>...</th>\n",
       "      <th>labname_lab03</th>\n",
       "      <th>labname_lab03s</th>\n",
       "      <th>labname_lab05s</th>\n",
       "      <th>labname_laba04</th>\n",
       "      <th>labname_laba04s</th>\n",
       "      <th>labname_laba05</th>\n",
       "      <th>labname_laba06</th>\n",
       "      <th>labname_laba06s</th>\n",
       "      <th>labname_project1</th>\n",
       "      <th>dayofweek</th>\n",
       "    </tr>\n",
       "  </thead>\n",
       "  <tbody>\n",
       "    <tr>\n",
       "      <th>0</th>\n",
       "      <td>1</td>\n",
       "      <td>5</td>\n",
       "      <td>0.0</td>\n",
       "      <td>0.0</td>\n",
       "      <td>0.0</td>\n",
       "      <td>0.0</td>\n",
       "      <td>0.0</td>\n",
       "      <td>0.0</td>\n",
       "      <td>0.0</td>\n",
       "      <td>0.0</td>\n",
       "      <td>...</td>\n",
       "      <td>0.0</td>\n",
       "      <td>0.0</td>\n",
       "      <td>0.0</td>\n",
       "      <td>0.0</td>\n",
       "      <td>0.0</td>\n",
       "      <td>0.0</td>\n",
       "      <td>0.0</td>\n",
       "      <td>0.0</td>\n",
       "      <td>1.0</td>\n",
       "      <td>4</td>\n",
       "    </tr>\n",
       "    <tr>\n",
       "      <th>1</th>\n",
       "      <td>2</td>\n",
       "      <td>5</td>\n",
       "      <td>0.0</td>\n",
       "      <td>0.0</td>\n",
       "      <td>0.0</td>\n",
       "      <td>0.0</td>\n",
       "      <td>0.0</td>\n",
       "      <td>0.0</td>\n",
       "      <td>0.0</td>\n",
       "      <td>0.0</td>\n",
       "      <td>...</td>\n",
       "      <td>0.0</td>\n",
       "      <td>0.0</td>\n",
       "      <td>0.0</td>\n",
       "      <td>0.0</td>\n",
       "      <td>0.0</td>\n",
       "      <td>0.0</td>\n",
       "      <td>0.0</td>\n",
       "      <td>0.0</td>\n",
       "      <td>1.0</td>\n",
       "      <td>4</td>\n",
       "    </tr>\n",
       "    <tr>\n",
       "      <th>2</th>\n",
       "      <td>3</td>\n",
       "      <td>5</td>\n",
       "      <td>0.0</td>\n",
       "      <td>0.0</td>\n",
       "      <td>0.0</td>\n",
       "      <td>0.0</td>\n",
       "      <td>0.0</td>\n",
       "      <td>0.0</td>\n",
       "      <td>0.0</td>\n",
       "      <td>0.0</td>\n",
       "      <td>...</td>\n",
       "      <td>0.0</td>\n",
       "      <td>0.0</td>\n",
       "      <td>0.0</td>\n",
       "      <td>0.0</td>\n",
       "      <td>0.0</td>\n",
       "      <td>0.0</td>\n",
       "      <td>0.0</td>\n",
       "      <td>0.0</td>\n",
       "      <td>1.0</td>\n",
       "      <td>4</td>\n",
       "    </tr>\n",
       "    <tr>\n",
       "      <th>3</th>\n",
       "      <td>4</td>\n",
       "      <td>5</td>\n",
       "      <td>0.0</td>\n",
       "      <td>0.0</td>\n",
       "      <td>0.0</td>\n",
       "      <td>0.0</td>\n",
       "      <td>0.0</td>\n",
       "      <td>0.0</td>\n",
       "      <td>0.0</td>\n",
       "      <td>0.0</td>\n",
       "      <td>...</td>\n",
       "      <td>0.0</td>\n",
       "      <td>0.0</td>\n",
       "      <td>0.0</td>\n",
       "      <td>0.0</td>\n",
       "      <td>0.0</td>\n",
       "      <td>0.0</td>\n",
       "      <td>0.0</td>\n",
       "      <td>0.0</td>\n",
       "      <td>1.0</td>\n",
       "      <td>4</td>\n",
       "    </tr>\n",
       "    <tr>\n",
       "      <th>4</th>\n",
       "      <td>5</td>\n",
       "      <td>5</td>\n",
       "      <td>0.0</td>\n",
       "      <td>0.0</td>\n",
       "      <td>0.0</td>\n",
       "      <td>0.0</td>\n",
       "      <td>0.0</td>\n",
       "      <td>0.0</td>\n",
       "      <td>0.0</td>\n",
       "      <td>0.0</td>\n",
       "      <td>...</td>\n",
       "      <td>0.0</td>\n",
       "      <td>0.0</td>\n",
       "      <td>0.0</td>\n",
       "      <td>0.0</td>\n",
       "      <td>0.0</td>\n",
       "      <td>0.0</td>\n",
       "      <td>0.0</td>\n",
       "      <td>0.0</td>\n",
       "      <td>1.0</td>\n",
       "      <td>4</td>\n",
       "    </tr>\n",
       "  </tbody>\n",
       "</table>\n",
       "<p>5 rows × 44 columns</p>\n",
       "</div>"
      ],
      "text/plain": [
       "   numTrials  hour  uid_user_0  uid_user_1  uid_user_10  uid_user_11  \\\n",
       "0          1     5         0.0         0.0          0.0          0.0   \n",
       "1          2     5         0.0         0.0          0.0          0.0   \n",
       "2          3     5         0.0         0.0          0.0          0.0   \n",
       "3          4     5         0.0         0.0          0.0          0.0   \n",
       "4          5     5         0.0         0.0          0.0          0.0   \n",
       "\n",
       "   uid_user_12  uid_user_13  uid_user_14  uid_user_15  ...  labname_lab03  \\\n",
       "0          0.0          0.0          0.0          0.0  ...            0.0   \n",
       "1          0.0          0.0          0.0          0.0  ...            0.0   \n",
       "2          0.0          0.0          0.0          0.0  ...            0.0   \n",
       "3          0.0          0.0          0.0          0.0  ...            0.0   \n",
       "4          0.0          0.0          0.0          0.0  ...            0.0   \n",
       "\n",
       "   labname_lab03s  labname_lab05s  labname_laba04  labname_laba04s  \\\n",
       "0             0.0             0.0             0.0              0.0   \n",
       "1             0.0             0.0             0.0              0.0   \n",
       "2             0.0             0.0             0.0              0.0   \n",
       "3             0.0             0.0             0.0              0.0   \n",
       "4             0.0             0.0             0.0              0.0   \n",
       "\n",
       "   labname_laba05  labname_laba06  labname_laba06s  labname_project1  \\\n",
       "0             0.0             0.0              0.0               1.0   \n",
       "1             0.0             0.0              0.0               1.0   \n",
       "2             0.0             0.0              0.0               1.0   \n",
       "3             0.0             0.0              0.0               1.0   \n",
       "4             0.0             0.0              0.0               1.0   \n",
       "\n",
       "   dayofweek  \n",
       "0          4  \n",
       "1          4  \n",
       "2          4  \n",
       "3          4  \n",
       "4          4  \n",
       "\n",
       "[5 rows x 44 columns]"
      ]
     },
     "execution_count": 2,
     "metadata": {},
     "output_type": "execute_result"
    }
   ],
   "source": [
    "df = pd.read_csv('../data/day-of-week-not-scaled.csv')\n",
    "data_scaled = pd.read_csv(\"../data/dayofweek.csv\")\n",
    "df[\"dayofweek\"] = data_scaled[\"dayofweek\"]\n",
    "df.head()"
   ]
  },
  {
   "cell_type": "code",
   "execution_count": 3,
   "metadata": {},
   "outputs": [],
   "source": [
    "X = df.drop('dayofweek', axis=1)\n",
    "y = df['dayofweek']"
   ]
  },
  {
   "cell_type": "code",
   "execution_count": 4,
   "metadata": {},
   "outputs": [],
   "source": [
    "X_train, X_test, y_train, y_test = train_test_split(X, y, random_state=21, stratify=y, test_size=0.2)"
   ]
  },
  {
   "cell_type": "markdown",
   "metadata": {},
   "source": [
    "## 2. SVM"
   ]
  },
  {
   "cell_type": "markdown",
   "metadata": {},
   "source": [
    "1. Use the best parameters from the previous exercise and train the model of SVM.\n",
    "2. You need to calculate `accuracy`, `precision`, `recall`, `ROC AUC`.\n",
    "\n",
    " - `precision` and `recall` should be calculated for each class (use `average='weighted'`)\n",
    " - `ROC AUC` should be calculated for each class against any other class (all possible pairwise combinations) and then weighted average should be applied for the final metric\n",
    " - the code in the cell should display the result as below:\n",
    "\n",
    "```\n",
    "accuracy is 0.88757\n",
    "precision is 0.89267\n",
    "recall is 0.88757\n",
    "roc_auc is 0.97878\n",
    "```"
   ]
  },
  {
   "cell_type": "code",
   "execution_count": 5,
   "metadata": {},
   "outputs": [
    {
     "name": "stdout",
     "output_type": "stream",
     "text": [
      "accuracy is 0.88757\n",
      "precision is 0.89267\n",
      "recall is 0.88757\n",
      "roc_auc is 0.97878\n"
     ]
    }
   ],
   "source": [
    "svc = SVC(\n",
    "    C=10, gamma=\"auto\", kernel=\"rbf\", class_weight=None,\n",
    "    probability=True, random_state=21\n",
    ")\n",
    "svc.fit(X_train, y_train)\n",
    "\n",
    "y_pred = svc.predict(X_test)\n",
    "y_pred_proba = svc.predict_proba(X_test)\n",
    "\n",
    "accuracy = accuracy_score(y_test, y_pred)\n",
    "precision = precision_score(y_test, y_pred, average=\"weighted\")\n",
    "recall = recall_score(y_test, y_pred, average=\"weighted\")\n",
    "\n",
    "roc_auc = roc_auc_score(y_test, y_pred_proba, multi_class=\"ovo\", average=\"weighted\")\n",
    "\n",
    "print(f\"accuracy is {accuracy:.5f}\")\n",
    "print(f\"precision is {precision:.5f}\")\n",
    "print(f\"recall is {recall:.5f}\")\n",
    "print(f\"roc_auc is {roc_auc:.5f}\")"
   ]
  },
  {
   "cell_type": "markdown",
   "metadata": {},
   "source": [
    "## 3. Decision tree"
   ]
  },
  {
   "cell_type": "markdown",
   "metadata": {},
   "source": [
    "1. The same task for decision tree"
   ]
  },
  {
   "cell_type": "code",
   "execution_count": 6,
   "metadata": {},
   "outputs": [
    {
     "name": "stdout",
     "output_type": "stream",
     "text": [
      "accuracy is 0.88462\n",
      "precision is 0.88761\n",
      "recall is 0.88462\n",
      "roc_auc is 0.93361\n"
     ]
    }
   ],
   "source": [
    "dtc = DecisionTreeClassifier(\n",
    "    max_depth=22,\n",
    "    class_weight=\"balanced\",\n",
    "    random_state=21,\n",
    "    criterion=\"gini\"\n",
    ")\n",
    "dtc.fit(X_train, y_train)\n",
    "\n",
    "y_pred = dtc.predict(X_test)\n",
    "y_pred_proba = dtc.predict_proba(X_test)\n",
    "\n",
    "accuracy = accuracy_score(y_test, y_pred)\n",
    "precision = precision_score(y_test, y_pred, average=\"weighted\")\n",
    "recall = recall_score(y_test, y_pred, average=\"weighted\")\n",
    "\n",
    "roc_auc = roc_auc_score(y_test, y_pred_proba, multi_class=\"ovo\", average=\"weighted\")\n",
    "\n",
    "print(f\"accuracy is {accuracy:.5f}\")\n",
    "print(f\"precision is {precision:.5f}\")\n",
    "print(f\"recall is {recall:.5f}\")\n",
    "print(f\"roc_auc is {roc_auc:.5f}\")"
   ]
  },
  {
   "cell_type": "markdown",
   "metadata": {},
   "source": [
    "## 4. Random forest"
   ]
  },
  {
   "cell_type": "markdown",
   "metadata": {},
   "source": [
    "1. The same task for random forest."
   ]
  },
  {
   "cell_type": "code",
   "execution_count": 7,
   "metadata": {},
   "outputs": [
    {
     "name": "stdout",
     "output_type": "stream",
     "text": [
      "accuracy is 0.92604\n",
      "precision is 0.92754\n",
      "recall is 0.92604\n",
      "roc_auc is 0.98939\n"
     ]
    }
   ],
   "source": [
    "rfc = RandomForestClassifier(\n",
    "    n_estimators=100,\n",
    "    max_depth=24,\n",
    "    random_state=21,\n",
    "    criterion=\"entropy\",\n",
    "    class_weight=\"balanced\"\n",
    ")\n",
    "rfc.fit(X_train, y_train)\n",
    "\n",
    "y_pred = rfc.predict(X_test)\n",
    "y_pred_proba = rfc.predict_proba(X_test)\n",
    "\n",
    "accuracy = accuracy_score(y_test, y_pred)\n",
    "precision = precision_score(y_test, y_pred, average=\"weighted\")\n",
    "recall = recall_score(y_test, y_pred, average=\"weighted\")\n",
    "\n",
    "roc_auc = roc_auc_score(y_test, y_pred_proba, multi_class=\"ovo\", average=\"weighted\")\n",
    "\n",
    "print(f\"accuracy is {accuracy:.5f}\")\n",
    "print(f\"precision is {precision:.5f}\")\n",
    "print(f\"recall is {recall:.5f}\")\n",
    "print(f\"roc_auc is {roc_auc:.5f}\")"
   ]
  },
  {
   "cell_type": "markdown",
   "metadata": {},
   "source": [
    "## 5. Predictions"
   ]
  },
  {
   "cell_type": "markdown",
   "metadata": {},
   "source": [
    "1. Choose the best model.\n",
    "2. Analyze: for which `weekday` your model makes the most errors (in % of the total number of samples of that class in your full dataset), for which `labname` and for which `users`.\n",
    "3. Save the model."
   ]
  },
  {
   "cell_type": "code",
   "execution_count": 8,
   "metadata": {},
   "outputs": [
    {
     "name": "stdout",
     "output_type": "stream",
     "text": [
      "Точность моделей: {'SVC': 0.8875739644970414, 'DecisionTree': 0.8846153846153846, 'RandomForest': 0.9260355029585798}\n",
      "Лучшая модель: RandomForest\n"
     ]
    }
   ],
   "source": [
    "models = {\n",
    "    \"SVC\": SVC(\n",
    "        C=10, class_weight=None, gamma=\"auto\",\n",
    "        kernel=\"rbf\", probability=True\n",
    "    ),\n",
    "    \"DecisionTree\": DecisionTreeClassifier(\n",
    "        max_depth=22, class_weight=\"balanced\",\n",
    "        random_state=21, criterion=\"gini\"\n",
    "    ),\n",
    "    \"RandomForest\": RandomForestClassifier(\n",
    "        n_estimators=100, max_depth=24,\n",
    "        random_state=21, criterion=\"entropy\", class_weight=\"balanced\"\n",
    "    )\n",
    "}\n",
    "\n",
    "results = {}\n",
    "for name, model in models.items():\n",
    "    model.fit(X_train, y_train)\n",
    "    y_pred = model.predict(X_test)\n",
    "    acc = accuracy_score(y_test, y_pred)\n",
    "    results[name] = acc\n",
    "\n",
    "print(\"Точность моделей:\", results)\n",
    "\n",
    "best_model_name = max(results, key=results.get)\n",
    "best_model = models[best_model_name]\n",
    "print(\"Лучшая модель:\", best_model_name)"
   ]
  },
  {
   "cell_type": "code",
   "execution_count": 9,
   "metadata": {},
   "outputs": [
    {
     "name": "stdout",
     "output_type": "stream",
     "text": [
      "\n",
      "Ошибки по weekday:\n",
      "weekday\n",
      "0    0.222222\n",
      "4    0.142857\n",
      "5    0.092593\n",
      "1    0.072727\n",
      "2    0.066667\n",
      "3    0.037500\n",
      "6    0.028169\n",
      "Name: error, dtype: float64\n",
      "\n",
      "Ошибки по labname:\n",
      "labname\n",
      "lab03       1.000000\n",
      "laba04      0.171429\n",
      "lab05s      0.166667\n",
      "laba06s     0.133333\n",
      "laba06      0.111111\n",
      "laba04s     0.080000\n",
      "code_rvw    0.076923\n",
      "project1    0.053763\n",
      "laba05      0.021277\n",
      "lab03s      0.000000\n",
      "Name: error, dtype: float64\n"
     ]
    }
   ],
   "source": [
    "y_pred = best_model.predict(X_test)\n",
    "errors = (y_pred != y_test)\n",
    "X_test_eval = X_test.copy()\n",
    "X_test_eval[\"y_true\"] = y_test\n",
    "X_test_eval[\"y_pred\"] = y_pred\n",
    "X_test_eval[\"error\"] = errors.astype(int)\n",
    "user_cols = [c for c in df.columns if c.startswith(\"uid_user_\")]\n",
    "lab_cols = [c for c in df.columns if c.startswith(\"labname_\")]\n",
    "weekday_col = \"dayofweek\"\n",
    "\n",
    "def get_category_from_onehot(row, cols, prefix):\n",
    "    idx = np.argmax(row[cols].values) \n",
    "    return cols[idx].replace(prefix, \"\")\n",
    "\n",
    "X_test_eval[\"user\"] = X_test_eval[user_cols].apply(\n",
    "    lambda r: get_category_from_onehot(r, user_cols, \"uid_user_\"), axis=1\n",
    ")\n",
    "X_test_eval[\"labname\"] = X_test_eval[lab_cols].apply(\n",
    "    lambda r: get_category_from_onehot(r, lab_cols, \"labname_\"), axis=1\n",
    ")\n",
    "X_test_eval[\"weekday\"] = df.loc[X_test.index, \"dayofweek\"].values\n",
    "\n",
    "# ==== 3. Ошибки ====\n",
    "def error_rate_by_feature(feature):\n",
    "    return (\n",
    "        X_test_eval.groupby(feature)[\"error\"]\n",
    "        .mean()\n",
    "        .sort_values(ascending=False)\n",
    "    )\n",
    "\n",
    "print(\"\\nОшибки по weekday:\")\n",
    "print(error_rate_by_feature(\"weekday\"))\n",
    "\n",
    "print(\"\\nОшибки по labname:\")\n",
    "print(error_rate_by_feature(\"labname\"))"
   ]
  },
  {
   "cell_type": "code",
   "execution_count": 10,
   "metadata": {},
   "outputs": [
    {
     "name": "stdout",
     "output_type": "stream",
     "text": [
      "\n",
      "Ошибки по user:\n",
      "user\n",
      "22    1.000000\n",
      "6     0.500000\n",
      "16    0.200000\n",
      "27    0.166667\n",
      "18    0.166667\n",
      "3     0.142857\n",
      "30    0.125000\n",
      "31    0.111111\n",
      "2     0.107143\n",
      "19    0.105263\n",
      "29    0.090909\n",
      "25    0.090909\n",
      "24    0.090909\n",
      "10    0.083333\n",
      "4     0.074074\n",
      "13    0.058824\n",
      "14    0.032258\n",
      "15    0.000000\n",
      "12    0.000000\n",
      "8     0.000000\n",
      "17    0.000000\n",
      "20    0.000000\n",
      "21    0.000000\n",
      "23    0.000000\n",
      "26    0.000000\n",
      "28    0.000000\n",
      "1     0.000000\n",
      "Name: error, dtype: float64\n"
     ]
    }
   ],
   "source": [
    "print(\"\\nОшибки по user:\")\n",
    "print(error_rate_by_feature(\"user\"))"
   ]
  },
  {
   "cell_type": "code",
   "execution_count": 11,
   "metadata": {},
   "outputs": [
    {
     "name": "stdout",
     "output_type": "stream",
     "text": [
      "Модель сохранена в 'best_model.joblib'\n"
     ]
    }
   ],
   "source": [
    "joblib.dump(best_model, 'best_model.joblib')\n",
    "print(\"Модель сохранена в 'best_model.joblib'\")"
   ]
  },
  {
   "cell_type": "markdown",
   "metadata": {},
   "source": [
    "## 6. Function"
   ]
  },
  {
   "cell_type": "markdown",
   "metadata": {},
   "source": [
    "1. Write a function that takes a list of different models and a corresponding list of parameters (dicts) and returns a dict that contains all the 4 metrics for each model."
   ]
  },
  {
   "cell_type": "code",
   "execution_count": 12,
   "metadata": {},
   "outputs": [],
   "source": [
    "def calc_metrics(models: list, X, y):\n",
    "    results = {}\n",
    "    X_train, X_test, y_train, y_test = train_test_split(\n",
    "        X, y, test_size=0.2, random_state=21, stratify=y\n",
    "    )\n",
    "\n",
    "    for model in models:\n",
    "        model.fit(X_train, y_train)\n",
    "\n",
    "        y_pred = model.predict(X_test)\n",
    "        y_score = model.predict_proba(X_test)\n",
    "\n",
    "        d = {\n",
    "            \"accuracy\": accuracy_score(y_test, y_pred),\n",
    "            \"precision\": precision_score(y_test, y_pred, average=\"weighted\"),\n",
    "            \"recall\": recall_score(y_test, y_pred, average=\"weighted\"),\n",
    "            \"roc_auc\": roc_auc_score(y_test, y_score, multi_class=\"ovo\", average=\"weighted\")\n",
    "        }\n",
    "\n",
    "        results[model.__class__.__name__] = d\n",
    "\n",
    "    return results"
   ]
  },
  {
   "cell_type": "code",
   "execution_count": 13,
   "metadata": {},
   "outputs": [
    {
     "name": "stdout",
     "output_type": "stream",
     "text": [
      "{'SVC': {'accuracy': 0.8875739644970414, 'precision': 0.8926729169690374, 'recall': 0.8875739644970414, 'roc_auc': 0.9787793228216216}, 'DecisionTreeClassifier': {'accuracy': 0.8846153846153846, 'precision': 0.8876118427933078, 'recall': 0.8846153846153846, 'roc_auc': 0.9336129876244765}, 'RandomForestClassifier': {'accuracy': 0.9260355029585798, 'precision': 0.9275374670957044, 'recall': 0.9260355029585798, 'roc_auc': 0.9893851880258296}}\n",
      "SVC: {'accuracy': 0.8875739644970414, 'precision': 0.8926729169690374, 'recall': 0.8875739644970414, 'roc_auc': 0.9787793228216216}\n",
      "DecisionTreeClassifier: {'accuracy': 0.8846153846153846, 'precision': 0.8876118427933078, 'recall': 0.8846153846153846, 'roc_auc': 0.9336129876244765}\n",
      "RandomForestClassifier: {'accuracy': 0.9260355029585798, 'precision': 0.9275374670957044, 'recall': 0.9260355029585798, 'roc_auc': 0.9893851880258296}\n"
     ]
    }
   ],
   "source": [
    "models = [svc, dtc, rfc]\n",
    "results = calc_metrics(models, X, y)\n",
    "\n",
    "print(results)\n",
    "for key, value in results.items():\n",
    "    print(f\"{key}: {value}\")"
   ]
  }
 ],
 "metadata": {
  "kernelspec": {
   "display_name": "venv38",
   "language": "python",
   "name": "python3"
  },
  "language_info": {
   "codemirror_mode": {
    "name": "ipython",
    "version": 3
   },
   "file_extension": ".py",
   "mimetype": "text/x-python",
   "name": "python",
   "nbconvert_exporter": "python",
   "pygments_lexer": "ipython3",
   "version": "3.8.2rc2"
  }
 },
 "nbformat": 4,
 "nbformat_minor": 4
}
