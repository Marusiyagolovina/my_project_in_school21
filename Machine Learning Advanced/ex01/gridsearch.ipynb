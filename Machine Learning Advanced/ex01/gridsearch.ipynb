{
 "cells": [
  {
   "cell_type": "markdown",
   "metadata": {
    "id": "gJm_8nRDyUp7"
   },
   "source": [
    "# Day 09. Exercise 01\n",
    "# Gridsearch"
   ]
  },
  {
   "cell_type": "markdown",
   "metadata": {
    "id": "OLB1I9UiyUp-"
   },
   "source": [
    "## 0. Imports"
   ]
  },
  {
   "cell_type": "code",
   "execution_count": 1,
   "metadata": {
    "id": "rjrDzFRzyUp_"
   },
   "outputs": [],
   "source": [
    "import pandas as pd\n",
    "from sklearn.model_selection import train_test_split\n",
    "from sklearn.svm import SVC\n",
    "from sklearn.model_selection import GridSearchCV\n",
    "import numpy as np\n",
    "from sklearn.tree import DecisionTreeClassifier\n",
    "from sklearn.ensemble import RandomForestClassifier\n",
    "from tqdm.notebook import tqdm\n",
    "from sklearn.model_selection import ParameterGrid\n",
    "from sklearn.model_selection import train_test_split, cross_val_score\n",
    "from sklearn.metrics import accuracy_score"
   ]
  },
  {
   "cell_type": "markdown",
   "metadata": {
    "id": "F8zodjDJyUqA"
   },
   "source": [
    "## 1. Preprocessing"
   ]
  },
  {
   "cell_type": "markdown",
   "metadata": {
    "id": "PWR10A1TyUqA"
   },
   "source": [
    "1. Read the file [`day-of-week-not-scaled.csv`](https://drive.google.com/file/d/1AlGvsJDSzPT_70caausx8bFuupIEZkfh/view?usp=sharing). It is similar to the one from the previous exercise, but this time we did not scale continuous features (we are not going to use logreg anymore). Don't forget to enrich the table with the 'dayofweek' column from the previous day's .csv-file.\n",
    "2. Using `train_test_split` with parameters `test_size=0.2`, `random_state=21` get `X_train`, `y_train`, `X_test`, `y_test`. Use the additional parameter `stratify`."
   ]
  },
  {
   "cell_type": "code",
   "execution_count": 2,
   "metadata": {
    "id": "c8RWKHJbyUqA"
   },
   "outputs": [
    {
     "name": "stdout",
     "output_type": "stream",
     "text": [
      "<class 'pandas.core.frame.DataFrame'>\n",
      "RangeIndex: 1686 entries, 0 to 1685\n",
      "Data columns (total 44 columns):\n",
      " #   Column            Non-Null Count  Dtype  \n",
      "---  ------            --------------  -----  \n",
      " 0   numTrials         1686 non-null   int64  \n",
      " 1   hour              1686 non-null   int64  \n",
      " 2   uid_user_0        1686 non-null   float64\n",
      " 3   uid_user_1        1686 non-null   float64\n",
      " 4   uid_user_10       1686 non-null   float64\n",
      " 5   uid_user_11       1686 non-null   float64\n",
      " 6   uid_user_12       1686 non-null   float64\n",
      " 7   uid_user_13       1686 non-null   float64\n",
      " 8   uid_user_14       1686 non-null   float64\n",
      " 9   uid_user_15       1686 non-null   float64\n",
      " 10  uid_user_16       1686 non-null   float64\n",
      " 11  uid_user_17       1686 non-null   float64\n",
      " 12  uid_user_18       1686 non-null   float64\n",
      " 13  uid_user_19       1686 non-null   float64\n",
      " 14  uid_user_2        1686 non-null   float64\n",
      " 15  uid_user_20       1686 non-null   float64\n",
      " 16  uid_user_21       1686 non-null   float64\n",
      " 17  uid_user_22       1686 non-null   float64\n",
      " 18  uid_user_23       1686 non-null   float64\n",
      " 19  uid_user_24       1686 non-null   float64\n",
      " 20  uid_user_25       1686 non-null   float64\n",
      " 21  uid_user_26       1686 non-null   float64\n",
      " 22  uid_user_27       1686 non-null   float64\n",
      " 23  uid_user_28       1686 non-null   float64\n",
      " 24  uid_user_29       1686 non-null   float64\n",
      " 25  uid_user_3        1686 non-null   float64\n",
      " 26  uid_user_30       1686 non-null   float64\n",
      " 27  uid_user_31       1686 non-null   float64\n",
      " 28  uid_user_4        1686 non-null   float64\n",
      " 29  uid_user_6        1686 non-null   float64\n",
      " 30  uid_user_7        1686 non-null   float64\n",
      " 31  uid_user_8        1686 non-null   float64\n",
      " 32  labname_code_rvw  1686 non-null   float64\n",
      " 33  labname_lab02     1686 non-null   float64\n",
      " 34  labname_lab03     1686 non-null   float64\n",
      " 35  labname_lab03s    1686 non-null   float64\n",
      " 36  labname_lab05s    1686 non-null   float64\n",
      " 37  labname_laba04    1686 non-null   float64\n",
      " 38  labname_laba04s   1686 non-null   float64\n",
      " 39  labname_laba05    1686 non-null   float64\n",
      " 40  labname_laba06    1686 non-null   float64\n",
      " 41  labname_laba06s   1686 non-null   float64\n",
      " 42  labname_project1  1686 non-null   float64\n",
      " 43  dayofweek         1686 non-null   int64  \n",
      "dtypes: float64(41), int64(3)\n",
      "memory usage: 579.7 KB\n"
     ]
    }
   ],
   "source": [
    "df = pd.read_csv('../data/day-of-week-not-scaled.csv')\n",
    "data_scaled = pd.read_csv(\"../data/dayofweek.csv\")\n",
    "df[\"dayofweek\"] = data_scaled[\"dayofweek\"]\n",
    "df.info()"
   ]
  },
  {
   "cell_type": "code",
   "execution_count": 3,
   "metadata": {
    "id": "D5f4G8reyUqB"
   },
   "outputs": [],
   "source": [
    "X = df.drop('dayofweek', axis=1)\n",
    "y = df['dayofweek']\n",
    "\n",
    "X_train, X_test, y_train, y_test = train_test_split(X, y, random_state=21, stratify=y, test_size=0.2)"
   ]
  },
  {
   "cell_type": "markdown",
   "metadata": {
    "id": "Qx6PXWY3yUqB"
   },
   "source": [
    "## 2. SVM gridsearch"
   ]
  },
  {
   "cell_type": "markdown",
   "metadata": {
    "id": "Z6zo8cHCyUqB"
   },
   "source": [
    "1. Using `GridSearchCV` try different parameters of kernel (`linear`, `rbf`, `sigmoid`), C (`0.01`, `0.1`, `1`, `1.5`, `5`, `10`), gamma (`scale`, `auto`), class_weight (`balanced`, `None`) use `random_state=21` and `probability=True` and get the best combination of them in terms of accuracy.\n",
    "2. Create a dataframe from the results of the gridsearch and sort it ascendingly by the `rank_test_score`. Check if there is a huge difference between different combinations (sometimes a simpler model may give a comparable result)."
   ]
  },
  {
   "cell_type": "code",
   "execution_count": 4,
   "metadata": {
    "id": "dBiuP78ayUqB"
   },
   "outputs": [
    {
     "name": "stdout",
     "output_type": "stream",
     "text": [
      "Fitting 2 folds for each of 72 candidates, totalling 144 fits\n"
     ]
    },
    {
     "name": "stderr",
     "output_type": "stream",
     "text": [
      "[Parallel(n_jobs=-1)]: Using backend LokyBackend with 12 concurrent workers.\n",
      "[Parallel(n_jobs=-1)]: Done  17 tasks      | elapsed:    2.7s\n",
      "[Parallel(n_jobs=-1)]: Done 144 out of 144 | elapsed:   51.3s finished\n"
     ]
    },
    {
     "name": "stdout",
     "output_type": "stream",
     "text": [
      "лучшие параметры: {'C': 10, 'class_weight': None, 'gamma': 'auto', 'kernel': 'rbf', 'probability': True, 'random_state': 21}\n",
      "лучший score: 0.8093471810089021\n"
     ]
    }
   ],
   "source": [
    "svc = SVC(random_state=21, probability=True)\n",
    "\n",
    "param_grid = {\n",
    "    'C' : [0.01, 0.1, 1, 1.5, 5, 10],\n",
    "    'kernel' : ['linear', 'rbf', 'sigmoid'],\n",
    "    'gamma' : ['scale', 'auto'],\n",
    "    'class_weight' : ['balanced', None],\n",
    "    'random_state': [21],\n",
    "    'probability': [True]\n",
    "}\n",
    "gcv = GridSearchCV(svc, param_grid, cv=2, scoring='accuracy', n_jobs=-1, verbose=2)\n",
    "gcv.fit(X_train, y_train)\n",
    "\n",
    "print(f'лучшие параметры: {gcv.best_params_}')\n",
    "print(f'лучший score: {gcv.best_score_}')"
   ]
  },
  {
   "cell_type": "code",
   "execution_count": 5,
   "metadata": {
    "id": "4NL1AfU0yUqC"
   },
   "outputs": [
    {
     "data": {
      "text/html": [
       "<div>\n",
       "<style scoped>\n",
       "    .dataframe tbody tr th:only-of-type {\n",
       "        vertical-align: middle;\n",
       "    }\n",
       "\n",
       "    .dataframe tbody tr th {\n",
       "        vertical-align: top;\n",
       "    }\n",
       "\n",
       "    .dataframe thead th {\n",
       "        text-align: right;\n",
       "    }\n",
       "</style>\n",
       "<table border=\"1\" class=\"dataframe\">\n",
       "  <thead>\n",
       "    <tr style=\"text-align: right;\">\n",
       "      <th></th>\n",
       "      <th>rank_test_score</th>\n",
       "      <th>mean_test_score</th>\n",
       "      <th>std_test_score</th>\n",
       "      <th>param_kernel</th>\n",
       "      <th>param_C</th>\n",
       "      <th>param_gamma</th>\n",
       "      <th>param_class_weight</th>\n",
       "    </tr>\n",
       "  </thead>\n",
       "  <tbody>\n",
       "    <tr>\n",
       "      <th>70</th>\n",
       "      <td>1</td>\n",
       "      <td>0.809347</td>\n",
       "      <td>0.003709</td>\n",
       "      <td>rbf</td>\n",
       "      <td>10</td>\n",
       "      <td>auto</td>\n",
       "      <td>None</td>\n",
       "    </tr>\n",
       "    <tr>\n",
       "      <th>64</th>\n",
       "      <td>2</td>\n",
       "      <td>0.804154</td>\n",
       "      <td>0.002967</td>\n",
       "      <td>rbf</td>\n",
       "      <td>10</td>\n",
       "      <td>auto</td>\n",
       "      <td>balanced</td>\n",
       "    </tr>\n",
       "    <tr>\n",
       "      <th>58</th>\n",
       "      <td>3</td>\n",
       "      <td>0.747774</td>\n",
       "      <td>0.002967</td>\n",
       "      <td>rbf</td>\n",
       "      <td>5</td>\n",
       "      <td>auto</td>\n",
       "      <td>None</td>\n",
       "    </tr>\n",
       "    <tr>\n",
       "      <th>52</th>\n",
       "      <td>4</td>\n",
       "      <td>0.737389</td>\n",
       "      <td>0.004451</td>\n",
       "      <td>rbf</td>\n",
       "      <td>5</td>\n",
       "      <td>auto</td>\n",
       "      <td>balanced</td>\n",
       "    </tr>\n",
       "    <tr>\n",
       "      <th>63</th>\n",
       "      <td>5</td>\n",
       "      <td>0.706973</td>\n",
       "      <td>0.005193</td>\n",
       "      <td>linear</td>\n",
       "      <td>10</td>\n",
       "      <td>auto</td>\n",
       "      <td>balanced</td>\n",
       "    </tr>\n",
       "  </tbody>\n",
       "</table>\n",
       "</div>"
      ],
      "text/plain": [
       "    rank_test_score  mean_test_score  std_test_score param_kernel param_C  \\\n",
       "70                1         0.809347        0.003709          rbf      10   \n",
       "64                2         0.804154        0.002967          rbf      10   \n",
       "58                3         0.747774        0.002967          rbf       5   \n",
       "52                4         0.737389        0.004451          rbf       5   \n",
       "63                5         0.706973        0.005193       linear      10   \n",
       "\n",
       "   param_gamma param_class_weight  \n",
       "70        auto               None  \n",
       "64        auto           balanced  \n",
       "58        auto               None  \n",
       "52        auto           balanced  \n",
       "63        auto           balanced  "
      ]
     },
     "execution_count": 5,
     "metadata": {},
     "output_type": "execute_result"
    }
   ],
   "source": [
    "results = pd.DataFrame(gcv.cv_results_)\n",
    "results = results.sort_values('rank_test_score', ascending=True)\n",
    "key_columns = [\n",
    "    'rank_test_score', 'mean_test_score', 'std_test_score',\n",
    "    'param_kernel', 'param_C', 'param_gamma', 'param_class_weight'\n",
    "]\n",
    "results[key_columns].head()"
   ]
  },
  {
   "cell_type": "markdown",
   "metadata": {
    "id": "a3w4FpldyUqC"
   },
   "source": [
    "## 3. Decision tree"
   ]
  },
  {
   "cell_type": "markdown",
   "metadata": {
    "id": "ELqxX9sXyUqD"
   },
   "source": [
    "1. Using `GridSearchCV` try different parameters of `max_depth` (from `1` to `49`), `class_weight` (`balanced`, `None`) and `criterion` (`entropy` and `gini`) and get the best combination of them in terms of accuracy. Use `random_state=21`.\n",
    "2. Create a dataframe from the results of the gridsearch and sort it ascendingly by the `rank_test_score`, check if there is a huge difference between different combinations (sometimes a simpler model may give a comparable result)."
   ]
  },
  {
   "cell_type": "code",
   "execution_count": 6,
   "metadata": {
    "id": "Q6YmUeUqyUqD"
   },
   "outputs": [],
   "source": [
    "dt = DecisionTreeClassifier(random_state=21, max_features=None)"
   ]
  },
  {
   "cell_type": "code",
   "execution_count": 7,
   "metadata": {
    "id": "aF9K-bBGyUqD"
   },
   "outputs": [
    {
     "name": "stdout",
     "output_type": "stream",
     "text": [
      "Fitting 5 folds for each of 196 candidates, totalling 980 fits\n"
     ]
    },
    {
     "name": "stderr",
     "output_type": "stream",
     "text": [
      "[Parallel(n_jobs=-1)]: Using backend LokyBackend with 12 concurrent workers.\n",
      "[Parallel(n_jobs=-1)]: Done  17 tasks      | elapsed:    0.0s\n"
     ]
    },
    {
     "name": "stdout",
     "output_type": "stream",
     "text": [
      "лучшие параметры: {'class_weight': 'balanced', 'criterion': 'gini', 'max_depth': 21, 'random_state': 21}\n",
      "лучший score: 0.873864794162192\n"
     ]
    },
    {
     "name": "stderr",
     "output_type": "stream",
     "text": [
      "[Parallel(n_jobs=-1)]: Done 837 tasks      | elapsed:    0.9s\n",
      "[Parallel(n_jobs=-1)]: Done 980 out of 980 | elapsed:    1.0s finished\n"
     ]
    }
   ],
   "source": [
    "param_grid = {'criterion': ['gini','entropy'],\n",
    "              'max_depth': list(range(1, 50)),\n",
    "              'class_weight': ['balanced', None],\n",
    "              'random_state': [21]\n",
    "            }\n",
    "\n",
    "gs = GridSearchCV(dt, param_grid, scoring='accuracy', n_jobs=-1, verbose=2)\n",
    "gs.fit(X_train, y_train)\n",
    "\n",
    "print(f'лучшие параметры: {gs.best_params_}')\n",
    "print(f'лучший score: {gs.best_score_}')"
   ]
  },
  {
   "cell_type": "code",
   "execution_count": 8,
   "metadata": {
    "id": "7barDuTYyUqD"
   },
   "outputs": [
    {
     "data": {
      "text/html": [
       "<div>\n",
       "<style scoped>\n",
       "    .dataframe tbody tr th:only-of-type {\n",
       "        vertical-align: middle;\n",
       "    }\n",
       "\n",
       "    .dataframe tbody tr th {\n",
       "        vertical-align: top;\n",
       "    }\n",
       "\n",
       "    .dataframe thead th {\n",
       "        text-align: right;\n",
       "    }\n",
       "</style>\n",
       "<table border=\"1\" class=\"dataframe\">\n",
       "  <thead>\n",
       "    <tr style=\"text-align: right;\">\n",
       "      <th></th>\n",
       "      <th>rank_test_score</th>\n",
       "      <th>mean_test_score</th>\n",
       "      <th>std_test_score</th>\n",
       "      <th>param_max_depth</th>\n",
       "      <th>param_class_weight</th>\n",
       "      <th>param_criterion</th>\n",
       "    </tr>\n",
       "  </thead>\n",
       "  <tbody>\n",
       "    <tr>\n",
       "      <th>20</th>\n",
       "      <td>1</td>\n",
       "      <td>0.873865</td>\n",
       "      <td>0.025066</td>\n",
       "      <td>21</td>\n",
       "      <td>balanced</td>\n",
       "      <td>gini</td>\n",
       "    </tr>\n",
       "    <tr>\n",
       "      <th>24</th>\n",
       "      <td>2</td>\n",
       "      <td>0.873854</td>\n",
       "      <td>0.025018</td>\n",
       "      <td>25</td>\n",
       "      <td>balanced</td>\n",
       "      <td>gini</td>\n",
       "    </tr>\n",
       "    <tr>\n",
       "      <th>21</th>\n",
       "      <td>3</td>\n",
       "      <td>0.872378</td>\n",
       "      <td>0.025263</td>\n",
       "      <td>22</td>\n",
       "      <td>balanced</td>\n",
       "      <td>gini</td>\n",
       "    </tr>\n",
       "    <tr>\n",
       "      <th>30</th>\n",
       "      <td>4</td>\n",
       "      <td>0.872372</td>\n",
       "      <td>0.025179</td>\n",
       "      <td>31</td>\n",
       "      <td>balanced</td>\n",
       "      <td>gini</td>\n",
       "    </tr>\n",
       "    <tr>\n",
       "      <th>28</th>\n",
       "      <td>4</td>\n",
       "      <td>0.872372</td>\n",
       "      <td>0.025179</td>\n",
       "      <td>29</td>\n",
       "      <td>balanced</td>\n",
       "      <td>gini</td>\n",
       "    </tr>\n",
       "  </tbody>\n",
       "</table>\n",
       "</div>"
      ],
      "text/plain": [
       "    rank_test_score  mean_test_score  std_test_score param_max_depth  \\\n",
       "20                1         0.873865        0.025066              21   \n",
       "24                2         0.873854        0.025018              25   \n",
       "21                3         0.872378        0.025263              22   \n",
       "30                4         0.872372        0.025179              31   \n",
       "28                4         0.872372        0.025179              29   \n",
       "\n",
       "   param_class_weight param_criterion  \n",
       "20           balanced            gini  \n",
       "24           balanced            gini  \n",
       "21           balanced            gini  \n",
       "30           balanced            gini  \n",
       "28           balanced            gini  "
      ]
     },
     "execution_count": 8,
     "metadata": {},
     "output_type": "execute_result"
    }
   ],
   "source": [
    "results = pd.DataFrame(gs.cv_results_)\n",
    "results = results.sort_values('rank_test_score', ascending=True)\n",
    "columns_to_show = [\n",
    "    'rank_test_score', 'mean_test_score', 'std_test_score',\n",
    "    'param_max_depth', 'param_class_weight', 'param_criterion'\n",
    "]\n",
    "results[columns_to_show].head()"
   ]
  },
  {
   "cell_type": "markdown",
   "metadata": {
    "id": "dLFxJKtiyUqE"
   },
   "source": [
    "## 4. Random forest"
   ]
  },
  {
   "cell_type": "markdown",
   "metadata": {
    "id": "V6ADE7RuyUqE"
   },
   "source": [
    "1. Using `GridSearchCV` try different parameters of `n_estimators` (`5`, `10`, `50`, `100`), `max_depth` (from `1` to `49`), `class_weight` (`balanced`, `None`) and `criterion` (`entropy` and `gini`) and get the best combination of them in terms of accuracy. Use random_state=21.\n",
    "2. Create a dataframe from the results of the gridsearch and sort it ascendengly by the `rank_test_score`, check if there is a huge difference between different combinations (sometimes a simpler model may give a comparable result)."
   ]
  },
  {
   "cell_type": "code",
   "execution_count": 9,
   "metadata": {
    "id": "VOyEfEctyUqE"
   },
   "outputs": [],
   "source": [
    "frt = RandomForestClassifier(random_state=21)"
   ]
  },
  {
   "cell_type": "code",
   "execution_count": 10,
   "metadata": {
    "id": "otVWJ4CqyUqE"
   },
   "outputs": [
    {
     "name": "stdout",
     "output_type": "stream",
     "text": [
      "Fitting 5 folds for each of 784 candidates, totalling 3920 fits\n"
     ]
    },
    {
     "name": "stderr",
     "output_type": "stream",
     "text": [
      "[Parallel(n_jobs=-1)]: Using backend LokyBackend with 12 concurrent workers.\n",
      "[Parallel(n_jobs=-1)]: Done  18 tasks      | elapsed:    0.0s\n",
      "[Parallel(n_jobs=-1)]: Done 432 tasks      | elapsed:    3.7s\n",
      "[Parallel(n_jobs=-1)]: Done 1244 tasks      | elapsed:   11.3s\n",
      "[Parallel(n_jobs=-1)]: Done 2376 tasks      | elapsed:   22.7s\n",
      "[Parallel(n_jobs=-1)]: Done 3836 tasks      | elapsed:   37.7s\n",
      "[Parallel(n_jobs=-1)]: Done 3920 out of 3920 | elapsed:   38.7s finished\n"
     ]
    },
    {
     "name": "stdout",
     "output_type": "stream",
     "text": [
      "лучшие параметры: {'class_weight': 'balanced', 'criterion': 'entropy', 'max_depth': 24, 'n_estimators': 100, 'random_state': 21}\n",
      "лучший score: 0.9042929918766351\n"
     ]
    }
   ],
   "source": [
    "param_grid = {'n_estimators': [5, 10, 50, 100],\n",
    "              'criterion': ['gini','entropy'],\n",
    "              'max_depth': list(range(1, 50)),\n",
    "              'class_weight': ['balanced', None],\n",
    "              'random_state': [21]}\n",
    "\n",
    "gs = GridSearchCV(frt, param_grid, cv=5, scoring='accuracy', n_jobs=-1, verbose=2)\n",
    "gs.fit(X_train, y_train)\n",
    "\n",
    "print(f'лучшие параметры: {gs.best_params_}')\n",
    "print(f'лучший score: {gs.best_score_}')"
   ]
  },
  {
   "cell_type": "code",
   "execution_count": 11,
   "metadata": {
    "id": "y8CPm8gTyUqE"
   },
   "outputs": [
    {
     "data": {
      "text/html": [
       "<div>\n",
       "<style scoped>\n",
       "    .dataframe tbody tr th:only-of-type {\n",
       "        vertical-align: middle;\n",
       "    }\n",
       "\n",
       "    .dataframe tbody tr th {\n",
       "        vertical-align: top;\n",
       "    }\n",
       "\n",
       "    .dataframe thead th {\n",
       "        text-align: right;\n",
       "    }\n",
       "</style>\n",
       "<table border=\"1\" class=\"dataframe\">\n",
       "  <thead>\n",
       "    <tr style=\"text-align: right;\">\n",
       "      <th></th>\n",
       "      <th>rank_test_score</th>\n",
       "      <th>mean_test_score</th>\n",
       "      <th>std_test_score</th>\n",
       "      <th>param_max_depth</th>\n",
       "      <th>param_class_weight</th>\n",
       "      <th>param_criterion</th>\n",
       "    </tr>\n",
       "  </thead>\n",
       "  <tbody>\n",
       "    <tr>\n",
       "      <th>291</th>\n",
       "      <td>1</td>\n",
       "      <td>0.904293</td>\n",
       "      <td>0.012361</td>\n",
       "      <td>24</td>\n",
       "      <td>balanced</td>\n",
       "      <td>entropy</td>\n",
       "    </tr>\n",
       "    <tr>\n",
       "      <th>311</th>\n",
       "      <td>2</td>\n",
       "      <td>0.904290</td>\n",
       "      <td>0.012156</td>\n",
       "      <td>29</td>\n",
       "      <td>balanced</td>\n",
       "      <td>entropy</td>\n",
       "    </tr>\n",
       "    <tr>\n",
       "      <th>502</th>\n",
       "      <td>2</td>\n",
       "      <td>0.904290</td>\n",
       "      <td>0.010961</td>\n",
       "      <td>28</td>\n",
       "      <td>None</td>\n",
       "      <td>gini</td>\n",
       "    </tr>\n",
       "    <tr>\n",
       "      <th>118</th>\n",
       "      <td>4</td>\n",
       "      <td>0.903549</td>\n",
       "      <td>0.012056</td>\n",
       "      <td>30</td>\n",
       "      <td>balanced</td>\n",
       "      <td>gini</td>\n",
       "    </tr>\n",
       "    <tr>\n",
       "      <th>515</th>\n",
       "      <td>5</td>\n",
       "      <td>0.903547</td>\n",
       "      <td>0.014380</td>\n",
       "      <td>31</td>\n",
       "      <td>None</td>\n",
       "      <td>gini</td>\n",
       "    </tr>\n",
       "  </tbody>\n",
       "</table>\n",
       "</div>"
      ],
      "text/plain": [
       "     rank_test_score  mean_test_score  std_test_score param_max_depth  \\\n",
       "291                1         0.904293        0.012361              24   \n",
       "311                2         0.904290        0.012156              29   \n",
       "502                2         0.904290        0.010961              28   \n",
       "118                4         0.903549        0.012056              30   \n",
       "515                5         0.903547        0.014380              31   \n",
       "\n",
       "    param_class_weight param_criterion  \n",
       "291           balanced         entropy  \n",
       "311           balanced         entropy  \n",
       "502               None            gini  \n",
       "118           balanced            gini  \n",
       "515               None            gini  "
      ]
     },
     "execution_count": 11,
     "metadata": {},
     "output_type": "execute_result"
    }
   ],
   "source": [
    "results = pd.DataFrame(gs.cv_results_)\n",
    "results = results.sort_values('rank_test_score', ascending=True)\n",
    "columns_to_show = [\n",
    "    'rank_test_score', 'mean_test_score', 'std_test_score',\n",
    "    'param_max_depth', 'param_class_weight', 'param_criterion'\n",
    "]\n",
    "results[columns_to_show].head()"
   ]
  },
  {
   "cell_type": "markdown",
   "metadata": {
    "id": "WWa7ucWxyUqF"
   },
   "source": [
    "## 5. Progress bar"
   ]
  },
  {
   "cell_type": "markdown",
   "metadata": {
    "id": "u2Q8KPBiyUqF"
   },
   "source": [
    "Gridsearch can be a quite long process and you may find yourself wondering when it will end.\n",
    "1. Create a manual gridsearch for the same parameters values of random forest iterating through the list of the possible values and calculating `cross_val_score` for each combination. Try to increase `n_jobs`. The value `cv` for `cross_val_score` is 5.\n",
    "2. Track the progress using the library `tqdm.notebook`.\n",
    "3. Create a dataframe from the results of the gridsearch with the columns corresponding to the names of the parameters and `mean_accuracy` and `std_accuracy`.\n",
    "4. Sort it descendingly by the `mean_accuracy`, check if there is a huge difference between different combinations (sometimes a simpler model may give a comparable result)."
   ]
  },
  {
   "cell_type": "code",
   "execution_count": 12,
   "metadata": {
    "id": "a1x6AdqTyUqG"
   },
   "outputs": [
    {
     "name": "stdout",
     "output_type": "stream",
     "text": [
      "Количество комбинаций суперпараметров: 784\n"
     ]
    }
   ],
   "source": [
    "grid = list(ParameterGrid(param_grid))\n",
    "print(f'Количество комбинаций суперпараметров: {len(grid)}')"
   ]
  },
  {
   "cell_type": "code",
   "execution_count": 13,
   "metadata": {
    "id": "UCBvyIm-yUqG"
   },
   "outputs": [
    {
     "data": {
      "application/vnd.jupyter.widget-view+json": {
       "model_id": "d7d4577bad394b9caf070fbe50324613",
       "version_major": 2,
       "version_minor": 0
      },
      "text/plain": [
       "GridSearch Progress:   0%|          | 0/784 [00:00<?, ?it/s]"
      ]
     },
     "metadata": {},
     "output_type": "display_data"
    }
   ],
   "source": [
    "data = []\n",
    "\n",
    "for params in tqdm(grid, desc='GridSearch Progress'):\n",
    "    estimator = RandomForestClassifier(**params)\n",
    "    sc = cross_val_score(estimator, X_train, y_train, cv=5, n_jobs=-1)\n",
    "    d = {**params, 'mean_accuracy': np.mean(sc), 'std_accuracy': np.std(sc)}\n",
    "    data.append(d)"
   ]
  },
  {
   "cell_type": "code",
   "execution_count": 14,
   "metadata": {
    "id": "pXNzb1QnyUqG"
   },
   "outputs": [
    {
     "data": {
      "text/html": [
       "<div>\n",
       "<style scoped>\n",
       "    .dataframe tbody tr th:only-of-type {\n",
       "        vertical-align: middle;\n",
       "    }\n",
       "\n",
       "    .dataframe tbody tr th {\n",
       "        vertical-align: top;\n",
       "    }\n",
       "\n",
       "    .dataframe thead th {\n",
       "        text-align: right;\n",
       "    }\n",
       "</style>\n",
       "<table border=\"1\" class=\"dataframe\">\n",
       "  <thead>\n",
       "    <tr style=\"text-align: right;\">\n",
       "      <th></th>\n",
       "      <th>class_weight</th>\n",
       "      <th>criterion</th>\n",
       "      <th>max_depth</th>\n",
       "      <th>n_estimators</th>\n",
       "      <th>random_state</th>\n",
       "      <th>mean_accuracy</th>\n",
       "      <th>std_accuracy</th>\n",
       "    </tr>\n",
       "  </thead>\n",
       "  <tbody>\n",
       "    <tr>\n",
       "      <th>291</th>\n",
       "      <td>balanced</td>\n",
       "      <td>entropy</td>\n",
       "      <td>24</td>\n",
       "      <td>100</td>\n",
       "      <td>21</td>\n",
       "      <td>0.904293</td>\n",
       "      <td>0.012361</td>\n",
       "    </tr>\n",
       "    <tr>\n",
       "      <th>311</th>\n",
       "      <td>balanced</td>\n",
       "      <td>entropy</td>\n",
       "      <td>29</td>\n",
       "      <td>100</td>\n",
       "      <td>21</td>\n",
       "      <td>0.904290</td>\n",
       "      <td>0.012156</td>\n",
       "    </tr>\n",
       "    <tr>\n",
       "      <th>502</th>\n",
       "      <td>None</td>\n",
       "      <td>gini</td>\n",
       "      <td>28</td>\n",
       "      <td>50</td>\n",
       "      <td>21</td>\n",
       "      <td>0.904290</td>\n",
       "      <td>0.010961</td>\n",
       "    </tr>\n",
       "    <tr>\n",
       "      <th>118</th>\n",
       "      <td>balanced</td>\n",
       "      <td>gini</td>\n",
       "      <td>30</td>\n",
       "      <td>50</td>\n",
       "      <td>21</td>\n",
       "      <td>0.903549</td>\n",
       "      <td>0.012056</td>\n",
       "    </tr>\n",
       "    <tr>\n",
       "      <th>515</th>\n",
       "      <td>None</td>\n",
       "      <td>gini</td>\n",
       "      <td>31</td>\n",
       "      <td>100</td>\n",
       "      <td>21</td>\n",
       "      <td>0.903547</td>\n",
       "      <td>0.014380</td>\n",
       "    </tr>\n",
       "    <tr>\n",
       "      <th>...</th>\n",
       "      <td>...</td>\n",
       "      <td>...</td>\n",
       "      <td>...</td>\n",
       "      <td>...</td>\n",
       "      <td>...</td>\n",
       "      <td>...</td>\n",
       "      <td>...</td>\n",
       "    </tr>\n",
       "    <tr>\n",
       "      <th>588</th>\n",
       "      <td>None</td>\n",
       "      <td>entropy</td>\n",
       "      <td>1</td>\n",
       "      <td>5</td>\n",
       "      <td>21</td>\n",
       "      <td>0.353832</td>\n",
       "      <td>0.016467</td>\n",
       "    </tr>\n",
       "    <tr>\n",
       "      <th>200</th>\n",
       "      <td>balanced</td>\n",
       "      <td>entropy</td>\n",
       "      <td>2</td>\n",
       "      <td>5</td>\n",
       "      <td>21</td>\n",
       "      <td>0.353110</td>\n",
       "      <td>0.021165</td>\n",
       "    </tr>\n",
       "    <tr>\n",
       "      <th>4</th>\n",
       "      <td>balanced</td>\n",
       "      <td>gini</td>\n",
       "      <td>2</td>\n",
       "      <td>5</td>\n",
       "      <td>21</td>\n",
       "      <td>0.346419</td>\n",
       "      <td>0.029749</td>\n",
       "    </tr>\n",
       "    <tr>\n",
       "      <th>0</th>\n",
       "      <td>balanced</td>\n",
       "      <td>gini</td>\n",
       "      <td>1</td>\n",
       "      <td>5</td>\n",
       "      <td>21</td>\n",
       "      <td>0.283390</td>\n",
       "      <td>0.011062</td>\n",
       "    </tr>\n",
       "    <tr>\n",
       "      <th>196</th>\n",
       "      <td>balanced</td>\n",
       "      <td>entropy</td>\n",
       "      <td>1</td>\n",
       "      <td>5</td>\n",
       "      <td>21</td>\n",
       "      <td>0.270794</td>\n",
       "      <td>0.024718</td>\n",
       "    </tr>\n",
       "  </tbody>\n",
       "</table>\n",
       "<p>784 rows × 7 columns</p>\n",
       "</div>"
      ],
      "text/plain": [
       "    class_weight criterion  max_depth  n_estimators  random_state  \\\n",
       "291     balanced   entropy         24           100            21   \n",
       "311     balanced   entropy         29           100            21   \n",
       "502         None      gini         28            50            21   \n",
       "118     balanced      gini         30            50            21   \n",
       "515         None      gini         31           100            21   \n",
       "..           ...       ...        ...           ...           ...   \n",
       "588         None   entropy          1             5            21   \n",
       "200     balanced   entropy          2             5            21   \n",
       "4       balanced      gini          2             5            21   \n",
       "0       balanced      gini          1             5            21   \n",
       "196     balanced   entropy          1             5            21   \n",
       "\n",
       "     mean_accuracy  std_accuracy  \n",
       "291       0.904293      0.012361  \n",
       "311       0.904290      0.012156  \n",
       "502       0.904290      0.010961  \n",
       "118       0.903549      0.012056  \n",
       "515       0.903547      0.014380  \n",
       "..             ...           ...  \n",
       "588       0.353832      0.016467  \n",
       "200       0.353110      0.021165  \n",
       "4         0.346419      0.029749  \n",
       "0         0.283390      0.011062  \n",
       "196       0.270794      0.024718  \n",
       "\n",
       "[784 rows x 7 columns]"
      ]
     },
     "execution_count": 14,
     "metadata": {},
     "output_type": "execute_result"
    }
   ],
   "source": [
    "result = pd.DataFrame(data)\n",
    "result = result.sort_values('mean_accuracy', ascending=False)\n",
    "result"
   ]
  },
  {
   "cell_type": "markdown",
   "metadata": {
    "id": "SQMTOQynyUqG"
   },
   "source": [
    "## 6. Predictions"
   ]
  },
  {
   "cell_type": "markdown",
   "metadata": {
    "id": "FF5VVXbGyUqG"
   },
   "source": [
    "1. Choose the best model and use it to make predictions for the test dataset.\n",
    "2. Calculate the final accuracy."
   ]
  },
  {
   "cell_type": "code",
   "execution_count": 15,
   "metadata": {
    "id": "-vW7NVMOyUqG"
   },
   "outputs": [],
   "source": [
    "rfc = RandomForestClassifier(n_estimators=100, max_depth=24, criterion='entropy', class_weight=\"balanced\", random_state=21)\n",
    "rfc.fit(X_train, y_train)\n",
    "y_pred = rfc.predict(X_test)"
   ]
  },
  {
   "cell_type": "code",
   "execution_count": 16,
   "metadata": {
    "id": "qO--d7bmyUqG"
   },
   "outputs": [
    {
     "data": {
      "text/plain": [
       "0.9260355029585798"
      ]
     },
     "execution_count": 16,
     "metadata": {},
     "output_type": "execute_result"
    }
   ],
   "source": [
    "accuracy_score(y_test, y_pred)"
   ]
  }
 ],
 "metadata": {
  "colab": {
   "provenance": []
  },
  "kernelspec": {
   "display_name": "venv38",
   "language": "python",
   "name": "python3"
  },
  "language_info": {
   "codemirror_mode": {
    "name": "ipython",
    "version": 3
   },
   "file_extension": ".py",
   "mimetype": "text/x-python",
   "name": "python",
   "nbconvert_exporter": "python",
   "pygments_lexer": "ipython3",
   "version": "3.8.2rc2"
  }
 },
 "nbformat": 4,
 "nbformat_minor": 0
}
