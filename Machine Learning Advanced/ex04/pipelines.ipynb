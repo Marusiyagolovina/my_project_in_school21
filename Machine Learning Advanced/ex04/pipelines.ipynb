{
 "cells": [
  {
   "cell_type": "markdown",
   "metadata": {},
   "source": [
    "# Day 09. Exercise 04\n",
    "# Pipelines and OOP"
   ]
  },
  {
   "cell_type": "markdown",
   "metadata": {},
   "source": [
    "## 0. Imports"
   ]
  },
  {
   "cell_type": "code",
   "execution_count": 1,
   "metadata": {},
   "outputs": [],
   "source": [
    "import pandas as pd\n",
    "import numpy as np\n",
    "import joblib\n",
    "from tqdm.notebook import tqdm\n",
    "from sklearn.metrics import accuracy_score\n",
    "from sklearn.base import BaseEstimator, TransformerMixin\n",
    "from sklearn.pipeline import Pipeline\n",
    "from sklearn.preprocessing import OneHotEncoder\n",
    "from sklearn.ensemble import RandomForestClassifier\n",
    "from sklearn.tree import DecisionTreeClassifier\n",
    "from sklearn.svm import SVC\n",
    "from sklearn.model_selection import train_test_split, GridSearchCV"
   ]
  },
  {
   "cell_type": "markdown",
   "metadata": {},
   "source": [
    "## 1. Preprocessing pipeline"
   ]
  },
  {
   "cell_type": "markdown",
   "metadata": {},
   "source": [
    "Create three custom transformers, the first two out of which will be used within a [Pipeline](https://scikit-learn.org/stable/modules/generated/sklearn.pipeline.Pipeline.html).\n",
    "\n",
    "1. `FeatureExtractor()` class:\n",
    " - Takes a dataframe with `uid`, `labname`, `numTrials`, `timestamp` from the file [`checker_submits.csv`](https://drive.google.com/file/d/14voc4fNJZiLEFaZyd8nEG-lQt5JjatYw/view?usp=sharing).\n",
    " - Extracts `hour` from `timestamp`.\n",
    " - Extracts `weekday` from `timestamp` (numbers).\n",
    " - Drops the `timestamp` column.\n",
    " - Returns the new dataframe.\n",
    "\n",
    "\n",
    "2. `MyOneHotEncoder()` class:\n",
    " - Takes the dataframe from the result of the previous transformation and the name of the target column.\n",
    " - Identifies all the categorical features and transforms them with `OneHotEncoder()`. If the target column is categorical too, then the transformation should not apply to it.\n",
    " - Drops the initial categorical features.\n",
    " - Returns the dataframe with the features and the series with the target column.\n",
    "\n",
    "\n",
    "3. `TrainValidationTest()` class:\n",
    " - Takes `X` and `y`.\n",
    " - Returns `X_train`, `X_valid`, `X_test`, `y_train`, `y_valid`, `y_test` (`test_size=0.2`, `random_state=21`, `stratified`).\n"
   ]
  },
  {
   "cell_type": "code",
   "execution_count": 2,
   "metadata": {},
   "outputs": [],
   "source": [
    "class FeatureExtractor(BaseEstimator, TransformerMixin):\n",
    "    def __init__(self):\n",
    "        pass\n",
    "\n",
    "    def fit(self, X, y=None):\n",
    "        return self\n",
    "\n",
    "    def transform(self, X):\n",
    "        X = X.copy()\n",
    "        X[\"timestamp\"] = pd.to_datetime(X[\"timestamp\"])\n",
    "        X[\"hour\"] = X[\"timestamp\"].dt.hour\n",
    "        X[\"weekday\"] = X[\"timestamp\"].dt.weekday\n",
    "        X = X.drop(columns=[\"timestamp\"])\n",
    "        return X"
   ]
  },
  {
   "cell_type": "code",
   "execution_count": 3,
   "metadata": {},
   "outputs": [],
   "source": [
    "class MyOneHotEncoder(BaseEstimator, TransformerMixin):\n",
    "    def __init__(self, target_column):\n",
    "        self.target_column = target_column\n",
    "        self.encoder = OneHotEncoder(sparse=False, handle_unknown=\"ignore\")\n",
    "        self.categorical_features = None\n",
    "\n",
    "    def fit(self, X, y=None):\n",
    "        X = X.copy()\n",
    "        self.categorical_features = [\n",
    "            col for col in X.columns\n",
    "            if X[col].dtype == \"object\" and col != self.target_column\n",
    "        ]\n",
    "        self.encoder.fit(X[self.categorical_features])\n",
    "        return self\n",
    "    \n",
    "    def transform(self, X):\n",
    "        X = X.copy()\n",
    "        encoded = self.encoder.transform(X[self.categorical_features])\n",
    "        encoded_df = pd.DataFrame(\n",
    "            encoded,\n",
    "            columns=self.encoder.get_feature_names(self.categorical_features),\n",
    "            index=X.index\n",
    "        )\n",
    "        X = X.drop(columns=self.categorical_features)\n",
    "        X = pd.concat([X, encoded_df], axis=1)\n",
    "        y = X[self.target_column]\n",
    "        X = X.drop(columns=[self.target_column])\n",
    "        return X, y"
   ]
  },
  {
   "cell_type": "code",
   "execution_count": 4,
   "metadata": {},
   "outputs": [],
   "source": [
    "class TrainValidationTest:\n",
    "    def __init__(self, test_size=0.2, random_state=21):\n",
    "        self.test_size = test_size\n",
    "        self.random_state = random_state\n",
    "\n",
    "    def split(self, X, y):\n",
    "        X_trainval, X_test, y_trainval, y_test = train_test_split(\n",
    "            X, y,\n",
    "            test_size=self.test_size,\n",
    "            random_state=self.random_state,\n",
    "            stratify=y\n",
    "        )\n",
    "        X_train, X_valid, y_train, y_valid = train_test_split(\n",
    "            X_trainval, y_trainval,\n",
    "            test_size=self.test_size,  \n",
    "            random_state=self.random_state,\n",
    "            stratify=y_trainval\n",
    "        )\n",
    "        return X_train, X_valid, X_test, y_train, y_valid, y_test"
   ]
  },
  {
   "cell_type": "markdown",
   "metadata": {},
   "source": [
    "## 2. Model selection pipeline"
   ]
  },
  {
   "cell_type": "markdown",
   "metadata": {},
   "source": [
    "`ModelSelection()` class\n",
    "\n",
    " - Takes a list of `GridSearchCV` instances and a dict where the keys are the indexes from that list and the values are the names of the models, the example is below in the reverse order (from high-level to low-level perspective):\n",
    "\n",
    "```\n",
    "ModelSelection(grids, grid_dict)\n",
    "\n",
    "grids = [gs_svm, gs_tree, gs_rf]\n",
    "\n",
    "gs_svm = GridSearchCV(estimator=svm, param_grid=svm_params, scoring='accuracy', cv=2, n_jobs=jobs), where jobs you can specify by yourself\n",
    "\n",
    "svm_params = [{'kernel':('linear', 'rbf', 'sigmoid'), 'C':[0.01, 0.1, 1, 1.5, 5, 10], 'gamma': ['scale', 'auto'], 'class_weight':('balanced', None), 'random_state':[21], 'probability':[True]}]\n",
    "```\n",
    "\n",
    " - Method `choose()` takes `X_train`, `y_train`, `X_valid`, `y_valid` and returns the name of the best classifier among all the models on the validation set\n",
    " - Method `best_results()` returns a dataframe with the columns `model`, `params`, `valid_score` where the rows are the best models within each class of models.\n",
    "\n",
    "```\n",
    "model\tparams\tvalid_score\n",
    "0\tSVM\t{'C': 10, 'class_weight': None, 'gamma': 'auto...\t0.877778\n",
    "1\tDecision Tree\t{'class_weight': 'balanced', 'criterion': 'gin...\t0.866667\n",
    "2\tRandom Forest\t{'class_weight': None, 'criterion': 'entropy',...\t0.907407\n",
    "```\n",
    "\n",
    " - When you iterate through the parameters of a model class, print the name of that class and show the progress using `tqdm.notebook`, in the end of the cycle print the best model of that class.\n",
    "\n",
    "```\n",
    "Estimator: SVM\n",
    "100%\n",
    "125/125 [01:32<00:00, 1.36it/s]\n",
    "Best params: {'C': 10, 'class_weight': None, 'gamma': 'auto', 'kernel': 'rbf', 'probability': True, 'random_state': 21}\n",
    "Best training accuracy: 0.773\n",
    "Validation set accuracy score for best params: 0.878 \n",
    "\n",
    "Estimator: Decision Tree\n",
    "100%\n",
    "57/57 [01:07<00:00, 1.22it/s]\n",
    "Best params: {'class_weight': 'balanced', 'criterion': 'gini', 'max_depth': 21, 'random_state': 21}\n",
    "Best training accuracy: 0.801\n",
    "Validation set accuracy score for best params: 0.867 \n",
    "\n",
    "Estimator: Random Forest\n",
    "100%\n",
    "284/284 [06:47<00:00, 1.13s/it]\n",
    "Best params: {'class_weight': None, 'criterion': 'entropy', 'max_depth': 22, 'n_estimators': 50, 'random_state': 21}\n",
    "Best training accuracy: 0.855\n",
    "Validation set accuracy score for best params: 0.907 \n",
    "\n",
    "Classifier with best validation set accuracy: Random Forest\n",
    "```"
   ]
  },
  {
   "cell_type": "code",
   "execution_count": 5,
   "metadata": {},
   "outputs": [],
   "source": [
    "class ModelSelection:\n",
    "    def __init__(self, grids, grid_dict):\n",
    "        \"\"\"\n",
    "        grids: list of GridSearchCV objects\n",
    "        grid_dict: dict {index: model_name}\n",
    "        \"\"\"\n",
    "        self.grids = grids\n",
    "        self.grid_dict = grid_dict\n",
    "        self.results = []\n",
    "\n",
    "    def choose(self, X_train, y_train, X_valid, y_valid):\n",
    "        best_model_name = None\n",
    "        best_valid_score = -1\n",
    "\n",
    "        for idx, grid in enumerate(self.grids):\n",
    "            model_name = self.grid_dict[idx]\n",
    "            print(f\"\\nEstimator: {model_name}\")\n",
    "\n",
    "            with tqdm(total=len(grid.param_grid[0])) as pbar:\n",
    "                grid.fit(X_train, y_train)\n",
    "                pbar.update(len(grid.cv_results_[\"params\"]))\n",
    "\n",
    "            best_params = grid.best_params_\n",
    "            best_train_score = grid.best_score_\n",
    "            \n",
    "            y_pred_valid = grid.best_estimator_.predict(X_valid)\n",
    "            valid_score = accuracy_score(y_valid, y_pred_valid)\n",
    "\n",
    "            print(f\"Best params: {best_params}\")\n",
    "            print(f\"Best training accuracy: {best_train_score:.3f}\")\n",
    "            print(f\"Validation set accuracy score for best params: {valid_score:.3f}\\n\")\n",
    "\n",
    "            self.results.append({\n",
    "                \"model\": model_name,\n",
    "                \"params\": best_params,\n",
    "                \"valid_score\": valid_score\n",
    "            })\n",
    "\n",
    "            if valid_score > best_valid_score:\n",
    "                best_valid_score = valid_score\n",
    "                best_model_name = model_name\n",
    "\n",
    "        print(f\"Classifier with best validation set accuracy: {best_model_name}\")\n",
    "        return best_model_name\n",
    "\n",
    "    def best_results(self):\n",
    "        return pd.DataFrame(self.results)\n",
    "\n",
    "svm_params = [{\n",
    "    'kernel': ('linear', 'rbf', 'sigmoid'),\n",
    "    'C': [0.01, 0.1, 1, 1.5, 5, 10],\n",
    "    'gamma': ['scale', 'auto'],\n",
    "    'class_weight': ('balanced', None),\n",
    "    'random_state': [21],\n",
    "    'probability': [True]\n",
    "}]\n",
    "\n",
    "tree_params = [{\n",
    "    'criterion': ['gini', 'entropy'],\n",
    "    'max_depth': np.arange(1, 50),\n",
    "    'class_weight': ('balanced', None),\n",
    "    'random_state': [21]\n",
    "}]\n",
    "\n",
    "rf_params = [{\n",
    "    'criterion': ['gini', 'entropy'],\n",
    "    'max_depth': np.arange(1, 50),\n",
    "    'n_estimators': [5, 10, 50, 100],\n",
    "    'class_weight': ('balanced', None),\n",
    "    'random_state': [21]\n",
    "}]\n",
    "\n",
    "svm = SVC()\n",
    "tree = DecisionTreeClassifier()\n",
    "rf = RandomForestClassifier()\n",
    "\n",
    "gs_svm = GridSearchCV(svm, param_grid=svm_params, scoring='accuracy', cv=2, n_jobs=-1)\n",
    "gs_tree = GridSearchCV(tree, param_grid=tree_params, scoring='accuracy', cv=2, n_jobs=-1)\n",
    "gs_rf = GridSearchCV(rf, param_grid=rf_params, scoring='accuracy', cv=2, n_jobs=-1)\n",
    "\n",
    "grids = [gs_svm, gs_tree, gs_rf]\n",
    "grid_dict = {0: \"SVM\", 1: \"Decision Tree\", 2: \"Random Forest\"}\n",
    "\n"
   ]
  },
  {
   "cell_type": "markdown",
   "metadata": {},
   "source": [
    "## 3. Finalization"
   ]
  },
  {
   "cell_type": "markdown",
   "metadata": {},
   "source": [
    "`Finalize()` class\n",
    " - Takes an estimator.\n",
    " - Method `final_score()` takes `X_train`, `y_train`, `X_test`, `y_test` and returns the accuracy of the model as in the example below:\n",
    "```\n",
    "final.final_score(X_train, y_train, X_test, y_test)\n",
    "Accuracy of the final model is 0.908284023668639\n",
    "```\n",
    " - Method `save_model()` takes a path, saves the model to this path and prints that the model was successfully saved."
   ]
  },
  {
   "cell_type": "code",
   "execution_count": 6,
   "metadata": {},
   "outputs": [],
   "source": [
    "class Finalize:\n",
    "    def __init__(self, estimator):\n",
    "        \"\"\"\n",
    "        estimator: не обязательно обученная модель\n",
    "        \"\"\"\n",
    "        self.estimator = estimator\n",
    "\n",
    "    def final_score(self, X_train, y_train, X_test, y_test):\n",
    "        self.estimator.fit(X_train, y_train)\n",
    "\n",
    "        y_pred = self.estimator.predict(X_test)\n",
    "        acc = accuracy_score(y_test, y_pred)\n",
    "        print(f\"Accuracy of the final model is {acc}\")\n",
    "        return acc\n",
    "\n",
    "    def save_model(self, path):\n",
    "        joblib.dump(self.estimator, path)\n",
    "        print(f\"Model was successfully saved to {path}\")"
   ]
  },
  {
   "cell_type": "markdown",
   "metadata": {},
   "source": [
    "## 4. Main program"
   ]
  },
  {
   "cell_type": "markdown",
   "metadata": {},
   "source": [
    "1. Load the data from the file (****name of file****).\n",
    "2. Create the preprocessing pipeline that consists of two custom transformers: `FeatureExtractor()` and `MyOneHotEncoder()`:\n",
    "```\n",
    "preprocessing = Pipeline([('feature_extractor', FeatureExtractor()), ('onehot_encoder', MyOneHotEncoder('dayofweek'))])\n",
    "```\n",
    "3. Use that pipeline and its method `fit_transform()` on the initial dataset.\n",
    "```\n",
    "data = preprocessing.fit_transform(df)\n",
    "```\n",
    "4. Get `X_train`, `X_valid`, `X_test`, `y_train`, `y_valid`, `y_test` using `TrainValidationTest()` and the result of the pipeline.\n",
    "5. Create an instance of `ModelSelection()`, use the method `choose()` applying it to the models that you want and parameters that you want, get the dataframe of the best results.\n",
    "6. create an instance of `Finalize()` with your best model, use method `final_score()` and save the model in the format: `name_of_the_model_{accuracy on test dataset}.sav`.\n",
    "\n",
    "That is it, congrats!"
   ]
  },
  {
   "cell_type": "code",
   "execution_count": 7,
   "metadata": {},
   "outputs": [],
   "source": [
    "df = pd.read_csv(\"../data/checker_submits.csv\", parse_dates=['timestamp'])"
   ]
  },
  {
   "cell_type": "code",
   "execution_count": 8,
   "metadata": {},
   "outputs": [],
   "source": [
    "preprocessing = Pipeline([\n",
    "    ('feature_extractor', FeatureExtractor()),\n",
    "    ('onehot_encoder', MyOneHotEncoder('weekday'))\n",
    "])"
   ]
  },
  {
   "cell_type": "code",
   "execution_count": 9,
   "metadata": {},
   "outputs": [],
   "source": [
    "X, y = preprocessing.fit_transform(df)"
   ]
  },
  {
   "cell_type": "code",
   "execution_count": 10,
   "metadata": {},
   "outputs": [],
   "source": [
    "splitter = TrainValidationTest()\n",
    "X_train, X_valid, X_test, y_train, y_valid, y_test = splitter.split(X, y)"
   ]
  },
  {
   "cell_type": "code",
   "execution_count": 11,
   "metadata": {},
   "outputs": [
    {
     "name": "stdout",
     "output_type": "stream",
     "text": [
      "\n",
      "Estimator: SVM\n"
     ]
    },
    {
     "data": {
      "application/vnd.jupyter.widget-view+json": {
       "model_id": "76b47a9f08fc499ebaa961fb3873247c",
       "version_major": 2,
       "version_minor": 0
      },
      "text/plain": [
       "  0%|          | 0/6 [00:00<?, ?it/s]"
      ]
     },
     "metadata": {},
     "output_type": "display_data"
    },
    {
     "name": "stdout",
     "output_type": "stream",
     "text": [
      "Best params: {'C': 10, 'class_weight': None, 'gamma': 'auto', 'kernel': 'rbf', 'probability': True, 'random_state': 21}\n",
      "Best training accuracy: 0.773\n",
      "Validation set accuracy score for best params: 0.878\n",
      "\n",
      "\n",
      "Estimator: Decision Tree\n"
     ]
    },
    {
     "data": {
      "application/vnd.jupyter.widget-view+json": {
       "model_id": "bdb281b5d3b24585ad19ebbfea3cbd64",
       "version_major": 2,
       "version_minor": 0
      },
      "text/plain": [
       "  0%|          | 0/4 [00:00<?, ?it/s]"
      ]
     },
     "metadata": {},
     "output_type": "display_data"
    },
    {
     "name": "stdout",
     "output_type": "stream",
     "text": [
      "Best params: {'class_weight': 'balanced', 'criterion': 'gini', 'max_depth': 21, 'random_state': 21}\n",
      "Best training accuracy: 0.801\n",
      "Validation set accuracy score for best params: 0.867\n",
      "\n",
      "\n",
      "Estimator: Random Forest\n"
     ]
    },
    {
     "data": {
      "application/vnd.jupyter.widget-view+json": {
       "model_id": "50bbb7e0adec4223b9b16207d959ec0b",
       "version_major": 2,
       "version_minor": 0
      },
      "text/plain": [
       "  0%|          | 0/5 [00:00<?, ?it/s]"
      ]
     },
     "metadata": {},
     "output_type": "display_data"
    },
    {
     "name": "stdout",
     "output_type": "stream",
     "text": [
      "Best params: {'class_weight': None, 'criterion': 'entropy', 'max_depth': 22, 'n_estimators': 50, 'random_state': 21}\n",
      "Best training accuracy: 0.855\n",
      "Validation set accuracy score for best params: 0.907\n",
      "\n",
      "Classifier with best validation set accuracy: Random Forest\n",
      "           model                                             params  \\\n",
      "0            SVM  {'C': 10, 'class_weight': None, 'gamma': 'auto...   \n",
      "1  Decision Tree  {'class_weight': 'balanced', 'criterion': 'gin...   \n",
      "2  Random Forest  {'class_weight': None, 'criterion': 'entropy',...   \n",
      "\n",
      "   valid_score  \n",
      "0     0.877778  \n",
      "1     0.866667  \n",
      "2     0.907407  \n"
     ]
    }
   ],
   "source": [
    "selector = ModelSelection(grids, grid_dict)\n",
    "best_model_name = selector.choose(X_train, y_train, X_valid, y_valid)\n",
    "results_df = selector.best_results()\n",
    "print(results_df)"
   ]
  },
  {
   "cell_type": "code",
   "execution_count": 12,
   "metadata": {},
   "outputs": [],
   "source": [
    "best_index = list(grid_dict.keys())[list(grid_dict.values()).index(best_model_name)]\n",
    "final_model = grids[best_index].best_estimator_  "
   ]
  },
  {
   "cell_type": "code",
   "execution_count": 13,
   "metadata": {},
   "outputs": [
    {
     "name": "stdout",
     "output_type": "stream",
     "text": [
      "Accuracy of the final model is 0.9053254437869822\n"
     ]
    }
   ],
   "source": [
    "final = Finalize(final_model)\n",
    "acc = final.final_score(X_train, y_train, X_test, y_test)"
   ]
  },
  {
   "cell_type": "code",
   "execution_count": 14,
   "metadata": {},
   "outputs": [
    {
     "name": "stdout",
     "output_type": "stream",
     "text": [
      "Model was successfully saved to Random Forest_0.905.sav\n"
     ]
    }
   ],
   "source": [
    "filename = f\"{best_model_name}_{acc:.3f}.sav\"\n",
    "final.save_model(filename)"
   ]
  }
 ],
 "metadata": {
  "kernelspec": {
   "display_name": "venv38",
   "language": "python",
   "name": "python3"
  },
  "language_info": {
   "codemirror_mode": {
    "name": "ipython",
    "version": 3
   },
   "file_extension": ".py",
   "mimetype": "text/x-python",
   "name": "python",
   "nbconvert_exporter": "python",
   "pygments_lexer": "ipython3",
   "version": "3.8.2rc2"
  }
 },
 "nbformat": 4,
 "nbformat_minor": 4
}
