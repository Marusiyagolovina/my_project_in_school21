{
 "cells": [
  {
   "cell_type": "markdown",
   "metadata": {},
   "source": [
    "# Day 09. Exercise 03\n",
    "# Ensembles"
   ]
  },
  {
   "cell_type": "markdown",
   "metadata": {},
   "source": [
    "## 0. Imports"
   ]
  },
  {
   "cell_type": "code",
   "execution_count": 11,
   "metadata": {},
   "outputs": [],
   "source": [
    "import pandas as pd\n",
    "import numpy as np\n",
    "from sklearn.model_selection import train_test_split\n",
    "from sklearn.svm import SVC\n",
    "from sklearn.metrics import accuracy_score\n",
    "from sklearn.metrics import precision_score, recall_score\n",
    "from sklearn.linear_model import LogisticRegression\n",
    "from sklearn.model_selection import StratifiedKFold\n",
    "from sklearn.ensemble import StackingClassifier\n",
    "from sklearn.tree import DecisionTreeClassifier\n",
    "from sklearn.ensemble import RandomForestClassifier\n",
    "from sklearn.ensemble import VotingClassifier\n",
    "from sklearn.ensemble import BaggingClassifier\n",
    "import joblib"
   ]
  },
  {
   "cell_type": "markdown",
   "metadata": {},
   "source": [
    "## 1. Preprocessing"
   ]
  },
  {
   "cell_type": "markdown",
   "metadata": {},
   "source": [
    "1. Create the same dataframe as in the previous exercise.\n",
    "2. Using `train_test_split` with parameters `test_size=0.2`, `random_state=21` get `X_train`, `y_train`, `X_test`, `y_test` and then get `X_train`, `y_train`, `X_valid`, `y_valid` from the previous `X_train`, `y_train`. Use the additional parameter `stratify`."
   ]
  },
  {
   "cell_type": "code",
   "execution_count": 12,
   "metadata": {},
   "outputs": [
    {
     "data": {
      "text/html": [
       "<div>\n",
       "<style scoped>\n",
       "    .dataframe tbody tr th:only-of-type {\n",
       "        vertical-align: middle;\n",
       "    }\n",
       "\n",
       "    .dataframe tbody tr th {\n",
       "        vertical-align: top;\n",
       "    }\n",
       "\n",
       "    .dataframe thead th {\n",
       "        text-align: right;\n",
       "    }\n",
       "</style>\n",
       "<table border=\"1\" class=\"dataframe\">\n",
       "  <thead>\n",
       "    <tr style=\"text-align: right;\">\n",
       "      <th></th>\n",
       "      <th>numTrials</th>\n",
       "      <th>hour</th>\n",
       "      <th>uid_user_0</th>\n",
       "      <th>uid_user_1</th>\n",
       "      <th>uid_user_10</th>\n",
       "      <th>uid_user_11</th>\n",
       "      <th>uid_user_12</th>\n",
       "      <th>uid_user_13</th>\n",
       "      <th>uid_user_14</th>\n",
       "      <th>uid_user_15</th>\n",
       "      <th>...</th>\n",
       "      <th>labname_lab03</th>\n",
       "      <th>labname_lab03s</th>\n",
       "      <th>labname_lab05s</th>\n",
       "      <th>labname_laba04</th>\n",
       "      <th>labname_laba04s</th>\n",
       "      <th>labname_laba05</th>\n",
       "      <th>labname_laba06</th>\n",
       "      <th>labname_laba06s</th>\n",
       "      <th>labname_project1</th>\n",
       "      <th>dayofweek</th>\n",
       "    </tr>\n",
       "  </thead>\n",
       "  <tbody>\n",
       "    <tr>\n",
       "      <th>0</th>\n",
       "      <td>1</td>\n",
       "      <td>5</td>\n",
       "      <td>0.0</td>\n",
       "      <td>0.0</td>\n",
       "      <td>0.0</td>\n",
       "      <td>0.0</td>\n",
       "      <td>0.0</td>\n",
       "      <td>0.0</td>\n",
       "      <td>0.0</td>\n",
       "      <td>0.0</td>\n",
       "      <td>...</td>\n",
       "      <td>0.0</td>\n",
       "      <td>0.0</td>\n",
       "      <td>0.0</td>\n",
       "      <td>0.0</td>\n",
       "      <td>0.0</td>\n",
       "      <td>0.0</td>\n",
       "      <td>0.0</td>\n",
       "      <td>0.0</td>\n",
       "      <td>1.0</td>\n",
       "      <td>4</td>\n",
       "    </tr>\n",
       "    <tr>\n",
       "      <th>1</th>\n",
       "      <td>2</td>\n",
       "      <td>5</td>\n",
       "      <td>0.0</td>\n",
       "      <td>0.0</td>\n",
       "      <td>0.0</td>\n",
       "      <td>0.0</td>\n",
       "      <td>0.0</td>\n",
       "      <td>0.0</td>\n",
       "      <td>0.0</td>\n",
       "      <td>0.0</td>\n",
       "      <td>...</td>\n",
       "      <td>0.0</td>\n",
       "      <td>0.0</td>\n",
       "      <td>0.0</td>\n",
       "      <td>0.0</td>\n",
       "      <td>0.0</td>\n",
       "      <td>0.0</td>\n",
       "      <td>0.0</td>\n",
       "      <td>0.0</td>\n",
       "      <td>1.0</td>\n",
       "      <td>4</td>\n",
       "    </tr>\n",
       "    <tr>\n",
       "      <th>2</th>\n",
       "      <td>3</td>\n",
       "      <td>5</td>\n",
       "      <td>0.0</td>\n",
       "      <td>0.0</td>\n",
       "      <td>0.0</td>\n",
       "      <td>0.0</td>\n",
       "      <td>0.0</td>\n",
       "      <td>0.0</td>\n",
       "      <td>0.0</td>\n",
       "      <td>0.0</td>\n",
       "      <td>...</td>\n",
       "      <td>0.0</td>\n",
       "      <td>0.0</td>\n",
       "      <td>0.0</td>\n",
       "      <td>0.0</td>\n",
       "      <td>0.0</td>\n",
       "      <td>0.0</td>\n",
       "      <td>0.0</td>\n",
       "      <td>0.0</td>\n",
       "      <td>1.0</td>\n",
       "      <td>4</td>\n",
       "    </tr>\n",
       "    <tr>\n",
       "      <th>3</th>\n",
       "      <td>4</td>\n",
       "      <td>5</td>\n",
       "      <td>0.0</td>\n",
       "      <td>0.0</td>\n",
       "      <td>0.0</td>\n",
       "      <td>0.0</td>\n",
       "      <td>0.0</td>\n",
       "      <td>0.0</td>\n",
       "      <td>0.0</td>\n",
       "      <td>0.0</td>\n",
       "      <td>...</td>\n",
       "      <td>0.0</td>\n",
       "      <td>0.0</td>\n",
       "      <td>0.0</td>\n",
       "      <td>0.0</td>\n",
       "      <td>0.0</td>\n",
       "      <td>0.0</td>\n",
       "      <td>0.0</td>\n",
       "      <td>0.0</td>\n",
       "      <td>1.0</td>\n",
       "      <td>4</td>\n",
       "    </tr>\n",
       "    <tr>\n",
       "      <th>4</th>\n",
       "      <td>5</td>\n",
       "      <td>5</td>\n",
       "      <td>0.0</td>\n",
       "      <td>0.0</td>\n",
       "      <td>0.0</td>\n",
       "      <td>0.0</td>\n",
       "      <td>0.0</td>\n",
       "      <td>0.0</td>\n",
       "      <td>0.0</td>\n",
       "      <td>0.0</td>\n",
       "      <td>...</td>\n",
       "      <td>0.0</td>\n",
       "      <td>0.0</td>\n",
       "      <td>0.0</td>\n",
       "      <td>0.0</td>\n",
       "      <td>0.0</td>\n",
       "      <td>0.0</td>\n",
       "      <td>0.0</td>\n",
       "      <td>0.0</td>\n",
       "      <td>1.0</td>\n",
       "      <td>4</td>\n",
       "    </tr>\n",
       "  </tbody>\n",
       "</table>\n",
       "<p>5 rows × 44 columns</p>\n",
       "</div>"
      ],
      "text/plain": [
       "   numTrials  hour  uid_user_0  uid_user_1  uid_user_10  uid_user_11  \\\n",
       "0          1     5         0.0         0.0          0.0          0.0   \n",
       "1          2     5         0.0         0.0          0.0          0.0   \n",
       "2          3     5         0.0         0.0          0.0          0.0   \n",
       "3          4     5         0.0         0.0          0.0          0.0   \n",
       "4          5     5         0.0         0.0          0.0          0.0   \n",
       "\n",
       "   uid_user_12  uid_user_13  uid_user_14  uid_user_15  ...  labname_lab03  \\\n",
       "0          0.0          0.0          0.0          0.0  ...            0.0   \n",
       "1          0.0          0.0          0.0          0.0  ...            0.0   \n",
       "2          0.0          0.0          0.0          0.0  ...            0.0   \n",
       "3          0.0          0.0          0.0          0.0  ...            0.0   \n",
       "4          0.0          0.0          0.0          0.0  ...            0.0   \n",
       "\n",
       "   labname_lab03s  labname_lab05s  labname_laba04  labname_laba04s  \\\n",
       "0             0.0             0.0             0.0              0.0   \n",
       "1             0.0             0.0             0.0              0.0   \n",
       "2             0.0             0.0             0.0              0.0   \n",
       "3             0.0             0.0             0.0              0.0   \n",
       "4             0.0             0.0             0.0              0.0   \n",
       "\n",
       "   labname_laba05  labname_laba06  labname_laba06s  labname_project1  \\\n",
       "0             0.0             0.0              0.0               1.0   \n",
       "1             0.0             0.0              0.0               1.0   \n",
       "2             0.0             0.0              0.0               1.0   \n",
       "3             0.0             0.0              0.0               1.0   \n",
       "4             0.0             0.0              0.0               1.0   \n",
       "\n",
       "   dayofweek  \n",
       "0          4  \n",
       "1          4  \n",
       "2          4  \n",
       "3          4  \n",
       "4          4  \n",
       "\n",
       "[5 rows x 44 columns]"
      ]
     },
     "execution_count": 12,
     "metadata": {},
     "output_type": "execute_result"
    }
   ],
   "source": [
    "df = pd.read_csv('../data/day-of-week-not-scaled.csv')\n",
    "data_scaled = pd.read_csv(\"../data/dayofweek.csv\")\n",
    "df[\"dayofweek\"] = data_scaled[\"dayofweek\"]\n",
    "df.head()"
   ]
  },
  {
   "cell_type": "code",
   "execution_count": 13,
   "metadata": {},
   "outputs": [],
   "source": [
    "X = df.drop('dayofweek', axis=1)\n",
    "y = df['dayofweek']"
   ]
  },
  {
   "cell_type": "code",
   "execution_count": 14,
   "metadata": {},
   "outputs": [],
   "source": [
    "X_train, X_test, y_train, y_test = train_test_split(X, y, random_state=21, stratify=y, test_size=0.2)"
   ]
  },
  {
   "cell_type": "markdown",
   "metadata": {},
   "source": [
    "## 2. Individual classifiers"
   ]
  },
  {
   "cell_type": "markdown",
   "metadata": {},
   "source": [
    "1. Train SVM, decision tree and random forest again with the best parameters that you got from the 01 exercise with `random_state=21` for all of them.\n",
    "2. Evaluate `accuracy`, `precision`, and `recall` for them on the validation set.\n",
    "3. The result of each cell of the section should look like this:\n",
    "\n",
    "```\n",
    "accuracy is 0.87778\n",
    "precision is 0.88162\n",
    "recall is 0.87778\n",
    "```"
   ]
  },
  {
   "cell_type": "code",
   "execution_count": 15,
   "metadata": {},
   "outputs": [
    {
     "name": "stdout",
     "output_type": "stream",
     "text": [
      "accuracy is 0.88757\n",
      "precision is 0.89267\n",
      "recall is 0.88757\n"
     ]
    }
   ],
   "source": [
    "svc = SVC(C=10, gamma=\"auto\", kernel=\"rbf\", probability=True, random_state=21)\n",
    "svc.fit(X_train, y_train)\n",
    "y_pred = svc.predict(X_test)\n",
    "\n",
    "print(\"accuracy is\", round(accuracy_score(y_test, y_pred), 5))\n",
    "print(\"precision is\", round(precision_score(y_test, y_pred, average=\"weighted\"), 5))\n",
    "print(\"recall is\", round(recall_score(y_test, y_pred, average=\"weighted\"), 5))"
   ]
  },
  {
   "cell_type": "code",
   "execution_count": 16,
   "metadata": {},
   "outputs": [
    {
     "name": "stdout",
     "output_type": "stream",
     "text": [
      "accuracy is 0.88462\n",
      "precision is 0.88765\n",
      "recall is 0.88462\n"
     ]
    }
   ],
   "source": [
    "dtc = DecisionTreeClassifier(\n",
    "    max_depth=21, class_weight=\"balanced\", random_state=21, criterion=\"gini\"\n",
    ")\n",
    "dtc.fit(X_train, y_train)\n",
    "y_pred = dtc.predict(X_test)\n",
    "\n",
    "print(\"accuracy is\", round(accuracy_score(y_test, y_pred), 5))\n",
    "print(\"precision is\", round(precision_score(y_test, y_pred, average=\"weighted\"), 5))\n",
    "print(\"recall is\", round(recall_score(y_test, y_pred, average=\"weighted\"), 5))"
   ]
  },
  {
   "cell_type": "code",
   "execution_count": 17,
   "metadata": {},
   "outputs": [
    {
     "name": "stdout",
     "output_type": "stream",
     "text": [
      "accuracy is 0.92604\n",
      "precision is 0.92754\n",
      "recall is 0.92604\n"
     ]
    }
   ],
   "source": [
    "rfc = RandomForestClassifier(\n",
    "    n_estimators=100, max_depth=24, random_state=21, criterion=\"entropy\", class_weight=\"balanced\"\n",
    ")\n",
    "rfc.fit(X_train, y_train)\n",
    "y_pred = rfc.predict(X_test)\n",
    "\n",
    "print(\"accuracy is\", round(accuracy_score(y_test, y_pred), 5))\n",
    "print(\"precision is\", round(precision_score(y_test, y_pred, average=\"weighted\"), 5))\n",
    "print(\"recall is\", round(recall_score(y_test, y_pred, average=\"weighted\"), 5))"
   ]
  },
  {
   "cell_type": "markdown",
   "metadata": {},
   "source": [
    "## 3. Voting classifiers"
   ]
  },
  {
   "cell_type": "markdown",
   "metadata": {},
   "source": [
    "1. Using `VotingClassifier` and the three models that you have just trained, calculate the `accuracy`, `precision`, and `recall` on the validation set.\n",
    "2. Play with the other parameteres.\n",
    "3. Calculate the `accuracy`, `precision` and `recall` on the test set for the model with the best weights in terms of accuracy (if there are several of them with equal values, choose the one with the higher precision)."
   ]
  },
  {
   "cell_type": "code",
   "execution_count": 18,
   "metadata": {},
   "outputs": [],
   "source": [
    "X_train_val, X_test, y_train_val, y_test = train_test_split(\n",
    "    X, y, test_size=0.2, random_state=21, stratify=y\n",
    ")\n",
    "X_train, X_val, y_train, y_val = train_test_split(\n",
    "    X_train_val, y_train_val, test_size=0.2, random_state=21, stratify=y_train_val\n",
    ")"
   ]
  },
  {
   "cell_type": "code",
   "execution_count": 19,
   "metadata": {},
   "outputs": [
    {
     "name": "stdout",
     "output_type": "stream",
     "text": [
      "accuracy: 0.9\n",
      "precision: 0.89993\n",
      "recall: 0.9\n"
     ]
    }
   ],
   "source": [
    "vc = VotingClassifier(\n",
    "    estimators=[(\"svc\", svc), (\"dtc\", dtc), (\"rfc\", rfc)],\n",
    "    voting=\"hard\",\n",
    "    weights=[1, 1, 1]\n",
    ")\n",
    "\n",
    "vc.fit(X_train, y_train)\n",
    "\n",
    "y_pred_val = vc.predict(X_val)\n",
    "\n",
    "accuracy = accuracy_score(y_val, y_pred_val)\n",
    "precision = precision_score(y_val, y_pred_val, average=\"weighted\")\n",
    "recall = recall_score(y_val, y_pred_val, average=\"weighted\")\n",
    "\n",
    "print(\"accuracy:\", round(accuracy, 5))\n",
    "print(\"precision:\", round(precision, 5))\n",
    "print(\"recall:\", round(recall, 5))"
   ]
  },
  {
   "cell_type": "code",
   "execution_count": 20,
   "metadata": {},
   "outputs": [
    {
     "name": "stdout",
     "output_type": "stream",
     "text": [
      "Лучшие параметры для валидных данных: {'weights': [4, 1, 4], 'voting': 'soft'}\n"
     ]
    }
   ],
   "source": [
    "params_combinations = []\n",
    "\n",
    "for w1 in [1, 2, 3, 4, 5]:\n",
    "    for w2 in [1, 2, 3, 4, 5]:\n",
    "        for w3 in [1, 2, 3, 4, 5]:\n",
    "            params_combinations.append({'weights': [w1, w2, w3], 'voting': 'soft'})  \n",
    "            params_combinations.append({'weights': [w1, w2, w3], 'voting': 'hard'})  \n",
    "\n",
    "best_val_accuracy = 0\n",
    "best_val_precision = 0\n",
    "best_params = None\n",
    "best_model = None\n",
    "\n",
    "for params in params_combinations:\n",
    "    clf = VotingClassifier(\n",
    "        estimators=[('svc', svc), ('dtc', dtc), ('rfc', rfc)],\n",
    "        voting=params['voting'],\n",
    "        weights=params['weights'],\n",
    "        n_jobs=-1\n",
    "    )\n",
    "    clf.fit(X_train, y_train)\n",
    "    y_val_pred = clf.predict(X_val)\n",
    "\n",
    "    val_acc = accuracy_score(y_val, y_val_pred)\n",
    "    val_prec = precision_score(y_val, y_val_pred, average='weighted')\n",
    "\n",
    "    if val_acc > best_val_accuracy or (val_acc == best_val_accuracy and val_prec > best_val_precision):\n",
    "        best_val_accuracy = val_acc\n",
    "        best_val_precision = val_prec\n",
    "        best_params = params\n",
    "        best_model = clf\n",
    "\n",
    "print(\"Лучшие параметры для валидных данных:\", best_params)"
   ]
  },
  {
   "cell_type": "code",
   "execution_count": 21,
   "metadata": {},
   "outputs": [
    {
     "name": "stdout",
     "output_type": "stream",
     "text": [
      "\n",
      "Тест Metrics для Best Model:\n",
      "Accuracy: 0.92899\n",
      "Precision: 0.93151\n",
      "Recall: 0.92899\n"
     ]
    }
   ],
   "source": [
    "X_train_full = np.vstack((X_train, X_val))\n",
    "y_train_full = np.hstack((y_train, y_val))\n",
    "best_model.fit(X_train_full, y_train_full)\n",
    "y_test_pred = best_model.predict(X_test)\n",
    "test_accuracy = accuracy_score(y_test, y_test_pred)\n",
    "test_precision = precision_score(y_test, y_test_pred, average='weighted')\n",
    "test_recall = recall_score(y_test, y_test_pred, average='weighted')\n",
    "\n",
    "print(\"\\nТест Metrics для Best Model:\")\n",
    "print(f\"Accuracy: {test_accuracy:.5f}\")\n",
    "print(f\"Precision: {test_precision:.5f}\")\n",
    "print(f\"Recall: {test_recall:.5f}\")"
   ]
  },
  {
   "cell_type": "markdown",
   "metadata": {},
   "source": [
    "## 4. Bagging classifiers"
   ]
  },
  {
   "cell_type": "markdown",
   "metadata": {},
   "source": [
    "1. Using `BaggingClassifier` and `SVM` with the best parameters create an ensemble, try different values of the `n_estimators`, use `random_state=21`.\n",
    "2. Play with the other parameters.\n",
    "3. Calculate the `accuracy`, `precision`, and `recall` for the model with the best parameters (in terms of accuracy) on the test set (if there are several of them with equal values, choose the one with the higher precision)"
   ]
  },
  {
   "cell_type": "code",
   "execution_count": 22,
   "metadata": {},
   "outputs": [],
   "source": [
    "X_train_val, X_test, y_train_val, y_test = train_test_split(\n",
    "    X, y, test_size=0.2, random_state=21, stratify=y\n",
    ")\n",
    "X_train, X_val, y_train, y_val = train_test_split(\n",
    "    X_train_val, y_train_val, test_size=0.25, random_state=21, stratify=y_train_val\n",
    ")"
   ]
  },
  {
   "cell_type": "code",
   "execution_count": 23,
   "metadata": {},
   "outputs": [
    {
     "name": "stdout",
     "output_type": "stream",
     "text": [
      "Результаты по n_estimators:\n",
      "   n_estimators  val_accuracy  val_precision  val_recall\n",
      "0             5      0.857567       0.864003    0.857567\n",
      "1            10      0.851632       0.860596    0.851632\n",
      "2            20      0.863501       0.870604    0.863501\n",
      "3            50      0.863501       0.870896    0.863501\n",
      "4           100      0.860534       0.868602    0.860534\n"
     ]
    }
   ],
   "source": [
    "n_estimators_options = [5, 10, 20, 50, 100]\n",
    "results_n_estimators = []\n",
    "\n",
    "for n_estimators in n_estimators_options:\n",
    "    clf = BaggingClassifier(\n",
    "        base_estimator=svc,\n",
    "        n_estimators=n_estimators,\n",
    "        random_state=21,\n",
    "        n_jobs=-1\n",
    "    )\n",
    "    clf.fit(X_train, y_train)\n",
    "    y_val_pred = clf.predict(X_val)\n",
    "\n",
    "    val_acc = accuracy_score(y_val, y_val_pred)\n",
    "    val_prec = precision_score(y_val, y_val_pred, average='weighted')\n",
    "    val_rec = recall_score(y_val, y_val_pred, average='weighted')\n",
    "\n",
    "    results_n_estimators.append({\n",
    "        'n_estimators': n_estimators,\n",
    "        'val_accuracy': val_acc,\n",
    "        'val_precision': val_prec,\n",
    "        'val_recall': val_rec\n",
    "    })\n",
    "\n",
    "df_n_estimators = pd.DataFrame(results_n_estimators)\n",
    "print(\"Результаты по n_estimators:\")\n",
    "print(df_n_estimators)"
   ]
  },
  {
   "cell_type": "code",
   "execution_count": 24,
   "metadata": {},
   "outputs": [
    {
     "name": "stdout",
     "output_type": "stream",
     "text": [
      "\n",
      "Лучший n_estimators: 50\n"
     ]
    }
   ],
   "source": [
    "best_row = df_n_estimators.sort_values(by=[\"val_accuracy\",\"val_precision\"], ascending=False).iloc[0]\n",
    "best_n_estimators = int(best_row[\"n_estimators\"])\n",
    "print(\"\\nЛучший n_estimators:\", best_n_estimators)"
   ]
  },
  {
   "cell_type": "code",
   "execution_count": 25,
   "metadata": {},
   "outputs": [
    {
     "name": "stdout",
     "output_type": "stream",
     "text": [
      "\n",
      "Результаты по max_samples, max_features, bootstrap:\n",
      "    max_samples  max_features  bootstrap  val_accuracy  val_precision\n",
      "0           0.5           0.5       True      0.646884       0.741657\n",
      "1           0.5           0.5      False      0.670623       0.728694\n",
      "2           0.5           0.7       True      0.727003       0.758283\n",
      "3           0.5           0.7      False      0.771513       0.803420\n",
      "4           0.5           1.0       True      0.780415       0.813091\n",
      "5           0.5           1.0      False      0.839763       0.850355\n",
      "6           0.7           0.5       True      0.667656       0.747808\n",
      "7           0.7           0.5      False      0.721068       0.765486\n",
      "8           0.7           0.7       True      0.759644       0.782360\n",
      "9           0.7           0.7      False      0.810089       0.829995\n",
      "10          0.7           1.0       True      0.833828       0.850388\n",
      "11          0.7           1.0      False      0.851632       0.862143\n",
      "12          1.0           0.5       True      0.718101       0.764418\n",
      "13          1.0           0.5      False      0.765579       0.797216\n",
      "14          1.0           0.7       True      0.810089       0.827394\n",
      "15          1.0           0.7      False      0.824926       0.834925\n",
      "16          1.0           1.0       True      0.863501       0.870896\n",
      "17          1.0           1.0      False      0.869436       0.876326\n"
     ]
    }
   ],
   "source": [
    "max_samples_options = [0.5, 0.7, 1.0]\n",
    "max_features_options = [0.5, 0.7, 1.0]\n",
    "bootstrap_options = [True, False]\n",
    "\n",
    "results_other = []\n",
    "\n",
    "for max_samples in max_samples_options:\n",
    "    for max_features in max_features_options:\n",
    "        for bootstrap in bootstrap_options:\n",
    "            clf = BaggingClassifier(\n",
    "                base_estimator=svc,\n",
    "                n_estimators=best_n_estimators,\n",
    "                max_samples=max_samples,\n",
    "                max_features=max_features,\n",
    "                bootstrap=bootstrap,\n",
    "                random_state=21,\n",
    "                n_jobs=-1\n",
    "            )\n",
    "            clf.fit(X_train, y_train)\n",
    "            y_val_pred = clf.predict(X_val)\n",
    "\n",
    "            val_acc = accuracy_score(y_val, y_val_pred)\n",
    "            val_prec = precision_score(y_val, y_val_pred, average='weighted')\n",
    "            \n",
    "            results_other.append({\n",
    "                'max_samples': max_samples,\n",
    "                'max_features': max_features,\n",
    "                'bootstrap': bootstrap,\n",
    "                'val_accuracy': val_acc,\n",
    "                'val_precision': val_prec\n",
    "            })\n",
    "\n",
    "df_other = pd.DataFrame(results_other)\n",
    "print(\"\\nРезультаты по max_samples, max_features, bootstrap:\")\n",
    "print(df_other)"
   ]
  },
  {
   "cell_type": "code",
   "execution_count": 26,
   "metadata": {},
   "outputs": [
    {
     "name": "stdout",
     "output_type": "stream",
     "text": [
      "\n",
      "Лучшие параметры: {'max_samples': 1.0, 'max_features': 1.0, 'bootstrap': False}\n"
     ]
    }
   ],
   "source": [
    "best_row_other = df_other.sort_values(by=[\"val_accuracy\",\"val_precision\"], ascending=False).iloc[0]\n",
    "best_other = {\n",
    "    \"max_samples\": best_row_other[\"max_samples\"],\n",
    "    \"max_features\": best_row_other[\"max_features\"],\n",
    "    \"bootstrap\": best_row_other[\"bootstrap\"]\n",
    "    }\n",
    "print(\"\\nЛучшие параметры:\", best_other)"
   ]
  },
  {
   "cell_type": "code",
   "execution_count": 27,
   "metadata": {},
   "outputs": [
    {
     "name": "stdout",
     "output_type": "stream",
     "text": [
      "\n",
      "Лучшие параметры: {'n_estimators': 50, 'max_samples': 1.0, 'max_features': 1.0, 'bootstrap': False}\n"
     ]
    }
   ],
   "source": [
    "best_row_other = df_other.sort_values(by=[\"val_accuracy\",\"val_precision\"], ascending=False).iloc[0]\n",
    "best_params = {\n",
    "    \"n_estimators\": best_n_estimators,\n",
    "    \"max_samples\": best_row_other[\"max_samples\"],\n",
    "    \"max_features\": best_row_other[\"max_features\"],\n",
    "    \"bootstrap\": best_row_other[\"bootstrap\"]\n",
    "}\n",
    "print(\"\\nЛучшие параметры:\", best_params)"
   ]
  },
  {
   "cell_type": "code",
   "execution_count": 28,
   "metadata": {},
   "outputs": [
    {
     "name": "stdout",
     "output_type": "stream",
     "text": [
      "\n",
      "Тест Metrics для Best Model:\n",
      "Accuracy:  0.89645\n",
      "Precision: 0.90063\n",
      "Recall:    0.89645\n"
     ]
    }
   ],
   "source": [
    "X_train_full = np.vstack((X_train, X_val))\n",
    "y_train_full = np.hstack((y_train, y_val))\n",
    "\n",
    "best_model = BaggingClassifier(\n",
    "    base_estimator=svc,\n",
    "    n_estimators=best_params[\"n_estimators\"],\n",
    "    max_samples=best_params[\"max_samples\"],\n",
    "    max_features=best_params[\"max_features\"],\n",
    "    bootstrap=best_params[\"bootstrap\"],\n",
    "    random_state=21,\n",
    "    n_jobs=-1\n",
    ")\n",
    "best_model.fit(X_train_full, y_train_full)\n",
    "y_test_pred = best_model.predict(X_test)\n",
    "\n",
    "test_accuracy = accuracy_score(y_test, y_test_pred)\n",
    "test_precision = precision_score(y_test, y_test_pred, average='weighted')\n",
    "test_recall = recall_score(y_test, y_test_pred, average='weighted')\n",
    "\n",
    "print(\"\\nТест Metrics для Best Model:\")\n",
    "print(f\"Accuracy:  {test_accuracy:.5f}\")\n",
    "print(f\"Precision: {test_precision:.5f}\")\n",
    "print(f\"Recall:    {test_recall:.5f}\")"
   ]
  },
  {
   "cell_type": "markdown",
   "metadata": {},
   "source": [
    "## 5. Stacking classifiers"
   ]
  },
  {
   "cell_type": "markdown",
   "metadata": {},
   "source": [
    "1. To achieve reproducibility in this case you will have to create an object of cross-validation generator: `StratifiedKFold(n_splits=n, shuffle=True, random_state=21)`, where `n` you will try to optimize (the details are below).\n",
    "2. Using `StackingClassifier` and the three models that you have recently trained, calculate the `accuracy`, `precision` and `recall` on the validation set, try different values of `n_splits` `[2, 3, 4, 5, 6, 7]` in the cross-validation generator and parameter `passthrough` in the classifier itself,\n",
    "3. Calculate the `accuracy`, `precision`, and `recall` for the model with the best parameters (in terms of accuracy) on the test set (if there are several of them with equal values, choose the one with the higher precision). Use `final_estimator=LogisticRegression(solver='liblinear')`."
   ]
  },
  {
   "cell_type": "code",
   "execution_count": 29,
   "metadata": {},
   "outputs": [],
   "source": [
    "X_train_val, X_test, y_train_val, y_test = train_test_split(\n",
    "    X, y, test_size=0.2, random_state=21, stratify=y\n",
    ")\n",
    "X_train, X_val, y_train, y_val = train_test_split(\n",
    "    X_train_val, y_train_val, test_size=0.2, random_state=21, stratify=y_train_val\n",
    ")"
   ]
  },
  {
   "cell_type": "code",
   "execution_count": 30,
   "metadata": {},
   "outputs": [
    {
     "name": "stdout",
     "output_type": "stream",
     "text": [
      "Результаты StackingClassifier:\n",
      "    n_splits  passthrough  val_accuracy  val_precision  val_recall\n",
      "0          2         True      0.903704       0.905080    0.903704\n",
      "1          2        False      0.896296       0.896784    0.896296\n",
      "2          3         True      0.903704       0.906322    0.903704\n",
      "3          3        False      0.896296       0.897592    0.896296\n",
      "4          4         True      0.911111       0.913269    0.911111\n",
      "5          4        False      0.903704       0.905703    0.903704\n",
      "6          5         True      0.900000       0.902167    0.900000\n",
      "7          5        False      0.900000       0.900558    0.900000\n",
      "8          6         True      0.903704       0.904500    0.903704\n",
      "9          6        False      0.903704       0.904365    0.903704\n",
      "10         7         True      0.903704       0.906397    0.903704\n",
      "11         7        False      0.903704       0.905376    0.903704\n"
     ]
    }
   ],
   "source": [
    "base_models = [\n",
    "    ('svc', svc),\n",
    "    ('dtc', dtc),\n",
    "    ('rfc', rfc)\n",
    "]\n",
    "\n",
    "n_splits_options = [2, 3, 4, 5, 6, 7]\n",
    "passthrough_options = [True, False]\n",
    "\n",
    "results_stacking = []\n",
    "\n",
    "for n_splits in n_splits_options:\n",
    "        \n",
    "    for passthrough in passthrough_options:\n",
    "        skf = StratifiedKFold(n_splits=n_splits, shuffle=True, random_state=21)\n",
    "        clf = StackingClassifier(\n",
    "            estimators=base_models,\n",
    "            final_estimator=LogisticRegression(solver='liblinear'),\n",
    "            cv=skf,\n",
    "            passthrough=passthrough,\n",
    "            n_jobs=-1\n",
    "        )\n",
    "        clf.fit(X_train, y_train)\n",
    "        y_val_pred = clf.predict(X_val)\n",
    "\n",
    "        val_acc = accuracy_score(y_val, y_val_pred)\n",
    "        val_prec = precision_score(y_val, y_val_pred, average='weighted')\n",
    "        val_rec = recall_score(y_val, y_val_pred, average='weighted')\n",
    "\n",
    "        results_stacking.append({\n",
    "            'n_splits': n_splits,\n",
    "            'passthrough': passthrough,\n",
    "            'val_accuracy': val_acc,\n",
    "            'val_precision': val_prec,\n",
    "            'val_recall': val_rec\n",
    "        })\n",
    "\n",
    "df_stacking = pd.DataFrame(results_stacking)\n",
    "print(\"Результаты StackingClassifier:\")\n",
    "print(df_stacking)"
   ]
  },
  {
   "cell_type": "code",
   "execution_count": 31,
   "metadata": {},
   "outputs": [
    {
     "name": "stdout",
     "output_type": "stream",
     "text": [
      "\n",
      "Лучшие параметры StackingClassifier: {'n_splits': 4, 'passthrough': True}\n"
     ]
    }
   ],
   "source": [
    "best_row = df_stacking.sort_values(by=['val_accuracy','val_precision'], ascending=False).iloc[0]\n",
    "best_params = {\n",
    "    'n_splits': best_row['n_splits'],\n",
    "    'passthrough': best_row['passthrough']\n",
    "}\n",
    "print(\"\\nЛучшие параметры StackingClassifier:\", best_params)"
   ]
  },
  {
   "cell_type": "code",
   "execution_count": 32,
   "metadata": {},
   "outputs": [
    {
     "name": "stdout",
     "output_type": "stream",
     "text": [
      "\n",
      "Тест Metrics для Best Stacking Model:\n",
      "Accuracy:  0.9408\n",
      "Precision: 0.9425\n",
      "Recall:    0.9408\n"
     ]
    }
   ],
   "source": [
    "X_train_full = np.vstack((X_train, X_val))\n",
    "y_train_full = np.hstack((y_train, y_val))\n",
    "\n",
    "skf_best = StratifiedKFold(n_splits=int(best_params['n_splits']), shuffle=True, random_state=21)\n",
    "best_stacking_model = StackingClassifier(\n",
    "    estimators=base_models,\n",
    "    final_estimator=LogisticRegression(solver='liblinear'),\n",
    "    cv=skf_best,\n",
    "    passthrough=best_params['passthrough'],\n",
    "    n_jobs=-1\n",
    ")\n",
    "best_stacking_model.fit(X_train_full, y_train_full)\n",
    "\n",
    "y_test_pred = best_stacking_model.predict(X_test)\n",
    "\n",
    "test_accuracy = accuracy_score(y_test, y_test_pred)\n",
    "test_precision = precision_score(y_test, y_test_pred, average='weighted')\n",
    "test_recall = recall_score(y_test, y_test_pred, average='weighted')\n",
    "\n",
    "print(\"\\nТест Metrics для Best Stacking Model:\")\n",
    "print(f\"Accuracy:  {test_accuracy:.4f}\")\n",
    "print(f\"Precision: {test_precision:.4f}\")\n",
    "print(f\"Recall:    {test_recall:.4f}\")"
   ]
  },
  {
   "cell_type": "markdown",
   "metadata": {},
   "source": [
    "## 6. Predictions"
   ]
  },
  {
   "cell_type": "markdown",
   "metadata": {},
   "source": [
    "1. Choose the best model in terms of accuracy (if there are several of them with equal values, choose the one with the higher precision).\n",
    "2. Analyze: for which weekday your model makes the most errors (in % of the total number of samples of that class in your full dataset), for which labname and for which users.\n",
    "3. Save the model."
   ]
  },
  {
   "cell_type": "code",
   "execution_count": 33,
   "metadata": {},
   "outputs": [
    {
     "name": "stdout",
     "output_type": "stream",
     "text": [
      "accuracy is 0.93787\n",
      "precision is 0.93926\n",
      "recall is 0.93787\n"
     ]
    }
   ],
   "source": [
    "best_model = StackingClassifier(\n",
    "    estimators=[('svс', svc), ('dtc', dtc), ('rfc', rfc)],\n",
    "    final_estimator=LogisticRegression(solver='liblinear'),\n",
    "    cv=StratifiedKFold(n_splits=6, shuffle=True, random_state=21),\n",
    "    passthrough=True\n",
    ")\n",
    "best_model.fit(X_train_full, y_train_full)\n",
    "y_test_pred = best_model.predict(X_test)\n",
    "\n",
    "print(f\"accuracy is {accuracy_score(y_test, y_test_pred):.5f}\")\n",
    "print(f\"precision is {precision_score(y_test, y_test_pred, average='weighted'):.5f}\")\n",
    "print(f\"recall is {recall_score(y_test, y_test_pred, average='weighted'):.5f}\")"
   ]
  },
  {
   "cell_type": "code",
   "execution_count": 34,
   "metadata": {},
   "outputs": [
    {
     "name": "stdout",
     "output_type": "stream",
     "text": [
      "Ошибки по дням недели (%):\n",
      "dayofweek\n",
      "0    3.676471\n",
      "1    2.554745\n",
      "3    1.515152\n",
      "5    1.476015\n",
      "2    1.342282\n",
      "4    0.961538\n",
      "6    0.280899\n",
      "Name: is_error, dtype: float64\n"
     ]
    }
   ],
   "source": [
    "df['predicted'] = best_model.predict(X)\n",
    "df['is_error'] = (df['dayofweek'] != df['predicted']).astype(int)\n",
    "error_by_weekday = df.groupby('dayofweek')['is_error'].mean() * 100\n",
    "print(\"Ошибки по дням недели (%):\")\n",
    "print(error_by_weekday.sort_values(ascending=False))"
   ]
  },
  {
   "cell_type": "code",
   "execution_count": 35,
   "metadata": {},
   "outputs": [
    {
     "name": "stdout",
     "output_type": "stream",
     "text": [
      "\n",
      "Ошибки по лабораториям (%):\n",
      "labname\n",
      "lab03       100.000000\n",
      "laba06        4.166667\n",
      "laba04        3.932584\n",
      "code_rvw      3.658537\n",
      "laba06s       3.278689\n",
      "lab05s        2.777778\n",
      "laba04s       1.923077\n",
      "project1      0.841220\n",
      "laba05        0.000000\n",
      "lab03s        0.000000\n",
      "Name: is_error, dtype: float64\n"
     ]
    }
   ],
   "source": [
    "lab_columns = [col for col in df.columns if col.startswith('labname_')]\n",
    "if lab_columns:\n",
    "    df['labname'] = df[lab_columns].idxmax(axis=1).str.replace('labname_', '')\n",
    "    error_by_lab = df.groupby('labname')['is_error'].mean() * 100\n",
    "    print(\"\\nОшибки по лабораториям (%):\")\n",
    "    print(error_by_lab.sort_values(ascending=False).head(10))\n",
    "else:\n",
    "    print(\"Нет столбцов с labname_\")"
   ]
  },
  {
   "cell_type": "code",
   "execution_count": 36,
   "metadata": {},
   "outputs": [
    {
     "name": "stdout",
     "output_type": "stream",
     "text": [
      "\n",
      "Ошибки по пользователям (%):\n",
      "uid\n",
      "user_22    14.285714\n",
      "user_17    11.764706\n",
      "user_6      8.333333\n",
      "user_29     4.687500\n",
      "user_19     4.395604\n",
      "user_16     3.125000\n",
      "user_18     2.857143\n",
      "user_3      2.816901\n",
      "user_30     2.564103\n",
      "user_1      2.173913\n",
      "Name: is_error, dtype: float64\n"
     ]
    }
   ],
   "source": [
    "uid_columns = [col for col in df.columns if col.startswith('uid_')]\n",
    "\n",
    "if uid_columns:\n",
    "    df['uid'] = df[uid_columns].idxmax(axis=1).str.replace('uid_', '')\n",
    "\n",
    "    error_by_user = df.groupby('uid')['is_error'].mean() * 100\n",
    "    print(\"\\nОшибки по пользователям (%):\")\n",
    "    print(error_by_user.sort_values(ascending=False).head(10))\n",
    "else:\n",
    "    print(\"Нет столбцов с uid_\")"
   ]
  },
  {
   "cell_type": "code",
   "execution_count": 37,
   "metadata": {},
   "outputs": [
    {
     "name": "stdout",
     "output_type": "stream",
     "text": [
      "Модель сохранена как 'best_model.joblib'\n"
     ]
    }
   ],
   "source": [
    "joblib.dump(best_model, 'best_model.joblib')\n",
    "print(\"Модель сохранена как 'best_model.joblib'\")"
   ]
  }
 ],
 "metadata": {
  "kernelspec": {
   "display_name": "venv38",
   "language": "python",
   "name": "python3"
  },
  "language_info": {
   "codemirror_mode": {
    "name": "ipython",
    "version": 3
   },
   "file_extension": ".py",
   "mimetype": "text/x-python",
   "name": "python",
   "nbconvert_exporter": "python",
   "pygments_lexer": "ipython3",
   "version": "3.8.2rc2"
  }
 },
 "nbformat": 4,
 "nbformat_minor": 4
}
