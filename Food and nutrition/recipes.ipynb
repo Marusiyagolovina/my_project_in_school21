{
 "cells": [
  {
   "cell_type": "markdown",
   "id": "cb814e76-3507-4f9c-9739-f28246e96f47",
   "metadata": {},
   "source": [
    "<span style='color: #021497; font-size: 3em'><b>I. Предварительная настройка</b></span>"
   ]
  },
  {
   "cell_type": "markdown",
   "id": "84f43e86-02d1-45c9-80fd-bbef550cf1f1",
   "metadata": {},
   "source": [
    "## Подключение необходимых библиотек"
   ]
  },
  {
   "cell_type": "code",
   "execution_count": 1,
   "id": "874144ca-dce1-4ad9-a6bb-ebb1ee4a8cfb",
   "metadata": {},
   "outputs": [],
   "source": [
    "#Библиотеки для работы с парсингом сайта\n",
    "import requests\n",
    "from io import StringIO\n",
    "import json\n",
    "\n",
    "#Библиотеки для работы с данными\n",
    "import pandas as pd\n",
    "import numpy as np\n",
    "import math\n",
    "import statistics\n",
    "import warnings\n",
    "from tqdm.notebook import tqdm\n",
    "from sklearn.pipeline import Pipeline\n",
    "from sklearn.base import BaseEstimator, TransformerMixin\n",
    "import joblib\n",
    "\n",
    "#Библиотеки для работы с моделями ML\n",
    "from sklearn.linear_model import LinearRegression, LogisticRegression\n",
    "from sklearn.tree import DecisionTreeRegressor\n",
    "from sklearn.ensemble import RandomForestRegressor, VotingRegressor, BaggingRegressor, StackingRegressor\n",
    "from sklearn.svm import SVC\n",
    "from sklearn.tree import DecisionTreeClassifier\n",
    "from sklearn.ensemble import RandomForestClassifier, VotingClassifier, BaggingClassifier, StackingClassifier\n",
    "\n",
    "from sklearn.model_selection import train_test_split, GridSearchCV\n",
    "from sklearn.preprocessing import OneHotEncoder\n",
    "from sklearn.metrics import accuracy_score, precision_score, make_scorer, root_mean_squared_error\n",
    "from sklearn.base import is_classifier, is_regressor"
   ]
  },
  {
   "cell_type": "markdown",
   "id": "5c812d2c-6a3e-4100-b7e6-0f09afbeccce",
   "metadata": {},
   "source": [
    "## Настройка подключения к `FoodData Central`"
   ]
  },
  {
   "cell_type": "code",
   "execution_count": 2,
   "id": "375b1758-ca87-4221-b94f-f3635a2da14e",
   "metadata": {},
   "outputs": [],
   "source": [
    "proxy_ip = \"191.102.181.40\"\n",
    "proxy_port = \"9584\"\n",
    "proxy_user = \"CK3LWQ\"\n",
    "proxy_pass = \"c0wg7U\"\n",
    "\n",
    "proxy_url = f\"http://{proxy_user}:{proxy_pass}@{proxy_ip}:{proxy_port}\"\n",
    "proxies = {\n",
    "    \"http\": proxy_url,\n",
    "    \"https\": proxy_url,\n",
    "}\n",
    "\n",
    "api_key = 'O6EQ2mEKz27UlgihujBjt1RqJRc8ZteNiNLWBdQT'"
   ]
  },
  {
   "cell_type": "markdown",
   "id": "16d50766-eec9-4e93-a65a-139791283da6",
   "metadata": {},
   "source": [
    "<span style='color: #021497; font-size: 3em'><b>II. Создание модели прогнозирования рейтинга блюда исходя из его ингредиентов</b></span>"
   ]
  },
  {
   "cell_type": "markdown",
   "id": "baeeb603-d6f7-46ab-ab63-72e18f94a4c3",
   "metadata": {},
   "source": [
    "<span style='color: #BD2467; font-size: 3em;'><b>1. Подготовка данных</b></span>"
   ]
  },
  {
   "cell_type": "markdown",
   "id": "c77c2e94-226c-43e5-b849-d50d1d0b9a4c",
   "metadata": {},
   "source": [
    "<span style='color: #03C568; font-size: 2em;'><b>1.1. Считаем данные из файла `epic_r.csv`</b></span>"
   ]
  },
  {
   "cell_type": "code",
   "execution_count": 3,
   "id": "30ce8b06-297e-498c-94a2-f1fe98da2229",
   "metadata": {},
   "outputs": [
    {
     "name": "stdout",
     "output_type": "stream",
     "text": [
      "<class 'pandas.core.frame.DataFrame'>\n",
      "RangeIndex: 20052 entries, 0 to 20051\n",
      "Columns: 680 entries, title to turkey\n",
      "dtypes: float64(679), object(1)\n",
      "memory usage: 104.0+ MB\n"
     ]
    },
    {
     "data": {
      "text/plain": [
       "None"
      ]
     },
     "metadata": {},
     "output_type": "display_data"
    },
    {
     "data": {
      "text/html": [
       "<div>\n",
       "<style scoped>\n",
       "    .dataframe tbody tr th:only-of-type {\n",
       "        vertical-align: middle;\n",
       "    }\n",
       "\n",
       "    .dataframe tbody tr th {\n",
       "        vertical-align: top;\n",
       "    }\n",
       "\n",
       "    .dataframe thead th {\n",
       "        text-align: right;\n",
       "    }\n",
       "</style>\n",
       "<table border=\"1\" class=\"dataframe\">\n",
       "  <thead>\n",
       "    <tr style=\"text-align: right;\">\n",
       "      <th></th>\n",
       "      <th>title</th>\n",
       "      <th>rating</th>\n",
       "      <th>calories</th>\n",
       "      <th>protein</th>\n",
       "      <th>fat</th>\n",
       "      <th>sodium</th>\n",
       "      <th>#cakeweek</th>\n",
       "      <th>#wasteless</th>\n",
       "      <th>22-minute meals</th>\n",
       "      <th>3-ingredient recipes</th>\n",
       "      <th>...</th>\n",
       "      <th>yellow squash</th>\n",
       "      <th>yogurt</th>\n",
       "      <th>yonkers</th>\n",
       "      <th>yuca</th>\n",
       "      <th>zucchini</th>\n",
       "      <th>cookbooks</th>\n",
       "      <th>leftovers</th>\n",
       "      <th>snack</th>\n",
       "      <th>snack week</th>\n",
       "      <th>turkey</th>\n",
       "    </tr>\n",
       "  </thead>\n",
       "  <tbody>\n",
       "    <tr>\n",
       "      <th>0</th>\n",
       "      <td>Lentil, Apple, and Turkey Wrap</td>\n",
       "      <td>2.500</td>\n",
       "      <td>426.0</td>\n",
       "      <td>30.0</td>\n",
       "      <td>7.0</td>\n",
       "      <td>559.0</td>\n",
       "      <td>0.0</td>\n",
       "      <td>0.0</td>\n",
       "      <td>0.0</td>\n",
       "      <td>0.0</td>\n",
       "      <td>...</td>\n",
       "      <td>0.0</td>\n",
       "      <td>0.0</td>\n",
       "      <td>0.0</td>\n",
       "      <td>0.0</td>\n",
       "      <td>0.0</td>\n",
       "      <td>0.0</td>\n",
       "      <td>0.0</td>\n",
       "      <td>0.0</td>\n",
       "      <td>0.0</td>\n",
       "      <td>1.0</td>\n",
       "    </tr>\n",
       "    <tr>\n",
       "      <th>1</th>\n",
       "      <td>Boudin Blanc Terrine with Red Onion Confit</td>\n",
       "      <td>4.375</td>\n",
       "      <td>403.0</td>\n",
       "      <td>18.0</td>\n",
       "      <td>23.0</td>\n",
       "      <td>1439.0</td>\n",
       "      <td>0.0</td>\n",
       "      <td>0.0</td>\n",
       "      <td>0.0</td>\n",
       "      <td>0.0</td>\n",
       "      <td>...</td>\n",
       "      <td>0.0</td>\n",
       "      <td>0.0</td>\n",
       "      <td>0.0</td>\n",
       "      <td>0.0</td>\n",
       "      <td>0.0</td>\n",
       "      <td>0.0</td>\n",
       "      <td>0.0</td>\n",
       "      <td>0.0</td>\n",
       "      <td>0.0</td>\n",
       "      <td>0.0</td>\n",
       "    </tr>\n",
       "  </tbody>\n",
       "</table>\n",
       "<p>2 rows × 680 columns</p>\n",
       "</div>"
      ],
      "text/plain": [
       "                                         title  rating  calories  protein  \\\n",
       "0              Lentil, Apple, and Turkey Wrap    2.500     426.0     30.0   \n",
       "1  Boudin Blanc Terrine with Red Onion Confit    4.375     403.0     18.0   \n",
       "\n",
       "    fat  sodium  #cakeweek  #wasteless  22-minute meals  3-ingredient recipes  \\\n",
       "0   7.0   559.0        0.0         0.0              0.0                   0.0   \n",
       "1  23.0  1439.0        0.0         0.0              0.0                   0.0   \n",
       "\n",
       "   ...  yellow squash  yogurt  yonkers  yuca  zucchini  cookbooks  leftovers  \\\n",
       "0  ...            0.0     0.0      0.0   0.0       0.0        0.0        0.0   \n",
       "1  ...            0.0     0.0      0.0   0.0       0.0        0.0        0.0   \n",
       "\n",
       "   snack  snack week  turkey  \n",
       "0    0.0         0.0     1.0  \n",
       "1    0.0         0.0     0.0  \n",
       "\n",
       "[2 rows x 680 columns]"
      ]
     },
     "metadata": {},
     "output_type": "display_data"
    }
   ],
   "source": [
    "input_file_epi_r = 'epi_r.csv'\n",
    "df = pd.read_csv(input_file_epi_r)\n",
    "display(df.info())\n",
    "display(df.head(2))"
   ]
  },
  {
   "cell_type": "markdown",
   "id": "0bc549ab-2796-4078-9474-7c2e7e8fe13e",
   "metadata": {},
   "source": [
    "<span style='color: #03C568; font-size: 2em;'><b>1.2. Оставляем только столбцы с ингредиентами</b></span>"
   ]
  },
  {
   "cell_type": "markdown",
   "id": "3a9a09e3-e294-478f-ba46-b6998fff99f2",
   "metadata": {},
   "source": [
    "## Сократим названия колонок, где используется символ `/` и слово `or`"
   ]
  },
  {
   "cell_type": "code",
   "execution_count": 4,
   "id": "d88557b4-0f84-4aa5-9e24-35d802aa2984",
   "metadata": {},
   "outputs": [],
   "source": [
    "for column in df.columns:\n",
    "    if '/' in column:\n",
    "        new_name_column = column.split('/')[0]\n",
    "        df.rename(columns={column: new_name_column}, inplace=True)\n",
    "    if ' or ' in column:\n",
    "        new_name_column = column.split(' or ')[0]\n",
    "        df.rename(columns={column: new_name_column}, inplace=True)"
   ]
  },
  {
   "cell_type": "markdown",
   "id": "70bcfa35-2f56-47f7-ae07-aab995660d38",
   "metadata": {},
   "source": [
    "## Теперь найдём все названия колонок, которые являются ингридиентами в `FoodData Central`"
   ]
  },
  {
   "cell_type": "code",
   "execution_count": 5,
   "id": "34b97038-d8a8-4a94-a327-63cfe3ac61d2",
   "metadata": {},
   "outputs": [
    {
     "data": {
      "application/vnd.jupyter.widget-view+json": {
       "model_id": "693399236cb44737942d4bf638daa9c3",
       "version_major": 2,
       "version_minor": 0
      },
      "text/plain": [
       "  0%|          | 0/680 [00:00<?, ?it/s]"
      ]
     },
     "metadata": {},
     "output_type": "display_data"
    }
   ],
   "source": [
    "list_ingredients = []\n",
    "session = requests.Session()\n",
    "my_params = {\n",
    "    \"api_key\": api_key,\n",
    "    \"query\": ''\n",
    "}\n",
    "for column in tqdm(df.columns):\n",
    "    if column in ['avocado', 'chile pepper', 'wok']:\n",
    "        list_ingredients.append(column)\n",
    "        continue\n",
    "    my_params['query'] = column\n",
    "    my_url = f'https://api.nal.usda.gov/fdc/v1/foods/search'\n",
    "    response = session.get(url=my_url, proxies=proxies, params=my_params, timeout=10)\n",
    "    json_tmp = response.json()\n",
    "    if 'foods' in json_tmp:\n",
    "        for food in json_tmp['foods']:\n",
    "            if 'description' in food:\n",
    "                if column.lower() == food['description'].lower():\n",
    "                    list_ingredients.append(column)\n",
    "                    break\n",
    "list_ingredients = list(set(list_ingredients))"
   ]
  },
  {
   "cell_type": "markdown",
   "id": "1e2dd22b-ea46-47b6-b691-2f778a04a9b4",
   "metadata": {},
   "source": [
    "## Удаляем все лишние столбцы"
   ]
  },
  {
   "cell_type": "code",
   "execution_count": 6,
   "id": "a80cf511-7877-4bba-8e6d-724071b61e07",
   "metadata": {},
   "outputs": [],
   "source": [
    "for column in df.columns:\n",
    "    if column not in list_ingredients and column != 'rating' and column in df.columns:\n",
    "        df.drop(columns=column, inplace=True)"
   ]
  },
  {
   "cell_type": "markdown",
   "id": "86e3551c-4762-4668-87ba-d32db9b20061",
   "metadata": {},
   "source": [
    "<span style='color: #BA3F0D; font-size: 2em; background: #EAF785;'><b>Сделаем проверку</b></span>"
   ]
  },
  {
   "cell_type": "code",
   "execution_count": 7,
   "id": "cf1ad8ce-814b-46f1-ae5f-217a76f558eb",
   "metadata": {},
   "outputs": [
    {
     "name": "stdout",
     "output_type": "stream",
     "text": [
      "<class 'pandas.core.frame.DataFrame'>\n",
      "RangeIndex: 20052 entries, 0 to 20051\n",
      "Columns: 241 entries, rating to turkey\n",
      "dtypes: float64(241)\n",
      "memory usage: 36.9 MB\n"
     ]
    },
    {
     "data": {
      "text/html": [
       "<div>\n",
       "<style scoped>\n",
       "    .dataframe tbody tr th:only-of-type {\n",
       "        vertical-align: middle;\n",
       "    }\n",
       "\n",
       "    .dataframe tbody tr th {\n",
       "        vertical-align: top;\n",
       "    }\n",
       "\n",
       "    .dataframe thead th {\n",
       "        text-align: right;\n",
       "    }\n",
       "</style>\n",
       "<table border=\"1\" class=\"dataframe\">\n",
       "  <thead>\n",
       "    <tr style=\"text-align: right;\">\n",
       "      <th></th>\n",
       "      <th>rating</th>\n",
       "      <th>apple</th>\n",
       "      <th>apple juice</th>\n",
       "      <th>apricot</th>\n",
       "      <th>artichoke</th>\n",
       "      <th>arugula</th>\n",
       "      <th>asparagus</th>\n",
       "      <th>avocado</th>\n",
       "      <th>bacon</th>\n",
       "      <th>banana</th>\n",
       "      <th>...</th>\n",
       "      <th>whiskey</th>\n",
       "      <th>whole wheat</th>\n",
       "      <th>wild rice</th>\n",
       "      <th>wok</th>\n",
       "      <th>yellow squash</th>\n",
       "      <th>yogurt</th>\n",
       "      <th>yuca</th>\n",
       "      <th>zucchini</th>\n",
       "      <th>snack</th>\n",
       "      <th>turkey</th>\n",
       "    </tr>\n",
       "  </thead>\n",
       "  <tbody>\n",
       "    <tr>\n",
       "      <th>0</th>\n",
       "      <td>2.500</td>\n",
       "      <td>1.0</td>\n",
       "      <td>0.0</td>\n",
       "      <td>0.0</td>\n",
       "      <td>0.0</td>\n",
       "      <td>0.0</td>\n",
       "      <td>0.0</td>\n",
       "      <td>0.0</td>\n",
       "      <td>0.0</td>\n",
       "      <td>0.0</td>\n",
       "      <td>...</td>\n",
       "      <td>0.0</td>\n",
       "      <td>0.0</td>\n",
       "      <td>0.0</td>\n",
       "      <td>0.0</td>\n",
       "      <td>0.0</td>\n",
       "      <td>0.0</td>\n",
       "      <td>0.0</td>\n",
       "      <td>0.0</td>\n",
       "      <td>0.0</td>\n",
       "      <td>1.0</td>\n",
       "    </tr>\n",
       "    <tr>\n",
       "      <th>1</th>\n",
       "      <td>4.375</td>\n",
       "      <td>0.0</td>\n",
       "      <td>0.0</td>\n",
       "      <td>0.0</td>\n",
       "      <td>0.0</td>\n",
       "      <td>0.0</td>\n",
       "      <td>0.0</td>\n",
       "      <td>0.0</td>\n",
       "      <td>0.0</td>\n",
       "      <td>0.0</td>\n",
       "      <td>...</td>\n",
       "      <td>0.0</td>\n",
       "      <td>0.0</td>\n",
       "      <td>0.0</td>\n",
       "      <td>0.0</td>\n",
       "      <td>0.0</td>\n",
       "      <td>0.0</td>\n",
       "      <td>0.0</td>\n",
       "      <td>0.0</td>\n",
       "      <td>0.0</td>\n",
       "      <td>0.0</td>\n",
       "    </tr>\n",
       "  </tbody>\n",
       "</table>\n",
       "<p>2 rows × 241 columns</p>\n",
       "</div>"
      ],
      "text/plain": [
       "   rating  apple  apple juice  apricot  artichoke  arugula  asparagus  \\\n",
       "0   2.500    1.0          0.0      0.0        0.0      0.0        0.0   \n",
       "1   4.375    0.0          0.0      0.0        0.0      0.0        0.0   \n",
       "\n",
       "   avocado  bacon  banana  ...  whiskey  whole wheat  wild rice  wok  \\\n",
       "0      0.0    0.0     0.0  ...      0.0          0.0        0.0  0.0   \n",
       "1      0.0    0.0     0.0  ...      0.0          0.0        0.0  0.0   \n",
       "\n",
       "   yellow squash  yogurt  yuca  zucchini  snack  turkey  \n",
       "0            0.0     0.0   0.0       0.0    0.0     1.0  \n",
       "1            0.0     0.0   0.0       0.0    0.0     0.0  \n",
       "\n",
       "[2 rows x 241 columns]"
      ]
     },
     "metadata": {},
     "output_type": "display_data"
    }
   ],
   "source": [
    "df.info()\n",
    "display(df.head(2))"
   ]
  },
  {
   "cell_type": "code",
   "execution_count": 8,
   "id": "204c468d-2737-40c3-9593-e1d5426fa01f",
   "metadata": {},
   "outputs": [
    {
     "name": "stdout",
     "output_type": "stream",
     "text": [
      "'title' not in list(df.columns)\n",
      "'leftovers' not in list(df.columns)\n",
      "'california' not in list(df.columns)\n",
      "'dominican republic' not in list(df.columns)\n",
      "'protein' not in list(df.columns)\n",
      "'low cholesterol' not in list(df.columns)\n",
      "'pan-fry' not in list(df.columns)\n",
      "'fruit' not in list(df.columns)\n",
      "'stew' not in list(df.columns)\n",
      "'braise' not in list(df.columns)\n",
      "'milk' in list(df.columns)\n",
      "'jam' in list(df.columns)\n"
     ]
    }
   ],
   "source": [
    "columns_name_for_check = ['title', 'leftovers', 'california', 'dominican republic', 'protein', 'low cholesterol',\n",
    "                         'pan-fry', 'fruit', 'stew', 'braise', 'milk', 'jam']\n",
    "for column in columns_name_for_check:\n",
    "    if column in list(df.columns):\n",
    "        print(f\"'{column}' in list(df.columns)\")\n",
    "    else:\n",
    "        print(f\"'{column}' not in list(df.columns)\")"
   ]
  },
  {
   "cell_type": "markdown",
   "id": "e83adffd-8144-4ae4-81d9-b92fd4437f8f",
   "metadata": {},
   "source": [
    "<span style='color: #03C568; font-size: 2em;'><b>1.3. Реализовать это можно также используя Pipeline</b></span>"
   ]
  },
  {
   "cell_type": "code",
   "execution_count": 9,
   "id": "59bff3e9-76f2-44d1-8e82-053aa9db3dec",
   "metadata": {},
   "outputs": [
    {
     "data": {
      "application/vnd.jupyter.widget-view+json": {
       "model_id": "0ea4e505e9554726b33ae0217bc1d2c3",
       "version_major": 2,
       "version_minor": 0
      },
      "text/plain": [
       "  0%|          | 0/680 [00:00<?, ?it/s]"
      ]
     },
     "metadata": {},
     "output_type": "display_data"
    },
    {
     "data": {
      "text/html": [
       "<div>\n",
       "<style scoped>\n",
       "    .dataframe tbody tr th:only-of-type {\n",
       "        vertical-align: middle;\n",
       "    }\n",
       "\n",
       "    .dataframe tbody tr th {\n",
       "        vertical-align: top;\n",
       "    }\n",
       "\n",
       "    .dataframe thead th {\n",
       "        text-align: right;\n",
       "    }\n",
       "</style>\n",
       "<table border=\"1\" class=\"dataframe\">\n",
       "  <thead>\n",
       "    <tr style=\"text-align: right;\">\n",
       "      <th></th>\n",
       "      <th>broccoli</th>\n",
       "      <th>margarita</th>\n",
       "      <th>sausage</th>\n",
       "      <th>tarragon</th>\n",
       "      <th>sesame oil</th>\n",
       "      <th>beef tenderloin</th>\n",
       "      <th>cantaloupe</th>\n",
       "      <th>caraway</th>\n",
       "      <th>fruit juice</th>\n",
       "      <th>onion</th>\n",
       "      <th>...</th>\n",
       "      <th>quiche</th>\n",
       "      <th>tapioca</th>\n",
       "      <th>cookie</th>\n",
       "      <th>buffalo</th>\n",
       "      <th>octopus</th>\n",
       "      <th>tomato</th>\n",
       "      <th>salad dressing</th>\n",
       "      <th>salad</th>\n",
       "      <th>milk</th>\n",
       "      <th>rating</th>\n",
       "    </tr>\n",
       "  </thead>\n",
       "  <tbody>\n",
       "    <tr>\n",
       "      <th>0</th>\n",
       "      <td>0.0</td>\n",
       "      <td>0.0</td>\n",
       "      <td>0.0</td>\n",
       "      <td>0.0</td>\n",
       "      <td>0.0</td>\n",
       "      <td>0.0</td>\n",
       "      <td>0.0</td>\n",
       "      <td>0.0</td>\n",
       "      <td>0.0</td>\n",
       "      <td>0.0</td>\n",
       "      <td>...</td>\n",
       "      <td>0.0</td>\n",
       "      <td>0.0</td>\n",
       "      <td>1.0</td>\n",
       "      <td>0.0</td>\n",
       "      <td>0.0</td>\n",
       "      <td>1.0</td>\n",
       "      <td>0.0</td>\n",
       "      <td>0.0</td>\n",
       "      <td>0.0</td>\n",
       "      <td>2.500</td>\n",
       "    </tr>\n",
       "    <tr>\n",
       "      <th>1</th>\n",
       "      <td>0.0</td>\n",
       "      <td>0.0</td>\n",
       "      <td>0.0</td>\n",
       "      <td>0.0</td>\n",
       "      <td>0.0</td>\n",
       "      <td>0.0</td>\n",
       "      <td>0.0</td>\n",
       "      <td>0.0</td>\n",
       "      <td>0.0</td>\n",
       "      <td>1.0</td>\n",
       "      <td>...</td>\n",
       "      <td>0.0</td>\n",
       "      <td>0.0</td>\n",
       "      <td>0.0</td>\n",
       "      <td>0.0</td>\n",
       "      <td>0.0</td>\n",
       "      <td>0.0</td>\n",
       "      <td>0.0</td>\n",
       "      <td>0.0</td>\n",
       "      <td>0.0</td>\n",
       "      <td>4.375</td>\n",
       "    </tr>\n",
       "    <tr>\n",
       "      <th>2</th>\n",
       "      <td>0.0</td>\n",
       "      <td>0.0</td>\n",
       "      <td>0.0</td>\n",
       "      <td>0.0</td>\n",
       "      <td>0.0</td>\n",
       "      <td>0.0</td>\n",
       "      <td>0.0</td>\n",
       "      <td>0.0</td>\n",
       "      <td>0.0</td>\n",
       "      <td>0.0</td>\n",
       "      <td>...</td>\n",
       "      <td>0.0</td>\n",
       "      <td>0.0</td>\n",
       "      <td>0.0</td>\n",
       "      <td>0.0</td>\n",
       "      <td>0.0</td>\n",
       "      <td>0.0</td>\n",
       "      <td>0.0</td>\n",
       "      <td>0.0</td>\n",
       "      <td>0.0</td>\n",
       "      <td>3.750</td>\n",
       "    </tr>\n",
       "    <tr>\n",
       "      <th>3</th>\n",
       "      <td>0.0</td>\n",
       "      <td>0.0</td>\n",
       "      <td>0.0</td>\n",
       "      <td>0.0</td>\n",
       "      <td>0.0</td>\n",
       "      <td>0.0</td>\n",
       "      <td>0.0</td>\n",
       "      <td>0.0</td>\n",
       "      <td>0.0</td>\n",
       "      <td>0.0</td>\n",
       "      <td>...</td>\n",
       "      <td>0.0</td>\n",
       "      <td>0.0</td>\n",
       "      <td>0.0</td>\n",
       "      <td>0.0</td>\n",
       "      <td>0.0</td>\n",
       "      <td>1.0</td>\n",
       "      <td>0.0</td>\n",
       "      <td>0.0</td>\n",
       "      <td>0.0</td>\n",
       "      <td>5.000</td>\n",
       "    </tr>\n",
       "    <tr>\n",
       "      <th>4</th>\n",
       "      <td>0.0</td>\n",
       "      <td>0.0</td>\n",
       "      <td>0.0</td>\n",
       "      <td>0.0</td>\n",
       "      <td>0.0</td>\n",
       "      <td>0.0</td>\n",
       "      <td>0.0</td>\n",
       "      <td>0.0</td>\n",
       "      <td>0.0</td>\n",
       "      <td>0.0</td>\n",
       "      <td>...</td>\n",
       "      <td>0.0</td>\n",
       "      <td>0.0</td>\n",
       "      <td>0.0</td>\n",
       "      <td>0.0</td>\n",
       "      <td>0.0</td>\n",
       "      <td>0.0</td>\n",
       "      <td>0.0</td>\n",
       "      <td>0.0</td>\n",
       "      <td>0.0</td>\n",
       "      <td>3.125</td>\n",
       "    </tr>\n",
       "    <tr>\n",
       "      <th>...</th>\n",
       "      <td>...</td>\n",
       "      <td>...</td>\n",
       "      <td>...</td>\n",
       "      <td>...</td>\n",
       "      <td>...</td>\n",
       "      <td>...</td>\n",
       "      <td>...</td>\n",
       "      <td>...</td>\n",
       "      <td>...</td>\n",
       "      <td>...</td>\n",
       "      <td>...</td>\n",
       "      <td>...</td>\n",
       "      <td>...</td>\n",
       "      <td>...</td>\n",
       "      <td>...</td>\n",
       "      <td>...</td>\n",
       "      <td>...</td>\n",
       "      <td>...</td>\n",
       "      <td>...</td>\n",
       "      <td>...</td>\n",
       "      <td>...</td>\n",
       "    </tr>\n",
       "    <tr>\n",
       "      <th>20047</th>\n",
       "      <td>0.0</td>\n",
       "      <td>0.0</td>\n",
       "      <td>0.0</td>\n",
       "      <td>0.0</td>\n",
       "      <td>0.0</td>\n",
       "      <td>0.0</td>\n",
       "      <td>0.0</td>\n",
       "      <td>0.0</td>\n",
       "      <td>0.0</td>\n",
       "      <td>0.0</td>\n",
       "      <td>...</td>\n",
       "      <td>0.0</td>\n",
       "      <td>0.0</td>\n",
       "      <td>0.0</td>\n",
       "      <td>0.0</td>\n",
       "      <td>0.0</td>\n",
       "      <td>0.0</td>\n",
       "      <td>0.0</td>\n",
       "      <td>0.0</td>\n",
       "      <td>0.0</td>\n",
       "      <td>3.125</td>\n",
       "    </tr>\n",
       "    <tr>\n",
       "      <th>20048</th>\n",
       "      <td>0.0</td>\n",
       "      <td>0.0</td>\n",
       "      <td>0.0</td>\n",
       "      <td>0.0</td>\n",
       "      <td>0.0</td>\n",
       "      <td>0.0</td>\n",
       "      <td>0.0</td>\n",
       "      <td>0.0</td>\n",
       "      <td>0.0</td>\n",
       "      <td>0.0</td>\n",
       "      <td>...</td>\n",
       "      <td>0.0</td>\n",
       "      <td>0.0</td>\n",
       "      <td>0.0</td>\n",
       "      <td>0.0</td>\n",
       "      <td>0.0</td>\n",
       "      <td>0.0</td>\n",
       "      <td>0.0</td>\n",
       "      <td>0.0</td>\n",
       "      <td>0.0</td>\n",
       "      <td>4.375</td>\n",
       "    </tr>\n",
       "    <tr>\n",
       "      <th>20049</th>\n",
       "      <td>0.0</td>\n",
       "      <td>0.0</td>\n",
       "      <td>0.0</td>\n",
       "      <td>0.0</td>\n",
       "      <td>0.0</td>\n",
       "      <td>0.0</td>\n",
       "      <td>0.0</td>\n",
       "      <td>0.0</td>\n",
       "      <td>0.0</td>\n",
       "      <td>1.0</td>\n",
       "      <td>...</td>\n",
       "      <td>0.0</td>\n",
       "      <td>0.0</td>\n",
       "      <td>0.0</td>\n",
       "      <td>0.0</td>\n",
       "      <td>0.0</td>\n",
       "      <td>0.0</td>\n",
       "      <td>0.0</td>\n",
       "      <td>0.0</td>\n",
       "      <td>0.0</td>\n",
       "      <td>4.375</td>\n",
       "    </tr>\n",
       "    <tr>\n",
       "      <th>20050</th>\n",
       "      <td>0.0</td>\n",
       "      <td>0.0</td>\n",
       "      <td>0.0</td>\n",
       "      <td>0.0</td>\n",
       "      <td>0.0</td>\n",
       "      <td>0.0</td>\n",
       "      <td>0.0</td>\n",
       "      <td>0.0</td>\n",
       "      <td>0.0</td>\n",
       "      <td>0.0</td>\n",
       "      <td>...</td>\n",
       "      <td>0.0</td>\n",
       "      <td>0.0</td>\n",
       "      <td>0.0</td>\n",
       "      <td>0.0</td>\n",
       "      <td>0.0</td>\n",
       "      <td>0.0</td>\n",
       "      <td>0.0</td>\n",
       "      <td>0.0</td>\n",
       "      <td>1.0</td>\n",
       "      <td>4.375</td>\n",
       "    </tr>\n",
       "    <tr>\n",
       "      <th>20051</th>\n",
       "      <td>0.0</td>\n",
       "      <td>0.0</td>\n",
       "      <td>0.0</td>\n",
       "      <td>0.0</td>\n",
       "      <td>0.0</td>\n",
       "      <td>0.0</td>\n",
       "      <td>0.0</td>\n",
       "      <td>0.0</td>\n",
       "      <td>0.0</td>\n",
       "      <td>0.0</td>\n",
       "      <td>...</td>\n",
       "      <td>0.0</td>\n",
       "      <td>0.0</td>\n",
       "      <td>0.0</td>\n",
       "      <td>0.0</td>\n",
       "      <td>0.0</td>\n",
       "      <td>0.0</td>\n",
       "      <td>0.0</td>\n",
       "      <td>0.0</td>\n",
       "      <td>0.0</td>\n",
       "      <td>4.375</td>\n",
       "    </tr>\n",
       "  </tbody>\n",
       "</table>\n",
       "<p>20052 rows × 241 columns</p>\n",
       "</div>"
      ],
      "text/plain": [
       "       broccoli  margarita  sausage  tarragon  sesame oil  beef tenderloin  \\\n",
       "0           0.0        0.0      0.0       0.0         0.0              0.0   \n",
       "1           0.0        0.0      0.0       0.0         0.0              0.0   \n",
       "2           0.0        0.0      0.0       0.0         0.0              0.0   \n",
       "3           0.0        0.0      0.0       0.0         0.0              0.0   \n",
       "4           0.0        0.0      0.0       0.0         0.0              0.0   \n",
       "...         ...        ...      ...       ...         ...              ...   \n",
       "20047       0.0        0.0      0.0       0.0         0.0              0.0   \n",
       "20048       0.0        0.0      0.0       0.0         0.0              0.0   \n",
       "20049       0.0        0.0      0.0       0.0         0.0              0.0   \n",
       "20050       0.0        0.0      0.0       0.0         0.0              0.0   \n",
       "20051       0.0        0.0      0.0       0.0         0.0              0.0   \n",
       "\n",
       "       cantaloupe  caraway  fruit juice  onion  ...  quiche  tapioca  cookie  \\\n",
       "0             0.0      0.0          0.0    0.0  ...     0.0      0.0     1.0   \n",
       "1             0.0      0.0          0.0    1.0  ...     0.0      0.0     0.0   \n",
       "2             0.0      0.0          0.0    0.0  ...     0.0      0.0     0.0   \n",
       "3             0.0      0.0          0.0    0.0  ...     0.0      0.0     0.0   \n",
       "4             0.0      0.0          0.0    0.0  ...     0.0      0.0     0.0   \n",
       "...           ...      ...          ...    ...  ...     ...      ...     ...   \n",
       "20047         0.0      0.0          0.0    0.0  ...     0.0      0.0     0.0   \n",
       "20048         0.0      0.0          0.0    0.0  ...     0.0      0.0     0.0   \n",
       "20049         0.0      0.0          0.0    1.0  ...     0.0      0.0     0.0   \n",
       "20050         0.0      0.0          0.0    0.0  ...     0.0      0.0     0.0   \n",
       "20051         0.0      0.0          0.0    0.0  ...     0.0      0.0     0.0   \n",
       "\n",
       "       buffalo  octopus  tomato  salad dressing  salad  milk  rating  \n",
       "0          0.0      0.0     1.0             0.0    0.0   0.0   2.500  \n",
       "1          0.0      0.0     0.0             0.0    0.0   0.0   4.375  \n",
       "2          0.0      0.0     0.0             0.0    0.0   0.0   3.750  \n",
       "3          0.0      0.0     1.0             0.0    0.0   0.0   5.000  \n",
       "4          0.0      0.0     0.0             0.0    0.0   0.0   3.125  \n",
       "...        ...      ...     ...             ...    ...   ...     ...  \n",
       "20047      0.0      0.0     0.0             0.0    0.0   0.0   3.125  \n",
       "20048      0.0      0.0     0.0             0.0    0.0   0.0   4.375  \n",
       "20049      0.0      0.0     0.0             0.0    0.0   0.0   4.375  \n",
       "20050      0.0      0.0     0.0             0.0    0.0   1.0   4.375  \n",
       "20051      0.0      0.0     0.0             0.0    0.0   0.0   4.375  \n",
       "\n",
       "[20052 rows x 241 columns]"
      ]
     },
     "metadata": {},
     "output_type": "display_data"
    }
   ],
   "source": [
    "class ColumnCleaner(BaseEstimator, TransformerMixin):\n",
    "    def fit(self, X, y=None):\n",
    "        return self\n",
    "    def transform(self, X):\n",
    "        X = X.copy()\n",
    "        for column in X.columns:\n",
    "            if '/' in column:\n",
    "                X.rename(columns={column: column.split('/')[0]}, inplace=True)\n",
    "            if ' or ' in column:\n",
    "                X.rename(columns={column: column.split(' or ')[0]}, inplace=True)\n",
    "        return X\n",
    "\n",
    "class IngredientFilter(BaseEstimator, TransformerMixin):\n",
    "    def __init__(self, api_key, proxies=None):\n",
    "        self.api_key = api_key\n",
    "        self.proxies = proxies\n",
    "        self.session = requests.Session()\n",
    "    def fit(self, X, y=None):\n",
    "        return self\n",
    "    def transform(self, X):\n",
    "        X = X.copy()\n",
    "        list_ingredients = []\n",
    "        my_params = {\"api_key\": self.api_key, \"query\": ''}\n",
    "        for column in tqdm(X.columns):\n",
    "            if column in ['avocado', 'chile pepper', 'wok']:\n",
    "                list_ingredients.append(column)\n",
    "                continue\n",
    "            my_params['query'] = column\n",
    "            my_url = 'https://api.nal.usda.gov/fdc/v1/foods/search'\n",
    "            try:\n",
    "                response = self.session.get(url=my_url, proxies=self.proxies, params=my_params, timeout=10)\n",
    "                json_tmp = response.json()\n",
    "                if 'foods' in json_tmp:\n",
    "                    for food in json_tmp['foods']:\n",
    "                        if 'description' in food:\n",
    "                            if column.lower() == food['description'].lower():\n",
    "                                list_ingredients.append(column)\n",
    "                                break\n",
    "            except Exception:\n",
    "                continue\n",
    "        self.list_ingredients_ = list(set(list_ingredients))\n",
    "        return X[self.list_ingredients_ + ['rating']]\n",
    "\n",
    "df_input = pd.read_csv(input_file_epi_r)\n",
    "pipeline = Pipeline([\n",
    "    ('clean_columns', ColumnCleaner()),\n",
    "    ('filter_ingredients', IngredientFilter(api_key=api_key, proxies=proxies))\n",
    "])\n",
    "\n",
    "df_pipeline = pipeline.fit_transform(df_input)\n",
    "display(df_pipeline)"
   ]
  },
  {
   "cell_type": "markdown",
   "id": "2dffd650-28c4-4c71-9ff9-afdebe5e335f",
   "metadata": {},
   "source": [
    "<span style='color: #BD2467; font-size: 3em;'><b>2. Модели регрессии</b></span>"
   ]
  },
  {
   "cell_type": "markdown",
   "id": "30b46717-51da-4633-99b0-9f5fe15c06a9",
   "metadata": {},
   "source": [
    "##  Разделим наши данные на обучающую выборку и тестовую"
   ]
  },
  {
   "cell_type": "code",
   "execution_count": 10,
   "id": "06e43f1d-fe43-4e92-9730-bba3f89ba0ef",
   "metadata": {},
   "outputs": [],
   "source": [
    "X = df.drop(columns=['rating'])\n",
    "X = X.fillna(0)\n",
    "y = df['rating']\n",
    "X_train, X_test, y_train, y_test = train_test_split(X, y, test_size=0.2, random_state=21, stratify=y)"
   ]
  },
  {
   "cell_type": "markdown",
   "id": "38a922b8-1e60-498e-b081-577cdddec6a9",
   "metadata": {},
   "source": [
    "## Напишем функцию для поиска лучших гиперпараметров при перекрёстной проверки"
   ]
  },
  {
   "cell_type": "code",
   "execution_count": 11,
   "id": "3d7b6371-53a8-40ea-b095-ac840cd12324",
   "metadata": {},
   "outputs": [],
   "source": [
    "def crossval_regressor(n_splits, X, y, model, params, scoring):\n",
    "    gs_model = GridSearchCV(estimator=model, param_grid=params, scoring=scoring, cv=n_splits, n_jobs=-1)\n",
    "    gs_model.fit(X, y.values.ravel())\n",
    "    y_predict = gs_model.predict(X)\n",
    "    rmse = root_mean_squared_error(y.values, y_predict)\n",
    "    return gs_model, rmse"
   ]
  },
  {
   "cell_type": "markdown",
   "id": "edd133b4-b874-41b8-a293-39970c904b3f",
   "metadata": {},
   "source": [
    "## Создадим DataFrame для сбора статистики наших моделей"
   ]
  },
  {
   "cell_type": "code",
   "execution_count": 12,
   "id": "51f9f70e-b40e-49f4-b282-21aae8333680",
   "metadata": {},
   "outputs": [],
   "source": [
    "df_regression = pd.DataFrame(columns=['model', 'rmse'])"
   ]
  },
  {
   "cell_type": "markdown",
   "id": "cc5162eb-eb1c-4857-b758-a0e2f50eb7ef",
   "metadata": {},
   "source": [
    "<span style='color: #03C568; font-size: 2em;'><b>2.1. Рассмотрим различные алгоритмы регрессии и протестируем разные параметры для них</b></span>"
   ]
  },
  {
   "cell_type": "markdown",
   "id": "690068ec-4fe2-439b-91cd-533fedada187",
   "metadata": {},
   "source": [
    "## Линейная регрессия / Linear Regression"
   ]
  },
  {
   "cell_type": "code",
   "execution_count": 13,
   "id": "8d1cbbfc-1003-4efb-867e-f0845c7c56f8",
   "metadata": {},
   "outputs": [],
   "source": [
    "linear_regression_params = {\n",
    "    'fit_intercept': [True, False]\n",
    "}\n",
    "model_linear_regression = LinearRegression()\n",
    "model_linear_regression, rmse_m_l_r = crossval_regressor(10, X_train, y_train, model_linear_regression, linear_regression_params, 'r2')\n",
    "df_regression.loc[len(df_regression)] = ['Linear Regression', rmse_m_l_r]"
   ]
  },
  {
   "cell_type": "markdown",
   "id": "7af34425-5216-4722-a645-e2e4835723e1",
   "metadata": {},
   "source": [
    "## Регрессия решающего дерева / Decision Tree Regressor"
   ]
  },
  {
   "cell_type": "code",
   "execution_count": 14,
   "id": "6b79156e-5381-4387-9a7e-bf4687594bd2",
   "metadata": {},
   "outputs": [],
   "source": [
    "decision_tree_regressor_params = {\n",
    "    'max_depth': [None, 5, 10, 15],\n",
    "    'min_samples_split': [2, 5, 10],\n",
    "    'min_samples_leaf': [1, 2, 4],\n",
    "    'max_features': [None, 'sqrt', 'log2'],\n",
    "    'ccp_alpha': [0.0, 0.01, 0.1]\n",
    "}\n",
    "model_decision_tree_regressor = DecisionTreeRegressor()\n",
    "model_decision_tree_regressor, rmse_d_t_r = crossval_regressor(10, X_train, y_train, model_decision_tree_regressor, decision_tree_regressor_params, 'r2')\n",
    "df_regression.loc[len(df_regression)] = ['Decision Tree Regressor', rmse_d_t_r]"
   ]
  },
  {
   "cell_type": "markdown",
   "id": "8ec6882b-9af6-497b-83f7-0d7e9f37e5b2",
   "metadata": {},
   "source": [
    "## Регрессия рандомного леса / RandomForestRegressor"
   ]
  },
  {
   "cell_type": "code",
   "execution_count": 15,
   "id": "ce8433c1-63c4-4f3d-9fc8-04e327cd3edc",
   "metadata": {},
   "outputs": [],
   "source": [
    "random_forest_regressor_params = {\n",
    "    'n_estimators': [50, 100, 200],\n",
    "    'max_depth': [None, 5, 10, 15],\n",
    "    'min_samples_split': [2, 5, 10]          \n",
    "}\n",
    "model_random_forest_regressor = RandomForestRegressor()\n",
    "with warnings.catch_warnings():\n",
    "    warnings.simplefilter(\"ignore\")\n",
    "    model_random_forest_regressor, rmse_r_f_r = crossval_regressor(10, X_train, y_train, \n",
    "                                                                   model_random_forest_regressor, random_forest_regressor_params, 'r2')\n",
    "df_regression.loc[len(df_regression)] = ['Random Forest Regressor', rmse_r_f_r]"
   ]
  },
  {
   "cell_type": "markdown",
   "id": "0ab29826-eea3-4d45-8891-905c42c6cfe4",
   "metadata": {},
   "source": [
    "## Подведём итоги:"
   ]
  },
  {
   "cell_type": "code",
   "execution_count": 16,
   "id": "b283a047-062d-4249-8e1b-f76d5e3a8053",
   "metadata": {},
   "outputs": [
    {
     "data": {
      "text/html": [
       "<div>\n",
       "<style scoped>\n",
       "    .dataframe tbody tr th:only-of-type {\n",
       "        vertical-align: middle;\n",
       "    }\n",
       "\n",
       "    .dataframe tbody tr th {\n",
       "        vertical-align: top;\n",
       "    }\n",
       "\n",
       "    .dataframe thead th {\n",
       "        text-align: right;\n",
       "    }\n",
       "</style>\n",
       "<table border=\"1\" class=\"dataframe\">\n",
       "  <thead>\n",
       "    <tr style=\"text-align: right;\">\n",
       "      <th></th>\n",
       "      <th>model</th>\n",
       "      <th>rmse</th>\n",
       "    </tr>\n",
       "  </thead>\n",
       "  <tbody>\n",
       "    <tr>\n",
       "      <th>2</th>\n",
       "      <td>Random Forest Regressor</td>\n",
       "      <td>1.183183</td>\n",
       "    </tr>\n",
       "    <tr>\n",
       "      <th>0</th>\n",
       "      <td>Linear Regression</td>\n",
       "      <td>1.244967</td>\n",
       "    </tr>\n",
       "    <tr>\n",
       "      <th>1</th>\n",
       "      <td>Decision Tree Regressor</td>\n",
       "      <td>1.252544</td>\n",
       "    </tr>\n",
       "  </tbody>\n",
       "</table>\n",
       "</div>"
      ],
      "text/plain": [
       "                     model      rmse\n",
       "2  Random Forest Regressor  1.183183\n",
       "0        Linear Regression  1.244967\n",
       "1  Decision Tree Regressor  1.252544"
      ]
     },
     "metadata": {},
     "output_type": "display_data"
    }
   ],
   "source": [
    "df_regression = df_regression.sort_values(by=['rmse'])\n",
    "display(df_regression)"
   ]
  },
  {
   "cell_type": "markdown",
   "id": "8c56fa37-fd4e-4912-8e28-a31466e8147c",
   "metadata": {},
   "source": [
    "## Лучшая регрессионная модель `Random Forest Regressor`. Найдём её RMSE на тестовой выборке."
   ]
  },
  {
   "cell_type": "code",
   "execution_count": 17,
   "id": "d6135567-1122-4f73-8b67-c87e43cd6a97",
   "metadata": {},
   "outputs": [
    {
     "name": "stdout",
     "output_type": "stream",
     "text": [
      "1.2845109405623631\n"
     ]
    }
   ],
   "source": [
    "y_predict = model_random_forest_regressor.predict(X_test)\n",
    "rmse_best_model_regressor = root_mean_squared_error(y_test.values, y_predict)\n",
    "print(rmse_best_model_regressor)"
   ]
  },
  {
   "cell_type": "markdown",
   "id": "7b9ab5cc-8861-4d57-a7e4-bded56ff44da",
   "metadata": {},
   "source": [
    "<span style='color: #03C568; font-size: 2em;'><b>2.2. Рассмотрим различные ансамбли для алгоритмов регрессии и протестируем разные параметры для них</b></span>"
   ]
  },
  {
   "cell_type": "markdown",
   "id": "6ee87494-509a-444d-8887-b185cbec80b3",
   "metadata": {},
   "source": [
    "## Voting Regressor"
   ]
  },
  {
   "cell_type": "code",
   "execution_count": 18,
   "id": "8c4a3d7e-37fd-4de4-8663-9785cf1372ca",
   "metadata": {},
   "outputs": [],
   "source": [
    "with warnings.catch_warnings():\n",
    "    warnings.simplefilter(\"ignore\")\n",
    "    model_vot_regressor = VotingRegressor(estimators=[('lin_reg', model_linear_regression), ('dt', model_decision_tree_regressor),('rf', model_random_forest_regressor)], n_jobs=-1)\n",
    "    model_vot_regressor.fit(X_train, y_train.values.ravel())\n",
    "    y_predict_vot_regressor = model_vot_regressor.predict(X_train)\n",
    "    rmse_vot_regressor = root_mean_squared_error(y_train.values, y_predict_vot_regressor)\n",
    "    df_regression.loc[len(df_regression)] = ['Voting Regressor', rmse_vot_regressor]"
   ]
  },
  {
   "cell_type": "markdown",
   "id": "b69aeadf-7a52-4523-aa7f-1555e8afba64",
   "metadata": {},
   "source": [
    "## Bagging Regressor"
   ]
  },
  {
   "cell_type": "code",
   "execution_count": 19,
   "id": "ad7cab57-cadd-441e-b5bf-726db507ff9b",
   "metadata": {},
   "outputs": [],
   "source": [
    "with warnings.catch_warnings():\n",
    "    warnings.simplefilter(\"ignore\")\n",
    "    model_bagging_regressor = BaggingRegressor(model_linear_regression, n_estimators=10, random_state=21, n_jobs=-1)\n",
    "    model_bagging_regressor.fit(X_train, y_train.values.ravel())\n",
    "    y_predict_baggingt_regressor = model_bagging_regressor.predict(X_train)\n",
    "    rmse_bagging_regressor = root_mean_squared_error(y_train.values, y_predict_baggingt_regressor)\n",
    "    df_regression.loc[len(df_regression)] = ['Bagging Regressor', rmse_bagging_regressor]"
   ]
  },
  {
   "cell_type": "markdown",
   "id": "d67f2e23-ea5c-4f18-adff-9750510dee94",
   "metadata": {},
   "source": [
    "## Stacking Regressor"
   ]
  },
  {
   "cell_type": "code",
   "execution_count": 20,
   "id": "5423d082-67e3-49ec-8b8d-47ce42f6eebf",
   "metadata": {},
   "outputs": [],
   "source": [
    "with warnings.catch_warnings():\n",
    "    warnings.simplefilter(\"ignore\")\n",
    "    estimators=[('lin_reg', model_linear_regression), ('dt', model_decision_tree_regressor)]\n",
    "    model_skacking_regressor = StackingRegressor(estimators=estimators, final_estimator=model_random_forest_regressor)\n",
    "    model_skacking_regressor.fit(X_train, y_train.values.ravel())\n",
    "    y_predict_skacking_regressor = model_skacking_regressor.predict(X_train)\n",
    "    rmse_skacking_regressor = root_mean_squared_error(y_train.values, y_predict_skacking_regressor)\n",
    "    df_regression.loc[len(df_regression)] = ['Bagging Regressor', rmse_skacking_regressor]"
   ]
  },
  {
   "cell_type": "markdown",
   "id": "51041d7c-e7d9-4abf-8f71-1c04859f64c1",
   "metadata": {},
   "source": [
    "## Подведём итоги:"
   ]
  },
  {
   "cell_type": "code",
   "execution_count": 21,
   "id": "63df5104-d8e4-488f-acbd-1b52cf0e9f5e",
   "metadata": {},
   "outputs": [
    {
     "data": {
      "text/html": [
       "<div>\n",
       "<style scoped>\n",
       "    .dataframe tbody tr th:only-of-type {\n",
       "        vertical-align: middle;\n",
       "    }\n",
       "\n",
       "    .dataframe tbody tr th {\n",
       "        vertical-align: top;\n",
       "    }\n",
       "\n",
       "    .dataframe thead th {\n",
       "        text-align: right;\n",
       "    }\n",
       "</style>\n",
       "<table border=\"1\" class=\"dataframe\">\n",
       "  <thead>\n",
       "    <tr style=\"text-align: right;\">\n",
       "      <th></th>\n",
       "      <th>model</th>\n",
       "      <th>rmse</th>\n",
       "    </tr>\n",
       "  </thead>\n",
       "  <tbody>\n",
       "    <tr>\n",
       "      <th>2</th>\n",
       "      <td>Random Forest Regressor</td>\n",
       "      <td>1.183183</td>\n",
       "    </tr>\n",
       "    <tr>\n",
       "      <th>3</th>\n",
       "      <td>Voting Regressor</td>\n",
       "      <td>1.217217</td>\n",
       "    </tr>\n",
       "    <tr>\n",
       "      <th>5</th>\n",
       "      <td>Bagging Regressor</td>\n",
       "      <td>1.243658</td>\n",
       "    </tr>\n",
       "    <tr>\n",
       "      <th>0</th>\n",
       "      <td>Linear Regression</td>\n",
       "      <td>1.244967</td>\n",
       "    </tr>\n",
       "    <tr>\n",
       "      <th>4</th>\n",
       "      <td>Bagging Regressor</td>\n",
       "      <td>1.246511</td>\n",
       "    </tr>\n",
       "    <tr>\n",
       "      <th>1</th>\n",
       "      <td>Decision Tree Regressor</td>\n",
       "      <td>1.252544</td>\n",
       "    </tr>\n",
       "  </tbody>\n",
       "</table>\n",
       "</div>"
      ],
      "text/plain": [
       "                     model      rmse\n",
       "2  Random Forest Regressor  1.183183\n",
       "3         Voting Regressor  1.217217\n",
       "5        Bagging Regressor  1.243658\n",
       "0        Linear Regression  1.244967\n",
       "4        Bagging Regressor  1.246511\n",
       "1  Decision Tree Regressor  1.252544"
      ]
     },
     "metadata": {},
     "output_type": "display_data"
    }
   ],
   "source": [
    "df_regression = df_regression.sort_values(by=['rmse'])\n",
    "display(df_regression)"
   ]
  },
  {
   "cell_type": "markdown",
   "id": "27a257b1-0490-45c4-9af3-1160199a0eaa",
   "metadata": {},
   "source": [
    "## Лучший ансамбль для алгоритмов регрессии `VotingRegressor`. Найдём его RMSE на стестовой выборке."
   ]
  },
  {
   "cell_type": "code",
   "execution_count": 22,
   "id": "ab34948f-e8e3-408f-9871-8ee2270b7f92",
   "metadata": {},
   "outputs": [
    {
     "name": "stdout",
     "output_type": "stream",
     "text": [
      "1.279615715370315\n"
     ]
    }
   ],
   "source": [
    "y_predict = model_vot_regressor.predict(X_test)\n",
    "rmse_best_ensemble_regressor = root_mean_squared_error(y_test.values, y_predict)\n",
    "print(rmse_best_ensemble_regressor)"
   ]
  },
  {
   "cell_type": "markdown",
   "id": "a36dbf33-4528-4290-97b2-387d7f033bdd",
   "metadata": {},
   "source": [
    "<span style='color: #03C568; font-size: 2em;'><b>2.3. Рассчитаем RMSE для наивного регрессора, который предсказывает средний рейтинг.</b></span>"
   ]
  },
  {
   "cell_type": "code",
   "execution_count": 23,
   "id": "2fd848bf-0df2-4656-9064-730e0aef88aa",
   "metadata": {},
   "outputs": [
    {
     "name": "stdout",
     "output_type": "stream",
     "text": [
      "1.3406047250383304\n"
     ]
    }
   ],
   "source": [
    "y_predict = [statistics.mean(y_test)] * len(y_test)\n",
    "rmse_naive_regressor = root_mean_squared_error(y_test.values, y_predict)\n",
    "print(rmse_naive_regressor)"
   ]
  },
  {
   "cell_type": "markdown",
   "id": "d3c043fe-e435-4df1-8f36-5f0b714e5818",
   "metadata": {},
   "source": [
    "<span style='color: #BD2467; font-size: 3em;'><b>3. Модели классификации</b></span>"
   ]
  },
  {
   "cell_type": "markdown",
   "id": "4ef2c96a-fa70-4022-b647-287819639172",
   "metadata": {},
   "source": [
    "<span style='color: #03C568; font-size: 2em;'><b>3.1. Бинаризируем целевую колонку окгрулив значения до ближайщего целого.</b></span>"
   ]
  },
  {
   "cell_type": "code",
   "execution_count": 24,
   "id": "2215ee75-052a-4626-aec8-85c58cdace3e",
   "metadata": {},
   "outputs": [
    {
     "data": {
      "text/html": [
       "<div>\n",
       "<style scoped>\n",
       "    .dataframe tbody tr th:only-of-type {\n",
       "        vertical-align: middle;\n",
       "    }\n",
       "\n",
       "    .dataframe tbody tr th {\n",
       "        vertical-align: top;\n",
       "    }\n",
       "\n",
       "    .dataframe thead th {\n",
       "        text-align: right;\n",
       "    }\n",
       "</style>\n",
       "<table border=\"1\" class=\"dataframe\">\n",
       "  <thead>\n",
       "    <tr style=\"text-align: right;\">\n",
       "      <th></th>\n",
       "      <th>0</th>\n",
       "      <th>1</th>\n",
       "      <th>2</th>\n",
       "      <th>3</th>\n",
       "      <th>4</th>\n",
       "      <th>5</th>\n",
       "    </tr>\n",
       "  </thead>\n",
       "  <tbody>\n",
       "    <tr>\n",
       "      <th>0</th>\n",
       "      <td>0.0</td>\n",
       "      <td>0.0</td>\n",
       "      <td>0.0</td>\n",
       "      <td>1.0</td>\n",
       "      <td>0.0</td>\n",
       "      <td>0.0</td>\n",
       "    </tr>\n",
       "    <tr>\n",
       "      <th>1</th>\n",
       "      <td>0.0</td>\n",
       "      <td>0.0</td>\n",
       "      <td>0.0</td>\n",
       "      <td>0.0</td>\n",
       "      <td>1.0</td>\n",
       "      <td>0.0</td>\n",
       "    </tr>\n",
       "    <tr>\n",
       "      <th>2</th>\n",
       "      <td>0.0</td>\n",
       "      <td>0.0</td>\n",
       "      <td>0.0</td>\n",
       "      <td>0.0</td>\n",
       "      <td>1.0</td>\n",
       "      <td>0.0</td>\n",
       "    </tr>\n",
       "    <tr>\n",
       "      <th>3</th>\n",
       "      <td>0.0</td>\n",
       "      <td>0.0</td>\n",
       "      <td>0.0</td>\n",
       "      <td>0.0</td>\n",
       "      <td>0.0</td>\n",
       "      <td>1.0</td>\n",
       "    </tr>\n",
       "    <tr>\n",
       "      <th>4</th>\n",
       "      <td>0.0</td>\n",
       "      <td>0.0</td>\n",
       "      <td>0.0</td>\n",
       "      <td>1.0</td>\n",
       "      <td>0.0</td>\n",
       "      <td>0.0</td>\n",
       "    </tr>\n",
       "    <tr>\n",
       "      <th>...</th>\n",
       "      <td>...</td>\n",
       "      <td>...</td>\n",
       "      <td>...</td>\n",
       "      <td>...</td>\n",
       "      <td>...</td>\n",
       "      <td>...</td>\n",
       "    </tr>\n",
       "    <tr>\n",
       "      <th>20047</th>\n",
       "      <td>0.0</td>\n",
       "      <td>0.0</td>\n",
       "      <td>0.0</td>\n",
       "      <td>1.0</td>\n",
       "      <td>0.0</td>\n",
       "      <td>0.0</td>\n",
       "    </tr>\n",
       "    <tr>\n",
       "      <th>20048</th>\n",
       "      <td>0.0</td>\n",
       "      <td>0.0</td>\n",
       "      <td>0.0</td>\n",
       "      <td>0.0</td>\n",
       "      <td>1.0</td>\n",
       "      <td>0.0</td>\n",
       "    </tr>\n",
       "    <tr>\n",
       "      <th>20049</th>\n",
       "      <td>0.0</td>\n",
       "      <td>0.0</td>\n",
       "      <td>0.0</td>\n",
       "      <td>0.0</td>\n",
       "      <td>1.0</td>\n",
       "      <td>0.0</td>\n",
       "    </tr>\n",
       "    <tr>\n",
       "      <th>20050</th>\n",
       "      <td>0.0</td>\n",
       "      <td>0.0</td>\n",
       "      <td>0.0</td>\n",
       "      <td>0.0</td>\n",
       "      <td>1.0</td>\n",
       "      <td>0.0</td>\n",
       "    </tr>\n",
       "    <tr>\n",
       "      <th>20051</th>\n",
       "      <td>0.0</td>\n",
       "      <td>0.0</td>\n",
       "      <td>0.0</td>\n",
       "      <td>0.0</td>\n",
       "      <td>1.0</td>\n",
       "      <td>0.0</td>\n",
       "    </tr>\n",
       "  </tbody>\n",
       "</table>\n",
       "<p>20052 rows × 6 columns</p>\n",
       "</div>"
      ],
      "text/plain": [
       "         0    1    2    3    4    5\n",
       "0      0.0  0.0  0.0  1.0  0.0  0.0\n",
       "1      0.0  0.0  0.0  0.0  1.0  0.0\n",
       "2      0.0  0.0  0.0  0.0  1.0  0.0\n",
       "3      0.0  0.0  0.0  0.0  0.0  1.0\n",
       "4      0.0  0.0  0.0  1.0  0.0  0.0\n",
       "...    ...  ...  ...  ...  ...  ...\n",
       "20047  0.0  0.0  0.0  1.0  0.0  0.0\n",
       "20048  0.0  0.0  0.0  0.0  1.0  0.0\n",
       "20049  0.0  0.0  0.0  0.0  1.0  0.0\n",
       "20050  0.0  0.0  0.0  0.0  1.0  0.0\n",
       "20051  0.0  0.0  0.0  0.0  1.0  0.0\n",
       "\n",
       "[20052 rows x 6 columns]"
      ]
     },
     "metadata": {},
     "output_type": "display_data"
    }
   ],
   "source": [
    "y2 = pd.DataFrame([int(math.floor(el + 0.5)) for el in y])\n",
    "y2_encoder = OneHotEncoder(sparse_output=False, handle_unknown='ignore')\n",
    "y2 = pd.DataFrame(y2_encoder.fit_transform(y2), columns=['0', '1', '2', '3', '4', '5'])\n",
    "display(y2)\n",
    "X_train, X_test, y_train, y_test = train_test_split(X, y2, test_size=0.2, random_state=21, stratify=y)"
   ]
  },
  {
   "cell_type": "markdown",
   "id": "b539cd52-424e-44b7-a860-025cdd090bd9",
   "metadata": {},
   "source": [
    "<span style='color: #03C568; font-size: 2em;'><b>3.2. Рассмотрим различные алгоритмы классификации и протестируем разные параметры для них</b></span>"
   ]
  },
  {
   "cell_type": "markdown",
   "id": "4e4dc2c3-0195-4c23-8421-f2db9289d2d5",
   "metadata": {},
   "source": [
    "## Метод опорных векторов / SVM"
   ]
  },
  {
   "cell_type": "code",
   "execution_count": 25,
   "id": "96f8df7a-9b30-4953-b040-b8544899193f",
   "metadata": {},
   "outputs": [
    {
     "name": "stdout",
     "output_type": "stream",
     "text": [
      "SVM (accuracy) = 0.7040084782744218\n"
     ]
    }
   ],
   "source": [
    "svm_params = {\n",
    "    'kernel': ['linear', 'rbf']\n",
    "}\n",
    "y_train_labels = np.argmax(y_train.values, axis=1)\n",
    "model_svm = SVC()\n",
    "model_svm = GridSearchCV(estimator=model_svm, param_grid=svm_params, scoring='accuracy', cv=2, n_jobs=-1)\n",
    "model_svm.fit(X_train, y_train_labels)\n",
    "y_predict_svm = model_svm.predict(X_train)\n",
    "accuracy_svm = accuracy_score(y_train_labels, y_predict_svm)\n",
    "print(f'SVM (accuracy) = {accuracy_svm}')"
   ]
  },
  {
   "cell_type": "markdown",
   "id": "77842d2f-214c-4b16-a8e2-1ad600cd2daa",
   "metadata": {},
   "source": [
    "## Decision Tree Classifier / Классификатор решающего дерева"
   ]
  },
  {
   "cell_type": "code",
   "execution_count": 26,
   "id": "2fe80387-b316-4d8c-92f0-412f874c3f9c",
   "metadata": {},
   "outputs": [
    {
     "name": "stdout",
     "output_type": "stream",
     "text": [
      "Decision Tree (accuracy) = 0.6744591983043451\n"
     ]
    }
   ],
   "source": [
    "decision_tree_grid = {\n",
    "    'max_depth': [i for i in range(1, 10)],\n",
    "    'class_weight' : ['balanced', None],\n",
    "    'criterion' : ['entropy', 'gini'],\n",
    "    'random_state': [21]\n",
    "}\n",
    "\n",
    "model_decision_tree = DecisionTreeClassifier()\n",
    "model_decision_tree = GridSearchCV(estimator=model_decision_tree, param_grid=decision_tree_grid, scoring='accuracy', cv=2, n_jobs=-1)\n",
    "model_decision_tree.fit(X_train, y_train_labels)\n",
    "y_predict_decision_tree = model_decision_tree.predict(X_train)\n",
    "accuracy_decision_tree = accuracy_score(y_train_labels, y_predict_decision_tree)\n",
    "print(f'Decision Tree (accuracy) = {accuracy_decision_tree}')"
   ]
  },
  {
   "cell_type": "markdown",
   "id": "58dc5569-6ff0-4cf0-a406-4cac654057a5",
   "metadata": {},
   "source": [
    "## Random Forest Classifier / Классификатор случайного леса"
   ]
  },
  {
   "cell_type": "code",
   "execution_count": 27,
   "id": "843b8b46-1844-4049-b53d-b549ae484436",
   "metadata": {},
   "outputs": [
    {
     "name": "stdout",
     "output_type": "stream",
     "text": [
      "Decision Tree (accuracy) = 0.6657939031232467\n"
     ]
    }
   ],
   "source": [
    "decision_random_forest = {\n",
    "    'n_estimators': [5, 10, 50],\n",
    "    'max_depth': [i for i in range(1, 10)],\n",
    "    'class_weight': ['balanced', None],\n",
    "    'criterion': ['entropy', 'gini'],\n",
    "    'random_state': [21]\n",
    "}\n",
    "\n",
    "model_random_forest = RandomForestClassifier()\n",
    "model_random_forest = GridSearchCV(estimator=model_random_forest, param_grid=decision_random_forest, scoring='accuracy', cv=2, n_jobs=-1)\n",
    "model_random_forest.fit(X_train, y_train_labels)\n",
    "y_predict_random_forest = model_random_forest.predict(X_train)\n",
    "accuracy_random_forest = accuracy_score(y_train_labels, y_predict_random_forest)\n",
    "print(f'Decision Tree (accuracy) = {accuracy_random_forest}')"
   ]
  },
  {
   "cell_type": "markdown",
   "id": "9c33f82c-c594-4e10-9af3-d883ded91e70",
   "metadata": {},
   "source": [
    "## Лучшая модель классификатора - `SVM`"
   ]
  },
  {
   "cell_type": "code",
   "execution_count": 28,
   "id": "901c1ce6-f5c3-4003-96fe-3b5c206ebf11",
   "metadata": {},
   "outputs": [
    {
     "name": "stdout",
     "output_type": "stream",
     "text": [
      "0.6741460982298678\n"
     ]
    }
   ],
   "source": [
    "y_predict = model_svm.predict(X_test)\n",
    "y_test_labels = np.argmax(y_test.values, axis=1)\n",
    "accuracy_best = accuracy_score(y_test_labels, y_predict)\n",
    "print(accuracy_best)"
   ]
  },
  {
   "cell_type": "markdown",
   "id": "f1a8af12-8706-4782-aa03-074c9fd67d80",
   "metadata": {},
   "source": [
    "<span style='color: #03C568; font-size: 2em;'><b>3.3. Рассчитаем accuracy для наивного классификатора, который предсказывает средний рейтинг.</b></span>"
   ]
  },
  {
   "cell_type": "code",
   "execution_count": 29,
   "id": "b7285da8-491d-46c4-a64d-49cb2d30501c",
   "metadata": {},
   "outputs": [
    {
     "name": "stdout",
     "output_type": "stream",
     "text": [
      "0.6576896702200611\n"
     ]
    }
   ],
   "source": [
    "y_predict_naive = [statistics.mode(y_train_labels)] * len(y_train_labels)\n",
    "accuracy_naive = accuracy_score(y_train_labels, y_predict_naive)\n",
    "print(accuracy_naive)"
   ]
  },
  {
   "cell_type": "markdown",
   "id": "6c6cbbf4-11ef-4afa-b668-fd82e7bc375c",
   "metadata": {},
   "source": [
    "<span style='color: #03C568; font-size: 2em;'><b>3.4. Бинаризируем целевую колонку в классы ‘bad’, ‘so-so’, ‘great’</b></span>"
   ]
  },
  {
   "cell_type": "code",
   "execution_count": 30,
   "id": "a1630985-4a34-46fb-8f48-c2606504a1a5",
   "metadata": {},
   "outputs": [],
   "source": [
    "y3 = [int(math.floor(el + 0.5)) for el in y]\n",
    "y3 = pd.Series(['great' if el >=4 else ('so-so' if el >=2 else 'bad') for el in y3])\n",
    "X_train, X_test, y_train, y_test = train_test_split(X, y3, test_size=0.2, random_state=21, stratify=y)"
   ]
  },
  {
   "cell_type": "markdown",
   "id": "1df4e3f5-9885-4767-a750-d7dc134ca5e9",
   "metadata": {},
   "source": [
    "<span style='color: #03C568; font-size: 2em;'><b>3.5. Рассмотрим различные алгоритмы классификации и протестируем разные параметры для них</b></span>"
   ]
  },
  {
   "cell_type": "markdown",
   "id": "d5227a3c-1ba9-4d37-965a-e9190cd3aa1e",
   "metadata": {},
   "source": [
    "## Метод опорных векторов / SVM"
   ]
  },
  {
   "cell_type": "code",
   "execution_count": 31,
   "id": "6e8b46b6-d165-4113-ae86-f62474ead163",
   "metadata": {},
   "outputs": [
    {
     "name": "stdout",
     "output_type": "stream",
     "text": [
      "SVM (accuracy) = 0.8172807181597157\n"
     ]
    }
   ],
   "source": [
    "svm_params = {\n",
    "    'kernel': ['linear', 'rbf']\n",
    "}\n",
    "model_svm = SVC()\n",
    "model_svm = GridSearchCV(estimator=model_svm, param_grid=svm_params, scoring='accuracy', cv=2, n_jobs=-1)\n",
    "model_svm.fit(X_train, y_train)\n",
    "y_predict_svm = model_svm.predict(X_train)\n",
    "accuracy_svm = accuracy_score(y_train, y_predict_svm)\n",
    "print(f'SVM (accuracy) = {accuracy_svm}')"
   ]
  },
  {
   "cell_type": "markdown",
   "id": "15436f02-c729-40f8-a1f5-ff4463bbf51f",
   "metadata": {},
   "source": [
    "## Decision Tree Classifier / Классификатор решающего дерева"
   ]
  },
  {
   "cell_type": "code",
   "execution_count": 32,
   "id": "e9972e70-ea86-479a-905f-fe2159fff087",
   "metadata": {},
   "outputs": [
    {
     "name": "stdout",
     "output_type": "stream",
     "text": [
      "Decision Tree (accuracy) = 0.8000124680506203\n"
     ]
    }
   ],
   "source": [
    "decision_tree_grid = {\n",
    "    'max_depth': [i for i in range(1, 10)],\n",
    "    'class_weight' : ['balanced', None],\n",
    "    'criterion' : ['entropy', 'gini'],\n",
    "    'random_state': [21]\n",
    "}\n",
    "\n",
    "model_decision_tree = DecisionTreeClassifier()\n",
    "model_decision_tree = GridSearchCV(estimator=model_decision_tree, param_grid=decision_tree_grid, scoring='accuracy', cv=2, n_jobs=-1)\n",
    "model_decision_tree.fit(X_train, y_train)\n",
    "y_predict_decision_tree = model_decision_tree.predict(X_train)\n",
    "accuracy_decision_tree = accuracy_score(y_train, y_predict_decision_tree)\n",
    "print(f'Decision Tree (accuracy) = {accuracy_decision_tree}')"
   ]
  },
  {
   "cell_type": "markdown",
   "id": "f1f16b9d-8c89-43cb-bfd5-c817e052e2c0",
   "metadata": {},
   "source": [
    "## Random Forest Classifier / Классификатор случайного леса"
   ]
  },
  {
   "cell_type": "code",
   "execution_count": 33,
   "id": "bfe26a18-91ac-4159-9a6e-e601f2298179",
   "metadata": {},
   "outputs": [
    {
     "name": "stdout",
     "output_type": "stream",
     "text": [
      "Random Forest (accuracy) = 0.799389065519606\n"
     ]
    }
   ],
   "source": [
    "decision_random_forest = {\n",
    "    'n_estimators': [5, 10, 50],\n",
    "    'max_depth': [i for i in range(1, 10)],\n",
    "    'class_weight': ['balanced', None],\n",
    "    'criterion': ['entropy', 'gini'],\n",
    "    'random_state': [21]\n",
    "}\n",
    "\n",
    "model_random_forest = RandomForestClassifier()\n",
    "model_random_forest = GridSearchCV(estimator=model_random_forest, param_grid=decision_random_forest, scoring='accuracy', cv=2, n_jobs=-1)\n",
    "model_random_forest.fit(X_train, y_train)\n",
    "y_predict_random_forest = model_random_forest.predict(X_train)\n",
    "accuracy_random_forest = accuracy_score(y_train, y_predict_random_forest)\n",
    "print(f'Random Forest (accuracy) = {accuracy_random_forest}')"
   ]
  },
  {
   "cell_type": "markdown",
   "id": "5cae4b94-551c-4935-8e0a-2638bd8fe181",
   "metadata": {},
   "source": [
    "## Лучшая модель классификатора - SVM"
   ]
  },
  {
   "cell_type": "code",
   "execution_count": 34,
   "id": "ac8d7e10-d948-436d-8772-8be8942af41c",
   "metadata": {},
   "outputs": [
    {
     "name": "stdout",
     "output_type": "stream",
     "text": [
      "0.8007978060334081\n"
     ]
    }
   ],
   "source": [
    "y_predict = model_svm.predict(X_test)\n",
    "accuracy_best = accuracy_score(y_test, y_predict)\n",
    "print(accuracy_best)"
   ]
  },
  {
   "cell_type": "markdown",
   "id": "36c0dbdd-e010-4f5b-8324-ad0a3109381c",
   "metadata": {},
   "source": [
    "<span style='color: #03C568; font-size: 2em;'><b>3.6. Рассчитаем accuracy для наивного классификатора</b></span>"
   ]
  },
  {
   "cell_type": "code",
   "execution_count": 35,
   "id": "6c4263d0-3f38-42aa-be61-a54bd8a6b737",
   "metadata": {},
   "outputs": [
    {
     "name": "stdout",
     "output_type": "stream",
     "text": [
      "great\n",
      "0.7933183744702069\n"
     ]
    }
   ],
   "source": [
    "y_predict_naive = [statistics.mode(y3)] * len(y_test)\n",
    "accuracy_naive = accuracy_score(y_test, y_predict_naive)\n",
    "print(statistics.mode(y3))\n",
    "print(accuracy_naive)"
   ]
  },
  {
   "cell_type": "markdown",
   "id": "2b1de6a8-9bda-4378-abf6-7d3370e0911a",
   "metadata": {},
   "source": [
    "<span style='color: #03C568; font-size: 2em;'><b>3.7. Ответим на вопрос что хуже: предсказать плохой рейтинг для блюда, которое хорошо в реальной жизни, или предсказать хороший рейтинг для блюда, которое плохое в реальной жизни? </b></span>"
   ]
  },
  {
   "cell_type": "markdown",
   "id": "b87f8c28-4ce3-403c-bc9c-6bfd7ff3fe5c",
   "metadata": {},
   "source": [
    "## Если мы оценим хорошее блюдо как плохое, то пользователи не попробуют хорошее блюдо. Это неприятно. Но если мы оценим плохое блюдо как хорошее, то пользователи его попробуют и будут сильно огорчены. И это важнее избежать. Поэтому мы заменим метрику `accuracy` на метрику `precision`, чтобы правильно предсказывать `great`"
   ]
  },
  {
   "cell_type": "code",
   "execution_count": 36,
   "id": "c6703f62-d731-4649-9171-60575ccf5e83",
   "metadata": {},
   "outputs": [],
   "source": [
    "precision_great = make_scorer(precision_score, labels=['great'], average='macro')"
   ]
  },
  {
   "cell_type": "markdown",
   "id": "bcc599af-c01a-4363-b531-a3fffc0e7c73",
   "metadata": {},
   "source": [
    "<span style='color: #03C568; font-size: 2em;'><b>3.8. Рассмотрим различные алгоритмы классификации и протестируем разные параметры для них</b></span>"
   ]
  },
  {
   "cell_type": "markdown",
   "id": "65c7464d-2db5-4567-8977-4ef82b6be3d7",
   "metadata": {},
   "source": [
    "## Метод опорных векторов / SVM"
   ]
  },
  {
   "cell_type": "code",
   "execution_count": 37,
   "id": "8e6dafdb-c7a0-4796-a7d6-bb26e9ff2492",
   "metadata": {},
   "outputs": [
    {
     "name": "stdout",
     "output_type": "stream",
     "text": [
      "SVM (precision) = 0.8037519872813991\n"
     ]
    }
   ],
   "source": [
    "with warnings.catch_warnings():\n",
    "    warnings.simplefilter(\"ignore\")\n",
    "    svm_params = {\n",
    "        'kernel': ['linear', 'rbf']\n",
    "    }\n",
    "    model_svm = SVC()\n",
    "    model_svm = GridSearchCV(estimator=model_svm, param_grid=svm_params, scoring=precision_great, cv=2, n_jobs=-1)\n",
    "    model_svm.fit(X_train, y_train)\n",
    "    y_predict_svm = model_svm.predict(X_train)\n",
    "    precision_svm = precision_score(y_train, y_predict_svm, labels=['great'], average='macro')\n",
    "    print(f'SVM (precision) = {precision_svm}')"
   ]
  },
  {
   "cell_type": "markdown",
   "id": "8019aa98-3422-49ff-83e3-d41363d2a919",
   "metadata": {},
   "source": [
    "## Decision Tree Classifier / Классификатор решающего дерева"
   ]
  },
  {
   "cell_type": "code",
   "execution_count": 38,
   "id": "1b1c6f8b-ca65-4864-8bb6-ab2878d8861e",
   "metadata": {},
   "outputs": [
    {
     "name": "stdout",
     "output_type": "stream",
     "text": [
      "Decision Tree (precision) = 0.8111491829204006\n"
     ]
    }
   ],
   "source": [
    "with warnings.catch_warnings():\n",
    "    warnings.simplefilter(\"ignore\")\n",
    "    decision_tree_grid = {\n",
    "        'max_depth': [i for i in range(1, 10)],\n",
    "        'class_weight' : ['balanced', None],\n",
    "        'criterion' : ['entropy', 'gini'],\n",
    "        'random_state': [21]\n",
    "    }\n",
    "    \n",
    "    model_decision_tree = DecisionTreeClassifier()\n",
    "    model_decision_tree = GridSearchCV(estimator=model_decision_tree, param_grid=decision_tree_grid, scoring=precision_great, cv=2, n_jobs=-1)\n",
    "    model_decision_tree.fit(X_train, y_train)\n",
    "    y_predict_decision_tree = model_decision_tree.predict(X_train)\n",
    "    precision_decision_tree = precision_score(y_train, y_predict_decision_tree, labels=['great'], average='macro')\n",
    "    print(f'Decision Tree (precision) = {precision_decision_tree}')"
   ]
  },
  {
   "cell_type": "markdown",
   "id": "44cc4649-b881-4216-bb6b-f28c0f361f72",
   "metadata": {},
   "source": [
    "## Random Forest Classifier / Классификатор случайного леса"
   ]
  },
  {
   "cell_type": "code",
   "execution_count": 39,
   "id": "39e9cb40-f461-46b7-924a-eb9fc8bc8726",
   "metadata": {},
   "outputs": [
    {
     "name": "stdout",
     "output_type": "stream",
     "text": [
      "Random Forest (precision) = 0.8402625820568927\n"
     ]
    }
   ],
   "source": [
    "with warnings.catch_warnings():\n",
    "    warnings.simplefilter(\"ignore\")\n",
    "    decision_random_forest = {\n",
    "        'n_estimators': [5, 10, 50],\n",
    "        'max_depth': [i for i in range(1, 10)],\n",
    "        'class_weight': ['balanced', None],\n",
    "        'criterion': ['entropy', 'gini'],\n",
    "        'random_state': [21]\n",
    "    }\n",
    "    \n",
    "    model_random_forest = RandomForestClassifier()\n",
    "    model_random_forest = GridSearchCV(estimator=model_random_forest, param_grid=decision_random_forest, scoring=precision_great, cv=2, n_jobs=-1)\n",
    "    model_random_forest.fit(X_train, y_train)\n",
    "    y_predict_random_forest = model_random_forest.predict(X_train)\n",
    "    precision_random_forest = precision_score(y_train, y_predict_random_forest, labels=['great'], average='macro')\n",
    "    print(f'Random Forest (precision) = {precision_random_forest}')"
   ]
  },
  {
   "cell_type": "markdown",
   "id": "08475fa1-7438-4f8e-bab2-ada705b37c9d",
   "metadata": {},
   "source": [
    "## Лучшая модель классификатора оказалась `Random Forest Classifier`"
   ]
  },
  {
   "cell_type": "code",
   "execution_count": 40,
   "id": "729bbdc0-5e1e-4f97-b7e6-6f18bba040d0",
   "metadata": {},
   "outputs": [
    {
     "name": "stdout",
     "output_type": "stream",
     "text": [
      "0.8356807511737089\n"
     ]
    }
   ],
   "source": [
    "y_predict = model_random_forest.predict(X_test)\n",
    "precision_best = precision_score(y_test, y_predict, labels=['great'], average='macro')\n",
    "print(precision_best)"
   ]
  },
  {
   "cell_type": "markdown",
   "id": "29c27336-56be-46fc-a144-742b26c9ac64",
   "metadata": {},
   "source": [
    "<span style='color: #03C568; font-size: 2em;'><b>3.9. Рассмотрим различные ансамбли для алгоритмов классификации и протестируем разные параметры для них</b></span>"
   ]
  },
  {
   "cell_type": "markdown",
   "id": "3c4c8049-a01e-4c75-b250-d50e6c06df42",
   "metadata": {},
   "source": [
    "## VotingClassifier"
   ]
  },
  {
   "cell_type": "code",
   "execution_count": 41,
   "id": "f5b61a79-b4fd-4bd3-9341-84201dd08c1c",
   "metadata": {},
   "outputs": [
    {
     "name": "stdout",
     "output_type": "stream",
     "text": [
      "VotingClassifier (precision) = 0.8155707732198657\n"
     ]
    }
   ],
   "source": [
    "with warnings.catch_warnings():\n",
    "    warnings.simplefilter(\"ignore\")\n",
    "    model_voting_clf = VotingClassifier(\n",
    "        estimators=[('model1', model_svm), ('model2', model_decision_tree), ('model3', model_random_forest)],\n",
    "        voting='hard'\n",
    "    )\n",
    "    model_voting_clf.fit(X_train, y_train)\n",
    "    y_pred_voting = model_voting_clf.predict(X_train)\n",
    "    precision_voting = precision_score(y_train, y_pred_voting, labels=['great'], average='macro')\n",
    "    print(f'VotingClassifier (precision) = {precision_voting}')"
   ]
  },
  {
   "cell_type": "markdown",
   "id": "d184f28c-07ac-497e-aa5e-c169b41fae28",
   "metadata": {},
   "source": [
    "## BaggingClassifier"
   ]
  },
  {
   "cell_type": "code",
   "execution_count": 42,
   "id": "e319cedb-b9a5-4f8a-8f96-8263d10f76a1",
   "metadata": {},
   "outputs": [
    {
     "name": "stdout",
     "output_type": "stream",
     "text": [
      "BaggingClassifier (precision) = 0.8038542262926922\n"
     ]
    }
   ],
   "source": [
    "with warnings.catch_warnings():\n",
    "    warnings.simplefilter(\"ignore\")\n",
    "    model_bagging_clf = BaggingClassifier(\n",
    "        model_svm,\n",
    "        n_estimators=10,\n",
    "        random_state=21,\n",
    "        n_jobs=-1\n",
    "    )\n",
    "    model_bagging_clf.fit(X_train, y_train)\n",
    "    y_pred_bagging = model_bagging_clf.predict(X_train)\n",
    "    precision_bagging = precision_score(y_train, y_pred_bagging, labels=['great'], average='macro')\n",
    "    print(f'BaggingClassifier (precision) = {precision_bagging}')"
   ]
  },
  {
   "cell_type": "markdown",
   "id": "8640a235-1dd4-4c95-be32-c4be25946276",
   "metadata": {},
   "source": [
    "## StackingClassifier"
   ]
  },
  {
   "cell_type": "code",
   "execution_count": 43,
   "id": "f5837e5e-b535-4b2c-9290-7e185039c8c2",
   "metadata": {},
   "outputs": [
    {
     "name": "stdout",
     "output_type": "stream",
     "text": [
      "StackingClassifier (precision) = 0.8030736013208866\n"
     ]
    }
   ],
   "source": [
    "with warnings.catch_warnings():\n",
    "    warnings.simplefilter(\"ignore\")\n",
    "    estimators = [\n",
    "        ('model1', model_svm),\n",
    "        ('model2', model_decision_tree)\n",
    "    ]\n",
    "    \n",
    "    model_stacking_clf = StackingClassifier(\n",
    "        estimators=estimators,\n",
    "        final_estimator=LogisticRegression(),\n",
    "        n_jobs=-1\n",
    "    )\n",
    "    model_stacking_clf.fit(X_train, y_train)\n",
    "    y_pred_stacking = model_stacking_clf.predict(X_train)\n",
    "    precision_stacking = precision_score(y_train, y_pred_stacking, labels=['great'], average='macro')\n",
    "    print(f'StackingClassifier (precision) = {precision_stacking}')"
   ]
  },
  {
   "cell_type": "markdown",
   "id": "038c1a86-7b0c-497b-b4a4-1aa79c3b7456",
   "metadata": {},
   "source": [
    "## Лучший ансамбль для классификатора `VotingClassifier`"
   ]
  },
  {
   "cell_type": "code",
   "execution_count": 44,
   "id": "7f86e2e7-6681-43fb-91e7-0b5832d8b94c",
   "metadata": {},
   "outputs": [
    {
     "name": "stdout",
     "output_type": "stream",
     "text": [
      "0.8134646088344865\n"
     ]
    }
   ],
   "source": [
    "y_predict = model_voting_clf.predict(X_test)\n",
    "precision_best = precision_score(y_test, y_predict, labels=['great'], average='macro')\n",
    "print(precision_best)"
   ]
  },
  {
   "cell_type": "markdown",
   "id": "f9930229-c88b-492a-a413-e5a42a48d81b",
   "metadata": {},
   "source": [
    "<span style='color: #BD2467; font-size: 3em;'><b>4. Принятие решения</b></span>"
   ]
  },
  {
   "cell_type": "markdown",
   "id": "2afb6069-a3ba-459a-a016-683b0164b9fc",
   "metadata": {},
   "source": [
    "## Мы выбрали лучшей моделью `VotingClassifier`"
   ]
  },
  {
   "cell_type": "markdown",
   "id": "b3234764-11f5-4c0b-b9f8-e772d12c5cbc",
   "metadata": {},
   "source": [
    "## Сохраним её"
   ]
  },
  {
   "cell_type": "code",
   "execution_count": 45,
   "id": "48d0c0da-0447-4c15-8078-637cdd3e5f48",
   "metadata": {},
   "outputs": [
    {
     "data": {
      "text/plain": [
       "['best_model.joblib']"
      ]
     },
     "execution_count": 45,
     "metadata": {},
     "output_type": "execute_result"
    }
   ],
   "source": [
    "best_model_file = 'best_model.joblib'\n",
    "joblib.dump(model_voting_clf, best_model_file)"
   ]
  },
  {
   "cell_type": "markdown",
   "id": "f1e01032-199f-4aa0-a8d7-ace377355f84",
   "metadata": {},
   "source": [
    "<span style='color: #BD2467; font-size: 3em;'><b>5. Факты о питании</b></span>"
   ]
  },
  {
   "cell_type": "markdown",
   "id": "aa0522f9-a8a8-4598-b6a8-0cffd63e8af7",
   "metadata": {},
   "source": [
    "<span style='color: #03C568; font-size: 2em;'><b>5.1. Соберём все факты об ингредиентах</b></span>"
   ]
  },
  {
   "cell_type": "markdown",
   "id": "2df8d888-1776-4539-964f-50666be81686",
   "metadata": {},
   "source": [
    "## Определим данные с дневной нормой"
   ]
  },
  {
   "cell_type": "code",
   "execution_count": 46,
   "id": "1d422e38-93e4-49d4-ac17-66a380a287a9",
   "metadata": {},
   "outputs": [
    {
     "data": {
      "text/html": [
       "<div>\n",
       "<style scoped>\n",
       "    .dataframe tbody tr th:only-of-type {\n",
       "        vertical-align: middle;\n",
       "    }\n",
       "\n",
       "    .dataframe tbody tr th {\n",
       "        vertical-align: top;\n",
       "    }\n",
       "\n",
       "    .dataframe thead th {\n",
       "        text-align: right;\n",
       "    }\n",
       "</style>\n",
       "<table border=\"1\" class=\"dataframe\">\n",
       "  <thead>\n",
       "    <tr style=\"text-align: right;\">\n",
       "      <th></th>\n",
       "      <th>Nutrient</th>\n",
       "      <th>Daily Value</th>\n",
       "    </tr>\n",
       "  </thead>\n",
       "  <tbody>\n",
       "    <tr>\n",
       "      <th>0</th>\n",
       "      <td>Vitamin A</td>\n",
       "      <td>900.0</td>\n",
       "    </tr>\n",
       "    <tr>\n",
       "      <th>1</th>\n",
       "      <td>Vitamin C</td>\n",
       "      <td>90.0</td>\n",
       "    </tr>\n",
       "    <tr>\n",
       "      <th>2</th>\n",
       "      <td>Calcium</td>\n",
       "      <td>1300.0</td>\n",
       "    </tr>\n",
       "    <tr>\n",
       "      <th>3</th>\n",
       "      <td>Iron</td>\n",
       "      <td>18.0</td>\n",
       "    </tr>\n",
       "    <tr>\n",
       "      <th>4</th>\n",
       "      <td>Vitamin D</td>\n",
       "      <td>20.0</td>\n",
       "    </tr>\n",
       "    <tr>\n",
       "      <th>5</th>\n",
       "      <td>Vitamin E</td>\n",
       "      <td>15.0</td>\n",
       "    </tr>\n",
       "    <tr>\n",
       "      <th>6</th>\n",
       "      <td>Vitamin K</td>\n",
       "      <td>120.0</td>\n",
       "    </tr>\n",
       "    <tr>\n",
       "      <th>7</th>\n",
       "      <td>Thiamin</td>\n",
       "      <td>1.2</td>\n",
       "    </tr>\n",
       "    <tr>\n",
       "      <th>8</th>\n",
       "      <td>Riboflavin</td>\n",
       "      <td>1.3</td>\n",
       "    </tr>\n",
       "    <tr>\n",
       "      <th>9</th>\n",
       "      <td>Niacin</td>\n",
       "      <td>16.0</td>\n",
       "    </tr>\n",
       "    <tr>\n",
       "      <th>10</th>\n",
       "      <td>Vitamin B6</td>\n",
       "      <td>1.7</td>\n",
       "    </tr>\n",
       "    <tr>\n",
       "      <th>11</th>\n",
       "      <td>Folate</td>\n",
       "      <td>400.0</td>\n",
       "    </tr>\n",
       "    <tr>\n",
       "      <th>12</th>\n",
       "      <td>Vitamin B12</td>\n",
       "      <td>2.4</td>\n",
       "    </tr>\n",
       "    <tr>\n",
       "      <th>13</th>\n",
       "      <td>Biotin</td>\n",
       "      <td>30.0</td>\n",
       "    </tr>\n",
       "    <tr>\n",
       "      <th>14</th>\n",
       "      <td>Pantothenic acid</td>\n",
       "      <td>5.0</td>\n",
       "    </tr>\n",
       "    <tr>\n",
       "      <th>15</th>\n",
       "      <td>Phosphorus</td>\n",
       "      <td>1250.0</td>\n",
       "    </tr>\n",
       "    <tr>\n",
       "      <th>16</th>\n",
       "      <td>Iodine</td>\n",
       "      <td>150.0</td>\n",
       "    </tr>\n",
       "    <tr>\n",
       "      <th>17</th>\n",
       "      <td>Magnesium</td>\n",
       "      <td>420.0</td>\n",
       "    </tr>\n",
       "    <tr>\n",
       "      <th>18</th>\n",
       "      <td>Zinc</td>\n",
       "      <td>11.0</td>\n",
       "    </tr>\n",
       "    <tr>\n",
       "      <th>19</th>\n",
       "      <td>Selenium</td>\n",
       "      <td>55.0</td>\n",
       "    </tr>\n",
       "    <tr>\n",
       "      <th>20</th>\n",
       "      <td>Copper</td>\n",
       "      <td>0.9</td>\n",
       "    </tr>\n",
       "    <tr>\n",
       "      <th>21</th>\n",
       "      <td>Manganese</td>\n",
       "      <td>2.3</td>\n",
       "    </tr>\n",
       "    <tr>\n",
       "      <th>22</th>\n",
       "      <td>Chromium</td>\n",
       "      <td>35.0</td>\n",
       "    </tr>\n",
       "    <tr>\n",
       "      <th>23</th>\n",
       "      <td>Molybdenum</td>\n",
       "      <td>45.0</td>\n",
       "    </tr>\n",
       "    <tr>\n",
       "      <th>24</th>\n",
       "      <td>Chloride</td>\n",
       "      <td>2300.0</td>\n",
       "    </tr>\n",
       "    <tr>\n",
       "      <th>25</th>\n",
       "      <td>Potassium</td>\n",
       "      <td>4700.0</td>\n",
       "    </tr>\n",
       "    <tr>\n",
       "      <th>26</th>\n",
       "      <td>Choline</td>\n",
       "      <td>550.0</td>\n",
       "    </tr>\n",
       "    <tr>\n",
       "      <th>27</th>\n",
       "      <td>Total lipid (fat)</td>\n",
       "      <td>78.0</td>\n",
       "    </tr>\n",
       "    <tr>\n",
       "      <th>28</th>\n",
       "      <td>Saturated fat</td>\n",
       "      <td>20.0</td>\n",
       "    </tr>\n",
       "    <tr>\n",
       "      <th>29</th>\n",
       "      <td>Cholesterol</td>\n",
       "      <td>300.0</td>\n",
       "    </tr>\n",
       "    <tr>\n",
       "      <th>30</th>\n",
       "      <td>Carbohydrate</td>\n",
       "      <td>275.0</td>\n",
       "    </tr>\n",
       "    <tr>\n",
       "      <th>31</th>\n",
       "      <td>Sodium</td>\n",
       "      <td>2300.0</td>\n",
       "    </tr>\n",
       "    <tr>\n",
       "      <th>32</th>\n",
       "      <td>Fiber</td>\n",
       "      <td>28.0</td>\n",
       "    </tr>\n",
       "    <tr>\n",
       "      <th>33</th>\n",
       "      <td>Protein</td>\n",
       "      <td>50.0</td>\n",
       "    </tr>\n",
       "    <tr>\n",
       "      <th>34</th>\n",
       "      <td>Added sugars</td>\n",
       "      <td>50.0</td>\n",
       "    </tr>\n",
       "  </tbody>\n",
       "</table>\n",
       "</div>"
      ],
      "text/plain": [
       "             Nutrient  Daily Value\n",
       "0           Vitamin A        900.0\n",
       "1           Vitamin C         90.0\n",
       "2             Calcium       1300.0\n",
       "3                Iron         18.0\n",
       "4           Vitamin D         20.0\n",
       "5           Vitamin E         15.0\n",
       "6           Vitamin K        120.0\n",
       "7             Thiamin          1.2\n",
       "8          Riboflavin          1.3\n",
       "9              Niacin         16.0\n",
       "10         Vitamin B6          1.7\n",
       "11             Folate        400.0\n",
       "12        Vitamin B12          2.4\n",
       "13             Biotin         30.0\n",
       "14   Pantothenic acid          5.0\n",
       "15         Phosphorus       1250.0\n",
       "16             Iodine        150.0\n",
       "17          Magnesium        420.0\n",
       "18               Zinc         11.0\n",
       "19           Selenium         55.0\n",
       "20             Copper          0.9\n",
       "21          Manganese          2.3\n",
       "22           Chromium         35.0\n",
       "23         Molybdenum         45.0\n",
       "24           Chloride       2300.0\n",
       "25          Potassium       4700.0\n",
       "26            Choline        550.0\n",
       "27  Total lipid (fat)         78.0\n",
       "28      Saturated fat         20.0\n",
       "29        Cholesterol        300.0\n",
       "30       Carbohydrate        275.0\n",
       "31             Sodium       2300.0\n",
       "32              Fiber         28.0\n",
       "33            Protein         50.0\n",
       "34       Added sugars         50.0"
      ]
     },
     "execution_count": 46,
     "metadata": {},
     "output_type": "execute_result"
    }
   ],
   "source": [
    "daily_dict = {'Vitamin A': 900, 'Vitamin C': 90, 'Calcium': 1300, 'Iron': 18, 'Vitamin D': 20, 'Vitamin E': 15,\n",
    "              'Vitamin K': 120, 'Thiamin': 1.2, 'Riboflavin': 1.3, 'Niacin': 16, 'Vitamin B6': 1.7, 'Folate': 400,\n",
    "              'Vitamin B12': 2.4, 'Biotin': 30, 'Pantothenic acid': 5, 'Phosphorus': 1250, 'Iodine': 150,\n",
    "              'Magnesium': 420, 'Zinc': 11, 'Selenium': 55, 'Copper': 0.9, 'Manganese': 2.3, 'Chromium': 35,\n",
    "              'Molybdenum': 45, 'Chloride': 2300, 'Potassium':\t4700, 'Choline': 550, 'Total lipid (fat)': 78,\n",
    "              'Saturated fat': 20, 'Cholesterol': 300, 'Carbohydrate': 275, 'Sodium': 2300, 'Fiber': 28,\n",
    "              'Protein': 50, 'Added sugars': 50}\n",
    "daily_df = pd.DataFrame([daily_dict]).T.reset_index().rename(columns={'index': 'Nutrient', 0:'Daily Value'})\n",
    "daily_df"
   ]
  },
  {
   "cell_type": "markdown",
   "id": "5571362f-c938-4e36-8841-0e4e19a8298f",
   "metadata": {},
   "source": [
    "## Считаем данные для каждого ингредиента"
   ]
  },
  {
   "cell_type": "code",
   "execution_count": 47,
   "id": "b5052161-de74-4c3f-8677-36ff23688ce4",
   "metadata": {},
   "outputs": [
    {
     "data": {
      "application/vnd.jupyter.widget-view+json": {
       "model_id": "75096d289e7949d3be406654800345d1",
       "version_major": 2,
       "version_minor": 0
      },
      "text/plain": [
       "  0%|          | 0/239 [00:00<?, ?it/s]"
      ]
     },
     "metadata": {},
     "output_type": "display_data"
    },
    {
     "data": {
      "text/html": [
       "<div>\n",
       "<style scoped>\n",
       "    .dataframe tbody tr th:only-of-type {\n",
       "        vertical-align: middle;\n",
       "    }\n",
       "\n",
       "    .dataframe tbody tr th {\n",
       "        vertical-align: top;\n",
       "    }\n",
       "\n",
       "    .dataframe thead th {\n",
       "        text-align: right;\n",
       "    }\n",
       "</style>\n",
       "<table border=\"1\" class=\"dataframe\">\n",
       "  <thead>\n",
       "    <tr style=\"text-align: right;\">\n",
       "      <th></th>\n",
       "      <th>ingredient</th>\n",
       "      <th>Protein</th>\n",
       "      <th>Total lipid (fat)</th>\n",
       "      <th>Carbohydrate</th>\n",
       "      <th>Fiber</th>\n",
       "      <th>Calcium</th>\n",
       "      <th>Iron</th>\n",
       "      <th>Potassium</th>\n",
       "      <th>Sodium</th>\n",
       "      <th>Vitamin D</th>\n",
       "      <th>...</th>\n",
       "      <th>Vitamin E</th>\n",
       "      <th>Vitamin C</th>\n",
       "      <th>Thiamin</th>\n",
       "      <th>Riboflavin</th>\n",
       "      <th>Niacin</th>\n",
       "      <th>Folate</th>\n",
       "      <th>Choline</th>\n",
       "      <th>Vitamin K</th>\n",
       "      <th>Manganese</th>\n",
       "      <th>Pantothenic acid</th>\n",
       "    </tr>\n",
       "  </thead>\n",
       "  <tbody>\n",
       "    <tr>\n",
       "      <th>0</th>\n",
       "      <td>broccoli</td>\n",
       "      <td>5.0</td>\n",
       "      <td>0.0</td>\n",
       "      <td>2.0</td>\n",
       "      <td>12.0</td>\n",
       "      <td>5.0</td>\n",
       "      <td>5.0</td>\n",
       "      <td>5.0</td>\n",
       "      <td>1.0</td>\n",
       "      <td>0.0</td>\n",
       "      <td>...</td>\n",
       "      <td>NaN</td>\n",
       "      <td>NaN</td>\n",
       "      <td>NaN</td>\n",
       "      <td>NaN</td>\n",
       "      <td>NaN</td>\n",
       "      <td>NaN</td>\n",
       "      <td>NaN</td>\n",
       "      <td>NaN</td>\n",
       "      <td>NaN</td>\n",
       "      <td>NaN</td>\n",
       "    </tr>\n",
       "    <tr>\n",
       "      <th>1</th>\n",
       "      <td>margarita</td>\n",
       "      <td>0.0</td>\n",
       "      <td>0.0</td>\n",
       "      <td>6.0</td>\n",
       "      <td>0.0</td>\n",
       "      <td>0.0</td>\n",
       "      <td>0.0</td>\n",
       "      <td>0.0</td>\n",
       "      <td>9.0</td>\n",
       "      <td>0.0</td>\n",
       "      <td>...</td>\n",
       "      <td>0.0</td>\n",
       "      <td>2.0</td>\n",
       "      <td>1.0</td>\n",
       "      <td>1.0</td>\n",
       "      <td>0.0</td>\n",
       "      <td>0.0</td>\n",
       "      <td>0.0</td>\n",
       "      <td>0.0</td>\n",
       "      <td>NaN</td>\n",
       "      <td>NaN</td>\n",
       "    </tr>\n",
       "    <tr>\n",
       "      <th>2</th>\n",
       "      <td>sausage</td>\n",
       "      <td>21.0</td>\n",
       "      <td>22.0</td>\n",
       "      <td>4.0</td>\n",
       "      <td>5.0</td>\n",
       "      <td>2.0</td>\n",
       "      <td>20.0</td>\n",
       "      <td>NaN</td>\n",
       "      <td>87.0</td>\n",
       "      <td>NaN</td>\n",
       "      <td>...</td>\n",
       "      <td>NaN</td>\n",
       "      <td>2.0</td>\n",
       "      <td>NaN</td>\n",
       "      <td>NaN</td>\n",
       "      <td>NaN</td>\n",
       "      <td>NaN</td>\n",
       "      <td>NaN</td>\n",
       "      <td>NaN</td>\n",
       "      <td>NaN</td>\n",
       "      <td>NaN</td>\n",
       "    </tr>\n",
       "    <tr>\n",
       "      <th>3</th>\n",
       "      <td>tarragon</td>\n",
       "      <td>0.0</td>\n",
       "      <td>0.0</td>\n",
       "      <td>0.0</td>\n",
       "      <td>NaN</td>\n",
       "      <td>NaN</td>\n",
       "      <td>NaN</td>\n",
       "      <td>NaN</td>\n",
       "      <td>0.0</td>\n",
       "      <td>NaN</td>\n",
       "      <td>...</td>\n",
       "      <td>NaN</td>\n",
       "      <td>NaN</td>\n",
       "      <td>NaN</td>\n",
       "      <td>NaN</td>\n",
       "      <td>NaN</td>\n",
       "      <td>NaN</td>\n",
       "      <td>NaN</td>\n",
       "      <td>NaN</td>\n",
       "      <td>NaN</td>\n",
       "      <td>NaN</td>\n",
       "    </tr>\n",
       "    <tr>\n",
       "      <th>4</th>\n",
       "      <td>sesame oil</td>\n",
       "      <td>0.0</td>\n",
       "      <td>128.0</td>\n",
       "      <td>0.0</td>\n",
       "      <td>0.0</td>\n",
       "      <td>0.0</td>\n",
       "      <td>0.0</td>\n",
       "      <td>0.0</td>\n",
       "      <td>0.0</td>\n",
       "      <td>0.0</td>\n",
       "      <td>...</td>\n",
       "      <td>0.0</td>\n",
       "      <td>0.0</td>\n",
       "      <td>0.0</td>\n",
       "      <td>0.0</td>\n",
       "      <td>0.0</td>\n",
       "      <td>0.0</td>\n",
       "      <td>0.0</td>\n",
       "      <td>11.0</td>\n",
       "      <td>NaN</td>\n",
       "      <td>NaN</td>\n",
       "    </tr>\n",
       "    <tr>\n",
       "      <th>...</th>\n",
       "      <td>...</td>\n",
       "      <td>...</td>\n",
       "      <td>...</td>\n",
       "      <td>...</td>\n",
       "      <td>...</td>\n",
       "      <td>...</td>\n",
       "      <td>...</td>\n",
       "      <td>...</td>\n",
       "      <td>...</td>\n",
       "      <td>...</td>\n",
       "      <td>...</td>\n",
       "      <td>...</td>\n",
       "      <td>...</td>\n",
       "      <td>...</td>\n",
       "      <td>...</td>\n",
       "      <td>...</td>\n",
       "      <td>...</td>\n",
       "      <td>...</td>\n",
       "      <td>...</td>\n",
       "      <td>...</td>\n",
       "      <td>...</td>\n",
       "    </tr>\n",
       "    <tr>\n",
       "      <th>234</th>\n",
       "      <td>octopus</td>\n",
       "      <td>26.0</td>\n",
       "      <td>17.0</td>\n",
       "      <td>5.0</td>\n",
       "      <td>2.0</td>\n",
       "      <td>4.0</td>\n",
       "      <td>27.0</td>\n",
       "      <td>6.0</td>\n",
       "      <td>23.0</td>\n",
       "      <td>0.0</td>\n",
       "      <td>...</td>\n",
       "      <td>0.0</td>\n",
       "      <td>3.0</td>\n",
       "      <td>14.0</td>\n",
       "      <td>8.0</td>\n",
       "      <td>16.0</td>\n",
       "      <td>12.0</td>\n",
       "      <td>10.0</td>\n",
       "      <td>10.0</td>\n",
       "      <td>NaN</td>\n",
       "      <td>NaN</td>\n",
       "    </tr>\n",
       "    <tr>\n",
       "      <th>235</th>\n",
       "      <td>tomato</td>\n",
       "      <td>NaN</td>\n",
       "      <td>NaN</td>\n",
       "      <td>NaN</td>\n",
       "      <td>NaN</td>\n",
       "      <td>NaN</td>\n",
       "      <td>NaN</td>\n",
       "      <td>NaN</td>\n",
       "      <td>NaN</td>\n",
       "      <td>NaN</td>\n",
       "      <td>...</td>\n",
       "      <td>NaN</td>\n",
       "      <td>NaN</td>\n",
       "      <td>NaN</td>\n",
       "      <td>NaN</td>\n",
       "      <td>NaN</td>\n",
       "      <td>NaN</td>\n",
       "      <td>NaN</td>\n",
       "      <td>NaN</td>\n",
       "      <td>NaN</td>\n",
       "      <td>NaN</td>\n",
       "    </tr>\n",
       "    <tr>\n",
       "      <th>236</th>\n",
       "      <td>salad dressing</td>\n",
       "      <td>0.0</td>\n",
       "      <td>43.0</td>\n",
       "      <td>1.0</td>\n",
       "      <td>0.0</td>\n",
       "      <td>0.0</td>\n",
       "      <td>0.0</td>\n",
       "      <td>NaN</td>\n",
       "      <td>38.0</td>\n",
       "      <td>NaN</td>\n",
       "      <td>...</td>\n",
       "      <td>NaN</td>\n",
       "      <td>9.0</td>\n",
       "      <td>NaN</td>\n",
       "      <td>NaN</td>\n",
       "      <td>NaN</td>\n",
       "      <td>NaN</td>\n",
       "      <td>NaN</td>\n",
       "      <td>NaN</td>\n",
       "      <td>NaN</td>\n",
       "      <td>NaN</td>\n",
       "    </tr>\n",
       "    <tr>\n",
       "      <th>237</th>\n",
       "      <td>salad</td>\n",
       "      <td>5.0</td>\n",
       "      <td>6.0</td>\n",
       "      <td>10.0</td>\n",
       "      <td>9.0</td>\n",
       "      <td>5.0</td>\n",
       "      <td>5.0</td>\n",
       "      <td>NaN</td>\n",
       "      <td>8.0</td>\n",
       "      <td>NaN</td>\n",
       "      <td>...</td>\n",
       "      <td>NaN</td>\n",
       "      <td>44.0</td>\n",
       "      <td>NaN</td>\n",
       "      <td>NaN</td>\n",
       "      <td>NaN</td>\n",
       "      <td>NaN</td>\n",
       "      <td>NaN</td>\n",
       "      <td>NaN</td>\n",
       "      <td>NaN</td>\n",
       "      <td>NaN</td>\n",
       "    </tr>\n",
       "    <tr>\n",
       "      <th>238</th>\n",
       "      <td>milk</td>\n",
       "      <td>7.0</td>\n",
       "      <td>3.0</td>\n",
       "      <td>2.0</td>\n",
       "      <td>0.0</td>\n",
       "      <td>10.0</td>\n",
       "      <td>0.0</td>\n",
       "      <td>NaN</td>\n",
       "      <td>2.0</td>\n",
       "      <td>210.0</td>\n",
       "      <td>...</td>\n",
       "      <td>NaN</td>\n",
       "      <td>1.0</td>\n",
       "      <td>NaN</td>\n",
       "      <td>NaN</td>\n",
       "      <td>NaN</td>\n",
       "      <td>NaN</td>\n",
       "      <td>NaN</td>\n",
       "      <td>NaN</td>\n",
       "      <td>NaN</td>\n",
       "      <td>NaN</td>\n",
       "    </tr>\n",
       "  </tbody>\n",
       "</table>\n",
       "<p>239 rows × 27 columns</p>\n",
       "</div>"
      ],
      "text/plain": [
       "         ingredient  Protein  Total lipid (fat)  Carbohydrate  Fiber  Calcium  \\\n",
       "0          broccoli      5.0                0.0           2.0   12.0      5.0   \n",
       "1         margarita      0.0                0.0           6.0    0.0      0.0   \n",
       "2           sausage     21.0               22.0           4.0    5.0      2.0   \n",
       "3          tarragon      0.0                0.0           0.0    NaN      NaN   \n",
       "4        sesame oil      0.0              128.0           0.0    0.0      0.0   \n",
       "..              ...      ...                ...           ...    ...      ...   \n",
       "234         octopus     26.0               17.0           5.0    2.0      4.0   \n",
       "235          tomato      NaN                NaN           NaN    NaN      NaN   \n",
       "236  salad dressing      0.0               43.0           1.0    0.0      0.0   \n",
       "237           salad      5.0                6.0          10.0    9.0      5.0   \n",
       "238            milk      7.0                3.0           2.0    0.0     10.0   \n",
       "\n",
       "     Iron  Potassium  Sodium  Vitamin D  ...  Vitamin E  Vitamin C  Thiamin  \\\n",
       "0     5.0        5.0     1.0        0.0  ...        NaN        NaN      NaN   \n",
       "1     0.0        0.0     9.0        0.0  ...        0.0        2.0      1.0   \n",
       "2    20.0        NaN    87.0        NaN  ...        NaN        2.0      NaN   \n",
       "3     NaN        NaN     0.0        NaN  ...        NaN        NaN      NaN   \n",
       "4     0.0        0.0     0.0        0.0  ...        0.0        0.0      0.0   \n",
       "..    ...        ...     ...        ...  ...        ...        ...      ...   \n",
       "234  27.0        6.0    23.0        0.0  ...        0.0        3.0     14.0   \n",
       "235   NaN        NaN     NaN        NaN  ...        NaN        NaN      NaN   \n",
       "236   0.0        NaN    38.0        NaN  ...        NaN        9.0      NaN   \n",
       "237   5.0        NaN     8.0        NaN  ...        NaN       44.0      NaN   \n",
       "238   0.0        NaN     2.0      210.0  ...        NaN        1.0      NaN   \n",
       "\n",
       "     Riboflavin  Niacin  Folate  Choline  Vitamin K  Manganese  \\\n",
       "0           NaN     NaN     NaN      NaN        NaN        NaN   \n",
       "1           1.0     0.0     0.0      0.0        0.0        NaN   \n",
       "2           NaN     NaN     NaN      NaN        NaN        NaN   \n",
       "3           NaN     NaN     NaN      NaN        NaN        NaN   \n",
       "4           0.0     0.0     0.0      0.0       11.0        NaN   \n",
       "..          ...     ...     ...      ...        ...        ...   \n",
       "234         8.0    16.0    12.0     10.0       10.0        NaN   \n",
       "235         NaN     NaN     NaN      NaN        NaN        NaN   \n",
       "236         NaN     NaN     NaN      NaN        NaN        NaN   \n",
       "237         NaN     NaN     NaN      NaN        NaN        NaN   \n",
       "238         NaN     NaN     NaN      NaN        NaN        NaN   \n",
       "\n",
       "     Pantothenic acid  \n",
       "0                 NaN  \n",
       "1                 NaN  \n",
       "2                 NaN  \n",
       "3                 NaN  \n",
       "4                 NaN  \n",
       "..                ...  \n",
       "234               NaN  \n",
       "235               NaN  \n",
       "236               NaN  \n",
       "237               NaN  \n",
       "238               NaN  \n",
       "\n",
       "[239 rows x 27 columns]"
      ]
     },
     "metadata": {},
     "output_type": "display_data"
    }
   ],
   "source": [
    "session = requests.Session()\n",
    "session.proxies.update(proxies)\n",
    "nutrition_url = \"https://api.nal.usda.gov/fdc/v1/foods/search\"\n",
    "nutrition_data = []\n",
    "\n",
    "for ingredient in tqdm(list_ingredients):\n",
    "    try:\n",
    "        response = session.get(\n",
    "            nutrition_url,\n",
    "            params={\"query\": ingredient, \"api_key\": api_key},\n",
    "            timeout=10\n",
    "        )\n",
    "        if response.status_code != 200:\n",
    "            print(f\"Сервер вернул {response.status_code} для {ingredient}\")\n",
    "            continue\n",
    "\n",
    "        nutrition_info = response.json()\n",
    "        foods = nutrition_info.get(\"foods\", [])\n",
    "        if not foods:\n",
    "            print(f\"Нет данных для {ingredient}\")\n",
    "            continue\n",
    "\n",
    "        for food in foods:\n",
    "            desc = food.get(\"description\", \"\").lower()\n",
    "            if ingredient.lower() not in desc:\n",
    "                continue\n",
    "\n",
    "            nutrients = food.get(\"foodNutrients\", [])\n",
    "            nutrient_dict = {\"ingredient\": ingredient}\n",
    "            \n",
    "            for nutrient in nutrients:\n",
    "                name = nutrient.get(\"nutrientName\", \"\").lower()\n",
    "                value = nutrient.get(\"value\")\n",
    "                if value is None:\n",
    "                    continue\n",
    "                for _, row in daily_df.iterrows():\n",
    "                    if row[\"Nutrient\"].lower() in name:\n",
    "                        try:\n",
    "                            nutrient_dict[row[\"Nutrient\"]] = round(value / row[\"Daily Value\"] * 100)\n",
    "                        except ZeroDivisionError:\n",
    "                            nutrient_dict[row[\"Nutrient\"]] = None\n",
    "                        break\n",
    "\n",
    "            nutrition_data.append(nutrient_dict)\n",
    "            break \n",
    "\n",
    "    except Exception as e:\n",
    "        continue\n",
    "nutrition_df = pd.DataFrame(nutrition_data)\n",
    "display(nutrition_df)"
   ]
  },
  {
   "cell_type": "markdown",
   "id": "26761071-5572-42f3-9e4c-6c3796dc826d",
   "metadata": {},
   "source": [
    "<span style='color: #03C568; font-size: 2em;'><b>5.2. Сохраним все преобразованные данные в файл</b></span>"
   ]
  },
  {
   "cell_type": "code",
   "execution_count": 48,
   "id": "9e31f4e2-9fb2-4c3f-ad15-e2c5327dd040",
   "metadata": {},
   "outputs": [],
   "source": [
    "nutrition_df.to_csv(\"nutrition_facts.csv\", index=False)"
   ]
  },
  {
   "cell_type": "markdown",
   "id": "079cce9d-fde5-4a7e-b459-f4dfd1b8ba95",
   "metadata": {},
   "source": [
    "<span style='color: #BD2467; font-size: 3em;'><b>6. Похожие рецепты</b></span>"
   ]
  },
  {
   "cell_type": "markdown",
   "id": "5426f669-2185-4a35-9047-043a71d45bdd",
   "metadata": {},
   "source": [
    "<span style='color: #03C568; font-size: 2em;'><b>6.1. Найдём все ссылки на блюда на сайте `www.epicurious.com`</b></span>"
   ]
  },
  {
   "cell_type": "code",
   "execution_count": 49,
   "id": "7a72fa8a-dbf6-4f72-bdb8-2e7af1bcf889",
   "metadata": {},
   "outputs": [
    {
     "data": {
      "text/html": [
       "<div>\n",
       "<style scoped>\n",
       "    .dataframe tbody tr th:only-of-type {\n",
       "        vertical-align: middle;\n",
       "    }\n",
       "\n",
       "    .dataframe tbody tr th {\n",
       "        vertical-align: top;\n",
       "    }\n",
       "\n",
       "    .dataframe thead th {\n",
       "        text-align: right;\n",
       "    }\n",
       "</style>\n",
       "<table border=\"1\" class=\"dataframe\">\n",
       "  <thead>\n",
       "    <tr style=\"text-align: right;\">\n",
       "      <th></th>\n",
       "      <th>title</th>\n",
       "      <th>rating</th>\n",
       "      <th>url</th>\n",
       "    </tr>\n",
       "  </thead>\n",
       "  <tbody>\n",
       "    <tr>\n",
       "      <th>0</th>\n",
       "      <td>Lentil, Apple, and Turkey Wrap</td>\n",
       "      <td>2.500</td>\n",
       "      <td>https://www.epicurious.com/recipes/food/views/...</td>\n",
       "    </tr>\n",
       "    <tr>\n",
       "      <th>1</th>\n",
       "      <td>Boudin Blanc Terrine with Red Onion Confit</td>\n",
       "      <td>4.375</td>\n",
       "      <td>https://www.epicurious.com/recipes/food/views/...</td>\n",
       "    </tr>\n",
       "    <tr>\n",
       "      <th>2</th>\n",
       "      <td>Potato and Fennel Soup Hodge</td>\n",
       "      <td>3.750</td>\n",
       "      <td>https://www.epicurious.com/recipes/food/views/...</td>\n",
       "    </tr>\n",
       "    <tr>\n",
       "      <th>3</th>\n",
       "      <td>Mahi-Mahi in Tomato Olive Sauce</td>\n",
       "      <td>5.000</td>\n",
       "      <td>https://www.epicurious.com/recipes/food/views/...</td>\n",
       "    </tr>\n",
       "    <tr>\n",
       "      <th>4</th>\n",
       "      <td>Spinach Noodle Casserole</td>\n",
       "      <td>3.125</td>\n",
       "      <td>https://www.epicurious.com/recipes/food/views/...</td>\n",
       "    </tr>\n",
       "    <tr>\n",
       "      <th>...</th>\n",
       "      <td>...</td>\n",
       "      <td>...</td>\n",
       "      <td>...</td>\n",
       "    </tr>\n",
       "    <tr>\n",
       "      <th>20047</th>\n",
       "      <td>Parmesan Puffs</td>\n",
       "      <td>3.125</td>\n",
       "      <td>https://www.epicurious.com/recipes/food/views/...</td>\n",
       "    </tr>\n",
       "    <tr>\n",
       "      <th>20048</th>\n",
       "      <td>Artichoke and Parmesan Risotto</td>\n",
       "      <td>4.375</td>\n",
       "      <td>https://www.epicurious.com/recipes/food/views/...</td>\n",
       "    </tr>\n",
       "    <tr>\n",
       "      <th>20049</th>\n",
       "      <td>Turkey Cream Puff Pie</td>\n",
       "      <td>4.375</td>\n",
       "      <td>https://www.epicurious.com/recipes/food/views/...</td>\n",
       "    </tr>\n",
       "    <tr>\n",
       "      <th>20050</th>\n",
       "      <td>Snapper on Angel Hair with Citrus Cream</td>\n",
       "      <td>4.375</td>\n",
       "      <td>https://www.epicurious.com/recipes/food/views/...</td>\n",
       "    </tr>\n",
       "    <tr>\n",
       "      <th>20051</th>\n",
       "      <td>Baked Ham with Marmalade-Horseradish Glaze</td>\n",
       "      <td>4.375</td>\n",
       "      <td>https://www.epicurious.com/recipes/food/views/...</td>\n",
       "    </tr>\n",
       "  </tbody>\n",
       "</table>\n",
       "<p>20052 rows × 3 columns</p>\n",
       "</div>"
      ],
      "text/plain": [
       "                                             title  rating  \\\n",
       "0                  Lentil, Apple, and Turkey Wrap    2.500   \n",
       "1      Boudin Blanc Terrine with Red Onion Confit    4.375   \n",
       "2                    Potato and Fennel Soup Hodge    3.750   \n",
       "3                 Mahi-Mahi in Tomato Olive Sauce    5.000   \n",
       "4                        Spinach Noodle Casserole    3.125   \n",
       "...                                            ...     ...   \n",
       "20047                              Parmesan Puffs    3.125   \n",
       "20048              Artichoke and Parmesan Risotto    4.375   \n",
       "20049                       Turkey Cream Puff Pie    4.375   \n",
       "20050     Snapper on Angel Hair with Citrus Cream    4.375   \n",
       "20051  Baked Ham with Marmalade-Horseradish Glaze    4.375   \n",
       "\n",
       "                                                     url  \n",
       "0      https://www.epicurious.com/recipes/food/views/...  \n",
       "1      https://www.epicurious.com/recipes/food/views/...  \n",
       "2      https://www.epicurious.com/recipes/food/views/...  \n",
       "3      https://www.epicurious.com/recipes/food/views/...  \n",
       "4      https://www.epicurious.com/recipes/food/views/...  \n",
       "...                                                  ...  \n",
       "20047  https://www.epicurious.com/recipes/food/views/...  \n",
       "20048  https://www.epicurious.com/recipes/food/views/...  \n",
       "20049  https://www.epicurious.com/recipes/food/views/...  \n",
       "20050  https://www.epicurious.com/recipes/food/views/...  \n",
       "20051  https://www.epicurious.com/recipes/food/views/...  \n",
       "\n",
       "[20052 rows x 3 columns]"
      ]
     },
     "metadata": {},
     "output_type": "display_data"
    }
   ],
   "source": [
    "recipe_urls = []\n",
    "input_file_epi_r = 'epi_r.csv'\n",
    "df = pd.read_csv(input_file_epi_r)\n",
    "for _, row in df.iterrows():\n",
    "    try:\n",
    "        title = row.get(\"title\")\n",
    "        rating = row.get(\"rating\", None)\n",
    "\n",
    "        if pd.notna(title):\n",
    "            clean_title = str(title).replace(' ', '-').replace(',', '').replace('\"', '').lower()\n",
    "            url = f\"https://www.epicurious.com/recipes/food/views/{clean_title}\"\n",
    "            recipe_urls.append({\n",
    "                \"title\": str(title),\n",
    "                \"rating\": rating,\n",
    "                \"url\": url\n",
    "            })\n",
    "    except Exception as e:\n",
    "        continue\n",
    "recipe_urls_df = pd.DataFrame(recipe_urls)\n",
    "display(recipe_urls_df)"
   ]
  },
  {
   "cell_type": "markdown",
   "id": "ea0fd8ba-455d-42f1-aef6-6e5629f8e816",
   "metadata": {},
   "source": [
    "<span style='color: #03C568; font-size: 2em;'><b>6.2. Сохраним эти ссылки на блюда в файл</b></span>"
   ]
  },
  {
   "cell_type": "code",
   "execution_count": 50,
   "id": "eef931a0-cbef-4814-a450-a2254b0ee932",
   "metadata": {},
   "outputs": [],
   "source": [
    "recipe_urls_df.to_csv(\"similar_recipes.csv\", index=False)"
   ]
  }
 ],
 "metadata": {
  "kernelspec": {
   "display_name": "Python 3 (ipykernel)",
   "language": "python",
   "name": "python3"
  },
  "language_info": {
   "codemirror_mode": {
    "name": "ipython",
    "version": 3
   },
   "file_extension": ".py",
   "mimetype": "text/x-python",
   "name": "python",
   "nbconvert_exporter": "python",
   "pygments_lexer": "ipython3",
   "version": "3.11.13"
  }
 },
 "nbformat": 4,
 "nbformat_minor": 5
}
