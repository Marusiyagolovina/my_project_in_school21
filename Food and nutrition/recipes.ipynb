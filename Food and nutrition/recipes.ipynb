{
 "cells": [
  {
   "cell_type": "code",
   "execution_count": 1,
   "id": "02283341",
   "metadata": {},
   "outputs": [],
   "source": [
    "import pandas as pd\n",
    "import numpy as np\n",
    "import time\n",
    "import requests\n",
    "from tqdm import tqdm "
   ]
  },
  {
   "cell_type": "markdown",
   "id": "3130ae59",
   "metadata": {},
   "source": [
    "## Nutrition Facts"
   ]
  },
  {
   "cell_type": "code",
   "execution_count": 2,
   "id": "ea12c322",
   "metadata": {},
   "outputs": [],
   "source": [
    "proxy_ip = \"191.102.181.40\"\n",
    "proxy_port = \"9584\"\n",
    "proxy_user = \"CK3LWQ\"\n",
    "proxy_pass = \"c0wg7U\"\n",
    "\n",
    "proxy_url = f\"http://{proxy_user}:{proxy_pass}@{proxy_ip}:{proxy_port}\"\n",
    "proxies = {\n",
    "    \"http\": proxy_url,\n",
    "    \"https\": proxy_url,\n",
    "}\n",
    "\n",
    "api_key = 'O6EQ2mEKz27UlgihujBjt1RqJRc8ZteNiNLWBdQT'"
   ]
  },
  {
   "cell_type": "code",
   "execution_count": 3,
   "id": "e967fc54",
   "metadata": {},
   "outputs": [],
   "source": [
    "input_file_epi_r = 'data/epi_r.csv'\n",
    "df = pd.read_csv(input_file_epi_r)"
   ]
  },
  {
   "cell_type": "code",
   "execution_count": 4,
   "id": "771b5d67",
   "metadata": {},
   "outputs": [],
   "source": [
    "for column in df.columns:\n",
    "    if '/' in column:\n",
    "        new_name_column = column.split('/')[0]\n",
    "        df.rename(columns={column: new_name_column}, inplace=True)\n",
    "    if ' or ' in column:\n",
    "        new_name_column = column.split(' or ')[0]\n",
    "        df.rename(columns={column: new_name_column}, inplace=True)"
   ]
  },
  {
   "cell_type": "code",
   "execution_count": 5,
   "id": "7c9da145",
   "metadata": {},
   "outputs": [
    {
     "name": "stderr",
     "output_type": "stream",
     "text": [
      "100%|██████████| 680/680 [09:44<00:00,  1.16it/s]\n"
     ]
    }
   ],
   "source": [
    "list_ingredients = []\n",
    "session = requests.Session()\n",
    "my_params = {\n",
    "    \"api_key\": api_key,\n",
    "    \"query\": ''\n",
    "}\n",
    "for column in tqdm(df.columns):\n",
    "    my_params['query'] = column\n",
    "    my_url = f'https://api.nal.usda.gov/fdc/v1/foods/search'\n",
    "    response = session.get(url=my_url, proxies=proxies, params=my_params, timeout=10)\n",
    "    json_tmp = response.json()\n",
    "    if 'foods' in json_tmp:\n",
    "        for food in json_tmp['foods']:\n",
    "            if 'description' in food:\n",
    "                if column.lower() == food['description'].lower():\n",
    "                    list_ingredients.append(column)\n",
    "                    break\n",
    "list_ingredients = list(set(list_ingredients))"
   ]
  },
  {
   "cell_type": "code",
   "execution_count": 6,
   "id": "08b86a64",
   "metadata": {},
   "outputs": [],
   "source": [
    "list_ingredients = pd.DataFrame(list_ingredients)\n",
    "list_ingredients.to_csv(\"data/ingredients.csv\", index=False)"
   ]
  },
  {
   "cell_type": "code",
   "execution_count": 7,
   "id": "be2250c7",
   "metadata": {},
   "outputs": [
    {
     "name": "stdout",
     "output_type": "stream",
     "text": [
      "'title' in list(df.columns)\n",
      "'leftovers' in list(df.columns)\n",
      "'california' in list(df.columns)\n",
      "'dominican republic' in list(df.columns)\n",
      "'protein' in list(df.columns)\n",
      "'low cholesterol' in list(df.columns)\n",
      "'pan-fry' in list(df.columns)\n",
      "'fruit' in list(df.columns)\n",
      "'stew' in list(df.columns)\n",
      "'braise' in list(df.columns)\n",
      "'milk' in list(df.columns)\n",
      "'jam' in list(df.columns)\n"
     ]
    }
   ],
   "source": [
    "columns_name_for_check = ['title', 'leftovers', 'california', 'dominican republic', 'protein', 'low cholesterol',\n",
    "                         'pan-fry', 'fruit', 'stew', 'braise', 'milk', 'jam']\n",
    "for column in columns_name_for_check:\n",
    "    if column in list(df.columns):\n",
    "        print(f\"'{column}' in list(df.columns)\")\n",
    "    else:\n",
    "        print(f\"'{column}' not in list(df.columns)\")"
   ]
  },
  {
   "cell_type": "code",
   "execution_count": 8,
   "id": "cbfa5f21",
   "metadata": {},
   "outputs": [
    {
     "name": "stdout",
     "output_type": "stream",
     "text": [
      "['corn', 'butternut squash', 'egg nog', 'hamburger', 'rice', 'blueberry', 'bread', 'caraway', 'martini', 'onion', 'pasta', 'escarole', 'peanut butter', 'pizza', 'broccoli rabe', 'pepper', 'scotch', 'walnut', 'wild rice', 'ham', 'tofu', 'salmon', 'quinoa', 'cream cheese', 'maple syrup', 'marshmallow', 'meatball', 'cod', 'sausage', 'vinegar', 'octopus', 'couscous', 'orange juice', 'soy sauce', 'mushroom', 'apricot', 'caviar', 'fruit juice', 'jam', 'salsa', 'egg', 'blackberry', 'mozzarella', 'papaya', 'rosemary', 'waffle', 'basil', 'bulgur', 'pickles', 'pomegranate juice', 'saffron', 'ginger', 'curry', 'sorbet', 'cornmeal', 'guava', 'iced tea', 'peanut', 'shrimp', 'coconut', 'monterey jack', 'paprika', 'green bean', 'hummus', 'apple', 'halibut', 'milk', 'wasabi', 'granola', 'pistachio', 'radish', 'rum', 'raspberry', 'steak', 'brownie', 'lychee', 'tarragon', 'pie', 'thyme', 'lasagna', 'tortillas', 'cookies', 'swiss cheese', 'biscuit', 'broccoli', 'cottage cheese', 'gouda', 'mustard', 'rye', 'sandwich', 'sesame oil', 'raisin', 'ice cream', 'yellow squash', 'brie', 'ground lamb', 'condiment', 'tapioca', 'apple juice', 'vodka', 'cardamom', 'cinnamon', 'mango', 'horseradish', 'butter', 'squid', 'zucchini', 'cake', 'rutabaga', 'macaroni and cheese', 'bacon', 'parsley', 'artichoke', 'celery', 'whiskey', 'yuca', 'lamb', 'quiche', 'prosciutto', 'barley', 'salad', 'cantaloupe', 'kiwi', 'radicchio', 'sourdough', 'turkey', 'pineapple', 'crab', 'tilapia', 'honey', 'rhubarb', 'tea', 'pork', 'burrito', 'cheddar', 'lemon', 'beef', 'gin', 'cranberry', 'sangria', 'oregano', 'kale', 'butterscotch', 'rub', 'date', 'muffin', 'iced coffee', 'stock', 'hot pepper', 'meatloaf', 'whole wheat', 'yogurt', 'dip', 'pomegranate', 'arugula', 'cookie', 'marinade', 'lemon juice', 'chestnut', 'sour cream', 'beer', 'asparagus', 'capers', 'custard', 'pork tenderloin', 'banana', 'lobster', 'potato salad', 'dairy', 'drinks', 'ground beef', 'feta', 'cranberry sauce', 'snapper', 'grape', 'lime juice', 'watermelon', 'orange', 'meat', 'fig', 'punch', 'chocolate', 'margarita', 'hazelnut', 'oatmeal', 'brandy', 'mayonnaise', 'tamarind', 'mustard greens', 'passion fruit', 'tangerine', 'blue cheese', 'tequila', 'grapefruit', 'hominy', 'buffalo', 'strawberry', 'rabbit', 'sage', 'soup', 'goat cheese', 'chicken', 'liqueur', 'orzo', 'sweet potato', 'snack', 'cupcake', 'pumpkin', 'cilantro', 'cherry', 'spinach', 'tuna', 'molasses', 'marsala', 'noodle', 'drink', 'tomato', 'cauliflower', 'beef tenderloin', 'sauce', 'peach', 'chili', 'high fiber', 'tropical fruit', 'chickpea', 'brown rice', 'buttermilk', 'semolina', 'collard greens', 'okra', 'salad dressing', 'coffee', 'garlic', 'mint', 'cheese', 'candy']\n"
     ]
    }
   ],
   "source": [
    "ingredients = pd.read_csv(\n",
    "    \"data/ingredients.csv\", header=None, names=[\"ingredient\"])\n",
    "ingredients = ingredients[ingredients['ingredient'] != \"0\"].reset_index(drop=True)\n",
    "ingredients_list = ingredients['ingredient'].tolist()\n",
    "print(ingredients_list)"
   ]
  },
  {
   "cell_type": "code",
   "execution_count": 9,
   "id": "4d164ba6",
   "metadata": {},
   "outputs": [
    {
     "name": "stderr",
     "output_type": "stream",
     "text": [
      "Fetching nutrition data: 100%|██████████| 236/236 [02:36<00:00,  1.51it/s]\n"
     ]
    }
   ],
   "source": [
    "session = requests.Session()\n",
    "session.proxies.update(proxies)\n",
    "nutrition_url = \"https://api.nal.usda.gov/fdc/v1/foods/search\"\n",
    "nutrition_data = []\n",
    "\n",
    "daily = pd.read_csv(\n",
    "    \"data/daily.tsv\", sep=\"\\t\",\n",
    "    converters={\"Daily Value\": lambda value: float(value.replace(\",\", \"\"))}\n",
    ")\n",
    "\n",
    "for ingredients_list in tqdm(ingredients_list, desc=\"Fetching nutrition data\"):\n",
    "    try:\n",
    "        response = session.get(\n",
    "            nutrition_url,\n",
    "            params={\"query\": ingredients_list, \"api_key\": api_key, \"pageSize\": 3},\n",
    "            timeout=10\n",
    "        )\n",
    "        if response.status_code != 200:\n",
    "            print(f\"Сервер вернул {response.status_code} для {ingredients_list}\")\n",
    "            continue\n",
    "\n",
    "        nutrition_info = response.json()\n",
    "        foods = nutrition_info.get(\"foods\", [])\n",
    "        if not foods:\n",
    "            print(f\"Нет данных для {ingredients_list}\")\n",
    "            continue\n",
    "\n",
    "        # ищем подходящий продукт\n",
    "        for food in foods:\n",
    "            desc = food.get(\"description\", \"\").lower()\n",
    "            if ingredients_list.lower() not in desc:\n",
    "                continue\n",
    "\n",
    "            nutrients = food.get(\"foodNutrients\", [])\n",
    "            nutrient_dict = {\"ingredient\": ingredients_list}\n",
    "\n",
    "            for nutrient in nutrients:\n",
    "                name = nutrient.get(\"nutrientName\", \"\").lower()\n",
    "                value = nutrient.get(\"value\")\n",
    "                if value is None:\n",
    "                    continue\n",
    "                for _, row in daily.iterrows():\n",
    "                    if row[\"Nutrient\"].lower() in name:\n",
    "                        try:\n",
    "                            nutrient_dict[row[\"Nutrient\"]] = round(value / row[\"Daily Value\"] * 100)\n",
    "                        except ZeroDivisionError:\n",
    "                            nutrient_dict[row[\"Nutrient\"]] = None\n",
    "                        break\n",
    "\n",
    "            nutrition_data.append(nutrient_dict)\n",
    "            break  # нашли подходящий продукт, идём к следующему ингредиенту\n",
    "\n",
    "    except Exception as e:\n",
    "        print(f\"Ошибка для {ingredients_list}: {e}\")\n",
    "        continue"
   ]
  },
  {
   "cell_type": "code",
   "execution_count": 10,
   "id": "36ec3b92",
   "metadata": {},
   "outputs": [],
   "source": [
    "nutrition_df = pd.DataFrame(nutrition_data)\n",
    "nutrition_df.to_csv(\"data/nutrition_facts.csv\", index=False)"
   ]
  },
  {
   "cell_type": "code",
   "execution_count": 11,
   "id": "97cababb",
   "metadata": {},
   "outputs": [],
   "source": [
    "recipe_urls = []\n",
    "\n",
    "for _, row in df.iterrows():\n",
    "    try:\n",
    "        title = row.get(\"title\")\n",
    "        rating = row.get(\"rating\", None)\n",
    "\n",
    "        if pd.notna(title):\n",
    "            url = f\"https://www.epicurious.com/recipes/food/views/{str(title).replace(' ', '-').replace(',', '').replace('\\\"', '').lower()}\"\n",
    "            recipe_urls.append({\n",
    "                \"title\": str(title),\n",
    "                \"rating\": rating,\n",
    "                \"url\": url\n",
    "            })\n",
    "    except Exception as e:\n",
    "        print(f\"Ошибка при обработке строки: {e}\")\n",
    "        continue"
   ]
  },
  {
   "cell_type": "code",
   "execution_count": 12,
   "id": "b04e19c4",
   "metadata": {},
   "outputs": [],
   "source": [
    "recipe_urls_df = pd.DataFrame(recipe_urls)\n",
    "recipe_urls_df.to_csv(\"data/similar_recipes.csv\", index=False)"
   ]
  }
 ],
 "metadata": {
  "kernelspec": {
   "display_name": "iridescm",
   "language": "python",
   "name": "python3"
  },
  "language_info": {
   "codemirror_mode": {
    "name": "ipython",
    "version": 3
   },
   "file_extension": ".py",
   "mimetype": "text/x-python",
   "name": "python",
   "nbconvert_exporter": "python",
   "pygments_lexer": "ipython3",
   "version": "3.13.7"
  }
 },
 "nbformat": 4,
 "nbformat_minor": 5
}
